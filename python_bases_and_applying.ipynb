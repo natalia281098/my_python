{
 "cells": [
  {
   "cell_type": "code",
   "execution_count": null,
   "id": "b0191b48",
   "metadata": {},
   "outputs": [],
   "source": [
    "#Курс Python: основы и применение "
   ]
  },
  {
   "cell_type": "code",
   "execution_count": null,
   "id": "d19caf44",
   "metadata": {},
   "outputs": [],
   "source": [
    "\"\"\"\n",
    "Python - интерпретируемый язык\n",
    "То есть интерпретатор (например, CPython) построчно обрабатывает команды\n",
    "Может быть выполнена 1 и 2 строки, а на третьей возникнуть ошибка\n",
    "\"\"\""
   ]
  },
  {
   "cell_type": "code",
   "execution_count": null,
   "id": "b47d73c2",
   "metadata": {},
   "outputs": [],
   "source": [
    "\"\"\"\n",
    "Модели данных: объекты\n",
    "\n",
    "Объекты - это коробки на складе, в которых хранятся данные (сами списки, элементы в списке, числа, строки) \n",
    "Данные - объекты и отношения между объектами (отношение включения переменных в список \n",
    "(обращение к уже имеющимся переменным, но только уже как к паре))\n",
    "\n",
    "ID идентификатор\n",
    "ID есть у всех объектов, у каждого разный\n",
    "Для списка [1, 2, 3] создается объект-список и отдельные объекты-элементы списка\n",
    "\n",
    "Оператор присваивания \"=\"\n",
    "x = 4\n",
    "Соответствие переменной 'x' и идентификатора объекта - числа 4\n",
    "То есть x ссылается на объект - число 4\n",
    "\n",
    "y = x\n",
    "Интерпретатор вспоминает куда ссылается х\n",
    "Теперь y ссылается на тот же идентификатор объекта, что и x\n",
    "\"\"\""
   ]
  },
  {
   "cell_type": "code",
   "execution_count": null,
   "id": "d8940e00",
   "metadata": {},
   "outputs": [],
   "source": []
  },
  {
   "cell_type": "code",
   "execution_count": 5,
   "id": "89c18a84",
   "metadata": {},
   "outputs": [
    {
     "data": {
      "text/plain": [
       "1346269"
      ]
     },
     "execution_count": 5,
     "metadata": {},
     "output_type": "execute_result"
    }
   ],
   "source": [
    "fib = lambda x : 1 if x <= 2 else fib(x - 1) + fib(x - 2)\n",
    "fib(31)"
   ]
  },
  {
   "cell_type": "code",
   "execution_count": 4,
   "id": "84fd15a9",
   "metadata": {},
   "outputs": [
    {
     "name": "stdout",
     "output_type": "stream",
     "text": [
      "2\n",
      "5\n",
      "5\n",
      "10\n"
     ]
    }
   ],
   "source": [
    "# Задача 1\n",
    "# Реализуйте программу, которая принимает последовательность чисел и выводит их сумму.\n",
    "# Если в цикле for переменная i не используется в теле цикла, то следует еее обозначать как _i\n",
    "\n",
    "n = int(input())\n",
    "S = 0\n",
    "\n",
    "for _i in range(n):\n",
    "    A = int(input())\n",
    "    S += A\n",
    "    \n",
    "print(S)\n",
    "    \n",
    "    "
   ]
  },
  {
   "cell_type": "code",
   "execution_count": 23,
   "id": "6975b2a6",
   "metadata": {},
   "outputs": [
    {
     "name": "stdout",
     "output_type": "stream",
     "text": [
      "1246403801280\n",
      "1246404837760\n"
     ]
    }
   ],
   "source": [
    "# Задача 2\n",
    "# Получить идентификатор - id()\n",
    "x = [1, 2, 3]\n",
    "print(id(x))\n",
    "print(id([1, 2, 3]))\n",
    "\n",
    "# Были получены разные идентификаторы объектов \n",
    "# Все верно, они и должны быть разные, т.к. один объект список был создан раньше и присвоен переменной х\n",
    "# А второй объекты список был создан отдельно в самой функции print"
   ]
  },
  {
   "cell_type": "code",
   "execution_count": 28,
   "id": "6ccfc993",
   "metadata": {},
   "outputs": [
    {
     "name": "stdout",
     "output_type": "stream",
     "text": [
      "True\n",
      "False\n"
     ]
    }
   ],
   "source": [
    "# Проверить идентичность идентификаторов можно с помощью функции is\n",
    "\n",
    "x = [1, 2, 3]\n",
    "y = x\n",
    "\n",
    "# \"y\" ссылается на тот же объект, что и \"x\", поэтому идентификаторы равны\n",
    "print(y is x)\n",
    "\n",
    "# \"y\" ссылается на ранее созданный (хоть и такой же) объект \n",
    "# А второй список, с которым сравниваем, создан прямо сейчас с новым id\n",
    "# Поэтому при сравнении id получаем значение False\n",
    "print(y is [1, 2, 3])"
   ]
  },
  {
   "cell_type": "code",
   "execution_count": 34,
   "id": "e4c7e2ae",
   "metadata": {},
   "outputs": [
    {
     "name": "stdout",
     "output_type": "stream",
     "text": [
      "[1, 2, 3, 4]\n",
      "[1, 2, 3, 4]\n"
     ]
    },
    {
     "data": {
      "text/plain": [
       "True"
      ]
     },
     "execution_count": 34,
     "metadata": {},
     "output_type": "execute_result"
    }
   ],
   "source": [
    "# При изменении списка с обращением по переменной, изменяется сам объект, а не переменная\n",
    "\n",
    "x.append(4)\n",
    "print(x)\n",
    "print(y)\n",
    "x is y"
   ]
  },
  {
   "cell_type": "code",
   "execution_count": null,
   "id": "4b8ded20",
   "metadata": {},
   "outputs": [],
   "source": [
    "'''Типы данных\n",
    "Число, строка, список, кортеж, функция\n",
    "Тип данных определяет поведение объекта и возможные принимаемые значения\n",
    "\n",
    "Тип не может быть изменен после создания объекта (как и id)\n",
    "Функция tipe() позволяет узнать тип объекта\n",
    "'''"
   ]
  },
  {
   "cell_type": "code",
   "execution_count": 35,
   "id": "b574398d",
   "metadata": {},
   "outputs": [
    {
     "name": "stdout",
     "output_type": "stream",
     "text": [
      "[1, 2, 3, 4] 123\n"
     ]
    }
   ],
   "source": [
    "# Поскольку список - изменяемый тип данных, то метод append изменяет текущий список и переменные x и y обращаются к этому объекту\n",
    "# Строка - неизменяемый тип данных, поэтому когда присваивается t = t + '4', то создается новый объект, на который ссылается t\n",
    "\n",
    "x = [1, 2, 3]\n",
    "y = x\n",
    "y.append(4)\n",
    "\n",
    "s = \"123\"\n",
    "t = s\n",
    "t = t + \"4\"\n",
    "\n",
    "print(str(x) + \" \" + s)"
   ]
  },
  {
   "cell_type": "code",
   "execution_count": 40,
   "id": "72ed9c34",
   "metadata": {},
   "outputs": [
    {
     "name": "stdout",
     "output_type": "stream",
     "text": [
      "<class 'list'>\n",
      "<class 'int'>\n"
     ]
    }
   ],
   "source": [
    "#Тип не может быть изменен после создания объекта (как и id)\n",
    "#Функция tipe() позволяет узнать тип объекта\n",
    "\n",
    "x = [1, 2, 3]\n",
    "print(type(x))\n",
    "print(type(4))"
   ]
  },
  {
   "cell_type": "code",
   "execution_count": 41,
   "id": "e5bdd053",
   "metadata": {},
   "outputs": [
    {
     "data": {
      "text/plain": [
       "type"
      ]
     },
     "execution_count": 41,
     "metadata": {},
     "output_type": "execute_result"
    }
   ],
   "source": [
    "# Тип это тоже объект\n",
    "print(type(type(x)))"
   ]
  },
  {
   "cell_type": "code",
   "execution_count": null,
   "id": "1f683b69",
   "metadata": {},
   "outputs": [],
   "source": [
    "'''\n",
    "Изменяемые и неизменяемые типы данных\n",
    "\n",
    "Изменяемые: \n",
    "    список (list)\n",
    "    словарь (dict)\n",
    "    множество (set)\n",
    "    \n",
    "Неизменяемые: \n",
    "    логический (bool)\n",
    "    числа (int, float, complex), \n",
    "    строки (str),\n",
    "    кортежи (tuple), \n",
    "    замороженные множества (frozen_set)\n",
    "    \n",
    "Для изменяемых типов при создании новых элементов всегда создается новый объект и он же изменяется (например, при append() к \n",
    "    имеющемуся списку присоединяется новый элемент)\n",
    "\n",
    "Для неизменяемых типов если переменная ссылается на вновь созданный объект, если он ранее не был создан\n",
    "    а = 1 (создался новый объект '1')\n",
    "    b = 1 (b ссылается на ту же имеющуюся единичку)\n",
    "PS: Логично, что для неизменяемого типа не обязательно создавать новый такой же объект, если он все равно не изменится\n",
    "    ОДНАКО!!!! для объекты в единственном экземпляре создаются только для чисел от -5 до 256, т.к. они создаются при\n",
    "    инициализации интерпретатора\n",
    "    Объекты для чисел больше и меньше создаются  в процессе работы, поэтому у таких объетов будут разные id\n",
    "'''"
   ]
  },
  {
   "cell_type": "code",
   "execution_count": 1,
   "id": "e572d1fc",
   "metadata": {},
   "outputs": [],
   "source": [
    "a = 5\n",
    "b = 4\n",
    "a = a + 1\n",
    "\n",
    "# В таком случае сначала для 'a' создан объект '5', для 'b' - '4'\n",
    "# Затем 'a' присваивается новый объект '6'\n",
    "# Если бы было a += 1, то новый объект бы не создался"
   ]
  },
  {
   "cell_type": "code",
   "execution_count": 14,
   "id": "3e871467",
   "metadata": {},
   "outputs": [
    {
     "name": "stdout",
     "output_type": "stream",
     "text": [
      "a и b ссылаются на один и тот же объект - это True\n",
      "\n",
      "2661857725200\n",
      "2661857724848\n"
     ]
    }
   ],
   "source": [
    "# переменные ссылаются на один и тот же объект\n",
    "a = 1\n",
    "b = 1\n",
    "print('a и b ссылаются на один и тот же объект - это', a is b, end = '\\n\\n')\n",
    "\n",
    "#НОООО!!!!\n",
    "s = 500\n",
    "t = 500\n",
    "print(id(s))\n",
    "print(id(t))"
   ]
  },
  {
   "cell_type": "code",
   "execution_count": 10,
   "id": "911908c2",
   "metadata": {},
   "outputs": [
    {
     "name": "stdout",
     "output_type": "stream",
     "text": [
      "c и d ссылаются на один и тот же объект - это False\n"
     ]
    }
   ],
   "source": [
    "# списки ссылаются на разные объекты\n",
    "c = [1]\n",
    "d = [1]\n",
    "print('c и d ссылаются на один и тот же объект - это', c is d)"
   ]
  },
  {
   "cell_type": "code",
   "execution_count": 8,
   "id": "6d74b6e2",
   "metadata": {},
   "outputs": [
    {
     "name": "stdout",
     "output_type": "stream",
     "text": [
      "9\n"
     ]
    }
   ],
   "source": [
    "# Задача 3\n",
    "\n",
    "# Реализуйте программу, которая будет вычислять количество различных объектов в списке.\n",
    "# То есть нужно посчитать число различных id объектов\n",
    "\n",
    "objects = [1, 2, 1, 5, True, False, True, 'false', [], [1,2], [1,2]]\n",
    "\n",
    "\n",
    "new_list = [] # список с идентификаторами исходного списка\n",
    "\n",
    "for i in objects:\n",
    "    new_list.append(id(i))\n",
    "\n",
    "print(len(set(new_list)))"
   ]
  },
  {
   "cell_type": "code",
   "execution_count": null,
   "id": "6eab8ed7",
   "metadata": {},
   "outputs": [],
   "source": [
    "\"\"\"\n",
    "     Функции\n",
    "\n",
    "Ключевое слово def (define - определить)\n",
    "Для функции создается отдельный объект в памяти\n",
    "Интерпретатор читает всю функцию целиком (там где есть отступ 4 пробела) и затем только создает объект для функции и понимает\n",
    "    какие у нее аргументы\n",
    "Имя переменной не может начинаться с цифры, содержит латиницу, цифры, нижнее подчеркивание\n",
    "\n",
    "Когда вызываем функцию (обращаемся к объекту) сначала происходит инициализация аргументов\n",
    "    foo(arg1, arg2) - foo(2, 8) - происходит присвоение аргументу 1 объекта 2, и аргументу 2 объекта 8\n",
    "    Результатом будет сумма чисел, которую вернет функция\n",
    "    Если объект 10 уже создан, то при присвоении результата переменной она будет ссылаться на имеющийся объект\n",
    "\n",
    "При повторном вызове функции происходит новое присвоение\n",
    "\n",
    "То есть при создании функции:\n",
    "    1) Создается объект для функции\n",
    "    2) Интерпретатор понимает ее аргументы\n",
    "    3) При вызове интерпретатор присваивает переменным-аргументам объекты\n",
    "    4) Рассчитывает функция от переданных значений\n",
    "    \n",
    "\n",
    "\"\"\""
   ]
  },
  {
   "cell_type": "code",
   "execution_count": null,
   "id": "83b68817",
   "metadata": {},
   "outputs": [],
   "source": [
    "\"\"\"\n",
    "!Ключевое слово return возвращает элемент и заканчивает выполнение функции, забирая ее из стека!\n",
    "Даже если есть несколько return будет выполнен только первый и функция уйдет из стека\n",
    "Функция может не иметь return и завершится физически закончившись\n",
    "Можно написать просто return для завершения функции, в таком случае функция вернет None\n",
    "   \n",
    "\n",
    "\"\"\""
   ]
  },
  {
   "cell_type": "code",
   "execution_count": 20,
   "id": "a6deb344",
   "metadata": {},
   "outputs": [
    {
     "name": "stdout",
     "output_type": "stream",
     "text": [
      "1\n",
      "<class 'NoneType'>\n",
      "True\n"
     ]
    }
   ],
   "source": [
    "#    Например print ничего не возвращает\n",
    "#    Переменной x присвоили отдельный объект None\n",
    "x = print('1')\n",
    "print(type(x))\n",
    "\n",
    "# Объект None - всегда единственный, новый объект не создается \n",
    "# Тип объекта None имеет тип \"NoneType\"\n",
    "# Чтобы проверить является ли объект None, пишут x is None\n",
    "print(x is None)"
   ]
  },
  {
   "cell_type": "code",
   "execution_count": null,
   "id": "e25a2b2a",
   "metadata": {},
   "outputs": [],
   "source": []
  },
  {
   "cell_type": "code",
   "execution_count": null,
   "id": "b0176278",
   "metadata": {},
   "outputs": [],
   "source": [
    "'''\n",
    "     СТЕК ВЫЗОВОВ\n",
    "Стек вызовов - это абстрактная структура данных\n",
    "    Это детская пирамидка с кольцами, в которую можно положить\\забрать только элемент сверху!\n",
    "    Положить - push\n",
    "    Забрать - pop\n",
    "'''"
   ]
  },
  {
   "cell_type": "code",
   "execution_count": 15,
   "id": "089dcb87",
   "metadata": {},
   "outputs": [
    {
     "name": "stdout",
     "output_type": "stream",
     "text": [
      "Жили-были 2 функции\n",
      "Я функция f\n",
      "Я функция g\n",
      "Я функция f. Приятно познакомиться\n",
      "Вот и сказочки конец\n"
     ]
    }
   ],
   "source": [
    "'''\n",
    "     ПРИМЕР СТЕКА\n",
    "Сначала мы объявили функции - для них создались объекты (в стек ничего не добавилось)\n",
    "\n",
    "В основе пирамиды стека лежит функция module (служебная функция для исполнения функций)\n",
    "Далее вызываем функцию print, она идет в стек\n",
    "    print\n",
    "    module\n",
    "Далее функция print выполенена, она уходит\n",
    "    module\n",
    "Вызываем функцию f()\n",
    "    f\n",
    "    module\n",
    "Первая строка в f это функция print\n",
    "    print\n",
    "    f\n",
    "    module\n",
    "Print выполнен, далее вызов g\n",
    "    g\n",
    "    f\n",
    "    module\n",
    "Первая строка в g это print\n",
    "    print\n",
    "    g\n",
    "    f\n",
    "    module\n",
    "Print выполнен и функция g выполнена, далее третья строка f - это print\n",
    "    print\n",
    "    f\n",
    "    module\n",
    "Print выполнен и функция f выполнена, далее print вне тела функции\n",
    "    print\n",
    "    module\n",
    "Print выполнен \n",
    "    module\n",
    "'''\n",
    "\n",
    "def f():\n",
    "    print('Я функция f')\n",
    "    g()\n",
    "    print('Я функция f. Приятно познакомиться')\n",
    "    \n",
    "def g():\n",
    "    print('Я функция g')\n",
    "\n",
    "print('Жили-были 2 функции')\n",
    "f()\n",
    "print('Вот и сказочки конец')"
   ]
  },
  {
   "cell_type": "code",
   "execution_count": null,
   "id": "5f7e4744",
   "metadata": {},
   "outputs": [],
   "source": [
    "\"\"\"\n",
    "Стек аналогичен списку, где в конец добавляются элементы\n",
    "a.append()\n",
    "И удаляется и возвращается последний элемент\n",
    "a.pop()\n",
    "\"\"\""
   ]
  },
  {
   "cell_type": "code",
   "execution_count": 16,
   "id": "f4d8c9b1",
   "metadata": {},
   "outputs": [
    {
     "name": "stdout",
     "output_type": "stream",
     "text": [
      "12\n"
     ]
    }
   ],
   "source": [
    "# Задача 4\n",
    "\n",
    "# Чему равен максимальный размер стека в процессе выполнения следующего кода?\n",
    "\n",
    "def h():\n",
    "    print(12)\n",
    "\n",
    "def f():\n",
    "    g(h)\n",
    "\n",
    "def g(a):\n",
    "    a()\n",
    "\n",
    "g(f)\n",
    "\n",
    "# Стек вызовов в момент наибольшего размера\n",
    "# print\n",
    "# h\n",
    "# g\n",
    "# f\n",
    "# g\n",
    "# module\n",
    "\n",
    "## Наибольший размер стека - 6"
   ]
  },
  {
   "cell_type": "code",
   "execution_count": 41,
   "id": "20a47467",
   "metadata": {},
   "outputs": [
    {
     "data": {
      "text/plain": [
       "10"
      ]
     },
     "execution_count": 41,
     "metadata": {},
     "output_type": "execute_result"
    }
   ],
   "source": [
    "# Задача 5\n",
    "\n",
    "# Напишите реализацию функции closest_mod_5, принимающую в качестве единственного аргумента \n",
    "# целое число x и возвращающую самое маленькое целое число y, такое что:\n",
    "\n",
    "# y больше или равно x\n",
    "# y делится нацело на 5\n",
    "\n",
    "def closest_mod_5(x):\n",
    "    y = 1\n",
    "    while (y < x) or (y % 5 != 0):\n",
    "        y += 1\n",
    "    return y\n",
    "\n",
    "closest_mod_5(6)"
   ]
  },
  {
   "cell_type": "code",
   "execution_count": null,
   "id": "202c41c0",
   "metadata": {},
   "outputs": [],
   "source": [
    "\"\"\"\n",
    "        ПЕРЕДАЧА АРГУМЕНТОВ В ФУНКЦИЮ\n",
    "    1) Позиционные аргументы\n",
    "foo(a, b)\n",
    "foo(5, 10)\n",
    "Имеет значение порядок передачи аргументов в функцию\n",
    "\n",
    "    2) Именованные аргументы\n",
    "foo(a, b)\n",
    "foo(b = 5, a = 10)\n",
    "Порядок не имеет значения, задаются с явным присваиванием\n",
    "\n",
    "*Можно использовать совместно, но только вначале позиционные, а потом именованные (для позиционных порядок важен)\n",
    "\"\"\""
   ]
  },
  {
   "cell_type": "code",
   "execution_count": null,
   "id": "f33b13b7",
   "metadata": {},
   "outputs": [],
   "source": [
    "\"\"\"\n",
    "        ПЕРЕДАЧА СПИСКОВ И СЛОВАРЕЙ ПРИ ВЫЗОВЕ ФУНКЦИИ \n",
    "    1) Передача списков\n",
    "Если в функции нужно указать 5 аргументов, то можно их указать через список со *\n",
    "foo(a, b, c, d, e)\n",
    "s = [1, 2, 3, 4, 5]\n",
    "foo(*s)\n",
    "Передали объекты списка как позиционные аргументы в функцию\n",
    "\n",
    "*s - разыменовывание списка, передача элементов списка в качестве объектов\n",
    "\n",
    "    2) Передача словарей\n",
    "dic = {'a' : 1, 'b' : 2, 'c' : 3, 'd' : 3, 'e' : 3}\n",
    "foo(**dic)\n",
    "Передали пары ключ:значения словаря как именованные аргументы в функцию\n",
    "\n",
    "*Если указать словарь с одной *, то в функцию передадутся сами ключи\n",
    "\"\"\""
   ]
  },
  {
   "cell_type": "code",
   "execution_count": 42,
   "id": "cc6010dd",
   "metadata": {},
   "outputs": [
    {
     "name": "stdout",
     "output_type": "stream",
     "text": [
      "1 2 3 4 5 Спасибо, получил!\n"
     ]
    }
   ],
   "source": [
    "def foo(a, b, c, d, e):\n",
    "    print(a, b, c, d, e, 'Спасибо, получил!')\n",
    "\n",
    "\n",
    "s = [1, 2, 3, 4, 5]\n",
    "foo(*s)"
   ]
  },
  {
   "cell_type": "code",
   "execution_count": 46,
   "id": "6f48a26f",
   "metadata": {},
   "outputs": [
    {
     "name": "stdout",
     "output_type": "stream",
     "text": [
      "1 2 3 3 3 Спасибо, получил!\n"
     ]
    }
   ],
   "source": [
    "def foo(a, b, c, d, e):\n",
    "    print(a, b, c, d, e, 'Спасибо, получил!')\n",
    "\n",
    "\n",
    "dic = {'a' : 1, 'b' : 2, 'c' : 3, 'd' : 3, 'e' : 3}\n",
    "foo(**dic)"
   ]
  },
  {
   "cell_type": "code",
   "execution_count": null,
   "id": "0a060794",
   "metadata": {},
   "outputs": [],
   "source": [
    "\"\"\"\n",
    "        АРГУМЕНТЫ ПО УМОЛЧАНИЮ \n",
    "Можно передавать аргумент по умолчанию\n",
    "foo(a, b = 1)\n",
    "\n",
    "a - обязательный аргумент\n",
    "b - необязательный аргумент, по умолчанию равен 1\n",
    "\n",
    "Аргументы по умолчанию должны идти после(!) обязательных аргументов\n",
    "Нельзя foo(a = 1, b)\n",
    "\n",
    "Если оба аргумента заданы по умолчанию, то можно вызвать функцию без аргументов\n",
    "\n",
    "* Аргумент по умолчанию при каждом вызове функции обращается к одному и тому же объекту\n",
    "Если в качестве аргумента по умолчанию задан объект изменяемого типа(список), то \n",
    "    при каждом вызове функции уже имеющийся объект будет изменяться\n",
    "\"\"\""
   ]
  },
  {
   "cell_type": "code",
   "execution_count": null,
   "id": "3cbdac8d",
   "metadata": {},
   "outputs": [],
   "source": [
    "'''\n",
    "            УКАЗАНИЕ НА НЕИЗВЕСТНОЕ КОЛИЧЕСТВО АРГУМЕНТОВ ПРИ СОЗДАНИИ ФУНКЦИИ\n",
    "    1) foo(*args)\n",
    "Неизвестно, сколько позиционных аргументов будет у функции\n",
    "Они попадут в кортеж args (можно вызвать только в теле функции)\n",
    "    2) foo(**kwargs)\n",
    "Неизвестно, сколько именованных аргументов будет у функции\n",
    "Они попадут в словарь kwargs (можно вызвать только в теле функции)\n",
    "'''"
   ]
  },
  {
   "cell_type": "code",
   "execution_count": 51,
   "id": "1651040f",
   "metadata": {},
   "outputs": [
    {
     "name": "stdout",
     "output_type": "stream",
     "text": [
      "1\n",
      "2\n",
      "2\n"
     ]
    }
   ],
   "source": [
    "def foo(*args):\n",
    "    for i in args:\n",
    "        print(i)\n",
    "\n",
    "foo(1, 2, 2)"
   ]
  },
  {
   "cell_type": "code",
   "execution_count": 52,
   "id": "a0ec9d5e",
   "metadata": {},
   "outputs": [
    {
     "name": "stdout",
     "output_type": "stream",
     "text": [
      "a 1\n",
      "b 2\n",
      "c 3\n",
      "d 8\n"
     ]
    }
   ],
   "source": [
    "def fun(**kwargs):\n",
    "    for i in kwargs:\n",
    "        print(i, kwargs[i])\n",
    "        \n",
    "        \n",
    "fun(a = 1, b = 2, c = 3, d = 8)"
   ]
  },
  {
   "cell_type": "code",
   "execution_count": null,
   "id": "b2a51656",
   "metadata": {},
   "outputs": [],
   "source": [
    "\"\"\"\n",
    "        Порядок задания аргументов в функции\n",
    "foo(1. Обязательные позиционные аргументы (a, b), \n",
    "    2. Позиционные аргументы по умолчанию (c = 10) - при вызове не надо именовать\n",
    "    3. Неизвестное число позиционных аргументов (*args)\n",
    "    4. Аргументы, которые при вызове нужно будет именованно присваивать (e = 8, f)\n",
    "    5. Неизвестное число именованных аргументов (**kwargs)\n",
    "    )\n",
    "\n",
    "\"\"\""
   ]
  },
  {
   "cell_type": "code",
   "execution_count": 66,
   "id": "d119b88b",
   "metadata": {},
   "outputs": [
    {
     "name": "stdout",
     "output_type": "stream",
     "text": [
      "1 2 8\n",
      "(12, 13)\n",
      "8 100\n",
      "{'u': 888, 'd': 909}\n"
     ]
    }
   ],
   "source": [
    "def dif_foo(a, b, c = 10, *args, e = 8, f, **kwargs):\n",
    "    print(a, b, c)\n",
    "    print(args)\n",
    "    print(e, f)\n",
    "    print(kwargs)\n",
    "    \n",
    "dif_foo(1, 2, 8, 12, 13, f = 100, u = 888, d = 909)"
   ]
  },
  {
   "cell_type": "code",
   "execution_count": null,
   "id": "9c00d546",
   "metadata": {},
   "outputs": [],
   "source": [
    "\"\"\"\n",
    "        РЕКУРСИВНЫЕ ФУНКЦИИ\n",
    "Функция, которая возвращает вызов самой себя\n",
    "Например, функция Фиббоначи\n",
    "\n",
    "\"\"\""
   ]
  },
  {
   "cell_type": "code",
   "execution_count": 70,
   "id": "0278efba",
   "metadata": {},
   "outputs": [
    {
     "data": {
      "text/plain": [
       "8"
      ]
     },
     "execution_count": 70,
     "metadata": {},
     "output_type": "execute_result"
    }
   ],
   "source": [
    "def fib(x):\n",
    "    if x == 0 or x == 1:\n",
    "        return 1\n",
    "    else:\n",
    "        return fib(x - 1) + fib(x - 2)\n",
    "\n",
    "fib(5)"
   ]
  },
  {
   "cell_type": "code",
   "execution_count": 99,
   "id": "39c40781",
   "metadata": {},
   "outputs": [
    {
     "name": "stdout",
     "output_type": "stream",
     "text": [
      "10 2\n",
      "45\n"
     ]
    }
   ],
   "source": [
    "# Задача 6\n",
    "\n",
    "# Сочетанием из n элементов по k называется подмножество этих n элементов размера k.\n",
    "# Посчитать количество сочетаний\n",
    "# C(n, 0) = 1\n",
    "# C(n, k) = 0, если k > n\n",
    "# C(n, k) = C(n - 1, k) + C(n - 1, k - 1).\n",
    "\n",
    "n, k = [int(i) for i in input().split()]\n",
    "\n",
    "def C(n, k):\n",
    "    if k == 0:\n",
    "        return 1\n",
    "    elif k > n:\n",
    "        return 0\n",
    "    else:\n",
    "        return C(n - 1, k) + C(n - 1, k - 1)\n",
    "        \n",
    "print(C(n, k))\n",
    "\n"
   ]
  },
  {
   "cell_type": "code",
   "execution_count": 74,
   "id": "464b3423",
   "metadata": {},
   "outputs": [
    {
     "name": "stdout",
     "output_type": "stream",
     "text": [
      "7 8\n"
     ]
    }
   ],
   "source": [
    "n, k = map(int, input().split())"
   ]
  },
  {
   "cell_type": "code",
   "execution_count": null,
   "id": "cbf2dc1e",
   "metadata": {},
   "outputs": [],
   "source": [
    "\"\"\"\n",
    "        ПРОСТРАНСТВО ИМЕН \n",
    "Пространство имен это ссылки, по которым связаны переменные и объекты\n",
    "х = 4 (связана переменная х и объект 4)\n",
    "\n",
    "Основное пространство имен, которое создается при запуске интерпретатора - builltins\n",
    "    Входят функции int, str, bool, id, abs, max (без библиотек)\n",
    "\n",
    "Namespace 'global' - те ссылки, которые создаем в процессе работы\n",
    "    Global соответствует в стеке вызовов функции module\n",
    "\n",
    "Локальный namespace создается при создании функции (входят аргументы и локальные переменные)\n",
    "    В стеке вызовов соответствует текущей функции\n",
    "    По завершению функции она уходит из стека и удаляется локальный namespace\n",
    "\n",
    "Сначала интерпретатор находит ссылки в локальном namespace\n",
    "    Если не находит, то ищет в глобальном, если нет, то ищет в builtins\n",
    "    \n",
    "PS Namespace не создается, когда мы создаем условные операторы и циклы\n",
    "\n",
    "\"\"\""
   ]
  },
  {
   "cell_type": "code",
   "execution_count": null,
   "id": "b5ab4a3c",
   "metadata": {},
   "outputs": [],
   "source": [
    "for i in []:\n",
    "    y = i*i\n",
    "    \n",
    "print(y)\n",
    "#NameError, т.к. 'у' не определен, т.к. мы не вошли в тело цикла"
   ]
  },
  {
   "cell_type": "code",
   "execution_count": null,
   "id": "a6749a2f",
   "metadata": {},
   "outputs": [],
   "source": [
    "\"\"\"\n",
    "          ОБЛАСТИ ОБЛАСТИ ВИДИМОСТИ (scope)\n",
    "Scope - куски кода\n",
    "\n",
    "    Порядок перебора scope:\n",
    "1) Локальный scope\n",
    "2) Закрывающий scope (например, внешняя функция)\n",
    "3) Глобальный scope\n",
    "4) Scope пространства builtins\n",
    "\n",
    "Local Enclosing Global Builtins\n",
    "\n",
    "Например, интерпретатор будет искать функцию print сначала во внутренней функции a, потом во внешней функции b, \n",
    "потом в глобальном scope и найдет только в builtins\n",
    "\n",
    "Имена ищутся в namespace, которые соответствуют своему scope.\n",
    "Порядок scope:\n",
    "1) local\n",
    "2) nonlocal\n",
    "3) global\n",
    "4) builtins\n",
    "\n",
    "\n",
    "PS \n",
    "То есть при объявлении функции создается объект функции\n",
    "Но только при вызове функции создается local namespace\n",
    "\"\"\""
   ]
  },
  {
   "cell_type": "code",
   "execution_count": null,
   "id": "ced84ef4",
   "metadata": {},
   "outputs": [],
   "source": [
    "\"\"\"\n",
    "        GLOBAL, LOCAL, NONLOCAL переменные\n",
    "В теле функции создается local переменная, которой нет в global namespace\n",
    "Чтобы изменить в теле функции глобальную переменную, нужно первой строчкой в функции записать global x\n",
    "Чтобы в теле внутренней функции обратиться к переменной из внешней функции нужно написать nonlocal x\n",
    "\n",
    "\"\"\""
   ]
  },
  {
   "cell_type": "code",
   "execution_count": 104,
   "id": "5789ce27",
   "metadata": {},
   "outputs": [],
   "source": [
    "# В функции func переменная х локальная\n",
    "\n",
    "x = 5\n",
    "def func():\n",
    "    x = 'Я из функции func()'\n",
    "    print(x)"
   ]
  },
  {
   "cell_type": "code",
   "execution_count": 105,
   "id": "659b19e9",
   "metadata": {},
   "outputs": [
    {
     "name": "stdout",
     "output_type": "stream",
     "text": [
      "Я из функции func()\n",
      "5\n"
     ]
    }
   ],
   "source": [
    "func() #печатаем локальную переменную, обращаясь к функции\n",
    "print(x) # печатаем глобальную переменную"
   ]
  },
  {
   "cell_type": "code",
   "execution_count": 106,
   "id": "3e58d824",
   "metadata": {},
   "outputs": [],
   "source": [
    "x = 5\n",
    "def func():\n",
    "    global x\n",
    "    x = 'Я из функции func()'\n",
    "    print(x)"
   ]
  },
  {
   "cell_type": "code",
   "execution_count": 107,
   "id": "ad101bb9",
   "metadata": {},
   "outputs": [
    {
     "name": "stdout",
     "output_type": "stream",
     "text": [
      "Я из функции func()\n",
      "Я из функции func()\n"
     ]
    }
   ],
   "source": [
    "func() #печатаем локальную переменную, обращаясь к функции\n",
    "print(x) # печатаем глобальную переменную"
   ]
  },
  {
   "cell_type": "code",
   "execution_count": 113,
   "id": "9d4b98ed",
   "metadata": {},
   "outputs": [],
   "source": [
    "x = 'Я глобальная'\n",
    "def big_func():\n",
    "    x = \"Я из функции big_func()\"\n",
    "    def func():\n",
    "        nonlocal x\n",
    "        x = 'Я из функции func()'\n",
    "    func()\n",
    "    print(x)"
   ]
  },
  {
   "cell_type": "code",
   "execution_count": 114,
   "id": "bb9c7915",
   "metadata": {},
   "outputs": [
    {
     "name": "stdout",
     "output_type": "stream",
     "text": [
      "Я из функции func()\n",
      "Я глобальная\n"
     ]
    }
   ],
   "source": [
    "big_func() #печатаем nonlocal переменную, обращаясь к функции\n",
    "print(x) # печатаем глобальную переменную"
   ]
  },
  {
   "cell_type": "code",
   "execution_count": 197,
   "id": "41a6fc42",
   "metadata": {},
   "outputs": [
    {
     "name": "stdout",
     "output_type": "stream",
     "text": [
      "6\n",
      "create foo global\n",
      "create bar foo\n",
      "add global a\n",
      "add foo a\n",
      "add bar c\n",
      "get global c\n",
      "None\n"
     ]
    }
   ],
   "source": [
    "# Задача 7\n",
    "\n",
    "# Эмулятор работы с пространствами имен\n",
    "\n",
    "A = int(input())\n",
    "dic = {}\n",
    "parent = {}\n",
    "\n",
    "def get_key(value):\n",
    "    for k, v in dic.items():\n",
    "        if value == v:\n",
    "            print(k)\n",
    "    if value not in dic.values():\n",
    "        print(None)\n",
    "            \n",
    "for i in range(A):\n",
    "    cmd, namesp, var = input().split()\n",
    "    if cmd == 'create':\n",
    "        parent[namesp] = [var]\n",
    "    \n",
    "    elif cmd == 'add':\n",
    "        dic[namesp] = [var]\n",
    "\n",
    "    elif cmd == 'get':\n",
    "               \n",
    "        if var in dic[namesp]:\n",
    "            print(namesp)\n",
    "        elif var not in dic.values():\n",
    "            print(None)\n",
    "        elif namesp == 'global':\n",
    "            print('global')\n",
    "        elif var in dic[''.join(parent[namesp])]:\n",
    "            print(''.join(parent[namesp]))"
   ]
  },
  {
   "cell_type": "code",
   "execution_count": null,
   "id": "1bae6f71",
   "metadata": {},
   "outputs": [],
   "source": [
    "'''\n",
    "            КЛАССЫ\n",
    "Класс - это такой шаблон для создания экземпляров - объектов класса\n",
    "Экземпляры класса могут иметь атрибуты, которые вызываются через точку\n",
    "    self - обозначение экземпляра класса, т.е. чтобы вызвать функцию через х.func, надо прописать аргумент self\n",
    "\n",
    "При создании класса создается объект для него\n",
    "При создании экземпляров класса для них тоже создаются объекты\n",
    "    Для каждого экземпляра класса создается пространство имен, где можно создавать новые атрибуты\n",
    "    \n",
    "Исполнение конструктора класса происходит при создании каждого экземпляра класса\n",
    "'''"
   ]
  },
  {
   "cell_type": "code",
   "execution_count": 206,
   "id": "702a284d",
   "metadata": {},
   "outputs": [],
   "source": [
    "class MyClass:\n",
    "    a = 8\n",
    "    def func(self):\n",
    "        print(125)"
   ]
  },
  {
   "cell_type": "code",
   "execution_count": 223,
   "id": "d53080be",
   "metadata": {},
   "outputs": [
    {
     "name": "stdout",
     "output_type": "stream",
     "text": [
      "8\n"
     ]
    }
   ],
   "source": [
    "# Можно обратиться к атрибутам класса\n",
    "print(MyClass.a)"
   ]
  },
  {
   "cell_type": "code",
   "execution_count": 207,
   "id": "ca46dd62",
   "metadata": {},
   "outputs": [],
   "source": [
    "# Создадим экземпляр класса\n",
    "x = MyClass()"
   ]
  },
  {
   "cell_type": "code",
   "execution_count": 209,
   "id": "b85ec276",
   "metadata": {},
   "outputs": [
    {
     "name": "stdout",
     "output_type": "stream",
     "text": [
      "125\n"
     ]
    }
   ],
   "source": [
    "# Вызовем функцию через точку\n",
    "x.func()"
   ]
  },
  {
   "cell_type": "code",
   "execution_count": 211,
   "id": "b6fc0000",
   "metadata": {},
   "outputs": [
    {
     "data": {
      "text/plain": [
       "8"
      ]
     },
     "execution_count": 211,
     "metadata": {},
     "output_type": "execute_result"
    }
   ],
   "source": [
    "# Вызовем атрибут класса\n",
    "x.a"
   ]
  },
  {
   "cell_type": "code",
   "execution_count": 214,
   "id": "39f5616c",
   "metadata": {},
   "outputs": [
    {
     "data": {
      "text/plain": [
       "100"
      ]
     },
     "execution_count": 214,
     "metadata": {},
     "output_type": "execute_result"
    }
   ],
   "source": [
    "# Изменим объект, на который ссылается атрибут класса\n",
    "x.a = 100\n",
    "x.a"
   ]
  },
  {
   "cell_type": "code",
   "execution_count": 215,
   "id": "6f350911",
   "metadata": {},
   "outputs": [
    {
     "data": {
      "text/plain": [
       "8"
      ]
     },
     "execution_count": 215,
     "metadata": {},
     "output_type": "execute_result"
    }
   ],
   "source": [
    "# У нового экземпляра атрибут такой же как при создании класса\n",
    "b = MyClass()\n",
    "b.a"
   ]
  },
  {
   "cell_type": "code",
   "execution_count": 218,
   "id": "c6f11c5c",
   "metadata": {},
   "outputs": [
    {
     "name": "stdout",
     "output_type": "stream",
     "text": [
      "<class '__main__.MyClass'>\n",
      "<class 'type'>\n"
     ]
    }
   ],
   "source": [
    "# Тип объекта х - MyClass\n",
    "print(type(x))\n",
    "\n",
    "# Тип объекта MyClass - type\n",
    "print(type(MyClass))"
   ]
  },
  {
   "cell_type": "code",
   "execution_count": 226,
   "id": "8c05ffc7",
   "metadata": {},
   "outputs": [
    {
     "name": "stdout",
     "output_type": "stream",
     "text": [
      "Я новый атрибут\n"
     ]
    }
   ],
   "source": [
    "#Создадим новый атрибут\n",
    "x.new_attrib = 'Я новый атрибут'\n",
    "\n",
    "print(x.new_attrib)"
   ]
  },
  {
   "cell_type": "code",
   "execution_count": null,
   "id": "a5ec2222",
   "metadata": {},
   "outputs": [],
   "source": [
    "\"\"\"\n",
    "            КОНСТРУКТОР\n",
    "Функция __init__ служит для конструирования экземпляров класса\n",
    "Первый аргумент во всех функциях класса - обязательно self - сам экземпляр\n",
    "Далее могут быть *args\n",
    "\n",
    "\"\"\""
   ]
  },
  {
   "cell_type": "code",
   "execution_count": 233,
   "id": "45463835",
   "metadata": {},
   "outputs": [],
   "source": [
    "class Counter:\n",
    "    # Конструктор экземпляра класса, в namespace экземпляра будут атрибуты count, start \n",
    "    def __init__(self, start = 0):\n",
    "        self.count = 0\n",
    "    \n",
    "    def more(self):\n",
    "        self.count += 1\n",
    "        \n",
    "    def less(self):\n",
    "        self.count = 0"
   ]
  },
  {
   "cell_type": "code",
   "execution_count": 236,
   "id": "7acf2968",
   "metadata": {},
   "outputs": [],
   "source": [
    "# Создали экземпляр класса\n",
    "example = Counter"
   ]
  },
  {
   "cell_type": "code",
   "execution_count": 240,
   "id": "6db24da2",
   "metadata": {},
   "outputs": [
    {
     "data": {
      "text/plain": [
       "0"
      ]
     },
     "execution_count": 240,
     "metadata": {},
     "output_type": "execute_result"
    }
   ],
   "source": [
    "# Вызвали метод экземпляра из его namespace\n",
    "example.count"
   ]
  },
  {
   "cell_type": "code",
   "execution_count": 244,
   "id": "43995dbf",
   "metadata": {},
   "outputs": [
    {
     "data": {
      "text/plain": [
       "3"
      ]
     },
     "execution_count": 244,
     "metadata": {},
     "output_type": "execute_result"
    }
   ],
   "source": [
    "# Применили метод more() (функция) и вызвали атрибут\n",
    "example.more()\n",
    "example.count"
   ]
  },
  {
   "cell_type": "code",
   "execution_count": 245,
   "id": "bb9da13f",
   "metadata": {},
   "outputs": [
    {
     "data": {
      "text/plain": [
       "0"
      ]
     },
     "execution_count": 245,
     "metadata": {},
     "output_type": "execute_result"
    }
   ],
   "source": [
    "# Применили метод less() (функция) и вызвали атрибут\n",
    "example.less()\n",
    "example.count"
   ]
  },
  {
   "cell_type": "code",
   "execution_count": 248,
   "id": "1aaaace3",
   "metadata": {},
   "outputs": [
    {
     "data": {
      "text/plain": [
       "2"
      ]
     },
     "execution_count": 248,
     "metadata": {},
     "output_type": "execute_result"
    }
   ],
   "source": [
    "# Метод можно вызвать как функцию от экземпляра\n",
    "Counter.more(example)\n",
    "example.count"
   ]
  },
  {
   "cell_type": "code",
   "execution_count": null,
   "id": "16411aa3",
   "metadata": {},
   "outputs": [],
   "source": []
  },
  {
   "cell_type": "code",
   "execution_count": 258,
   "id": "0e383e96",
   "metadata": {},
   "outputs": [],
   "source": [
    "'''\n",
    "Объекты в аргументы в __init__ передаются при создании экземпляров\n",
    "'''\n",
    "class Trial:\n",
    "    def __init__(self, x):\n",
    "        self.count = x\n",
    "    def add(self, y):\n",
    "        self.count += y\n",
    "    "
   ]
  },
  {
   "cell_type": "code",
   "execution_count": 259,
   "id": "1a8cd23f",
   "metadata": {},
   "outputs": [
    {
     "data": {
      "text/plain": [
       "25"
      ]
     },
     "execution_count": 259,
     "metadata": {},
     "output_type": "execute_result"
    }
   ],
   "source": [
    "first = Trial(25)\n",
    "first.count"
   ]
  },
  {
   "cell_type": "code",
   "execution_count": 260,
   "id": "31a21af4",
   "metadata": {},
   "outputs": [
    {
     "data": {
      "text/plain": [
       "55"
      ]
     },
     "execution_count": 260,
     "metadata": {},
     "output_type": "execute_result"
    }
   ],
   "source": [
    "first.add(30)\n",
    "first.count"
   ]
  },
  {
   "cell_type": "code",
   "execution_count": null,
   "id": "ed6c83e0",
   "metadata": {},
   "outputs": [],
   "source": []
  },
  {
   "cell_type": "code",
   "execution_count": 396,
   "id": "ae92ddd6",
   "metadata": {},
   "outputs": [],
   "source": [
    "# Задача 8\n",
    "\n",
    "#Реализуйте класс MoneyBox, для работы с виртуальной копилкой.\n",
    "\n",
    "# Каждая копилка имеет ограниченную вместимость, которая выражается целым числом – количеством монет, \n",
    "# которые можно положить в копилку. Класс должен поддерживать информацию о количестве монет в копилке, предоставлять возможность \n",
    "# добавлять монеты в копилку и узнавать, можно ли добавить в копилку ещё какое-то количество монет, не превышая ее вместимость.\n",
    "\n",
    "class MoneyBox:\n",
    "    def __init__(self, capacity):\n",
    "        self.counter = 0\n",
    "        self.cap = capacity\n",
    "        \n",
    "    def can_add(self, v):\n",
    "        if self.cap - self.counter - int(v) < 0:\n",
    "            return False\n",
    "        else:\n",
    "            return True\n",
    "    \n",
    "    def add(self, v):\n",
    "        if self.can_add(v) == True:\n",
    "            self.counter += int(v)\n",
    "            return self.cap - self.counter\n",
    "        else:\n",
    "            return False\n",
    "\n",
    "\n"
   ]
  },
  {
   "cell_type": "code",
   "execution_count": 397,
   "id": "5d0025b3",
   "metadata": {},
   "outputs": [],
   "source": [
    "box = MoneyBox(15)"
   ]
  },
  {
   "cell_type": "code",
   "execution_count": 398,
   "id": "9949fc4c",
   "metadata": {},
   "outputs": [
    {
     "data": {
      "text/plain": [
       "0"
      ]
     },
     "execution_count": 398,
     "metadata": {},
     "output_type": "execute_result"
    }
   ],
   "source": [
    "box.counter"
   ]
  },
  {
   "cell_type": "code",
   "execution_count": 399,
   "id": "38f60a06",
   "metadata": {},
   "outputs": [
    {
     "data": {
      "text/plain": [
       "False"
      ]
     },
     "execution_count": 399,
     "metadata": {},
     "output_type": "execute_result"
    }
   ],
   "source": [
    "box.can_add(16)"
   ]
  },
  {
   "cell_type": "code",
   "execution_count": 400,
   "id": "83f96c2f",
   "metadata": {},
   "outputs": [
    {
     "data": {
      "text/plain": [
       "False"
      ]
     },
     "execution_count": 400,
     "metadata": {},
     "output_type": "execute_result"
    }
   ],
   "source": [
    "box.add(5)\n",
    "box.add(9)\n",
    "box.add(3)"
   ]
  },
  {
   "cell_type": "code",
   "execution_count": 401,
   "id": "d32fdd22",
   "metadata": {},
   "outputs": [
    {
     "data": {
      "text/plain": [
       "14"
      ]
     },
     "execution_count": 401,
     "metadata": {},
     "output_type": "execute_result"
    }
   ],
   "source": [
    "box.counter"
   ]
  },
  {
   "cell_type": "code",
   "execution_count": null,
   "id": "ffff91e7",
   "metadata": {},
   "outputs": [],
   "source": [
    "\"\"\"\n",
    "            НАСЛЕДОВАНИЕ КЛАССОВ\n",
    "Чтобы наследоваться от класса нужно указать в новом классе в скобках указать родительские классы\n",
    "\n",
    "В примере унаследуем от класса list все его методы и функции, и добавим метод isbig\n",
    "Как ищется метод extend:\n",
    "    1) Среди методов экземпляра self.\n",
    "    2) Среди методов класса \n",
    "    3) Среди методов родительских классов:\n",
    "        слева направо\n",
    "        сначала потомок, потом родитель (если указать у некого потомка указать наследование сначала родителя, потом ребенка, \n",
    "            то будет ошибка, т.к. сначала должен идти ребенок)\n",
    "    \n",
    "            МНОЖЕСТВЕННОЕ НАСЛЕДОВАНИЕ\n",
    "Все классы наследуются от класса object (!!!)\n",
    "Проверить, является ли класс наследником другого класса можно с помощью issubclass(A, B)\n",
    "Проверить, можно ли считать экземпляром этого класса данный объект с помощью isinstance(x, A)  - то есть, это говорит о том, что\n",
    "    наш экземпляр из класса-наследника класса А\n",
    "    \n",
    "\"\"\""
   ]
  },
  {
   "cell_type": "code",
   "execution_count": 418,
   "id": "7bad55a2",
   "metadata": {},
   "outputs": [],
   "source": [
    "class NewList(list):\n",
    "    def isbig(self):\n",
    "        if len(self) > 5:\n",
    "            return True\n",
    "        else:\n",
    "            return False"
   ]
  },
  {
   "cell_type": "code",
   "execution_count": 419,
   "id": "339ba11d",
   "metadata": {},
   "outputs": [],
   "source": [
    "lst = NewList()"
   ]
  },
  {
   "cell_type": "code",
   "execution_count": 420,
   "id": "8a3ed446",
   "metadata": {},
   "outputs": [],
   "source": [
    "lst.extend([1, 2, 3, 1, 2, 3])"
   ]
  },
  {
   "cell_type": "code",
   "execution_count": 421,
   "id": "bb9949f0",
   "metadata": {},
   "outputs": [
    {
     "data": {
      "text/plain": [
       "True"
      ]
     },
     "execution_count": 421,
     "metadata": {},
     "output_type": "execute_result"
    }
   ],
   "source": [
    "lst.isbig()"
   ]
  },
  {
   "cell_type": "code",
   "execution_count": 422,
   "id": "931acc2c",
   "metadata": {},
   "outputs": [
    {
     "data": {
      "text/plain": [
       "True"
      ]
     },
     "execution_count": 422,
     "metadata": {},
     "output_type": "execute_result"
    }
   ],
   "source": [
    "# Является ли класс NewList наследником list - True\n",
    "issubclass(NewList, list)"
   ]
  },
  {
   "cell_type": "code",
   "execution_count": 423,
   "id": "b1bcfb3f",
   "metadata": {},
   "outputs": [
    {
     "data": {
      "text/plain": [
       "True"
      ]
     },
     "execution_count": 423,
     "metadata": {},
     "output_type": "execute_result"
    }
   ],
   "source": [
    "# Можно ли использовать объект lst в качестве экземпляра класса list - True\n",
    "isinstance(lst, list)"
   ]
  },
  {
   "cell_type": "code",
   "execution_count": 424,
   "id": "fb03e66e",
   "metadata": {},
   "outputs": [
    {
     "data": {
      "text/plain": [
       "True"
      ]
     },
     "execution_count": 424,
     "metadata": {},
     "output_type": "execute_result"
    }
   ],
   "source": [
    "isinstance(lst, NewList)"
   ]
  },
  {
   "cell_type": "code",
   "execution_count": 425,
   "id": "52cb6a6c",
   "metadata": {},
   "outputs": [
    {
     "data": {
      "text/plain": [
       "False"
      ]
     },
     "execution_count": 425,
     "metadata": {},
     "output_type": "execute_result"
    }
   ],
   "source": [
    "isinstance(lst, int)"
   ]
  },
  {
   "cell_type": "code",
   "execution_count": 427,
   "id": "f86aaa36",
   "metadata": {},
   "outputs": [],
   "source": [
    "# Чтобы обратиться к методу родительского класса внутри класса наследника используется метод super\n",
    "class MyList(list):\n",
    "    def pop(self):\n",
    "        x = super(MyList, self).pop()\n",
    "        print('Last value is', x)\n",
    "        return x\n"
   ]
  },
  {
   "cell_type": "code",
   "execution_count": 428,
   "id": "1279491a",
   "metadata": {},
   "outputs": [],
   "source": [
    "ml = MyList([1, 2, 3])"
   ]
  },
  {
   "cell_type": "code",
   "execution_count": 429,
   "id": "2ece6ced",
   "metadata": {},
   "outputs": [
    {
     "name": "stdout",
     "output_type": "stream",
     "text": [
      "Last value is 3\n",
      "3\n"
     ]
    }
   ],
   "source": [
    "print(ml.pop())"
   ]
  },
  {
   "cell_type": "code",
   "execution_count": 432,
   "id": "2258e258",
   "metadata": {},
   "outputs": [
    {
     "data": {
      "text/plain": [
       "[__main__.MyList, list, object]"
      ]
     },
     "execution_count": 432,
     "metadata": {},
     "output_type": "execute_result"
    }
   ],
   "source": [
    "# Чтобы узнать порядок наследования класса и порядка поиска в namespace есть функция mro()\n",
    "\n",
    "MyList.mro()"
   ]
  },
  {
   "cell_type": "code",
   "execution_count": 433,
   "id": "1f30a0af",
   "metadata": {},
   "outputs": [
    {
     "name": "stdout",
     "output_type": "stream",
     "text": [
      "C\n"
     ]
    }
   ],
   "source": [
    "class A:\n",
    "    def foo(self):\n",
    "        print(\"A\")\n",
    "\n",
    "class B(A):\n",
    "    pass\n",
    "\n",
    "class C(A):\n",
    "    def foo(self):\n",
    "        print(\"C\")\n",
    "\n",
    "class D:\n",
    "    def foo(self):\n",
    "        print(\"D\")\n",
    "\n",
    "class E(B, C, D):\n",
    "    pass\n",
    "\n",
    "E().foo()"
   ]
  },
  {
   "cell_type": "code",
   "execution_count": 434,
   "id": "3a39d4da",
   "metadata": {},
   "outputs": [
    {
     "data": {
      "text/plain": [
       "[__main__.E, __main__.B, __main__.C, __main__.A, __main__.D, object]"
      ]
     },
     "execution_count": 434,
     "metadata": {},
     "output_type": "execute_result"
    }
   ],
   "source": [
    "E.mro()"
   ]
  },
  {
   "cell_type": "code",
   "execution_count": null,
   "id": "eadcef6d",
   "metadata": {},
   "outputs": [],
   "source": []
  },
  {
   "cell_type": "code",
   "execution_count": 450,
   "id": "8d83e481",
   "metadata": {},
   "outputs": [
    {
     "name": "stdout",
     "output_type": "stream",
     "text": [
      "4\n",
      "A\n",
      "B : A\n",
      "C : A\n",
      "D : B C\n",
      "4\n",
      "A B\n",
      "Yes\n",
      "B D\n",
      "Yes\n",
      "C D\n",
      "Yes\n",
      "D A\n",
      "No\n"
     ]
    }
   ],
   "source": [
    "n_class = int(input())\n",
    "dict = {}\n",
    "\n",
    "for i in range(n_class):\n",
    "    A = input()\n",
    "    if ':' not in A:\n",
    "        dict[A] = 'object'\n",
    "    else:\n",
    "        if A not in dict.keys():\n",
    "            dict[A[0]] = []\n",
    "            for j in A[4:].split():\n",
    "                dict[A[0]].extend(j)\n",
    "        \n",
    "        elif type(dict[A[0]]) == list:\n",
    "           \n",
    "            for j in A[4:].split():\n",
    "                dict[A[0]].extend(j)\n",
    "                \n",
    "\n",
    "n_invoice = int(input())\n",
    "\n",
    "for i in range(n_invoice):\n",
    "    B = input().split()\n",
    "    \n",
    "    if B[0] in dict[B[1]]:\n",
    "        print('Yes')\n",
    "    else:\n",
    "        print('No')"
   ]
  },
  {
   "cell_type": "code",
   "execution_count": null,
   "id": "7db07229",
   "metadata": {},
   "outputs": [],
   "source": []
  },
  {
   "cell_type": "code",
   "execution_count": 451,
   "id": "8a156302",
   "metadata": {},
   "outputs": [],
   "source": [
    "import time\n",
    "\n",
    "class Loggable:\n",
    "    def log(self, msg):\n",
    "        print(str(time.ctime()) + \": \" + str(msg))"
   ]
  },
  {
   "cell_type": "code",
   "execution_count": 459,
   "id": "03f63b5f",
   "metadata": {},
   "outputs": [],
   "source": [
    "class ExtendedStack(list):\n",
    "    def sum(self):\n",
    "        self.append(self.pop() + self.pop())\n",
    "    def sub(self):\n",
    "        self.append(self.pop() - self.pop())\n",
    "    def mul(self):\n",
    "        self.append(self.pop() * self.pop())\n",
    "    def div(self):\n",
    "        self.append(self.pop() // self.pop())"
   ]
  },
  {
   "cell_type": "code",
   "execution_count": null,
   "id": "7b5adf2f",
   "metadata": {},
   "outputs": [],
   "source": []
  },
  {
   "cell_type": "code",
   "execution_count": null,
   "id": "ebb74874",
   "metadata": {},
   "outputs": [],
   "source": [
    "\"\"\"\n",
    "        ОШИБКИ\n",
    "Ошибки - тоже объекты, у которых есть тип\n",
    "\n",
    "    1) SyntaxError - проверяются до исполнения самого кода\n",
    "    \n",
    "    2) Исключения: (проверяются в процессе исполнения кода)\n",
    "    TypeError - когда сравниваются строка и число\n",
    "    NameError - переменная не была определена\n",
    "    IndexError\n",
    "    ZeroDivisionError\n",
    "    ValueError - объект подходит по типу, но не подходит по значению\n",
    "    \n",
    "    \n",
    "Ошибки содержат стек вызовов функций\n",
    "\n",
    "    \n",
    "\"\"\""
   ]
  },
  {
   "cell_type": "code",
   "execution_count": null,
   "id": "9024db75",
   "metadata": {},
   "outputs": [],
   "source": [
    "\"\"\"\n",
    "Чтобы избежать конкретной ошибки следует писать констукцию\n",
    "try:\n",
    " * код, который нужно проверить*\n",
    "except TypeError:\n",
    " * что делать, если  эта ошибка обнаружена*\n",
    " * можно просто написать except: , тогда будет поймана любая ошибка, но мы не узнаем, какая\n",
    " \n",
    "else\n",
    " * что делать, если ошибки нет\n",
    " \n",
    "finally \n",
    " * запускается в конце в любом случае\n",
    "\"\"\""
   ]
  },
  {
   "cell_type": "code",
   "execution_count": 466,
   "id": "f86483db",
   "metadata": {},
   "outputs": [
    {
     "name": "stdout",
     "output_type": "stream",
     "text": [
      "Ошибка. Такого имени нет\n"
     ]
    }
   ],
   "source": [
    "try:\n",
    "    print(abc)\n",
    "    \n",
    "except NameError:\n",
    "    print('Ошибка. Такого имени нет')\n"
   ]
  },
  {
   "cell_type": "code",
   "execution_count": 473,
   "id": "ca9babdd",
   "metadata": {},
   "outputs": [
    {
     "name": "stdout",
     "output_type": "stream",
     "text": [
      "Ошибка. '>' not supported between instances of 'str' and 'int' <class 'TypeError'> (\"'>' not supported between instances of 'str' and 'int'\",)\n"
     ]
    }
   ],
   "source": [
    "# Можно передать кортеж из ошибок, чтобы блок try проверялся на наличие какой-либо из них\n",
    "# Чтобы понять, какая из ошибок возникла, нужно обозначить ее за объект er\n",
    "# Можно вывести саму ошибку er, ее тип и аргументы er.args\n",
    "\n",
    "try:\n",
    "    print('abc' > 2)\n",
    "    \n",
    "except (NameError, TypeError) as er:\n",
    "    print('Ошибка.', \n",
    "          er, \n",
    "          type(er),\n",
    "          er.args)"
   ]
  },
  {
   "cell_type": "code",
   "execution_count": null,
   "id": "4ea404f6",
   "metadata": {},
   "outputs": [],
   "source": [
    "\"\"\"\n",
    "Каждый из типов ошибок - это класс\n",
    "Классы ошибок не имеют множественного наследования\n",
    "\n",
    "В блоке try создается объект без имени\n",
    "В блоке except проверяется, isinstance(x, TypeError)\n",
    "    Если да, то заходим в блок except\n",
    "\n",
    "\"\"\""
   ]
  },
  {
   "cell_type": "code",
   "execution_count": 475,
   "id": "6941f299",
   "metadata": {},
   "outputs": [],
   "source": [
    "# Задача 8\n",
    "\n",
    "# Вам необходимо написать код, который запускает эту функцию, затем ловит исключения \n",
    "# ArithmeticError, AssertionError, ZeroDivisionError и выводит имя пойманного исключения.\n",
    "try:\n",
    "    foo()\n",
    "except ZeroDivisionError:\n",
    "    print('ZeroDivisionError')\n",
    "except ArithmeticError:\n",
    "    print('ArithmeticError')\n",
    "except AssertionError:\n",
    "    print('AssertionError')\n"
   ]
  },
  {
   "cell_type": "code",
   "execution_count": null,
   "id": "a4fb0935",
   "metadata": {},
   "outputs": [],
   "source": [
    "\"\"\"\n",
    "Чтобы в своей программе определить, в каком случае возникает ошибка есть метод raise *TypeError\n",
    "\n",
    "\"\"\""
   ]
  },
  {
   "cell_type": "code",
   "execution_count": 495,
   "id": "2e041ccf",
   "metadata": {},
   "outputs": [],
   "source": [
    "def greet(name):\n",
    "    if name[0].isupper():\n",
    "        print('Привет,', name)\n",
    "    else:\n",
    "        raise ValueError(name + ' ты неправильно написал')"
   ]
  },
  {
   "cell_type": "code",
   "execution_count": 496,
   "id": "acb0be6f",
   "metadata": {},
   "outputs": [
    {
     "ename": "ValueError",
     "evalue": "наталья ты неправильно написал",
     "output_type": "error",
     "traceback": [
      "\u001b[1;31m---------------------------------------------------------------------------\u001b[0m",
      "\u001b[1;31mValueError\u001b[0m                                Traceback (most recent call last)",
      "\u001b[1;32m<ipython-input-496-f1bcd11c4b22>\u001b[0m in \u001b[0;36m<module>\u001b[1;34m\u001b[0m\n\u001b[1;32m----> 1\u001b[1;33m \u001b[0mgreet\u001b[0m\u001b[1;33m(\u001b[0m\u001b[1;34m'наталья'\u001b[0m\u001b[1;33m)\u001b[0m\u001b[1;33m\u001b[0m\u001b[1;33m\u001b[0m\u001b[0m\n\u001b[0m",
      "\u001b[1;32m<ipython-input-495-d7da99dd735a>\u001b[0m in \u001b[0;36mgreet\u001b[1;34m(name)\u001b[0m\n\u001b[0;32m      3\u001b[0m         \u001b[0mprint\u001b[0m\u001b[1;33m(\u001b[0m\u001b[1;34m'Привет,'\u001b[0m\u001b[1;33m,\u001b[0m \u001b[0mname\u001b[0m\u001b[1;33m)\u001b[0m\u001b[1;33m\u001b[0m\u001b[1;33m\u001b[0m\u001b[0m\n\u001b[0;32m      4\u001b[0m     \u001b[1;32melse\u001b[0m\u001b[1;33m:\u001b[0m\u001b[1;33m\u001b[0m\u001b[1;33m\u001b[0m\u001b[0m\n\u001b[1;32m----> 5\u001b[1;33m         \u001b[1;32mraise\u001b[0m \u001b[0mValueError\u001b[0m\u001b[1;33m(\u001b[0m\u001b[0mname\u001b[0m \u001b[1;33m+\u001b[0m \u001b[1;34m' ты неправильно написал'\u001b[0m\u001b[1;33m)\u001b[0m\u001b[1;33m\u001b[0m\u001b[1;33m\u001b[0m\u001b[0m\n\u001b[0m",
      "\u001b[1;31mValueError\u001b[0m: наталья ты неправильно написал"
     ]
    }
   ],
   "source": [
    "greet('наталья')"
   ]
  },
  {
   "cell_type": "code",
   "execution_count": null,
   "id": "0474f039",
   "metadata": {},
   "outputs": [],
   "source": []
  },
  {
   "cell_type": "code",
   "execution_count": null,
   "id": "371853b7",
   "metadata": {},
   "outputs": [],
   "source": [
    "# Задача 9\n",
    "\n",
    "# Реализуйте класс PositiveList, отнаследовав его от класса list, для хранения положительных целых чисел.\n",
    "# Также реализуйте новое исключение NonPositiveError.\n",
    "\n",
    "# В классе PositiveList переопределите метод append(self, x) таким образом, чтобы при попытке добавить \n",
    "# неположительное целое число бросалось исключение NonPositiveError и число не добавлялось, \n",
    "# а при попытке добавить положительное целое число, число добавлялось бы как в стандартный list.\n"
   ]
  },
  {
   "cell_type": "code",
   "execution_count": 1,
   "id": "b9051f5d",
   "metadata": {},
   "outputs": [],
   "source": [
    "class NonPositiveError(Exception):\n",
    "    pass"
   ]
  },
  {
   "cell_type": "code",
   "execution_count": 16,
   "id": "f5acd9e7",
   "metadata": {},
   "outputs": [],
   "source": [
    "class PositiveList(list):\n",
    "    def append(self, x):\n",
    "        \n",
    "        if x > 0:\n",
    "            super(PositiveList, self).append(x)\n",
    "        else:\n",
    "            raise NonPositiveError()\n",
    "        "
   ]
  },
  {
   "cell_type": "code",
   "execution_count": 17,
   "id": "fe0a4d6f",
   "metadata": {},
   "outputs": [],
   "source": [
    "lst = PositiveList()"
   ]
  },
  {
   "cell_type": "code",
   "execution_count": 19,
   "id": "0dc9ce74",
   "metadata": {},
   "outputs": [],
   "source": [
    "lst.append(1)"
   ]
  },
  {
   "cell_type": "code",
   "execution_count": 20,
   "id": "50d44e56",
   "metadata": {},
   "outputs": [
    {
     "data": {
      "text/plain": [
       "[1]"
      ]
     },
     "execution_count": 20,
     "metadata": {},
     "output_type": "execute_result"
    }
   ],
   "source": [
    "lst"
   ]
  },
  {
   "cell_type": "code",
   "execution_count": null,
   "id": "ca0c9737",
   "metadata": {},
   "outputs": [],
   "source": []
  },
  {
   "cell_type": "code",
   "execution_count": null,
   "id": "2699832f",
   "metadata": {},
   "outputs": [],
   "source": [
    "\"\"\"\n",
    "            Работа с кодом: модули и импорт\n",
    "В наш рабочий файл можно импортировать другой файл (т.е. его функции) как обычный модуль\n",
    "\"\"\""
   ]
  },
  {
   "cell_type": "code",
   "execution_count": 22,
   "id": "7dd916f0",
   "metadata": {},
   "outputs": [
    {
     "name": "stdout",
     "output_type": "stream",
     "text": [
      "Collecting import_ipynb\n",
      "  Downloading import-ipynb-0.1.3.tar.gz (4.0 kB)\n",
      "Building wheels for collected packages: import-ipynb\n",
      "  Building wheel for import-ipynb (setup.py): started\n",
      "  Building wheel for import-ipynb (setup.py): finished with status 'done'\n",
      "  Created wheel for import-ipynb: filename=import_ipynb-0.1.3-py3-none-any.whl size=2975 sha256=39fed03e8a08a0c85ad7eb5d8b9b45f19f69f1c6f73aa3c374ba8dd6b80afa19\n",
      "  Stored in directory: c:\\users\\natal\\appdata\\local\\pip\\cache\\wheels\\06\\7e\\ad\\1cb03e935234186825cefc7e2c8f3451b4f654b5bc72232a7b\n",
      "Successfully built import-ipynb\n",
      "Installing collected packages: import-ipynb\n",
      "Successfully installed import-ipynb-0.1.3\n",
      "Note: you may need to restart the kernel to use updated packages.\n"
     ]
    }
   ],
   "source": [
    "pip install import_ipynb"
   ]
  },
  {
   "cell_type": "code",
   "execution_count": 23,
   "id": "69b0a9d2",
   "metadata": {},
   "outputs": [],
   "source": [
    "import import_ipynb"
   ]
  },
  {
   "cell_type": "code",
   "execution_count": 29,
   "id": "bd743428",
   "metadata": {},
   "outputs": [
    {
     "name": "stdout",
     "output_type": "stream",
     "text": [
      "__main__\n"
     ]
    }
   ],
   "source": [
    "import hello"
   ]
  },
  {
   "cell_type": "code",
   "execution_count": 25,
   "id": "1dde6052",
   "metadata": {},
   "outputs": [
    {
     "data": {
      "text/plain": [
       "<function hello.hello()>"
      ]
     },
     "execution_count": 25,
     "metadata": {},
     "output_type": "execute_result"
    }
   ],
   "source": [
    "hello.hello"
   ]
  },
  {
   "cell_type": "code",
   "execution_count": 27,
   "id": "18defa52",
   "metadata": {},
   "outputs": [
    {
     "name": "stdout",
     "output_type": "stream",
     "text": [
      "Привееет\n"
     ]
    }
   ],
   "source": [
    "hello.hello()"
   ]
  },
  {
   "cell_type": "code",
   "execution_count": null,
   "id": "896e7103",
   "metadata": {},
   "outputs": [],
   "source": [
    "\"\"\"\n",
    "Если в импортируемом файле есть кусок кода, который не надо импортировать, то в импортируемом файле\n",
    "    нужно написать условие:\n",
    "    if __name__ == __main__:\n",
    "        \n",
    "        *код, который не надо импортировать*\n",
    "    \n",
    "    else:\n",
    "        \n",
    "        *все остальное*\n",
    "\n",
    "\"\"\""
   ]
  },
  {
   "cell_type": "code",
   "execution_count": 28,
   "id": "dff49c6f",
   "metadata": {},
   "outputs": [
    {
     "name": "stdout",
     "output_type": "stream",
     "text": [
      "__main__\n"
     ]
    }
   ],
   "source": [
    "# Мы находимся в модуле __main__\n",
    "# А при импорте имя модуля меняется на имя импортируемого файла\n",
    "\n",
    "print(__name__)"
   ]
  },
  {
   "cell_type": "code",
   "execution_count": null,
   "id": "a5d63c7d",
   "metadata": {},
   "outputs": [],
   "source": []
  },
  {
   "cell_type": "code",
   "execution_count": null,
   "id": "f9833164",
   "metadata": {},
   "outputs": [],
   "source": [
    "\"\"\"\n",
    "Посмотреть все модули можно в словаре sys.modules\n",
    "\"\"\""
   ]
  },
  {
   "cell_type": "code",
   "execution_count": 31,
   "id": "ad6f53c3",
   "metadata": {},
   "outputs": [],
   "source": [
    "import sys"
   ]
  },
  {
   "cell_type": "code",
   "execution_count": 32,
   "id": "8023c626",
   "metadata": {},
   "outputs": [
    {
     "name": "stdout",
     "output_type": "stream",
     "text": [
      "{'sys': <module 'sys' (built-in)>, 'builtins': <module 'builtins' (built-in)>, '_frozen_importlib': <module 'importlib._bootstrap' (frozen)>, '_imp': <module '_imp' (built-in)>, '_warnings': <module '_warnings' (built-in)>, '_frozen_importlib_external': <module 'importlib._bootstrap_external' (frozen)>, '_io': <module 'io' (built-in)>, 'marshal': <module 'marshal' (built-in)>, 'nt': <module 'nt' (built-in)>, '_thread': <module '_thread' (built-in)>, '_weakref': <module '_weakref' (built-in)>, 'winreg': <module 'winreg' (built-in)>, 'time': <module 'time' (built-in)>, 'zipimport': <module 'zipimport' (frozen)>, '_codecs': <module '_codecs' (built-in)>, 'codecs': <module 'codecs' from 'C:\\\\Users\\\\natal\\\\anaconda3\\\\lib\\\\codecs.py'>, 'encodings.aliases': <module 'encodings.aliases' from 'C:\\\\Users\\\\natal\\\\anaconda3\\\\lib\\\\encodings\\\\aliases.py'>, 'encodings': <module 'encodings' from 'C:\\\\Users\\\\natal\\\\anaconda3\\\\lib\\\\encodings\\\\__init__.py'>, 'encodings.utf_8': <module 'encodings.utf_8' from 'C:\\\\Users\\\\natal\\\\anaconda3\\\\lib\\\\encodings\\\\utf_8.py'>, 'encodings.cp1251': <module 'encodings.cp1251' from 'C:\\\\Users\\\\natal\\\\anaconda3\\\\lib\\\\encodings\\\\cp1251.py'>, '_signal': <module '_signal' (built-in)>, '__main__': <module '__main__'>, 'encodings.latin_1': <module 'encodings.latin_1' from 'C:\\\\Users\\\\natal\\\\anaconda3\\\\lib\\\\encodings\\\\latin_1.py'>, '_abc': <module '_abc' (built-in)>, 'abc': <module 'abc' from 'C:\\\\Users\\\\natal\\\\anaconda3\\\\lib\\\\abc.py'>, 'io': <module 'io' from 'C:\\\\Users\\\\natal\\\\anaconda3\\\\lib\\\\io.py'>, '_stat': <module '_stat' (built-in)>, 'stat': <module 'stat' from 'C:\\\\Users\\\\natal\\\\anaconda3\\\\lib\\\\stat.py'>, '_collections_abc': <module '_collections_abc' from 'C:\\\\Users\\\\natal\\\\anaconda3\\\\lib\\\\_collections_abc.py'>, 'genericpath': <module 'genericpath' from 'C:\\\\Users\\\\natal\\\\anaconda3\\\\lib\\\\genericpath.py'>, 'ntpath': <module 'ntpath' from 'C:\\\\Users\\\\natal\\\\anaconda3\\\\lib\\\\ntpath.py'>, 'os.path': <module 'ntpath' from 'C:\\\\Users\\\\natal\\\\anaconda3\\\\lib\\\\ntpath.py'>, 'os': <module 'os' from 'C:\\\\Users\\\\natal\\\\anaconda3\\\\lib\\\\os.py'>, '_sitebuiltins': <module '_sitebuiltins' from 'C:\\\\Users\\\\natal\\\\anaconda3\\\\lib\\\\_sitebuiltins.py'>, '_locale': <module '_locale' (built-in)>, '_bootlocale': <module '_bootlocale' from 'C:\\\\Users\\\\natal\\\\anaconda3\\\\lib\\\\_bootlocale.py'>, 'types': <module 'types' from 'C:\\\\Users\\\\natal\\\\anaconda3\\\\lib\\\\types.py'>, 'importlib._bootstrap': <module 'importlib._bootstrap' (frozen)>, 'importlib._bootstrap_external': <module 'importlib._bootstrap_external' (frozen)>, 'warnings': <module 'warnings' from 'C:\\\\Users\\\\natal\\\\anaconda3\\\\lib\\\\warnings.py'>, 'importlib': <module 'importlib' from 'C:\\\\Users\\\\natal\\\\anaconda3\\\\lib\\\\importlib\\\\__init__.py'>, 'importlib.machinery': <module 'importlib.machinery' from 'C:\\\\Users\\\\natal\\\\anaconda3\\\\lib\\\\importlib\\\\machinery.py'>, 'importlib.abc': <module 'importlib.abc' from 'C:\\\\Users\\\\natal\\\\anaconda3\\\\lib\\\\importlib\\\\abc.py'>, '_operator': <module '_operator' (built-in)>, 'operator': <module 'operator' from 'C:\\\\Users\\\\natal\\\\anaconda3\\\\lib\\\\operator.py'>, 'keyword': <module 'keyword' from 'C:\\\\Users\\\\natal\\\\anaconda3\\\\lib\\\\keyword.py'>, '_heapq': <module '_heapq' (built-in)>, 'heapq': <module 'heapq' from 'C:\\\\Users\\\\natal\\\\anaconda3\\\\lib\\\\heapq.py'>, 'itertools': <module 'itertools' (built-in)>, 'reprlib': <module 'reprlib' from 'C:\\\\Users\\\\natal\\\\anaconda3\\\\lib\\\\reprlib.py'>, '_collections': <module '_collections' (built-in)>, 'collections': <module 'collections' from 'C:\\\\Users\\\\natal\\\\anaconda3\\\\lib\\\\collections\\\\__init__.py'>, '_functools': <module '_functools' (built-in)>, 'functools': <module 'functools' from 'C:\\\\Users\\\\natal\\\\anaconda3\\\\lib\\\\functools.py'>, 'contextlib': <module 'contextlib' from 'C:\\\\Users\\\\natal\\\\anaconda3\\\\lib\\\\contextlib.py'>, 'importlib.util': <module 'importlib.util' from 'C:\\\\Users\\\\natal\\\\anaconda3\\\\lib\\\\importlib\\\\util.py'>, 'mpl_toolkits': <module 'mpl_toolkits' (namespace)>, 'sphinxcontrib': <module 'sphinxcontrib' from 'C:\\\\Users\\\\natal\\\\anaconda3\\\\lib\\\\site-packages\\\\sphinxcontrib\\\\__init__.py'>, 'zope': <module 'zope' from 'C:\\\\Users\\\\natal\\\\anaconda3\\\\lib\\\\site-packages\\\\zope\\\\__init__.py'>, 'site': <module 'site' from 'C:\\\\Users\\\\natal\\\\anaconda3\\\\lib\\\\site.py'>, '_weakrefset': <module '_weakrefset' from 'C:\\\\Users\\\\natal\\\\anaconda3\\\\lib\\\\_weakrefset.py'>, 'weakref': <module 'weakref' from 'C:\\\\Users\\\\natal\\\\anaconda3\\\\lib\\\\weakref.py'>, 'pkgutil': <module 'pkgutil' from 'C:\\\\Users\\\\natal\\\\anaconda3\\\\lib\\\\pkgutil.py'>, 'runpy': <module 'runpy' from 'C:\\\\Users\\\\natal\\\\anaconda3\\\\lib\\\\runpy.py'>, 'ipykernel._version': <module 'ipykernel._version' from 'C:\\\\Users\\\\natal\\\\anaconda3\\\\lib\\\\site-packages\\\\ipykernel\\\\_version.py'>, '__future__': <module '__future__' from 'C:\\\\Users\\\\natal\\\\anaconda3\\\\lib\\\\__future__.py'>, 'enum': <module 'enum' from 'C:\\\\Users\\\\natal\\\\anaconda3\\\\lib\\\\enum.py'>, '_sre': <module '_sre' (built-in)>, 'sre_constants': <module 'sre_constants' from 'C:\\\\Users\\\\natal\\\\anaconda3\\\\lib\\\\sre_constants.py'>, 'sre_parse': <module 'sre_parse' from 'C:\\\\Users\\\\natal\\\\anaconda3\\\\lib\\\\sre_parse.py'>, 'sre_compile': <module 'sre_compile' from 'C:\\\\Users\\\\natal\\\\anaconda3\\\\lib\\\\sre_compile.py'>, 'copyreg': <module 'copyreg' from 'C:\\\\Users\\\\natal\\\\anaconda3\\\\lib\\\\copyreg.py'>, 're': <module 're' from 'C:\\\\Users\\\\natal\\\\anaconda3\\\\lib\\\\re.py'>, '_json': <module '_json' (built-in)>, 'json.scanner': <module 'json.scanner' from 'C:\\\\Users\\\\natal\\\\anaconda3\\\\lib\\\\json\\\\scanner.py'>, 'json.decoder': <module 'json.decoder' from 'C:\\\\Users\\\\natal\\\\anaconda3\\\\lib\\\\json\\\\decoder.py'>, 'json.encoder': <module 'json.encoder' from 'C:\\\\Users\\\\natal\\\\anaconda3\\\\lib\\\\json\\\\encoder.py'>, 'json': <module 'json' from 'C:\\\\Users\\\\natal\\\\anaconda3\\\\lib\\\\json\\\\__init__.py'>, 'errno': <module 'errno' (built-in)>, 'signal': <module 'signal' from 'C:\\\\Users\\\\natal\\\\anaconda3\\\\lib\\\\signal.py'>, 'threading': <module 'threading' from 'C:\\\\Users\\\\natal\\\\anaconda3\\\\lib\\\\threading.py'>, 'msvcrt': <module 'msvcrt' (built-in)>, '_winapi': <module '_winapi' (built-in)>, 'subprocess': <module 'subprocess' from 'C:\\\\Users\\\\natal\\\\anaconda3\\\\lib\\\\subprocess.py'>, 'IPython.core': <module 'IPython.core' from 'C:\\\\Users\\\\natal\\\\anaconda3\\\\lib\\\\site-packages\\\\IPython\\\\core\\\\__init__.py'>, 'IPython.core.getipython': <module 'IPython.core.getipython' from 'C:\\\\Users\\\\natal\\\\anaconda3\\\\lib\\\\site-packages\\\\IPython\\\\core\\\\getipython.py'>, 'IPython.core.release': <module 'IPython.core.release' from 'C:\\\\Users\\\\natal\\\\anaconda3\\\\lib\\\\site-packages\\\\IPython\\\\core\\\\release.py'>, 'atexit': <module 'atexit' (built-in)>, 'copy': <module 'copy' from 'C:\\\\Users\\\\natal\\\\anaconda3\\\\lib\\\\copy.py'>, 'posixpath': <module 'posixpath' from 'C:\\\\Users\\\\natal\\\\anaconda3\\\\lib\\\\posixpath.py'>, 'fnmatch': <module 'fnmatch' from 'C:\\\\Users\\\\natal\\\\anaconda3\\\\lib\\\\fnmatch.py'>, 'glob': <module 'glob' from 'C:\\\\Users\\\\natal\\\\anaconda3\\\\lib\\\\glob.py'>, 'token': <module 'token' from 'C:\\\\Users\\\\natal\\\\anaconda3\\\\lib\\\\token.py'>, 'tokenize': <module 'tokenize' from 'C:\\\\Users\\\\natal\\\\anaconda3\\\\lib\\\\tokenize.py'>, 'linecache': <module 'linecache' from 'C:\\\\Users\\\\natal\\\\anaconda3\\\\lib\\\\linecache.py'>, 'traceback': <module 'traceback' from 'C:\\\\Users\\\\natal\\\\anaconda3\\\\lib\\\\traceback.py'>, 'collections.abc': <module 'collections.abc' from 'C:\\\\Users\\\\natal\\\\anaconda3\\\\lib\\\\collections\\\\abc.py'>, '_string': <module '_string' (built-in)>, 'string': <module 'string' from 'C:\\\\Users\\\\natal\\\\anaconda3\\\\lib\\\\string.py'>, 'logging': <module 'logging' from 'C:\\\\Users\\\\natal\\\\anaconda3\\\\lib\\\\logging\\\\__init__.py'>, 'zlib': <module 'zlib' (built-in)>, '_compression': <module '_compression' from 'C:\\\\Users\\\\natal\\\\anaconda3\\\\lib\\\\_compression.py'>, '_bz2': <module '_bz2' from 'C:\\\\Users\\\\natal\\\\anaconda3\\\\DLLs\\\\_bz2.pyd'>, 'bz2': <module 'bz2' from 'C:\\\\Users\\\\natal\\\\anaconda3\\\\lib\\\\bz2.py'>, '_lzma': <module '_lzma' from 'C:\\\\Users\\\\natal\\\\anaconda3\\\\DLLs\\\\_lzma.pyd'>, 'lzma': <module 'lzma' from 'C:\\\\Users\\\\natal\\\\anaconda3\\\\lib\\\\lzma.py'>, 'shutil': <module 'shutil' from 'C:\\\\Users\\\\natal\\\\anaconda3\\\\lib\\\\shutil.py'>, '_ast': <module '_ast' (built-in)>, 'ast': <module 'ast' from 'C:\\\\Users\\\\natal\\\\anaconda3\\\\lib\\\\ast.py'>, '_opcode': <module '_opcode' (built-in)>, 'opcode': <module 'opcode' from 'C:\\\\Users\\\\natal\\\\anaconda3\\\\lib\\\\opcode.py'>, 'dis': <module 'dis' from 'C:\\\\Users\\\\natal\\\\anaconda3\\\\lib\\\\dis.py'>, 'inspect': <module 'inspect' from 'C:\\\\Users\\\\natal\\\\anaconda3\\\\lib\\\\inspect.py'>, 'traitlets.utils': <module 'traitlets.utils' from 'C:\\\\Users\\\\natal\\\\anaconda3\\\\lib\\\\site-packages\\\\traitlets\\\\utils\\\\__init__.py'>, 'traitlets.utils.getargspec': <module 'traitlets.utils.getargspec' from 'C:\\\\Users\\\\natal\\\\anaconda3\\\\lib\\\\site-packages\\\\traitlets\\\\utils\\\\getargspec.py'>, 'traitlets.utils.importstring': <module 'traitlets.utils.importstring' from 'C:\\\\Users\\\\natal\\\\anaconda3\\\\lib\\\\site-packages\\\\traitlets\\\\utils\\\\importstring.py'>, 'traitlets.utils.sentinel': <module 'traitlets.utils.sentinel' from 'C:\\\\Users\\\\natal\\\\anaconda3\\\\lib\\\\site-packages\\\\traitlets\\\\utils\\\\sentinel.py'>, 'traitlets.utils.bunch': <module 'traitlets.utils.bunch' from 'C:\\\\Users\\\\natal\\\\anaconda3\\\\lib\\\\site-packages\\\\traitlets\\\\utils\\\\bunch.py'>, 'traitlets.utils.descriptions': <module 'traitlets.utils.descriptions' from 'C:\\\\Users\\\\natal\\\\anaconda3\\\\lib\\\\site-packages\\\\traitlets\\\\utils\\\\descriptions.py'>, 'traitlets.traitlets': <module 'traitlets.traitlets' from 'C:\\\\Users\\\\natal\\\\anaconda3\\\\lib\\\\site-packages\\\\traitlets\\\\traitlets.py'>, 'traitlets.utils.decorators': <module 'traitlets.utils.decorators' from 'C:\\\\Users\\\\natal\\\\anaconda3\\\\lib\\\\site-packages\\\\traitlets\\\\utils\\\\decorators.py'>, 'traitlets._version': <module 'traitlets._version' from 'C:\\\\Users\\\\natal\\\\anaconda3\\\\lib\\\\site-packages\\\\traitlets\\\\_version.py'>, 'traitlets': <module 'traitlets' from 'C:\\\\Users\\\\natal\\\\anaconda3\\\\lib\\\\site-packages\\\\traitlets\\\\__init__.py'>, 'pprint': <module 'pprint' from 'C:\\\\Users\\\\natal\\\\anaconda3\\\\lib\\\\pprint.py'>, 'locale': <module 'locale' from 'C:\\\\Users\\\\natal\\\\anaconda3\\\\lib\\\\locale.py'>, 'gettext': <module 'gettext' from 'C:\\\\Users\\\\natal\\\\anaconda3\\\\lib\\\\gettext.py'>, 'argparse': <module 'argparse' from 'C:\\\\Users\\\\natal\\\\anaconda3\\\\lib\\\\argparse.py'>, 'ipython_genutils._version': <module 'ipython_genutils._version' from 'C:\\\\Users\\\\natal\\\\anaconda3\\\\lib\\\\site-packages\\\\ipython_genutils\\\\_version.py'>, 'ipython_genutils': <module 'ipython_genutils' from 'C:\\\\Users\\\\natal\\\\anaconda3\\\\lib\\\\site-packages\\\\ipython_genutils\\\\__init__.py'>, 'math': <module 'math' (built-in)>, '_bisect': <module '_bisect' (built-in)>, 'bisect': <module 'bisect' from 'C:\\\\Users\\\\natal\\\\anaconda3\\\\lib\\\\bisect.py'>, '_sha512': <module '_sha512' (built-in)>, '_random': <module '_random' (built-in)>, 'random': <module 'random' from 'C:\\\\Users\\\\natal\\\\anaconda3\\\\lib\\\\random.py'>, 'ipython_genutils.encoding': <module 'ipython_genutils.encoding' from 'C:\\\\Users\\\\natal\\\\anaconda3\\\\lib\\\\site-packages\\\\ipython_genutils\\\\encoding.py'>, 'platform': <module 'platform' from 'C:\\\\Users\\\\natal\\\\anaconda3\\\\lib\\\\platform.py'>, 'ipython_genutils.py3compat': <module 'ipython_genutils.py3compat' from 'C:\\\\Users\\\\natal\\\\anaconda3\\\\lib\\\\site-packages\\\\ipython_genutils\\\\py3compat.py'>, 'ipython_genutils.path': <module 'ipython_genutils.path' from 'C:\\\\Users\\\\natal\\\\anaconda3\\\\lib\\\\site-packages\\\\ipython_genutils\\\\path.py'>, 'traitlets.config.loader': <module 'traitlets.config.loader' from 'C:\\\\Users\\\\natal\\\\anaconda3\\\\lib\\\\site-packages\\\\traitlets\\\\config\\\\loader.py'>, 'textwrap': <module 'textwrap' from 'C:\\\\Users\\\\natal\\\\anaconda3\\\\lib\\\\textwrap.py'>, 'ipython_genutils.text': <module 'ipython_genutils.text' from 'C:\\\\Users\\\\natal\\\\anaconda3\\\\lib\\\\site-packages\\\\ipython_genutils\\\\text.py'>, 'traitlets.config.configurable': <module 'traitlets.config.configurable' from 'C:\\\\Users\\\\natal\\\\anaconda3\\\\lib\\\\site-packages\\\\traitlets\\\\config\\\\configurable.py'>, 'traitlets.config.application': <module 'traitlets.config.application' from 'C:\\\\Users\\\\natal\\\\anaconda3\\\\lib\\\\site-packages\\\\traitlets\\\\config\\\\application.py'>, 'traitlets.config': <module 'traitlets.config' from 'C:\\\\Users\\\\natal\\\\anaconda3\\\\lib\\\\site-packages\\\\traitlets\\\\config\\\\__init__.py'>, 'sysconfig': <module 'sysconfig' from 'C:\\\\Users\\\\natal\\\\anaconda3\\\\lib\\\\sysconfig.py'>, 'urllib': <module 'urllib' from 'C:\\\\Users\\\\natal\\\\anaconda3\\\\lib\\\\urllib\\\\__init__.py'>, 'urllib.parse': <module 'urllib.parse' from 'C:\\\\Users\\\\natal\\\\anaconda3\\\\lib\\\\urllib\\\\parse.py'>, 'pydoc': <module 'pydoc' from 'C:\\\\Users\\\\natal\\\\anaconda3\\\\lib\\\\pydoc.py'>, 'bdb': <module 'bdb' from 'C:\\\\Users\\\\natal\\\\anaconda3\\\\lib\\\\bdb.py'>, 'IPython.utils': <module 'IPython.utils' from 'C:\\\\Users\\\\natal\\\\anaconda3\\\\lib\\\\site-packages\\\\IPython\\\\utils\\\\__init__.py'>, 'IPython.utils.ipstruct': <module 'IPython.utils.ipstruct' from 'C:\\\\Users\\\\natal\\\\anaconda3\\\\lib\\\\site-packages\\\\IPython\\\\utils\\\\ipstruct.py'>, 'IPython.utils.coloransi': <module 'IPython.utils.coloransi' from 'C:\\\\Users\\\\natal\\\\anaconda3\\\\lib\\\\site-packages\\\\IPython\\\\utils\\\\coloransi.py'>, 'pygments': <module 'pygments' from 'C:\\\\Users\\\\natal\\\\anaconda3\\\\lib\\\\site-packages\\\\pygments\\\\__init__.py'>, 'IPython.utils.colorable': <module 'IPython.utils.colorable' from 'C:\\\\Users\\\\natal\\\\anaconda3\\\\lib\\\\site-packages\\\\IPython\\\\utils\\\\colorable.py'>, 'IPython.utils.PyColorize': <module 'IPython.utils.PyColorize' from 'C:\\\\Users\\\\natal\\\\anaconda3\\\\lib\\\\site-packages\\\\IPython\\\\utils\\\\PyColorize.py'>, 'IPython.utils.encoding': <module 'IPython.utils.encoding' from 'C:\\\\Users\\\\natal\\\\anaconda3\\\\lib\\\\site-packages\\\\IPython\\\\utils\\\\encoding.py'>, 'IPython.utils.py3compat': <module 'IPython.utils.py3compat' from 'C:\\\\Users\\\\natal\\\\anaconda3\\\\lib\\\\site-packages\\\\IPython\\\\utils\\\\py3compat.py'>, 'IPython.core.excolors': <module 'IPython.core.excolors' from 'C:\\\\Users\\\\natal\\\\anaconda3\\\\lib\\\\site-packages\\\\IPython\\\\core\\\\excolors.py'>, 'IPython.testing': <module 'IPython.testing' from 'C:\\\\Users\\\\natal\\\\anaconda3\\\\lib\\\\site-packages\\\\IPython\\\\testing\\\\__init__.py'>, 'IPython.testing.skipdoctest': <module 'IPython.testing.skipdoctest' from 'C:\\\\Users\\\\natal\\\\anaconda3\\\\lib\\\\site-packages\\\\IPython\\\\testing\\\\skipdoctest.py'>, 'cmd': <module 'cmd' from 'C:\\\\Users\\\\natal\\\\anaconda3\\\\lib\\\\cmd.py'>, 'codeop': <module 'codeop' from 'C:\\\\Users\\\\natal\\\\anaconda3\\\\lib\\\\codeop.py'>, 'code': <module 'code' from 'C:\\\\Users\\\\natal\\\\anaconda3\\\\lib\\\\code.py'>, 'pdb': <module 'pdb' from 'C:\\\\Users\\\\natal\\\\anaconda3\\\\lib\\\\pdb.py'>, 'IPython.core.debugger': <module 'IPython.core.debugger' from 'C:\\\\Users\\\\natal\\\\anaconda3\\\\lib\\\\site-packages\\\\IPython\\\\core\\\\debugger.py'>, 'IPython.core.display_trap': <module 'IPython.core.display_trap' from 'C:\\\\Users\\\\natal\\\\anaconda3\\\\lib\\\\site-packages\\\\IPython\\\\core\\\\display_trap.py'>, '_ctypes': <module '_ctypes' from 'C:\\\\Users\\\\natal\\\\anaconda3\\\\DLLs\\\\_ctypes.pyd'>, '_struct': <module '_struct' (built-in)>, 'struct': <module 'struct' from 'C:\\\\Users\\\\natal\\\\anaconda3\\\\lib\\\\struct.py'>, 'ctypes._endian': <module 'ctypes._endian' from 'C:\\\\Users\\\\natal\\\\anaconda3\\\\lib\\\\ctypes\\\\_endian.py'>, 'ctypes': <module 'ctypes' from 'C:\\\\Users\\\\natal\\\\anaconda3\\\\lib\\\\ctypes\\\\__init__.py'>, 'ctypes.wintypes': <module 'ctypes.wintypes' from 'C:\\\\Users\\\\natal\\\\anaconda3\\\\lib\\\\ctypes\\\\wintypes.py'>, 'shlex': <module 'shlex' from 'C:\\\\Users\\\\natal\\\\anaconda3\\\\lib\\\\shlex.py'>, 'IPython.utils._process_common': <module 'IPython.utils._process_common' from 'C:\\\\Users\\\\natal\\\\anaconda3\\\\lib\\\\site-packages\\\\IPython\\\\utils\\\\_process_common.py'>, 'IPython.utils._process_win32': <module 'IPython.utils._process_win32' from 'C:\\\\Users\\\\natal\\\\anaconda3\\\\lib\\\\site-packages\\\\IPython\\\\utils\\\\_process_win32.py'>, 'IPython.utils.process': <module 'IPython.utils.process' from 'C:\\\\Users\\\\natal\\\\anaconda3\\\\lib\\\\site-packages\\\\IPython\\\\utils\\\\process.py'>, 'IPython.utils.decorators': <module 'IPython.utils.decorators' from 'C:\\\\Users\\\\natal\\\\anaconda3\\\\lib\\\\site-packages\\\\IPython\\\\utils\\\\decorators.py'>, 'IPython.utils.path': <module 'IPython.utils.path' from 'C:\\\\Users\\\\natal\\\\anaconda3\\\\lib\\\\site-packages\\\\IPython\\\\utils\\\\path.py'>, 'IPython.utils.data': <module 'IPython.utils.data' from 'C:\\\\Users\\\\natal\\\\anaconda3\\\\lib\\\\site-packages\\\\IPython\\\\utils\\\\data.py'>, 'IPython.utils.terminal': <module 'IPython.utils.terminal' from 'C:\\\\Users\\\\natal\\\\anaconda3\\\\lib\\\\site-packages\\\\IPython\\\\utils\\\\terminal.py'>, 'IPython.core.ultratb': <module 'IPython.core.ultratb' from 'C:\\\\Users\\\\natal\\\\anaconda3\\\\lib\\\\site-packages\\\\IPython\\\\core\\\\ultratb.py'>, 'IPython.utils._sysinfo': <module 'IPython.utils._sysinfo' from 'C:\\\\Users\\\\natal\\\\anaconda3\\\\lib\\\\site-packages\\\\IPython\\\\utils\\\\_sysinfo.py'>, 'IPython.utils.sysinfo': <module 'IPython.utils.sysinfo' from 'C:\\\\Users\\\\natal\\\\anaconda3\\\\lib\\\\site-packages\\\\IPython\\\\utils\\\\sysinfo.py'>, 'IPython.core.crashhandler': <module 'IPython.core.crashhandler' from 'C:\\\\Users\\\\natal\\\\anaconda3\\\\lib\\\\site-packages\\\\IPython\\\\core\\\\crashhandler.py'>, 'tempfile': <module 'tempfile' from 'C:\\\\Users\\\\natal\\\\anaconda3\\\\lib\\\\tempfile.py'>, 'IPython.utils.importstring': <module 'IPython.utils.importstring' from 'C:\\\\Users\\\\natal\\\\anaconda3\\\\lib\\\\site-packages\\\\IPython\\\\utils\\\\importstring.py'>, 'IPython.paths': <module 'IPython.paths' from 'C:\\\\Users\\\\natal\\\\anaconda3\\\\lib\\\\site-packages\\\\IPython\\\\paths.py'>, 'IPython.core.profiledir': <module 'IPython.core.profiledir' from 'C:\\\\Users\\\\natal\\\\anaconda3\\\\lib\\\\site-packages\\\\IPython\\\\core\\\\profiledir.py'>, 'IPython.core.application': <module 'IPython.core.application' from 'C:\\\\Users\\\\natal\\\\anaconda3\\\\lib\\\\site-packages\\\\IPython\\\\core\\\\application.py'>, 'IPython.terminal': <module 'IPython.terminal' from 'C:\\\\Users\\\\natal\\\\anaconda3\\\\lib\\\\site-packages\\\\IPython\\\\terminal\\\\__init__.py'>, '_hashlib': <module '_hashlib' from 'C:\\\\Users\\\\natal\\\\anaconda3\\\\DLLs\\\\_hashlib.pyd'>, '_blake2': <module '_blake2' (built-in)>, '_sha3': <module '_sha3' (built-in)>, 'hashlib': <module 'hashlib' from 'C:\\\\Users\\\\natal\\\\anaconda3\\\\lib\\\\hashlib.py'>, 'IPython.core.compilerop': <module 'IPython.core.compilerop' from 'C:\\\\Users\\\\natal\\\\anaconda3\\\\lib\\\\site-packages\\\\IPython\\\\core\\\\compilerop.py'>, 'IPython.core.error': <module 'IPython.core.error' from 'C:\\\\Users\\\\natal\\\\anaconda3\\\\lib\\\\site-packages\\\\IPython\\\\core\\\\error.py'>, 'pathlib': <module 'pathlib' from 'C:\\\\Users\\\\natal\\\\anaconda3\\\\lib\\\\pathlib.py'>, 'IPython.utils.text': <module 'IPython.utils.text' from 'C:\\\\Users\\\\natal\\\\anaconda3\\\\lib\\\\site-packages\\\\IPython\\\\utils\\\\text.py'>, 'IPython.core.magic_arguments': <module 'IPython.core.magic_arguments' from 'C:\\\\Users\\\\natal\\\\anaconda3\\\\lib\\\\site-packages\\\\IPython\\\\core\\\\magic_arguments.py'>, 'getopt': <module 'getopt' from 'C:\\\\Users\\\\natal\\\\anaconda3\\\\lib\\\\getopt.py'>, 'typing.io': <class 'typing.io'>, 'typing.re': <class 'typing.re'>, 'typing': <module 'typing' from 'C:\\\\Users\\\\natal\\\\anaconda3\\\\lib\\\\typing.py'>, 'binascii': <module 'binascii' (built-in)>, 'mimetypes': <module 'mimetypes' from 'C:\\\\Users\\\\natal\\\\anaconda3\\\\lib\\\\mimetypes.py'>, 'IPython.core.display': <module 'IPython.core.display' from 'C:\\\\Users\\\\natal\\\\anaconda3\\\\lib\\\\site-packages\\\\IPython\\\\core\\\\display.py'>, 'IPython.core.page': <module 'IPython.core.page' from 'C:\\\\Users\\\\natal\\\\anaconda3\\\\lib\\\\site-packages\\\\IPython\\\\core\\\\page.py'>, 'getpass': <module 'getpass' from 'C:\\\\Users\\\\natal\\\\anaconda3\\\\lib\\\\getpass.py'>, 'IPython.lib.security': <module 'IPython.lib.security' from 'C:\\\\Users\\\\natal\\\\anaconda3\\\\lib\\\\site-packages\\\\IPython\\\\lib\\\\security.py'>, 'IPython.lib': <module 'IPython.lib' from 'C:\\\\Users\\\\natal\\\\anaconda3\\\\lib\\\\site-packages\\\\IPython\\\\lib\\\\__init__.py'>, '_datetime': <module '_datetime' (built-in)>, 'datetime': <module 'datetime' from 'C:\\\\Users\\\\natal\\\\anaconda3\\\\lib\\\\datetime.py'>, 'IPython.lib.pretty': <module 'IPython.lib.pretty' from 'C:\\\\Users\\\\natal\\\\anaconda3\\\\lib\\\\site-packages\\\\IPython\\\\lib\\\\pretty.py'>, 'IPython.utils.openpy': <module 'IPython.utils.openpy' from 'C:\\\\Users\\\\natal\\\\anaconda3\\\\lib\\\\site-packages\\\\IPython\\\\utils\\\\openpy.py'>, 'IPython.utils.dir2': <module 'IPython.utils.dir2' from 'C:\\\\Users\\\\natal\\\\anaconda3\\\\lib\\\\site-packages\\\\IPython\\\\utils\\\\dir2.py'>, 'IPython.utils.wildcard': <module 'IPython.utils.wildcard' from 'C:\\\\Users\\\\natal\\\\anaconda3\\\\lib\\\\site-packages\\\\IPython\\\\utils\\\\wildcard.py'>, 'pygments.lexers._mapping': <module 'pygments.lexers._mapping' from 'C:\\\\Users\\\\natal\\\\anaconda3\\\\lib\\\\site-packages\\\\pygments\\\\lexers\\\\_mapping.py'>, 'pygments.modeline': <module 'pygments.modeline' from 'C:\\\\Users\\\\natal\\\\anaconda3\\\\lib\\\\site-packages\\\\pygments\\\\modeline.py'>, 'pygments.plugin': <module 'pygments.plugin' from 'C:\\\\Users\\\\natal\\\\anaconda3\\\\lib\\\\site-packages\\\\pygments\\\\plugin.py'>, 'pygments.util': <module 'pygments.util' from 'C:\\\\Users\\\\natal\\\\anaconda3\\\\lib\\\\site-packages\\\\pygments\\\\util.py'>, 'pygments.lexers': <module 'pygments.lexers' from 'C:\\\\Users\\\\natal\\\\anaconda3\\\\lib\\\\site-packages\\\\pygments\\\\lexers\\\\__init__.py'>, 'pygments.filter': <module 'pygments.filter' from 'C:\\\\Users\\\\natal\\\\anaconda3\\\\lib\\\\site-packages\\\\pygments\\\\filter.py'>, 'pygments.token': <module 'pygments.token' from 'C:\\\\Users\\\\natal\\\\anaconda3\\\\lib\\\\site-packages\\\\pygments\\\\token.py'>, 'pygments.filters': <module 'pygments.filters' from 'C:\\\\Users\\\\natal\\\\anaconda3\\\\lib\\\\site-packages\\\\pygments\\\\filters\\\\__init__.py'>, 'pygments.regexopt': <module 'pygments.regexopt' from 'C:\\\\Users\\\\natal\\\\anaconda3\\\\lib\\\\site-packages\\\\pygments\\\\regexopt.py'>, 'pygments.lexer': <module 'pygments.lexer' from 'C:\\\\Users\\\\natal\\\\anaconda3\\\\lib\\\\site-packages\\\\pygments\\\\lexer.py'>, 'pygments.unistring': <module 'pygments.unistring' from 'C:\\\\Users\\\\natal\\\\anaconda3\\\\lib\\\\site-packages\\\\pygments\\\\unistring.py'>, 'pygments.lexers.python': <module 'pygments.lexers.python' from 'C:\\\\Users\\\\natal\\\\anaconda3\\\\lib\\\\site-packages\\\\pygments\\\\lexers\\\\python.py'>, 'pygments.formatters._mapping': <module 'pygments.formatters._mapping' from 'C:\\\\Users\\\\natal\\\\anaconda3\\\\lib\\\\site-packages\\\\pygments\\\\formatters\\\\_mapping.py'>, 'pygments.formatters': <module 'pygments.formatters' from 'C:\\\\Users\\\\natal\\\\anaconda3\\\\lib\\\\site-packages\\\\pygments\\\\formatters\\\\__init__.py'>, 'pygments.styles': <module 'pygments.styles' from 'C:\\\\Users\\\\natal\\\\anaconda3\\\\lib\\\\site-packages\\\\pygments\\\\styles\\\\__init__.py'>, 'pygments.formatter': <module 'pygments.formatter' from 'C:\\\\Users\\\\natal\\\\anaconda3\\\\lib\\\\site-packages\\\\pygments\\\\formatter.py'>, 'pygments.formatters.html': <module 'pygments.formatters.html' from 'C:\\\\Users\\\\natal\\\\anaconda3\\\\lib\\\\site-packages\\\\pygments\\\\formatters\\\\html.py'>, 'IPython.core.oinspect': <module 'IPython.core.oinspect' from 'C:\\\\Users\\\\natal\\\\anaconda3\\\\lib\\\\site-packages\\\\IPython\\\\core\\\\oinspect.py'>, 'IPython.core.inputtransformer2': <module 'IPython.core.inputtransformer2' from 'C:\\\\Users\\\\natal\\\\anaconda3\\\\lib\\\\site-packages\\\\IPython\\\\core\\\\inputtransformer2.py'>, 'decorator': <module 'decorator' from 'C:\\\\Users\\\\natal\\\\anaconda3\\\\lib\\\\site-packages\\\\decorator.py'>, 'IPython.core.magic': <module 'IPython.core.magic' from 'C:\\\\Users\\\\natal\\\\anaconda3\\\\lib\\\\site-packages\\\\IPython\\\\core\\\\magic.py'>, '_compat_pickle': <module '_compat_pickle' from 'C:\\\\Users\\\\natal\\\\anaconda3\\\\lib\\\\_compat_pickle.py'>, '_pickle': <module '_pickle' (built-in)>, 'pickle': <module 'pickle' from 'C:\\\\Users\\\\natal\\\\anaconda3\\\\lib\\\\pickle.py'>, 'pickleshare': <module 'pickleshare' from 'C:\\\\Users\\\\natal\\\\anaconda3\\\\lib\\\\site-packages\\\\pickleshare.py'>, 'IPython.core.autocall': <module 'IPython.core.autocall' from 'C:\\\\Users\\\\natal\\\\anaconda3\\\\lib\\\\site-packages\\\\IPython\\\\core\\\\autocall.py'>, 'IPython.core.macro': <module 'IPython.core.macro' from 'C:\\\\Users\\\\natal\\\\anaconda3\\\\lib\\\\site-packages\\\\IPython\\\\core\\\\macro.py'>, 'IPython.core.splitinput': <module 'IPython.core.splitinput' from 'C:\\\\Users\\\\natal\\\\anaconda3\\\\lib\\\\site-packages\\\\IPython\\\\core\\\\splitinput.py'>, 'IPython.core.prefilter': <module 'IPython.core.prefilter' from 'C:\\\\Users\\\\natal\\\\anaconda3\\\\lib\\\\site-packages\\\\IPython\\\\core\\\\prefilter.py'>, 'IPython.core.alias': <module 'IPython.core.alias' from 'C:\\\\Users\\\\natal\\\\anaconda3\\\\lib\\\\site-packages\\\\IPython\\\\core\\\\alias.py'>, 'IPython.core.builtin_trap': <module 'IPython.core.builtin_trap' from 'C:\\\\Users\\\\natal\\\\anaconda3\\\\lib\\\\site-packages\\\\IPython\\\\core\\\\builtin_trap.py'>, 'backcall.backcall': <module 'backcall.backcall' from 'C:\\\\Users\\\\natal\\\\anaconda3\\\\lib\\\\site-packages\\\\backcall\\\\backcall.py'>, 'backcall': <module 'backcall' from 'C:\\\\Users\\\\natal\\\\anaconda3\\\\lib\\\\site-packages\\\\backcall\\\\__init__.py'>, 'IPython.core.events': <module 'IPython.core.events' from 'C:\\\\Users\\\\natal\\\\anaconda3\\\\lib\\\\site-packages\\\\IPython\\\\core\\\\events.py'>, 'IPython.core.displayhook': <module 'IPython.core.displayhook' from 'C:\\\\Users\\\\natal\\\\anaconda3\\\\lib\\\\site-packages\\\\IPython\\\\core\\\\displayhook.py'>, 'IPython.core.displaypub': <module 'IPython.core.displaypub' from 'C:\\\\Users\\\\natal\\\\anaconda3\\\\lib\\\\site-packages\\\\IPython\\\\core\\\\displaypub.py'>, 'IPython.core.extensions': <module 'IPython.core.extensions' from 'C:\\\\Users\\\\natal\\\\anaconda3\\\\lib\\\\site-packages\\\\IPython\\\\core\\\\extensions.py'>, 'IPython.utils.sentinel': <module 'IPython.utils.sentinel' from 'C:\\\\Users\\\\natal\\\\anaconda3\\\\lib\\\\site-packages\\\\IPython\\\\utils\\\\sentinel.py'>, 'IPython.core.formatters': <module 'IPython.core.formatters' from 'C:\\\\Users\\\\natal\\\\anaconda3\\\\lib\\\\site-packages\\\\IPython\\\\core\\\\formatters.py'>, '_sqlite3': <module '_sqlite3' from 'C:\\\\Users\\\\natal\\\\anaconda3\\\\DLLs\\\\_sqlite3.pyd'>, 'sqlite3.dbapi2': <module 'sqlite3.dbapi2' from 'C:\\\\Users\\\\natal\\\\anaconda3\\\\lib\\\\sqlite3\\\\dbapi2.py'>, 'sqlite3': <module 'sqlite3' from 'C:\\\\Users\\\\natal\\\\anaconda3\\\\lib\\\\sqlite3\\\\__init__.py'>, 'IPython.core.history': <module 'IPython.core.history' from 'C:\\\\Users\\\\natal\\\\anaconda3\\\\lib\\\\site-packages\\\\IPython\\\\core\\\\history.py'>, 'IPython.core.logger': <module 'IPython.core.logger' from 'C:\\\\Users\\\\natal\\\\anaconda3\\\\lib\\\\site-packages\\\\IPython\\\\core\\\\logger.py'>, 'IPython.core.payload': <module 'IPython.core.payload' from 'C:\\\\Users\\\\natal\\\\anaconda3\\\\lib\\\\site-packages\\\\IPython\\\\core\\\\payload.py'>, 'IPython.core.usage': <module 'IPython.core.usage' from 'C:\\\\Users\\\\natal\\\\anaconda3\\\\lib\\\\site-packages\\\\IPython\\\\core\\\\usage.py'>, 'html.entities': <module 'html.entities' from 'C:\\\\Users\\\\natal\\\\anaconda3\\\\lib\\\\html\\\\entities.py'>, 'html': <module 'html' from 'C:\\\\Users\\\\natal\\\\anaconda3\\\\lib\\\\html\\\\__init__.py'>, 'IPython.lib.display': <module 'IPython.lib.display' from 'C:\\\\Users\\\\natal\\\\anaconda3\\\\lib\\\\site-packages\\\\IPython\\\\lib\\\\display.py'>, 'IPython.display': <module 'IPython.display' from 'C:\\\\Users\\\\natal\\\\anaconda3\\\\lib\\\\site-packages\\\\IPython\\\\display.py'>, 'IPython.utils.capture': <module 'IPython.utils.capture' from 'C:\\\\Users\\\\natal\\\\anaconda3\\\\lib\\\\site-packages\\\\IPython\\\\utils\\\\capture.py'>, 'IPython.utils.io': <module 'IPython.utils.io' from 'C:\\\\Users\\\\natal\\\\anaconda3\\\\lib\\\\site-packages\\\\IPython\\\\utils\\\\io.py'>, 'IPython.core.hooks': <module 'IPython.core.hooks' from 'C:\\\\Users\\\\natal\\\\anaconda3\\\\lib\\\\site-packages\\\\IPython\\\\core\\\\hooks.py'>, 'IPython.utils.strdispatch': <module 'IPython.utils.strdispatch' from 'C:\\\\Users\\\\natal\\\\anaconda3\\\\lib\\\\site-packages\\\\IPython\\\\utils\\\\strdispatch.py'>, 'IPython.utils.syspathcontext': <module 'IPython.utils.syspathcontext' from 'C:\\\\Users\\\\natal\\\\anaconda3\\\\lib\\\\site-packages\\\\IPython\\\\utils\\\\syspathcontext.py'>, 'IPython.utils.tempdir': <module 'IPython.utils.tempdir' from 'C:\\\\Users\\\\natal\\\\anaconda3\\\\lib\\\\site-packages\\\\IPython\\\\utils\\\\tempdir.py'>, 'IPython.utils.contexts': <module 'IPython.utils.contexts' from 'C:\\\\Users\\\\natal\\\\anaconda3\\\\lib\\\\site-packages\\\\IPython\\\\utils\\\\contexts.py'>, 'IPython.core.async_helpers': <module 'IPython.core.async_helpers' from 'C:\\\\Users\\\\natal\\\\anaconda3\\\\lib\\\\site-packages\\\\IPython\\\\core\\\\async_helpers.py'>, 'IPython.core.interactiveshell': <module 'IPython.core.interactiveshell' from 'C:\\\\Users\\\\natal\\\\anaconda3\\\\lib\\\\site-packages\\\\IPython\\\\core\\\\interactiveshell.py'>, 'concurrent': <module 'concurrent' from 'C:\\\\Users\\\\natal\\\\anaconda3\\\\lib\\\\concurrent\\\\__init__.py'>, 'concurrent.futures._base': <module 'concurrent.futures._base' from 'C:\\\\Users\\\\natal\\\\anaconda3\\\\lib\\\\concurrent\\\\futures\\\\_base.py'>, 'concurrent.futures': <module 'concurrent.futures' from 'C:\\\\Users\\\\natal\\\\anaconda3\\\\lib\\\\concurrent\\\\futures\\\\__init__.py'>, '_socket': <module '_socket' from 'C:\\\\Users\\\\natal\\\\anaconda3\\\\DLLs\\\\_socket.pyd'>, 'select': <module 'select' from 'C:\\\\Users\\\\natal\\\\anaconda3\\\\DLLs\\\\select.pyd'>, 'selectors': <module 'selectors' from 'C:\\\\Users\\\\natal\\\\anaconda3\\\\lib\\\\selectors.py'>, 'socket': <module 'socket' from 'C:\\\\Users\\\\natal\\\\anaconda3\\\\lib\\\\socket.py'>, '_ssl': <module '_ssl' from 'C:\\\\Users\\\\natal\\\\anaconda3\\\\DLLs\\\\_ssl.pyd'>, 'base64': <module 'base64' from 'C:\\\\Users\\\\natal\\\\anaconda3\\\\lib\\\\base64.py'>, 'ssl': <module 'ssl' from 'C:\\\\Users\\\\natal\\\\anaconda3\\\\lib\\\\ssl.py'>, 'asyncio.constants': <module 'asyncio.constants' from 'C:\\\\Users\\\\natal\\\\anaconda3\\\\lib\\\\asyncio\\\\constants.py'>, 'asyncio.format_helpers': <module 'asyncio.format_helpers' from 'C:\\\\Users\\\\natal\\\\anaconda3\\\\lib\\\\asyncio\\\\format_helpers.py'>, 'asyncio.base_futures': <module 'asyncio.base_futures' from 'C:\\\\Users\\\\natal\\\\anaconda3\\\\lib\\\\asyncio\\\\base_futures.py'>, 'asyncio.log': <module 'asyncio.log' from 'C:\\\\Users\\\\natal\\\\anaconda3\\\\lib\\\\asyncio\\\\log.py'>, 'asyncio.coroutines': <module 'asyncio.coroutines' from 'C:\\\\Users\\\\natal\\\\anaconda3\\\\lib\\\\asyncio\\\\coroutines.py'>, '_contextvars': <module '_contextvars' (built-in)>, 'contextvars': <module 'contextvars' from 'C:\\\\Users\\\\natal\\\\anaconda3\\\\lib\\\\contextvars.py'>, 'asyncio.exceptions': <module 'asyncio.exceptions' from 'C:\\\\Users\\\\natal\\\\anaconda3\\\\lib\\\\asyncio\\\\exceptions.py'>, 'asyncio.base_tasks': <module 'asyncio.base_tasks' from 'C:\\\\Users\\\\natal\\\\anaconda3\\\\lib\\\\asyncio\\\\base_tasks.py'>, '_asyncio': <module '_asyncio' from 'C:\\\\Users\\\\natal\\\\anaconda3\\\\DLLs\\\\_asyncio.pyd'>, 'asyncio.events': <module 'asyncio.events' from 'C:\\\\Users\\\\natal\\\\anaconda3\\\\lib\\\\asyncio\\\\events.py'>, 'asyncio.futures': <module 'asyncio.futures' from 'C:\\\\Users\\\\natal\\\\anaconda3\\\\lib\\\\asyncio\\\\futures.py'>, 'asyncio.protocols': <module 'asyncio.protocols' from 'C:\\\\Users\\\\natal\\\\anaconda3\\\\lib\\\\asyncio\\\\protocols.py'>, 'asyncio.transports': <module 'asyncio.transports' from 'C:\\\\Users\\\\natal\\\\anaconda3\\\\lib\\\\asyncio\\\\transports.py'>, 'asyncio.sslproto': <module 'asyncio.sslproto' from 'C:\\\\Users\\\\natal\\\\anaconda3\\\\lib\\\\asyncio\\\\sslproto.py'>, 'asyncio.locks': <module 'asyncio.locks' from 'C:\\\\Users\\\\natal\\\\anaconda3\\\\lib\\\\asyncio\\\\locks.py'>, 'asyncio.tasks': <module 'asyncio.tasks' from 'C:\\\\Users\\\\natal\\\\anaconda3\\\\lib\\\\asyncio\\\\tasks.py'>, 'asyncio.staggered': <module 'asyncio.staggered' from 'C:\\\\Users\\\\natal\\\\anaconda3\\\\lib\\\\asyncio\\\\staggered.py'>, 'asyncio.trsock': <module 'asyncio.trsock' from 'C:\\\\Users\\\\natal\\\\anaconda3\\\\lib\\\\asyncio\\\\trsock.py'>, 'asyncio.base_events': <module 'asyncio.base_events' from 'C:\\\\Users\\\\natal\\\\anaconda3\\\\lib\\\\asyncio\\\\base_events.py'>, 'asyncio.runners': <module 'asyncio.runners' from 'C:\\\\Users\\\\natal\\\\anaconda3\\\\lib\\\\asyncio\\\\runners.py'>, 'asyncio.queues': <module 'asyncio.queues' from 'C:\\\\Users\\\\natal\\\\anaconda3\\\\lib\\\\asyncio\\\\queues.py'>, 'asyncio.streams': <module 'asyncio.streams' from 'C:\\\\Users\\\\natal\\\\anaconda3\\\\lib\\\\asyncio\\\\streams.py'>, 'asyncio.subprocess': <module 'asyncio.subprocess' from 'C:\\\\Users\\\\natal\\\\anaconda3\\\\lib\\\\asyncio\\\\subprocess.py'>, '_overlapped': <module '_overlapped' from 'C:\\\\Users\\\\natal\\\\anaconda3\\\\DLLs\\\\_overlapped.pyd'>, 'asyncio.base_subprocess': <module 'asyncio.base_subprocess' from 'C:\\\\Users\\\\natal\\\\anaconda3\\\\lib\\\\asyncio\\\\base_subprocess.py'>, 'asyncio.proactor_events': <module 'asyncio.proactor_events' from 'C:\\\\Users\\\\natal\\\\anaconda3\\\\lib\\\\asyncio\\\\proactor_events.py'>, 'asyncio.selector_events': <module 'asyncio.selector_events' from 'C:\\\\Users\\\\natal\\\\anaconda3\\\\lib\\\\asyncio\\\\selector_events.py'>, 'asyncio.windows_utils': <module 'asyncio.windows_utils' from 'C:\\\\Users\\\\natal\\\\anaconda3\\\\lib\\\\asyncio\\\\windows_utils.py'>, 'asyncio.windows_events': <module 'asyncio.windows_events' from 'C:\\\\Users\\\\natal\\\\anaconda3\\\\lib\\\\asyncio\\\\windows_events.py'>, 'asyncio': <module 'asyncio' from 'C:\\\\Users\\\\natal\\\\anaconda3\\\\lib\\\\asyncio\\\\__init__.py'>, 'prompt_toolkit.application.current': <module 'prompt_toolkit.application.current' from 'C:\\\\Users\\\\natal\\\\anaconda3\\\\lib\\\\site-packages\\\\prompt_toolkit\\\\application\\\\current.py'>, 'prompt_toolkit.eventloop.utils': <module 'prompt_toolkit.eventloop.utils' from 'C:\\\\Users\\\\natal\\\\anaconda3\\\\lib\\\\site-packages\\\\prompt_toolkit\\\\eventloop\\\\utils.py'>, 'prompt_toolkit.eventloop.async_generator': <module 'prompt_toolkit.eventloop.async_generator' from 'C:\\\\Users\\\\natal\\\\anaconda3\\\\lib\\\\site-packages\\\\prompt_toolkit\\\\eventloop\\\\async_generator.py'>, 'wcwidth.table_wide': <module 'wcwidth.table_wide' from 'C:\\\\Users\\\\natal\\\\anaconda3\\\\lib\\\\site-packages\\\\wcwidth\\\\table_wide.py'>, 'wcwidth.table_zero': <module 'wcwidth.table_zero' from 'C:\\\\Users\\\\natal\\\\anaconda3\\\\lib\\\\site-packages\\\\wcwidth\\\\table_zero.py'>, 'wcwidth.unicode_versions': <module 'wcwidth.unicode_versions' from 'C:\\\\Users\\\\natal\\\\anaconda3\\\\lib\\\\site-packages\\\\wcwidth\\\\unicode_versions.py'>, 'wcwidth.wcwidth': <module 'wcwidth.wcwidth' from 'C:\\\\Users\\\\natal\\\\anaconda3\\\\lib\\\\site-packages\\\\wcwidth\\\\wcwidth.py'>, 'wcwidth': <module 'wcwidth' from 'C:\\\\Users\\\\natal\\\\anaconda3\\\\lib\\\\site-packages\\\\wcwidth\\\\__init__.py'>, 'prompt_toolkit.utils': <module 'prompt_toolkit.utils' from 'C:\\\\Users\\\\natal\\\\anaconda3\\\\lib\\\\site-packages\\\\prompt_toolkit\\\\utils.py'>, 'prompt_toolkit.eventloop.inputhook': <module 'prompt_toolkit.eventloop.inputhook' from 'C:\\\\Users\\\\natal\\\\anaconda3\\\\lib\\\\site-packages\\\\prompt_toolkit\\\\eventloop\\\\inputhook.py'>, 'prompt_toolkit.eventloop': <module 'prompt_toolkit.eventloop' from 'C:\\\\Users\\\\natal\\\\anaconda3\\\\lib\\\\site-packages\\\\prompt_toolkit\\\\eventloop\\\\__init__.py'>, 'prompt_toolkit.application.run_in_terminal': <module 'prompt_toolkit.application.run_in_terminal' from 'C:\\\\Users\\\\natal\\\\anaconda3\\\\lib\\\\site-packages\\\\prompt_toolkit\\\\application\\\\run_in_terminal.py'>, 'prompt_toolkit.selection': <module 'prompt_toolkit.selection' from 'C:\\\\Users\\\\natal\\\\anaconda3\\\\lib\\\\site-packages\\\\prompt_toolkit\\\\selection.py'>, 'prompt_toolkit.clipboard.base': <module 'prompt_toolkit.clipboard.base' from 'C:\\\\Users\\\\natal\\\\anaconda3\\\\lib\\\\site-packages\\\\prompt_toolkit\\\\clipboard\\\\base.py'>, 'prompt_toolkit.clipboard.in_memory': <module 'prompt_toolkit.clipboard.in_memory' from 'C:\\\\Users\\\\natal\\\\anaconda3\\\\lib\\\\site-packages\\\\prompt_toolkit\\\\clipboard\\\\in_memory.py'>, 'prompt_toolkit.clipboard': <module 'prompt_toolkit.clipboard' from 'C:\\\\Users\\\\natal\\\\anaconda3\\\\lib\\\\site-packages\\\\prompt_toolkit\\\\clipboard\\\\__init__.py'>, 'prompt_toolkit.cache': <module 'prompt_toolkit.cache' from 'C:\\\\Users\\\\natal\\\\anaconda3\\\\lib\\\\site-packages\\\\prompt_toolkit\\\\cache.py'>, 'prompt_toolkit.enums': <module 'prompt_toolkit.enums' from 'C:\\\\Users\\\\natal\\\\anaconda3\\\\lib\\\\site-packages\\\\prompt_toolkit\\\\enums.py'>, 'prompt_toolkit.filters.base': <module 'prompt_toolkit.filters.base' from 'C:\\\\Users\\\\natal\\\\anaconda3\\\\lib\\\\site-packages\\\\prompt_toolkit\\\\filters\\\\base.py'>, 'prompt_toolkit.filters.app': <module 'prompt_toolkit.filters.app' from 'C:\\\\Users\\\\natal\\\\anaconda3\\\\lib\\\\site-packages\\\\prompt_toolkit\\\\filters\\\\app.py'>, 'prompt_toolkit.filters.cli': <module 'prompt_toolkit.filters.cli' from 'C:\\\\Users\\\\natal\\\\anaconda3\\\\lib\\\\site-packages\\\\prompt_toolkit\\\\filters\\\\cli.py'>, 'prompt_toolkit.filters.utils': <module 'prompt_toolkit.filters.utils' from 'C:\\\\Users\\\\natal\\\\anaconda3\\\\lib\\\\site-packages\\\\prompt_toolkit\\\\filters\\\\utils.py'>, 'prompt_toolkit.filters': <module 'prompt_toolkit.filters' from 'C:\\\\Users\\\\natal\\\\anaconda3\\\\lib\\\\site-packages\\\\prompt_toolkit\\\\filters\\\\__init__.py'>, 'prompt_toolkit.document': <module 'prompt_toolkit.document' from 'C:\\\\Users\\\\natal\\\\anaconda3\\\\lib\\\\site-packages\\\\prompt_toolkit\\\\document.py'>, 'prompt_toolkit.auto_suggest': <module 'prompt_toolkit.auto_suggest' from 'C:\\\\Users\\\\natal\\\\anaconda3\\\\lib\\\\site-packages\\\\prompt_toolkit\\\\auto_suggest.py'>, 'prompt_toolkit.data_structures': <module 'prompt_toolkit.data_structures' from 'C:\\\\Users\\\\natal\\\\anaconda3\\\\lib\\\\site-packages\\\\prompt_toolkit\\\\data_structures.py'>, 'prompt_toolkit.styles.base': <module 'prompt_toolkit.styles.base' from 'C:\\\\Users\\\\natal\\\\anaconda3\\\\lib\\\\site-packages\\\\prompt_toolkit\\\\styles\\\\base.py'>, 'prompt_toolkit.styles.named_colors': <module 'prompt_toolkit.styles.named_colors' from 'C:\\\\Users\\\\natal\\\\anaconda3\\\\lib\\\\site-packages\\\\prompt_toolkit\\\\styles\\\\named_colors.py'>, 'prompt_toolkit.styles.style': <module 'prompt_toolkit.styles.style' from 'C:\\\\Users\\\\natal\\\\anaconda3\\\\lib\\\\site-packages\\\\prompt_toolkit\\\\styles\\\\style.py'>, 'prompt_toolkit.styles.defaults': <module 'prompt_toolkit.styles.defaults' from 'C:\\\\Users\\\\natal\\\\anaconda3\\\\lib\\\\site-packages\\\\prompt_toolkit\\\\styles\\\\defaults.py'>, 'prompt_toolkit.styles.pygments': <module 'prompt_toolkit.styles.pygments' from 'C:\\\\Users\\\\natal\\\\anaconda3\\\\lib\\\\site-packages\\\\prompt_toolkit\\\\styles\\\\pygments.py'>, 'colorsys': <module 'colorsys' from 'C:\\\\Users\\\\natal\\\\anaconda3\\\\lib\\\\colorsys.py'>, 'prompt_toolkit.styles.style_transformation': <module 'prompt_toolkit.styles.style_transformation' from 'C:\\\\Users\\\\natal\\\\anaconda3\\\\lib\\\\site-packages\\\\prompt_toolkit\\\\styles\\\\style_transformation.py'>, 'prompt_toolkit.styles': <module 'prompt_toolkit.styles' from 'C:\\\\Users\\\\natal\\\\anaconda3\\\\lib\\\\site-packages\\\\prompt_toolkit\\\\styles\\\\__init__.py'>, 'prompt_toolkit.output.color_depth': <module 'prompt_toolkit.output.color_depth' from 'C:\\\\Users\\\\natal\\\\anaconda3\\\\lib\\\\site-packages\\\\prompt_toolkit\\\\output\\\\color_depth.py'>, 'prompt_toolkit.output.base': <module 'prompt_toolkit.output.base' from 'C:\\\\Users\\\\natal\\\\anaconda3\\\\lib\\\\site-packages\\\\prompt_toolkit\\\\output\\\\base.py'>, 'prompt_toolkit.output.defaults': <module 'prompt_toolkit.output.defaults' from 'C:\\\\Users\\\\natal\\\\anaconda3\\\\lib\\\\site-packages\\\\prompt_toolkit\\\\output\\\\defaults.py'>, 'prompt_toolkit.output': <module 'prompt_toolkit.output' from 'C:\\\\Users\\\\natal\\\\anaconda3\\\\lib\\\\site-packages\\\\prompt_toolkit\\\\output\\\\__init__.py'>, 'array': <module 'array' (built-in)>, 'prompt_toolkit.output.vt100': <module 'prompt_toolkit.output.vt100' from 'C:\\\\Users\\\\natal\\\\anaconda3\\\\lib\\\\site-packages\\\\prompt_toolkit\\\\output\\\\vt100.py'>, 'prompt_toolkit.mouse_events': <module 'prompt_toolkit.mouse_events' from 'C:\\\\Users\\\\natal\\\\anaconda3\\\\lib\\\\site-packages\\\\prompt_toolkit\\\\mouse_events.py'>, 'prompt_toolkit.formatted_text.base': <module 'prompt_toolkit.formatted_text.base' from 'C:\\\\Users\\\\natal\\\\anaconda3\\\\lib\\\\site-packages\\\\prompt_toolkit\\\\formatted_text\\\\base.py'>, 'prompt_toolkit.formatted_text.ansi': <module 'prompt_toolkit.formatted_text.ansi' from 'C:\\\\Users\\\\natal\\\\anaconda3\\\\lib\\\\site-packages\\\\prompt_toolkit\\\\formatted_text\\\\ansi.py'>, 'xml': <module 'xml' from 'C:\\\\Users\\\\natal\\\\anaconda3\\\\lib\\\\xml\\\\__init__.py'>, 'xml.dom.domreg': <module 'xml.dom.domreg' from 'C:\\\\Users\\\\natal\\\\anaconda3\\\\lib\\\\xml\\\\dom\\\\domreg.py'>, 'xml.dom': <module 'xml.dom' from 'C:\\\\Users\\\\natal\\\\anaconda3\\\\lib\\\\xml\\\\dom\\\\__init__.py'>, 'xml.dom.minicompat': <module 'xml.dom.minicompat' from 'C:\\\\Users\\\\natal\\\\anaconda3\\\\lib\\\\xml\\\\dom\\\\minicompat.py'>, 'xml.dom.NodeFilter': <module 'xml.dom.NodeFilter' from 'C:\\\\Users\\\\natal\\\\anaconda3\\\\lib\\\\xml\\\\dom\\\\NodeFilter.py'>, 'xml.dom.xmlbuilder': <module 'xml.dom.xmlbuilder' from 'C:\\\\Users\\\\natal\\\\anaconda3\\\\lib\\\\xml\\\\dom\\\\xmlbuilder.py'>, 'xml.dom.minidom': <module 'xml.dom.minidom' from 'C:\\\\Users\\\\natal\\\\anaconda3\\\\lib\\\\xml\\\\dom\\\\minidom.py'>, 'prompt_toolkit.formatted_text.html': <module 'prompt_toolkit.formatted_text.html' from 'C:\\\\Users\\\\natal\\\\anaconda3\\\\lib\\\\site-packages\\\\prompt_toolkit\\\\formatted_text\\\\html.py'>, 'prompt_toolkit.formatted_text.pygments': <module 'prompt_toolkit.formatted_text.pygments' from 'C:\\\\Users\\\\natal\\\\anaconda3\\\\lib\\\\site-packages\\\\prompt_toolkit\\\\formatted_text\\\\pygments.py'>, 'prompt_toolkit.formatted_text.utils': <module 'prompt_toolkit.formatted_text.utils' from 'C:\\\\Users\\\\natal\\\\anaconda3\\\\lib\\\\site-packages\\\\prompt_toolkit\\\\formatted_text\\\\utils.py'>, 'prompt_toolkit.formatted_text': <module 'prompt_toolkit.formatted_text' from 'C:\\\\Users\\\\natal\\\\anaconda3\\\\lib\\\\site-packages\\\\prompt_toolkit\\\\formatted_text\\\\__init__.py'>, 'prompt_toolkit.completion.base': <module 'prompt_toolkit.completion.base' from 'C:\\\\Users\\\\natal\\\\anaconda3\\\\lib\\\\site-packages\\\\prompt_toolkit\\\\completion\\\\base.py'>, 'prompt_toolkit.completion.deduplicate': <module 'prompt_toolkit.completion.deduplicate' from 'C:\\\\Users\\\\natal\\\\anaconda3\\\\lib\\\\site-packages\\\\prompt_toolkit\\\\completion\\\\deduplicate.py'>, 'prompt_toolkit.completion.filesystem': <module 'prompt_toolkit.completion.filesystem' from 'C:\\\\Users\\\\natal\\\\anaconda3\\\\lib\\\\site-packages\\\\prompt_toolkit\\\\completion\\\\filesystem.py'>, 'prompt_toolkit.completion.word_completer': <module 'prompt_toolkit.completion.word_completer' from 'C:\\\\Users\\\\natal\\\\anaconda3\\\\lib\\\\site-packages\\\\prompt_toolkit\\\\completion\\\\word_completer.py'>, 'prompt_toolkit.completion.fuzzy_completer': <module 'prompt_toolkit.completion.fuzzy_completer' from 'C:\\\\Users\\\\natal\\\\anaconda3\\\\lib\\\\site-packages\\\\prompt_toolkit\\\\completion\\\\fuzzy_completer.py'>, 'prompt_toolkit.completion.nested': <module 'prompt_toolkit.completion.nested' from 'C:\\\\Users\\\\natal\\\\anaconda3\\\\lib\\\\site-packages\\\\prompt_toolkit\\\\completion\\\\nested.py'>, 'prompt_toolkit.completion': <module 'prompt_toolkit.completion' from 'C:\\\\Users\\\\natal\\\\anaconda3\\\\lib\\\\site-packages\\\\prompt_toolkit\\\\completion\\\\__init__.py'>, 'prompt_toolkit.history': <module 'prompt_toolkit.history' from 'C:\\\\Users\\\\natal\\\\anaconda3\\\\lib\\\\site-packages\\\\prompt_toolkit\\\\history.py'>, 'prompt_toolkit.keys': <module 'prompt_toolkit.keys' from 'C:\\\\Users\\\\natal\\\\anaconda3\\\\lib\\\\site-packages\\\\prompt_toolkit\\\\keys.py'>, 'prompt_toolkit.key_binding.key_bindings': <module 'prompt_toolkit.key_binding.key_bindings' from 'C:\\\\Users\\\\natal\\\\anaconda3\\\\lib\\\\site-packages\\\\prompt_toolkit\\\\key_binding\\\\key_bindings.py'>, 'prompt_toolkit.key_binding.key_processor': <module 'prompt_toolkit.key_binding.key_processor' from 'C:\\\\Users\\\\natal\\\\anaconda3\\\\lib\\\\site-packages\\\\prompt_toolkit\\\\key_binding\\\\key_processor.py'>, 'prompt_toolkit.key_binding': <module 'prompt_toolkit.key_binding' from 'C:\\\\Users\\\\natal\\\\anaconda3\\\\lib\\\\site-packages\\\\prompt_toolkit\\\\key_binding\\\\__init__.py'>, 'prompt_toolkit.key_binding.vi_state': <module 'prompt_toolkit.key_binding.vi_state' from 'C:\\\\Users\\\\natal\\\\anaconda3\\\\lib\\\\site-packages\\\\prompt_toolkit\\\\key_binding\\\\vi_state.py'>, 'prompt_toolkit.search': <module 'prompt_toolkit.search' from 'C:\\\\Users\\\\natal\\\\anaconda3\\\\lib\\\\site-packages\\\\prompt_toolkit\\\\search.py'>, 'prompt_toolkit.validation': <module 'prompt_toolkit.validation' from 'C:\\\\Users\\\\natal\\\\anaconda3\\\\lib\\\\site-packages\\\\prompt_toolkit\\\\validation.py'>, 'prompt_toolkit.buffer': <module 'prompt_toolkit.buffer' from 'C:\\\\Users\\\\natal\\\\anaconda3\\\\lib\\\\site-packages\\\\prompt_toolkit\\\\buffer.py'>, 'prompt_toolkit.input.base': <module 'prompt_toolkit.input.base' from 'C:\\\\Users\\\\natal\\\\anaconda3\\\\lib\\\\site-packages\\\\prompt_toolkit\\\\input\\\\base.py'>, 'prompt_toolkit.input.defaults': <module 'prompt_toolkit.input.defaults' from 'C:\\\\Users\\\\natal\\\\anaconda3\\\\lib\\\\site-packages\\\\prompt_toolkit\\\\input\\\\defaults.py'>, 'prompt_toolkit.input': <module 'prompt_toolkit.input' from 'C:\\\\Users\\\\natal\\\\anaconda3\\\\lib\\\\site-packages\\\\prompt_toolkit\\\\input\\\\__init__.py'>, 'prompt_toolkit.input.typeahead': <module 'prompt_toolkit.input.typeahead' from 'C:\\\\Users\\\\natal\\\\anaconda3\\\\lib\\\\site-packages\\\\prompt_toolkit\\\\input\\\\typeahead.py'>, 'prompt_toolkit.key_binding.bindings': <module 'prompt_toolkit.key_binding.bindings' from 'C:\\\\Users\\\\natal\\\\anaconda3\\\\lib\\\\site-packages\\\\prompt_toolkit\\\\key_binding\\\\bindings\\\\__init__.py'>, 'prompt_toolkit.key_binding.bindings.scroll': <module 'prompt_toolkit.key_binding.bindings.scroll' from 'C:\\\\Users\\\\natal\\\\anaconda3\\\\lib\\\\site-packages\\\\prompt_toolkit\\\\key_binding\\\\bindings\\\\scroll.py'>, 'prompt_toolkit.key_binding.bindings.page_navigation': <module 'prompt_toolkit.key_binding.bindings.page_navigation' from 'C:\\\\Users\\\\natal\\\\anaconda3\\\\lib\\\\site-packages\\\\prompt_toolkit\\\\key_binding\\\\bindings\\\\page_navigation.py'>, 'prompt_toolkit.lexers.base': <module 'prompt_toolkit.lexers.base' from 'C:\\\\Users\\\\natal\\\\anaconda3\\\\lib\\\\site-packages\\\\prompt_toolkit\\\\lexers\\\\base.py'>, 'prompt_toolkit.lexers.pygments': <module 'prompt_toolkit.lexers.pygments' from 'C:\\\\Users\\\\natal\\\\anaconda3\\\\lib\\\\site-packages\\\\prompt_toolkit\\\\lexers\\\\pygments.py'>, 'prompt_toolkit.lexers': <module 'prompt_toolkit.lexers' from 'C:\\\\Users\\\\natal\\\\anaconda3\\\\lib\\\\site-packages\\\\prompt_toolkit\\\\lexers\\\\__init__.py'>, 'prompt_toolkit.layout.utils': <module 'prompt_toolkit.layout.utils' from 'C:\\\\Users\\\\natal\\\\anaconda3\\\\lib\\\\site-packages\\\\prompt_toolkit\\\\layout\\\\utils.py'>, 'prompt_toolkit.layout.processors': <module 'prompt_toolkit.layout.processors' from 'C:\\\\Users\\\\natal\\\\anaconda3\\\\lib\\\\site-packages\\\\prompt_toolkit\\\\layout\\\\processors.py'>, 'prompt_toolkit.layout.controls': <module 'prompt_toolkit.layout.controls' from 'C:\\\\Users\\\\natal\\\\anaconda3\\\\lib\\\\site-packages\\\\prompt_toolkit\\\\layout\\\\controls.py'>, 'prompt_toolkit.layout.dimension': <module 'prompt_toolkit.layout.dimension' from 'C:\\\\Users\\\\natal\\\\anaconda3\\\\lib\\\\site-packages\\\\prompt_toolkit\\\\layout\\\\dimension.py'>, 'prompt_toolkit.layout.margins': <module 'prompt_toolkit.layout.margins' from 'C:\\\\Users\\\\natal\\\\anaconda3\\\\lib\\\\site-packages\\\\prompt_toolkit\\\\layout\\\\margins.py'>, 'prompt_toolkit.layout.mouse_handlers': <module 'prompt_toolkit.layout.mouse_handlers' from 'C:\\\\Users\\\\natal\\\\anaconda3\\\\lib\\\\site-packages\\\\prompt_toolkit\\\\layout\\\\mouse_handlers.py'>, 'prompt_toolkit.layout.screen': <module 'prompt_toolkit.layout.screen' from 'C:\\\\Users\\\\natal\\\\anaconda3\\\\lib\\\\site-packages\\\\prompt_toolkit\\\\layout\\\\screen.py'>, 'prompt_toolkit.layout.containers': <module 'prompt_toolkit.layout.containers' from 'C:\\\\Users\\\\natal\\\\anaconda3\\\\lib\\\\site-packages\\\\prompt_toolkit\\\\layout\\\\containers.py'>, 'prompt_toolkit.layout.layout': <module 'prompt_toolkit.layout.layout' from 'C:\\\\Users\\\\natal\\\\anaconda3\\\\lib\\\\site-packages\\\\prompt_toolkit\\\\layout\\\\layout.py'>, 'prompt_toolkit.layout.menus': <module 'prompt_toolkit.layout.menus' from 'C:\\\\Users\\\\natal\\\\anaconda3\\\\lib\\\\site-packages\\\\prompt_toolkit\\\\layout\\\\menus.py'>, 'prompt_toolkit.layout.scrollable_pane': <module 'prompt_toolkit.layout.scrollable_pane' from 'C:\\\\Users\\\\natal\\\\anaconda3\\\\lib\\\\site-packages\\\\prompt_toolkit\\\\layout\\\\scrollable_pane.py'>, 'prompt_toolkit.layout': <module 'prompt_toolkit.layout' from 'C:\\\\Users\\\\natal\\\\anaconda3\\\\lib\\\\site-packages\\\\prompt_toolkit\\\\layout\\\\__init__.py'>, 'prompt_toolkit.key_binding.bindings.completion': <module 'prompt_toolkit.key_binding.bindings.completion' from 'C:\\\\Users\\\\natal\\\\anaconda3\\\\lib\\\\site-packages\\\\prompt_toolkit\\\\key_binding\\\\bindings\\\\completion.py'>, 'prompt_toolkit.key_binding.bindings.named_commands': <module 'prompt_toolkit.key_binding.bindings.named_commands' from 'C:\\\\Users\\\\natal\\\\anaconda3\\\\lib\\\\site-packages\\\\prompt_toolkit\\\\key_binding\\\\bindings\\\\named_commands.py'>, 'prompt_toolkit.key_binding.bindings.basic': <module 'prompt_toolkit.key_binding.bindings.basic' from 'C:\\\\Users\\\\natal\\\\anaconda3\\\\lib\\\\site-packages\\\\prompt_toolkit\\\\key_binding\\\\bindings\\\\basic.py'>, 'prompt_toolkit.key_binding.bindings.cpr': <module 'prompt_toolkit.key_binding.bindings.cpr' from 'C:\\\\Users\\\\natal\\\\anaconda3\\\\lib\\\\site-packages\\\\prompt_toolkit\\\\key_binding\\\\bindings\\\\cpr.py'>, 'prompt_toolkit.key_binding.bindings.emacs': <module 'prompt_toolkit.key_binding.bindings.emacs' from 'C:\\\\Users\\\\natal\\\\anaconda3\\\\lib\\\\site-packages\\\\prompt_toolkit\\\\key_binding\\\\bindings\\\\emacs.py'>, 'prompt_toolkit.key_binding.bindings.mouse': <module 'prompt_toolkit.key_binding.bindings.mouse' from 'C:\\\\Users\\\\natal\\\\anaconda3\\\\lib\\\\site-packages\\\\prompt_toolkit\\\\key_binding\\\\bindings\\\\mouse.py'>, 'prompt_toolkit.input.ansi_escape_sequences': <module 'prompt_toolkit.input.ansi_escape_sequences' from 'C:\\\\Users\\\\natal\\\\anaconda3\\\\lib\\\\site-packages\\\\prompt_toolkit\\\\input\\\\ansi_escape_sequences.py'>, 'prompt_toolkit.input.vt100_parser': <module 'prompt_toolkit.input.vt100_parser' from 'C:\\\\Users\\\\natal\\\\anaconda3\\\\lib\\\\site-packages\\\\prompt_toolkit\\\\input\\\\vt100_parser.py'>, 'prompt_toolkit.key_binding.digraphs': <module 'prompt_toolkit.key_binding.digraphs' from 'C:\\\\Users\\\\natal\\\\anaconda3\\\\lib\\\\site-packages\\\\prompt_toolkit\\\\key_binding\\\\digraphs.py'>, 'prompt_toolkit.key_binding.bindings.vi': <module 'prompt_toolkit.key_binding.bindings.vi' from 'C:\\\\Users\\\\natal\\\\anaconda3\\\\lib\\\\site-packages\\\\prompt_toolkit\\\\key_binding\\\\bindings\\\\vi.py'>, 'prompt_toolkit.key_binding.defaults': <module 'prompt_toolkit.key_binding.defaults' from 'C:\\\\Users\\\\natal\\\\anaconda3\\\\lib\\\\site-packages\\\\prompt_toolkit\\\\key_binding\\\\defaults.py'>, 'prompt_toolkit.key_binding.emacs_state': <module 'prompt_toolkit.key_binding.emacs_state' from 'C:\\\\Users\\\\natal\\\\anaconda3\\\\lib\\\\site-packages\\\\prompt_toolkit\\\\key_binding\\\\emacs_state.py'>, 'prompt_toolkit.layout.dummy': <module 'prompt_toolkit.layout.dummy' from 'C:\\\\Users\\\\natal\\\\anaconda3\\\\lib\\\\site-packages\\\\prompt_toolkit\\\\layout\\\\dummy.py'>, 'prompt_toolkit.renderer': <module 'prompt_toolkit.renderer' from 'C:\\\\Users\\\\natal\\\\anaconda3\\\\lib\\\\site-packages\\\\prompt_toolkit\\\\renderer.py'>, 'prompt_toolkit.application.application': <module 'prompt_toolkit.application.application' from 'C:\\\\Users\\\\natal\\\\anaconda3\\\\lib\\\\site-packages\\\\prompt_toolkit\\\\application\\\\application.py'>, 'prompt_toolkit.application.dummy': <module 'prompt_toolkit.application.dummy' from 'C:\\\\Users\\\\natal\\\\anaconda3\\\\lib\\\\site-packages\\\\prompt_toolkit\\\\application\\\\dummy.py'>, 'prompt_toolkit.application': <module 'prompt_toolkit.application' from 'C:\\\\Users\\\\natal\\\\anaconda3\\\\lib\\\\site-packages\\\\prompt_toolkit\\\\application\\\\__init__.py'>, 'prompt_toolkit.key_binding.bindings.focus': <module 'prompt_toolkit.key_binding.bindings.focus' from 'C:\\\\Users\\\\natal\\\\anaconda3\\\\lib\\\\site-packages\\\\prompt_toolkit\\\\key_binding\\\\bindings\\\\focus.py'>, 'prompt_toolkit.widgets.toolbars': <module 'prompt_toolkit.widgets.toolbars' from 'C:\\\\Users\\\\natal\\\\anaconda3\\\\lib\\\\site-packages\\\\prompt_toolkit\\\\widgets\\\\toolbars.py'>, 'prompt_toolkit.widgets.base': <module 'prompt_toolkit.widgets.base' from 'C:\\\\Users\\\\natal\\\\anaconda3\\\\lib\\\\site-packages\\\\prompt_toolkit\\\\widgets\\\\base.py'>, 'prompt_toolkit.widgets.dialogs': <module 'prompt_toolkit.widgets.dialogs' from 'C:\\\\Users\\\\natal\\\\anaconda3\\\\lib\\\\site-packages\\\\prompt_toolkit\\\\widgets\\\\dialogs.py'>, 'prompt_toolkit.widgets.menus': <module 'prompt_toolkit.widgets.menus' from 'C:\\\\Users\\\\natal\\\\anaconda3\\\\lib\\\\site-packages\\\\prompt_toolkit\\\\widgets\\\\menus.py'>, 'prompt_toolkit.widgets': <module 'prompt_toolkit.widgets' from 'C:\\\\Users\\\\natal\\\\anaconda3\\\\lib\\\\site-packages\\\\prompt_toolkit\\\\widgets\\\\__init__.py'>, 'prompt_toolkit.shortcuts.dialogs': <module 'prompt_toolkit.shortcuts.dialogs' from 'C:\\\\Users\\\\natal\\\\anaconda3\\\\lib\\\\site-packages\\\\prompt_toolkit\\\\shortcuts\\\\dialogs.py'>, 'prompt_toolkit.shortcuts.progress_bar.formatters': <module 'prompt_toolkit.shortcuts.progress_bar.formatters' from 'C:\\\\Users\\\\natal\\\\anaconda3\\\\lib\\\\site-packages\\\\prompt_toolkit\\\\shortcuts\\\\progress_bar\\\\formatters.py'>, 'prompt_toolkit.shortcuts.progress_bar.base': <module 'prompt_toolkit.shortcuts.progress_bar.base' from 'C:\\\\Users\\\\natal\\\\anaconda3\\\\lib\\\\site-packages\\\\prompt_toolkit\\\\shortcuts\\\\progress_bar\\\\base.py'>, 'prompt_toolkit.shortcuts.progress_bar': <module 'prompt_toolkit.shortcuts.progress_bar' from 'C:\\\\Users\\\\natal\\\\anaconda3\\\\lib\\\\site-packages\\\\prompt_toolkit\\\\shortcuts\\\\progress_bar\\\\__init__.py'>, 'prompt_toolkit.key_binding.bindings.auto_suggest': <module 'prompt_toolkit.key_binding.bindings.auto_suggest' from 'C:\\\\Users\\\\natal\\\\anaconda3\\\\lib\\\\site-packages\\\\prompt_toolkit\\\\key_binding\\\\bindings\\\\auto_suggest.py'>, 'prompt_toolkit.key_binding.bindings.open_in_editor': <module 'prompt_toolkit.key_binding.bindings.open_in_editor' from 'C:\\\\Users\\\\natal\\\\anaconda3\\\\lib\\\\site-packages\\\\prompt_toolkit\\\\key_binding\\\\bindings\\\\open_in_editor.py'>, 'prompt_toolkit.shortcuts.prompt': <module 'prompt_toolkit.shortcuts.prompt' from 'C:\\\\Users\\\\natal\\\\anaconda3\\\\lib\\\\site-packages\\\\prompt_toolkit\\\\shortcuts\\\\prompt.py'>, 'prompt_toolkit.shortcuts.utils': <module 'prompt_toolkit.shortcuts.utils' from 'C:\\\\Users\\\\natal\\\\anaconda3\\\\lib\\\\site-packages\\\\prompt_toolkit\\\\shortcuts\\\\utils.py'>, 'prompt_toolkit.shortcuts': <module 'prompt_toolkit.shortcuts' from 'C:\\\\Users\\\\natal\\\\anaconda3\\\\lib\\\\site-packages\\\\prompt_toolkit\\\\shortcuts\\\\__init__.py'>, 'prompt_toolkit': <module 'prompt_toolkit' from 'C:\\\\Users\\\\natal\\\\anaconda3\\\\lib\\\\site-packages\\\\prompt_toolkit\\\\__init__.py'>, '_queue': <module '_queue' from 'C:\\\\Users\\\\natal\\\\anaconda3\\\\DLLs\\\\_queue.pyd'>, 'queue': <module 'queue' from 'C:\\\\Users\\\\natal\\\\anaconda3\\\\lib\\\\queue.py'>, 'prompt_toolkit.patch_stdout': <module 'prompt_toolkit.patch_stdout' from 'C:\\\\Users\\\\natal\\\\anaconda3\\\\lib\\\\site-packages\\\\prompt_toolkit\\\\patch_stdout.py'>, 'pygments.style': <module 'pygments.style' from 'C:\\\\Users\\\\natal\\\\anaconda3\\\\lib\\\\site-packages\\\\pygments\\\\style.py'>, 'unicodedata': <module 'unicodedata' from 'C:\\\\Users\\\\natal\\\\anaconda3\\\\DLLs\\\\unicodedata.pyd'>, 'IPython.core.latex_symbols': <module 'IPython.core.latex_symbols' from 'C:\\\\Users\\\\natal\\\\anaconda3\\\\lib\\\\site-packages\\\\IPython\\\\core\\\\latex_symbols.py'>, 'IPython.utils.generics': <module 'IPython.utils.generics' from 'C:\\\\Users\\\\natal\\\\anaconda3\\\\lib\\\\site-packages\\\\IPython\\\\utils\\\\generics.py'>, 'parso._compatibility': <module 'parso._compatibility' from 'C:\\\\Users\\\\natal\\\\anaconda3\\\\lib\\\\site-packages\\\\parso\\\\_compatibility.py'>, 'parso.utils': <module 'parso.utils' from 'C:\\\\Users\\\\natal\\\\anaconda3\\\\lib\\\\site-packages\\\\parso\\\\utils.py'>, 'parso.tree': <module 'parso.tree' from 'C:\\\\Users\\\\natal\\\\anaconda3\\\\lib\\\\site-packages\\\\parso\\\\tree.py'>, 'parso.python': <module 'parso.python' from 'C:\\\\Users\\\\natal\\\\anaconda3\\\\lib\\\\site-packages\\\\parso\\\\python\\\\__init__.py'>, 'parso.python.token': <module 'parso.python.token' from 'C:\\\\Users\\\\natal\\\\anaconda3\\\\lib\\\\site-packages\\\\parso\\\\python\\\\token.py'>, 'parso.python.tokenize': <module 'parso.python.tokenize' from 'C:\\\\Users\\\\natal\\\\anaconda3\\\\lib\\\\site-packages\\\\parso\\\\python\\\\tokenize.py'>, 'parso.pgen2.grammar_parser': <module 'parso.pgen2.grammar_parser' from 'C:\\\\Users\\\\natal\\\\anaconda3\\\\lib\\\\site-packages\\\\parso\\\\pgen2\\\\grammar_parser.py'>, 'parso.pgen2.generator': <module 'parso.pgen2.generator' from 'C:\\\\Users\\\\natal\\\\anaconda3\\\\lib\\\\site-packages\\\\parso\\\\pgen2\\\\generator.py'>, 'parso.pgen2': <module 'parso.pgen2' from 'C:\\\\Users\\\\natal\\\\anaconda3\\\\lib\\\\site-packages\\\\parso\\\\pgen2\\\\__init__.py'>, 'parso.parser': <module 'parso.parser' from 'C:\\\\Users\\\\natal\\\\anaconda3\\\\lib\\\\site-packages\\\\parso\\\\parser.py'>, 'difflib': <module 'difflib' from 'C:\\\\Users\\\\natal\\\\anaconda3\\\\lib\\\\difflib.py'>, 'parso.python.prefix': <module 'parso.python.prefix' from 'C:\\\\Users\\\\natal\\\\anaconda3\\\\lib\\\\site-packages\\\\parso\\\\python\\\\prefix.py'>, 'parso.python.tree': <module 'parso.python.tree' from 'C:\\\\Users\\\\natal\\\\anaconda3\\\\lib\\\\site-packages\\\\parso\\\\python\\\\tree.py'>, 'parso.python.parser': <module 'parso.python.parser' from 'C:\\\\Users\\\\natal\\\\anaconda3\\\\lib\\\\site-packages\\\\parso\\\\python\\\\parser.py'>, 'parso.python.diff': <module 'parso.python.diff' from 'C:\\\\Users\\\\natal\\\\anaconda3\\\\lib\\\\site-packages\\\\parso\\\\python\\\\diff.py'>, 'gc': <module 'gc' (built-in)>, 'parso.cache': <module 'parso.cache' from 'C:\\\\Users\\\\natal\\\\anaconda3\\\\lib\\\\site-packages\\\\parso\\\\cache.py'>, 'parso.normalizer': <module 'parso.normalizer' from 'C:\\\\Users\\\\natal\\\\anaconda3\\\\lib\\\\site-packages\\\\parso\\\\normalizer.py'>, 'parso.python.errors': <module 'parso.python.errors' from 'C:\\\\Users\\\\natal\\\\anaconda3\\\\lib\\\\site-packages\\\\parso\\\\python\\\\errors.py'>, 'parso.python.pep8': <module 'parso.python.pep8' from 'C:\\\\Users\\\\natal\\\\anaconda3\\\\lib\\\\site-packages\\\\parso\\\\python\\\\pep8.py'>, 'parso.file_io': <module 'parso.file_io' from 'C:\\\\Users\\\\natal\\\\anaconda3\\\\lib\\\\site-packages\\\\parso\\\\file_io.py'>, 'parso.grammar': <module 'parso.grammar' from 'C:\\\\Users\\\\natal\\\\anaconda3\\\\lib\\\\site-packages\\\\parso\\\\grammar.py'>, 'parso': <module 'parso' from 'C:\\\\Users\\\\natal\\\\anaconda3\\\\lib\\\\site-packages\\\\parso\\\\__init__.py'>, 'jedi.file_io': <module 'jedi.file_io' from 'C:\\\\Users\\\\natal\\\\anaconda3\\\\lib\\\\site-packages\\\\jedi\\\\file_io.py'>, 'jedi._compatibility': <module 'jedi._compatibility' from 'C:\\\\Users\\\\natal\\\\anaconda3\\\\lib\\\\site-packages\\\\jedi\\\\_compatibility.py'>, 'jedi.parser_utils': <module 'jedi.parser_utils' from 'C:\\\\Users\\\\natal\\\\anaconda3\\\\lib\\\\site-packages\\\\jedi\\\\parser_utils.py'>, 'jedi.debug': <module 'jedi.debug' from 'C:\\\\Users\\\\natal\\\\anaconda3\\\\lib\\\\site-packages\\\\jedi\\\\debug.py'>, 'jedi.settings': <module 'jedi.settings' from 'C:\\\\Users\\\\natal\\\\anaconda3\\\\lib\\\\site-packages\\\\jedi\\\\settings.py'>, 'jedi.cache': <module 'jedi.cache' from 'C:\\\\Users\\\\natal\\\\anaconda3\\\\lib\\\\site-packages\\\\jedi\\\\cache.py'>, 'jedi.inference.cache': <module 'jedi.inference.cache' from 'C:\\\\Users\\\\natal\\\\anaconda3\\\\lib\\\\site-packages\\\\jedi\\\\inference\\\\cache.py'>, 'jedi.inference.helpers': <module 'jedi.inference.helpers' from 'C:\\\\Users\\\\natal\\\\anaconda3\\\\lib\\\\site-packages\\\\jedi\\\\inference\\\\helpers.py'>, 'jedi.inference.utils': <module 'jedi.inference.utils' from 'C:\\\\Users\\\\natal\\\\anaconda3\\\\lib\\\\site-packages\\\\jedi\\\\inference\\\\utils.py'>, 'jedi.inference.base_value': <module 'jedi.inference.base_value' from 'C:\\\\Users\\\\natal\\\\anaconda3\\\\lib\\\\site-packages\\\\jedi\\\\inference\\\\base_value.py'>, 'jedi.common': <module 'jedi.common' from 'C:\\\\Users\\\\natal\\\\anaconda3\\\\lib\\\\site-packages\\\\jedi\\\\common.py'>, 'jedi.inference.sys_path': <module 'jedi.inference.sys_path' from 'C:\\\\Users\\\\natal\\\\anaconda3\\\\lib\\\\site-packages\\\\jedi\\\\inference\\\\sys_path.py'>, 'jedi.inference.recursion': <module 'jedi.inference.recursion' from 'C:\\\\Users\\\\natal\\\\anaconda3\\\\lib\\\\site-packages\\\\jedi\\\\inference\\\\recursion.py'>, 'jedi.inference.flow_analysis': <module 'jedi.inference.flow_analysis' from 'C:\\\\Users\\\\natal\\\\anaconda3\\\\lib\\\\site-packages\\\\jedi\\\\inference\\\\flow_analysis.py'>, 'jedi.inference.lazy_value': <module 'jedi.inference.lazy_value' from 'C:\\\\Users\\\\natal\\\\anaconda3\\\\lib\\\\site-packages\\\\jedi\\\\inference\\\\lazy_value.py'>, 'jedi.inference.docstrings': <module 'jedi.inference.docstrings' from 'C:\\\\Users\\\\natal\\\\anaconda3\\\\lib\\\\site-packages\\\\jedi\\\\inference\\\\docstrings.py'>, 'jedi.plugins': <module 'jedi.plugins' from 'C:\\\\Users\\\\natal\\\\anaconda3\\\\lib\\\\site-packages\\\\jedi\\\\plugins\\\\__init__.py'>, 'jedi.inference.names': <module 'jedi.inference.names' from 'C:\\\\Users\\\\natal\\\\anaconda3\\\\lib\\\\site-packages\\\\jedi\\\\inference\\\\names.py'>, 'jedi.inference.filters': <module 'jedi.inference.filters' from 'C:\\\\Users\\\\natal\\\\anaconda3\\\\lib\\\\site-packages\\\\jedi\\\\inference\\\\filters.py'>, 'jedi.inference.compiled.getattr_static': <module 'jedi.inference.compiled.getattr_static' from 'C:\\\\Users\\\\natal\\\\anaconda3\\\\lib\\\\site-packages\\\\jedi\\\\inference\\\\compiled\\\\getattr_static.py'>, 'jedi.inference.compiled.access': <module 'jedi.inference.compiled.access' from 'C:\\\\Users\\\\natal\\\\anaconda3\\\\lib\\\\site-packages\\\\jedi\\\\inference\\\\compiled\\\\access.py'>, 'jedi.inference.signature': <module 'jedi.inference.signature' from 'C:\\\\Users\\\\natal\\\\anaconda3\\\\lib\\\\site-packages\\\\jedi\\\\inference\\\\signature.py'>, 'jedi.inference.context': <module 'jedi.inference.context' from 'C:\\\\Users\\\\natal\\\\anaconda3\\\\lib\\\\site-packages\\\\jedi\\\\inference\\\\context.py'>, 'jedi.inference.compiled.value': <module 'jedi.inference.compiled.value' from 'C:\\\\Users\\\\natal\\\\anaconda3\\\\lib\\\\site-packages\\\\jedi\\\\inference\\\\compiled\\\\value.py'>, 'jedi.inference.compiled': <module 'jedi.inference.compiled' from 'C:\\\\Users\\\\natal\\\\anaconda3\\\\lib\\\\site-packages\\\\jedi\\\\inference\\\\compiled\\\\__init__.py'>, 'jedi.inference.analysis': <module 'jedi.inference.analysis' from 'C:\\\\Users\\\\natal\\\\anaconda3\\\\lib\\\\site-packages\\\\jedi\\\\inference\\\\analysis.py'>, 'jedi.inference.gradual': <module 'jedi.inference.gradual' from 'C:\\\\Users\\\\natal\\\\anaconda3\\\\lib\\\\site-packages\\\\jedi\\\\inference\\\\gradual\\\\__init__.py'>, 'jedi.inference.value.module': <module 'jedi.inference.value.module' from 'C:\\\\Users\\\\natal\\\\anaconda3\\\\lib\\\\site-packages\\\\jedi\\\\inference\\\\value\\\\module.py'>, 'jedi.inference.value.dynamic_arrays': <module 'jedi.inference.value.dynamic_arrays' from 'C:\\\\Users\\\\natal\\\\anaconda3\\\\lib\\\\site-packages\\\\jedi\\\\inference\\\\value\\\\dynamic_arrays.py'>, 'jedi.inference.value.iterable': <module 'jedi.inference.value.iterable' from 'C:\\\\Users\\\\natal\\\\anaconda3\\\\lib\\\\site-packages\\\\jedi\\\\inference\\\\value\\\\iterable.py'>, 'jedi.inference.arguments': <module 'jedi.inference.arguments' from 'C:\\\\Users\\\\natal\\\\anaconda3\\\\lib\\\\site-packages\\\\jedi\\\\inference\\\\arguments.py'>, 'jedi.inference.parser_cache': <module 'jedi.inference.parser_cache' from 'C:\\\\Users\\\\natal\\\\anaconda3\\\\lib\\\\site-packages\\\\jedi\\\\inference\\\\parser_cache.py'>, 'jedi.inference.gradual.generics': <module 'jedi.inference.gradual.generics' from 'C:\\\\Users\\\\natal\\\\anaconda3\\\\lib\\\\site-packages\\\\jedi\\\\inference\\\\gradual\\\\generics.py'>, 'jedi.inference.value.function': <module 'jedi.inference.value.function' from 'C:\\\\Users\\\\natal\\\\anaconda3\\\\lib\\\\site-packages\\\\jedi\\\\inference\\\\value\\\\function.py'>, 'jedi.inference.value.klass': <module 'jedi.inference.value.klass' from 'C:\\\\Users\\\\natal\\\\anaconda3\\\\lib\\\\site-packages\\\\jedi\\\\inference\\\\value\\\\klass.py'>, 'jedi.inference.value.instance': <module 'jedi.inference.value.instance' from 'C:\\\\Users\\\\natal\\\\anaconda3\\\\lib\\\\site-packages\\\\jedi\\\\inference\\\\value\\\\instance.py'>, 'jedi.inference.value': <module 'jedi.inference.value' from 'C:\\\\Users\\\\natal\\\\anaconda3\\\\lib\\\\site-packages\\\\jedi\\\\inference\\\\value\\\\__init__.py'>, 'jedi.inference.gradual.base': <module 'jedi.inference.gradual.base' from 'C:\\\\Users\\\\natal\\\\anaconda3\\\\lib\\\\site-packages\\\\jedi\\\\inference\\\\gradual\\\\base.py'>, 'jedi.inference.gradual.type_var': <module 'jedi.inference.gradual.type_var' from 'C:\\\\Users\\\\natal\\\\anaconda3\\\\lib\\\\site-packages\\\\jedi\\\\inference\\\\gradual\\\\type_var.py'>, 'jedi.inference.gradual.typing': <module 'jedi.inference.gradual.typing' from 'C:\\\\Users\\\\natal\\\\anaconda3\\\\lib\\\\site-packages\\\\jedi\\\\inference\\\\gradual\\\\typing.py'>, 'jedi.inference.gradual.stub_value': <module 'jedi.inference.gradual.stub_value' from 'C:\\\\Users\\\\natal\\\\anaconda3\\\\lib\\\\site-packages\\\\jedi\\\\inference\\\\gradual\\\\stub_value.py'>, 'jedi.inference.gradual.typeshed': <module 'jedi.inference.gradual.typeshed' from 'C:\\\\Users\\\\natal\\\\anaconda3\\\\lib\\\\site-packages\\\\jedi\\\\inference\\\\gradual\\\\typeshed.py'>, 'jedi.inference.imports': <module 'jedi.inference.imports' from 'C:\\\\Users\\\\natal\\\\anaconda3\\\\lib\\\\site-packages\\\\jedi\\\\inference\\\\imports.py'>, 'jedi.inference.param': <module 'jedi.inference.param' from 'C:\\\\Users\\\\natal\\\\anaconda3\\\\lib\\\\site-packages\\\\jedi\\\\inference\\\\param.py'>, 'jedi.inference.gradual.annotation': <module 'jedi.inference.gradual.annotation' from 'C:\\\\Users\\\\natal\\\\anaconda3\\\\lib\\\\site-packages\\\\jedi\\\\inference\\\\gradual\\\\annotation.py'>, 'jedi.inference.value.decorator': <module 'jedi.inference.value.decorator' from 'C:\\\\Users\\\\natal\\\\anaconda3\\\\lib\\\\site-packages\\\\jedi\\\\inference\\\\value\\\\decorator.py'>, 'jedi.inference.syntax_tree': <module 'jedi.inference.syntax_tree' from 'C:\\\\Users\\\\natal\\\\anaconda3\\\\lib\\\\site-packages\\\\jedi\\\\inference\\\\syntax_tree.py'>, 'jedi.inference': <module 'jedi.inference' from 'C:\\\\Users\\\\natal\\\\anaconda3\\\\lib\\\\site-packages\\\\jedi\\\\inference\\\\__init__.py'>, 'jedi.inference.gradual.conversion': <module 'jedi.inference.gradual.conversion' from 'C:\\\\Users\\\\natal\\\\anaconda3\\\\lib\\\\site-packages\\\\jedi\\\\inference\\\\gradual\\\\conversion.py'>, 'jedi.inference.compiled.mixed': <module 'jedi.inference.compiled.mixed' from 'C:\\\\Users\\\\natal\\\\anaconda3\\\\lib\\\\site-packages\\\\jedi\\\\inference\\\\compiled\\\\mixed.py'>, 'pydoc_data': <module 'pydoc_data' from 'C:\\\\Users\\\\natal\\\\anaconda3\\\\lib\\\\pydoc_data\\\\__init__.py'>, 'pydoc_data.topics': <module 'pydoc_data.topics' from 'C:\\\\Users\\\\natal\\\\anaconda3\\\\lib\\\\pydoc_data\\\\topics.py'>, 'jedi.api.keywords': <module 'jedi.api.keywords' from 'C:\\\\Users\\\\natal\\\\anaconda3\\\\lib\\\\site-packages\\\\jedi\\\\api\\\\keywords.py'>, 'jedi.api.completion_cache': <module 'jedi.api.completion_cache' from 'C:\\\\Users\\\\natal\\\\anaconda3\\\\lib\\\\site-packages\\\\jedi\\\\api\\\\completion_cache.py'>, 'jedi.api.helpers': <module 'jedi.api.helpers' from 'C:\\\\Users\\\\natal\\\\anaconda3\\\\lib\\\\site-packages\\\\jedi\\\\api\\\\helpers.py'>, 'jedi.api.classes': <module 'jedi.api.classes' from 'C:\\\\Users\\\\natal\\\\anaconda3\\\\lib\\\\site-packages\\\\jedi\\\\api\\\\classes.py'>, 'jedi.api.interpreter': <module 'jedi.api.interpreter' from 'C:\\\\Users\\\\natal\\\\anaconda3\\\\lib\\\\site-packages\\\\jedi\\\\api\\\\interpreter.py'>, 'jedi.api.strings': <module 'jedi.api.strings' from 'C:\\\\Users\\\\natal\\\\anaconda3\\\\lib\\\\site-packages\\\\jedi\\\\api\\\\strings.py'>, 'jedi.api.file_name': <module 'jedi.api.file_name' from 'C:\\\\Users\\\\natal\\\\anaconda3\\\\lib\\\\site-packages\\\\jedi\\\\api\\\\file_name.py'>, 'jedi.api.completion': <module 'jedi.api.completion' from 'C:\\\\Users\\\\natal\\\\anaconda3\\\\lib\\\\site-packages\\\\jedi\\\\api\\\\completion.py'>, 'filecmp': <module 'filecmp' from 'C:\\\\Users\\\\natal\\\\anaconda3\\\\lib\\\\filecmp.py'>, 'jedi.inference.compiled.subprocess.functions': <module 'jedi.inference.compiled.subprocess.functions' from 'C:\\\\Users\\\\natal\\\\anaconda3\\\\lib\\\\site-packages\\\\jedi\\\\inference\\\\compiled\\\\subprocess\\\\functions.py'>, 'jedi.api.exceptions': <module 'jedi.api.exceptions' from 'C:\\\\Users\\\\natal\\\\anaconda3\\\\lib\\\\site-packages\\\\jedi\\\\api\\\\exceptions.py'>, 'jedi.inference.compiled.subprocess': <module 'jedi.inference.compiled.subprocess' from 'C:\\\\Users\\\\natal\\\\anaconda3\\\\lib\\\\site-packages\\\\jedi\\\\inference\\\\compiled\\\\subprocess\\\\__init__.py'>, 'jedi.api.environment': <module 'jedi.api.environment' from 'C:\\\\Users\\\\natal\\\\anaconda3\\\\lib\\\\site-packages\\\\jedi\\\\api\\\\environment.py'>, 'jedi.inference.references': <module 'jedi.inference.references' from 'C:\\\\Users\\\\natal\\\\anaconda3\\\\lib\\\\site-packages\\\\jedi\\\\inference\\\\references.py'>, 'jedi.api.project': <module 'jedi.api.project' from 'C:\\\\Users\\\\natal\\\\anaconda3\\\\lib\\\\site-packages\\\\jedi\\\\api\\\\project.py'>, 'jedi.api.errors': <module 'jedi.api.errors' from 'C:\\\\Users\\\\natal\\\\anaconda3\\\\lib\\\\site-packages\\\\jedi\\\\api\\\\errors.py'>, 'jedi.api.refactoring': <module 'jedi.api.refactoring' from 'C:\\\\Users\\\\natal\\\\anaconda3\\\\lib\\\\site-packages\\\\jedi\\\\api\\\\refactoring\\\\__init__.py'>, 'jedi.api.refactoring.extract': <module 'jedi.api.refactoring.extract' from 'C:\\\\Users\\\\natal\\\\anaconda3\\\\lib\\\\site-packages\\\\jedi\\\\api\\\\refactoring\\\\extract.py'>, 'jedi.inference.gradual.utils': <module 'jedi.inference.gradual.utils' from 'C:\\\\Users\\\\natal\\\\anaconda3\\\\lib\\\\site-packages\\\\jedi\\\\inference\\\\gradual\\\\utils.py'>, 'jedi.api': <module 'jedi.api' from 'C:\\\\Users\\\\natal\\\\anaconda3\\\\lib\\\\site-packages\\\\jedi\\\\api\\\\__init__.py'>, 'jedi.plugins.stdlib': <module 'jedi.plugins.stdlib' from 'C:\\\\Users\\\\natal\\\\anaconda3\\\\lib\\\\site-packages\\\\jedi\\\\plugins\\\\stdlib.py'>, 'jedi.plugins.flask': <module 'jedi.plugins.flask' from 'C:\\\\Users\\\\natal\\\\anaconda3\\\\lib\\\\site-packages\\\\jedi\\\\plugins\\\\flask.py'>, 'jedi.plugins.pytest': <module 'jedi.plugins.pytest' from 'C:\\\\Users\\\\natal\\\\anaconda3\\\\lib\\\\site-packages\\\\jedi\\\\plugins\\\\pytest.py'>, 'jedi.plugins.django': <module 'jedi.plugins.django' from 'C:\\\\Users\\\\natal\\\\anaconda3\\\\lib\\\\site-packages\\\\jedi\\\\plugins\\\\django.py'>, 'jedi.plugins.registry': <module 'jedi.plugins.registry' from 'C:\\\\Users\\\\natal\\\\anaconda3\\\\lib\\\\site-packages\\\\jedi\\\\plugins\\\\registry.py'>, 'jedi': <module 'jedi' from 'C:\\\\Users\\\\natal\\\\anaconda3\\\\lib\\\\site-packages\\\\jedi\\\\__init__.py'>, 'IPython.core.completer': <module 'IPython.core.completer' from 'C:\\\\Users\\\\natal\\\\anaconda3\\\\lib\\\\site-packages\\\\IPython\\\\core\\\\completer.py'>, 'IPython.terminal.ptutils': <module 'IPython.terminal.ptutils' from 'C:\\\\Users\\\\natal\\\\anaconda3\\\\lib\\\\site-packages\\\\IPython\\\\terminal\\\\ptutils.py'>, 'IPython.lib.clipboard': <module 'IPython.lib.clipboard' from 'C:\\\\Users\\\\natal\\\\anaconda3\\\\lib\\\\site-packages\\\\IPython\\\\lib\\\\clipboard.py'>, 'IPython.terminal.shortcuts': <module 'IPython.terminal.shortcuts' from 'C:\\\\Users\\\\natal\\\\anaconda3\\\\lib\\\\site-packages\\\\IPython\\\\terminal\\\\shortcuts.py'>, 'IPython.terminal.debugger': <module 'IPython.terminal.debugger' from 'C:\\\\Users\\\\natal\\\\anaconda3\\\\lib\\\\site-packages\\\\IPython\\\\terminal\\\\debugger.py'>, 'IPython.terminal.magics': <module 'IPython.terminal.magics' from 'C:\\\\Users\\\\natal\\\\anaconda3\\\\lib\\\\site-packages\\\\IPython\\\\terminal\\\\magics.py'>, 'IPython.terminal.pt_inputhooks': <module 'IPython.terminal.pt_inputhooks' from 'C:\\\\Users\\\\natal\\\\anaconda3\\\\lib\\\\site-packages\\\\IPython\\\\terminal\\\\pt_inputhooks\\\\__init__.py'>, 'IPython.terminal.prompts': <module 'IPython.terminal.prompts' from 'C:\\\\Users\\\\natal\\\\anaconda3\\\\lib\\\\site-packages\\\\IPython\\\\terminal\\\\prompts.py'>, 'IPython.terminal.interactiveshell': <module 'IPython.terminal.interactiveshell' from 'C:\\\\Users\\\\natal\\\\anaconda3\\\\lib\\\\site-packages\\\\IPython\\\\terminal\\\\interactiveshell.py'>, 'IPython.core.magics.auto': <module 'IPython.core.magics.auto' from 'C:\\\\Users\\\\natal\\\\anaconda3\\\\lib\\\\site-packages\\\\IPython\\\\core\\\\magics\\\\auto.py'>, 'IPython.core.magics.basic': <module 'IPython.core.magics.basic' from 'C:\\\\Users\\\\natal\\\\anaconda3\\\\lib\\\\site-packages\\\\IPython\\\\core\\\\magics\\\\basic.py'>, 'email': <module 'email' from 'C:\\\\Users\\\\natal\\\\anaconda3\\\\lib\\\\email\\\\__init__.py'>, 'http': <module 'http' from 'C:\\\\Users\\\\natal\\\\anaconda3\\\\lib\\\\http\\\\__init__.py'>, 'email.errors': <module 'email.errors' from 'C:\\\\Users\\\\natal\\\\anaconda3\\\\lib\\\\email\\\\errors.py'>, 'email.quoprimime': <module 'email.quoprimime' from 'C:\\\\Users\\\\natal\\\\anaconda3\\\\lib\\\\email\\\\quoprimime.py'>, 'email.base64mime': <module 'email.base64mime' from 'C:\\\\Users\\\\natal\\\\anaconda3\\\\lib\\\\email\\\\base64mime.py'>, 'quopri': <module 'quopri' from 'C:\\\\Users\\\\natal\\\\anaconda3\\\\lib\\\\quopri.py'>, 'email.encoders': <module 'email.encoders' from 'C:\\\\Users\\\\natal\\\\anaconda3\\\\lib\\\\email\\\\encoders.py'>, 'email.charset': <module 'email.charset' from 'C:\\\\Users\\\\natal\\\\anaconda3\\\\lib\\\\email\\\\charset.py'>, 'email.header': <module 'email.header' from 'C:\\\\Users\\\\natal\\\\anaconda3\\\\lib\\\\email\\\\header.py'>, 'calendar': <module 'calendar' from 'C:\\\\Users\\\\natal\\\\anaconda3\\\\lib\\\\calendar.py'>, 'email._parseaddr': <module 'email._parseaddr' from 'C:\\\\Users\\\\natal\\\\anaconda3\\\\lib\\\\email\\\\_parseaddr.py'>, 'email.utils': <module 'email.utils' from 'C:\\\\Users\\\\natal\\\\anaconda3\\\\lib\\\\email\\\\utils.py'>, 'email._policybase': <module 'email._policybase' from 'C:\\\\Users\\\\natal\\\\anaconda3\\\\lib\\\\email\\\\_policybase.py'>, 'email.feedparser': <module 'email.feedparser' from 'C:\\\\Users\\\\natal\\\\anaconda3\\\\lib\\\\email\\\\feedparser.py'>, 'email.parser': <module 'email.parser' from 'C:\\\\Users\\\\natal\\\\anaconda3\\\\lib\\\\email\\\\parser.py'>, 'uu': <module 'uu' from 'C:\\\\Users\\\\natal\\\\anaconda3\\\\lib\\\\uu.py'>, 'email._encoded_words': <module 'email._encoded_words' from 'C:\\\\Users\\\\natal\\\\anaconda3\\\\lib\\\\email\\\\_encoded_words.py'>, 'email.iterators': <module 'email.iterators' from 'C:\\\\Users\\\\natal\\\\anaconda3\\\\lib\\\\email\\\\iterators.py'>, 'email.message': <module 'email.message' from 'C:\\\\Users\\\\natal\\\\anaconda3\\\\lib\\\\email\\\\message.py'>, 'http.client': <module 'http.client' from 'C:\\\\Users\\\\natal\\\\anaconda3\\\\lib\\\\http\\\\client.py'>, 'urllib.response': <module 'urllib.response' from 'C:\\\\Users\\\\natal\\\\anaconda3\\\\lib\\\\urllib\\\\response.py'>, 'urllib.error': <module 'urllib.error' from 'C:\\\\Users\\\\natal\\\\anaconda3\\\\lib\\\\urllib\\\\error.py'>, 'nturl2path': <module 'nturl2path' from 'C:\\\\Users\\\\natal\\\\anaconda3\\\\lib\\\\nturl2path.py'>, 'urllib.request': <module 'urllib.request' from 'C:\\\\Users\\\\natal\\\\anaconda3\\\\lib\\\\urllib\\\\request.py'>, 'IPython.core.magics.code': <module 'IPython.core.magics.code' from 'C:\\\\Users\\\\natal\\\\anaconda3\\\\lib\\\\site-packages\\\\IPython\\\\core\\\\magics\\\\code.py'>, 'IPython.core.magics.config': <module 'IPython.core.magics.config' from 'C:\\\\Users\\\\natal\\\\anaconda3\\\\lib\\\\site-packages\\\\IPython\\\\core\\\\magics\\\\config.py'>, 'IPython.core.magics.display': <module 'IPython.core.magics.display' from 'C:\\\\Users\\\\natal\\\\anaconda3\\\\lib\\\\site-packages\\\\IPython\\\\core\\\\magics\\\\display.py'>, 'timeit': <module 'timeit' from 'C:\\\\Users\\\\natal\\\\anaconda3\\\\lib\\\\timeit.py'>, '_lsprof': <module '_lsprof' (built-in)>, 'profile': <module 'profile' from 'C:\\\\Users\\\\natal\\\\anaconda3\\\\lib\\\\profile.py'>, 'cProfile': <module 'cProfile' from 'C:\\\\Users\\\\natal\\\\anaconda3\\\\lib\\\\cProfile.py'>, 'pstats': <module 'pstats' from 'C:\\\\Users\\\\natal\\\\anaconda3\\\\lib\\\\pstats.py'>, 'IPython.utils.module_paths': <module 'IPython.utils.module_paths' from 'C:\\\\Users\\\\natal\\\\anaconda3\\\\lib\\\\site-packages\\\\IPython\\\\utils\\\\module_paths.py'>, 'IPython.utils.timing': <module 'IPython.utils.timing' from 'C:\\\\Users\\\\natal\\\\anaconda3\\\\lib\\\\site-packages\\\\IPython\\\\utils\\\\timing.py'>, 'IPython.core.magics.execution': <module 'IPython.core.magics.execution' from 'C:\\\\Users\\\\natal\\\\anaconda3\\\\lib\\\\site-packages\\\\IPython\\\\core\\\\magics\\\\execution.py'>, 'IPython.core.magics.extension': <module 'IPython.core.magics.extension' from 'C:\\\\Users\\\\natal\\\\anaconda3\\\\lib\\\\site-packages\\\\IPython\\\\core\\\\magics\\\\extension.py'>, 'IPython.core.magics.history': <module 'IPython.core.magics.history' from 'C:\\\\Users\\\\natal\\\\anaconda3\\\\lib\\\\site-packages\\\\IPython\\\\core\\\\magics\\\\history.py'>, 'IPython.core.magics.logging': <module 'IPython.core.magics.logging' from 'C:\\\\Users\\\\natal\\\\anaconda3\\\\lib\\\\site-packages\\\\IPython\\\\core\\\\magics\\\\logging.py'>, 'IPython.core.magics.namespace': <module 'IPython.core.magics.namespace' from 'C:\\\\Users\\\\natal\\\\anaconda3\\\\lib\\\\site-packages\\\\IPython\\\\core\\\\magics\\\\namespace.py'>, 'IPython.core.magics.osm': <module 'IPython.core.magics.osm' from 'C:\\\\Users\\\\natal\\\\anaconda3\\\\lib\\\\site-packages\\\\IPython\\\\core\\\\magics\\\\osm.py'>, 'IPython.core.magics.packaging': <module 'IPython.core.magics.packaging' from 'C:\\\\Users\\\\natal\\\\anaconda3\\\\lib\\\\site-packages\\\\IPython\\\\core\\\\magics\\\\packaging.py'>, 'IPython.core.pylabtools': <module 'IPython.core.pylabtools' from 'C:\\\\Users\\\\natal\\\\anaconda3\\\\lib\\\\site-packages\\\\IPython\\\\core\\\\pylabtools.py'>, 'IPython.core.magics.pylab': <module 'IPython.core.magics.pylab' from 'C:\\\\Users\\\\natal\\\\anaconda3\\\\lib\\\\site-packages\\\\IPython\\\\core\\\\magics\\\\pylab.py'>, 'IPython.lib.backgroundjobs': <module 'IPython.lib.backgroundjobs' from 'C:\\\\Users\\\\natal\\\\anaconda3\\\\lib\\\\site-packages\\\\IPython\\\\lib\\\\backgroundjobs.py'>, 'IPython.core.magics.script': <module 'IPython.core.magics.script' from 'C:\\\\Users\\\\natal\\\\anaconda3\\\\lib\\\\site-packages\\\\IPython\\\\core\\\\magics\\\\script.py'>, 'IPython.core.magics': <module 'IPython.core.magics' from 'C:\\\\Users\\\\natal\\\\anaconda3\\\\lib\\\\site-packages\\\\IPython\\\\core\\\\magics\\\\__init__.py'>, 'IPython.core.shellapp': <module 'IPython.core.shellapp' from 'C:\\\\Users\\\\natal\\\\anaconda3\\\\lib\\\\site-packages\\\\IPython\\\\core\\\\shellapp.py'>, 'IPython.extensions': <module 'IPython.extensions' from 'C:\\\\Users\\\\natal\\\\anaconda3\\\\lib\\\\site-packages\\\\IPython\\\\extensions\\\\__init__.py'>, 'IPython.extensions.storemagic': <module 'IPython.extensions.storemagic' from 'C:\\\\Users\\\\natal\\\\anaconda3\\\\lib\\\\site-packages\\\\IPython\\\\extensions\\\\storemagic.py'>, 'IPython.terminal.ipapp': <module 'IPython.terminal.ipapp' from 'C:\\\\Users\\\\natal\\\\anaconda3\\\\lib\\\\site-packages\\\\IPython\\\\terminal\\\\ipapp.py'>, 'IPython.terminal.embed': <module 'IPython.terminal.embed' from 'C:\\\\Users\\\\natal\\\\anaconda3\\\\lib\\\\site-packages\\\\IPython\\\\terminal\\\\embed.py'>, 'IPython.utils.frame': <module 'IPython.utils.frame' from 'C:\\\\Users\\\\natal\\\\anaconda3\\\\lib\\\\site-packages\\\\IPython\\\\utils\\\\frame.py'>, 'IPython': <module 'IPython' from 'C:\\\\Users\\\\natal\\\\anaconda3\\\\lib\\\\site-packages\\\\IPython\\\\__init__.py'>, 'jupyter_client._version': <module 'jupyter_client._version' from 'C:\\\\Users\\\\natal\\\\anaconda3\\\\lib\\\\site-packages\\\\jupyter_client\\\\_version.py'>, 'zmq.backend.select': <module 'zmq.backend.select' from 'C:\\\\Users\\\\natal\\\\anaconda3\\\\lib\\\\site-packages\\\\zmq\\\\backend\\\\select.py'>, 'cython_runtime': <module 'cython_runtime'>, 'zmq.backend.cython.constants': <module 'zmq.backend.cython.constants' from 'C:\\\\Users\\\\natal\\\\anaconda3\\\\lib\\\\site-packages\\\\zmq\\\\backend\\\\cython\\\\constants.cp38-win_amd64.pyd'>, '_cython_0_29_21': <module '_cython_0_29_21'>, 'zmq.backend.cython.error': <module 'zmq.backend.cython.error' from 'C:\\\\Users\\\\natal\\\\anaconda3\\\\lib\\\\site-packages\\\\zmq\\\\backend\\\\cython\\\\error.cp38-win_amd64.pyd'>, 'zmq.error': <module 'zmq.error' from 'C:\\\\Users\\\\natal\\\\anaconda3\\\\lib\\\\site-packages\\\\zmq\\\\error.py'>, 'zmq.backend.cython.message': <module 'zmq.backend.cython.message' from 'C:\\\\Users\\\\natal\\\\anaconda3\\\\lib\\\\site-packages\\\\zmq\\\\backend\\\\cython\\\\message.cp38-win_amd64.pyd'>, 'zmq.backend.cython.context': <module 'zmq.backend.cython.context' from 'C:\\\\Users\\\\natal\\\\anaconda3\\\\lib\\\\site-packages\\\\zmq\\\\backend\\\\cython\\\\context.cp38-win_amd64.pyd'>, 'zmq.backend.cython.socket': <module 'zmq.backend.cython.socket' from 'C:\\\\Users\\\\natal\\\\anaconda3\\\\lib\\\\site-packages\\\\zmq\\\\backend\\\\cython\\\\socket.cp38-win_amd64.pyd'>, 'zmq.backend.cython.utils': <module 'zmq.backend.cython.utils' from 'C:\\\\Users\\\\natal\\\\anaconda3\\\\lib\\\\site-packages\\\\zmq\\\\backend\\\\cython\\\\utils.cp38-win_amd64.pyd'>, 'zmq.backend.cython._poll': <module 'zmq.backend.cython._poll' from 'C:\\\\Users\\\\natal\\\\anaconda3\\\\lib\\\\site-packages\\\\zmq\\\\backend\\\\cython\\\\_poll.cp38-win_amd64.pyd'>, 'zmq.backend.cython._version': <module 'zmq.backend.cython._version' from 'C:\\\\Users\\\\natal\\\\anaconda3\\\\lib\\\\site-packages\\\\zmq\\\\backend\\\\cython\\\\_version.cp38-win_amd64.pyd'>, 'zmq.backend.cython._device': <module 'zmq.backend.cython._device' from 'C:\\\\Users\\\\natal\\\\anaconda3\\\\lib\\\\site-packages\\\\zmq\\\\backend\\\\cython\\\\_device.cp38-win_amd64.pyd'>, 'zmq.backend.cython._proxy_steerable': <module 'zmq.backend.cython._proxy_steerable' from 'C:\\\\Users\\\\natal\\\\anaconda3\\\\lib\\\\site-packages\\\\zmq\\\\backend\\\\cython\\\\_proxy_steerable.cp38-win_amd64.pyd'>, 'zmq.backend.cython': <module 'zmq.backend.cython' from 'C:\\\\Users\\\\natal\\\\anaconda3\\\\lib\\\\site-packages\\\\zmq\\\\backend\\\\cython\\\\__init__.py'>, 'zmq.backend': <module 'zmq.backend' from 'C:\\\\Users\\\\natal\\\\anaconda3\\\\lib\\\\site-packages\\\\zmq\\\\backend\\\\__init__.py'>, 'zmq.utils': <module 'zmq.utils' from 'C:\\\\Users\\\\natal\\\\anaconda3\\\\lib\\\\site-packages\\\\zmq\\\\utils\\\\__init__.py'>, 'zmq.utils.constant_names': <module 'zmq.utils.constant_names' from 'C:\\\\Users\\\\natal\\\\anaconda3\\\\lib\\\\site-packages\\\\zmq\\\\utils\\\\constant_names.py'>, 'zmq.sugar.constants': <module 'zmq.sugar.constants' from 'C:\\\\Users\\\\natal\\\\anaconda3\\\\lib\\\\site-packages\\\\zmq\\\\sugar\\\\constants.py'>, 'zmq.sugar.attrsettr': <module 'zmq.sugar.attrsettr' from 'C:\\\\Users\\\\natal\\\\anaconda3\\\\lib\\\\site-packages\\\\zmq\\\\sugar\\\\attrsettr.py'>, 'zmq.sugar.poll': <module 'zmq.sugar.poll' from 'C:\\\\Users\\\\natal\\\\anaconda3\\\\lib\\\\site-packages\\\\zmq\\\\sugar\\\\poll.py'>, 'zmq.utils.strtypes': <module 'zmq.utils.strtypes' from 'C:\\\\Users\\\\natal\\\\anaconda3\\\\lib\\\\site-packages\\\\zmq\\\\utils\\\\strtypes.py'>, 'zmq.utils.jsonapi': <module 'zmq.utils.jsonapi' from 'C:\\\\Users\\\\natal\\\\anaconda3\\\\lib\\\\site-packages\\\\zmq\\\\utils\\\\jsonapi.py'>, 'zmq.sugar.socket': <module 'zmq.sugar.socket' from 'C:\\\\Users\\\\natal\\\\anaconda3\\\\lib\\\\site-packages\\\\zmq\\\\sugar\\\\socket.py'>, 'zmq.sugar.context': <module 'zmq.sugar.context' from 'C:\\\\Users\\\\natal\\\\anaconda3\\\\lib\\\\site-packages\\\\zmq\\\\sugar\\\\context.py'>, 'zmq.sugar.frame': <module 'zmq.sugar.frame' from 'C:\\\\Users\\\\natal\\\\anaconda3\\\\lib\\\\site-packages\\\\zmq\\\\sugar\\\\frame.py'>, 'zmq.sugar.tracker': <module 'zmq.sugar.tracker' from 'C:\\\\Users\\\\natal\\\\anaconda3\\\\lib\\\\site-packages\\\\zmq\\\\sugar\\\\tracker.py'>, 'zmq.sugar.version': <module 'zmq.sugar.version' from 'C:\\\\Users\\\\natal\\\\anaconda3\\\\lib\\\\site-packages\\\\zmq\\\\sugar\\\\version.py'>, 'zmq.sugar.stopwatch': <module 'zmq.sugar.stopwatch' from 'C:\\\\Users\\\\natal\\\\anaconda3\\\\lib\\\\site-packages\\\\zmq\\\\sugar\\\\stopwatch.py'>, 'zmq.sugar': <module 'zmq.sugar' from 'C:\\\\Users\\\\natal\\\\anaconda3\\\\lib\\\\site-packages\\\\zmq\\\\sugar\\\\__init__.py'>, 'zmq': <module 'zmq' from 'C:\\\\Users\\\\natal\\\\anaconda3\\\\lib\\\\site-packages\\\\zmq\\\\__init__.py'>, 'jupyter_client.localinterfaces': <module 'jupyter_client.localinterfaces' from 'C:\\\\Users\\\\natal\\\\anaconda3\\\\lib\\\\site-packages\\\\jupyter_client\\\\localinterfaces.py'>, 'jupyter_core.version': <module 'jupyter_core.version' from 'C:\\\\Users\\\\natal\\\\anaconda3\\\\lib\\\\site-packages\\\\jupyter_core\\\\version.py'>, 'jupyter_core': <module 'jupyter_core' from 'C:\\\\Users\\\\natal\\\\anaconda3\\\\lib\\\\site-packages\\\\jupyter_core\\\\__init__.py'>, 'jupyter_core.paths': <module 'jupyter_core.paths' from 'C:\\\\Users\\\\natal\\\\anaconda3\\\\lib\\\\site-packages\\\\jupyter_core\\\\paths.py'>, 'jupyter_client.utils': <module 'jupyter_client.utils' from 'C:\\\\Users\\\\natal\\\\anaconda3\\\\lib\\\\site-packages\\\\jupyter_client\\\\utils.py'>, 'jupyter_client.connect': <module 'jupyter_client.connect' from 'C:\\\\Users\\\\natal\\\\anaconda3\\\\lib\\\\site-packages\\\\jupyter_client\\\\connect.py'>, 'traitlets.log': <module 'traitlets.log' from 'C:\\\\Users\\\\natal\\\\anaconda3\\\\lib\\\\site-packages\\\\traitlets\\\\log.py'>, 'jupyter_client.launcher': <module 'jupyter_client.launcher' from 'C:\\\\Users\\\\natal\\\\anaconda3\\\\lib\\\\site-packages\\\\jupyter_client\\\\launcher.py'>, 'jupyter_client.channelsabc': <module 'jupyter_client.channelsabc' from 'C:\\\\Users\\\\natal\\\\anaconda3\\\\lib\\\\site-packages\\\\jupyter_client\\\\channelsabc.py'>, 'jupyter_client.channels': <module 'jupyter_client.channels' from 'C:\\\\Users\\\\natal\\\\anaconda3\\\\lib\\\\site-packages\\\\jupyter_client\\\\channels.py'>, 'jupyter_client.clientabc': <module 'jupyter_client.clientabc' from 'C:\\\\Users\\\\natal\\\\anaconda3\\\\lib\\\\site-packages\\\\jupyter_client\\\\clientabc.py'>, 'jupyter_client.client': <module 'jupyter_client.client' from 'C:\\\\Users\\\\natal\\\\anaconda3\\\\lib\\\\site-packages\\\\jupyter_client\\\\client.py'>, 'jupyter_client.kernelspec': <module 'jupyter_client.kernelspec' from 'C:\\\\Users\\\\natal\\\\anaconda3\\\\lib\\\\site-packages\\\\jupyter_client\\\\kernelspec.py'>, 'jupyter_client.managerabc': <module 'jupyter_client.managerabc' from 'C:\\\\Users\\\\natal\\\\anaconda3\\\\lib\\\\site-packages\\\\jupyter_client\\\\managerabc.py'>, 'jupyter_client.manager': <module 'jupyter_client.manager' from 'C:\\\\Users\\\\natal\\\\anaconda3\\\\lib\\\\site-packages\\\\jupyter_client\\\\manager.py'>, 'jupyter_client.blocking.channels': <module 'jupyter_client.blocking.channels' from 'C:\\\\Users\\\\natal\\\\anaconda3\\\\lib\\\\site-packages\\\\jupyter_client\\\\blocking\\\\channels.py'>, 'jupyter_client.blocking.client': <module 'jupyter_client.blocking.client' from 'C:\\\\Users\\\\natal\\\\anaconda3\\\\lib\\\\site-packages\\\\jupyter_client\\\\blocking\\\\client.py'>, 'jupyter_client.blocking': <module 'jupyter_client.blocking' from 'C:\\\\Users\\\\natal\\\\anaconda3\\\\lib\\\\site-packages\\\\jupyter_client\\\\blocking\\\\__init__.py'>, 'zmq._future': <module 'zmq._future' from 'C:\\\\Users\\\\natal\\\\anaconda3\\\\lib\\\\site-packages\\\\zmq\\\\_future.py'>, 'zmq.asyncio': <module 'zmq.asyncio' from 'C:\\\\Users\\\\natal\\\\anaconda3\\\\lib\\\\site-packages\\\\zmq\\\\asyncio.py'>, 'jupyter_client.asynchronous.channels': <module 'jupyter_client.asynchronous.channels' from 'C:\\\\Users\\\\natal\\\\anaconda3\\\\lib\\\\site-packages\\\\jupyter_client\\\\asynchronous\\\\channels.py'>, 'jupyter_client.asynchronous.client': <module 'jupyter_client.asynchronous.client' from 'C:\\\\Users\\\\natal\\\\anaconda3\\\\lib\\\\site-packages\\\\jupyter_client\\\\asynchronous\\\\client.py'>, 'jupyter_client.asynchronous': <module 'jupyter_client.asynchronous' from 'C:\\\\Users\\\\natal\\\\anaconda3\\\\lib\\\\site-packages\\\\jupyter_client\\\\asynchronous\\\\__init__.py'>, 'uuid': <module 'uuid' from 'C:\\\\Users\\\\natal\\\\anaconda3\\\\lib\\\\uuid.py'>, 'jupyter_client.multikernelmanager': <module 'jupyter_client.multikernelmanager' from 'C:\\\\Users\\\\natal\\\\anaconda3\\\\lib\\\\site-packages\\\\jupyter_client\\\\multikernelmanager.py'>, 'jupyter_client': <module 'jupyter_client' from 'C:\\\\Users\\\\natal\\\\anaconda3\\\\lib\\\\site-packages\\\\jupyter_client\\\\__init__.py'>, 'ipykernel.connect': <module 'ipykernel.connect' from 'C:\\\\Users\\\\natal\\\\anaconda3\\\\lib\\\\site-packages\\\\ipykernel\\\\connect.py'>, 'ipykernel': <module 'ipykernel' from 'C:\\\\Users\\\\natal\\\\anaconda3\\\\lib\\\\site-packages\\\\ipykernel\\\\__init__.py'>, 'tornado': <module 'tornado' from 'C:\\\\Users\\\\natal\\\\anaconda3\\\\lib\\\\site-packages\\\\tornado\\\\__init__.py'>, 'numbers': <module 'numbers' from 'C:\\\\Users\\\\natal\\\\anaconda3\\\\lib\\\\numbers.py'>, 'logging.handlers': <module 'logging.handlers' from 'C:\\\\Users\\\\natal\\\\anaconda3\\\\lib\\\\logging\\\\handlers.py'>, 'tornado.speedups': <module 'tornado.speedups' from 'C:\\\\Users\\\\natal\\\\anaconda3\\\\lib\\\\site-packages\\\\tornado\\\\speedups.cp38-win_amd64.pyd'>, 'tornado.util': <module 'tornado.util' from 'C:\\\\Users\\\\natal\\\\anaconda3\\\\lib\\\\site-packages\\\\tornado\\\\util.py'>, 'tornado.escape': <module 'tornado.escape' from 'C:\\\\Users\\\\natal\\\\anaconda3\\\\lib\\\\site-packages\\\\tornado\\\\escape.py'>, 'colorama.ansi': <module 'colorama.ansi' from 'C:\\\\Users\\\\natal\\\\anaconda3\\\\lib\\\\site-packages\\\\colorama\\\\ansi.py'>, 'colorama.win32': <module 'colorama.win32' from 'C:\\\\Users\\\\natal\\\\anaconda3\\\\lib\\\\site-packages\\\\colorama\\\\win32.py'>, 'colorama.winterm': <module 'colorama.winterm' from 'C:\\\\Users\\\\natal\\\\anaconda3\\\\lib\\\\site-packages\\\\colorama\\\\winterm.py'>, 'colorama.ansitowin32': <module 'colorama.ansitowin32' from 'C:\\\\Users\\\\natal\\\\anaconda3\\\\lib\\\\site-packages\\\\colorama\\\\ansitowin32.py'>, 'colorama.initialise': <module 'colorama.initialise' from 'C:\\\\Users\\\\natal\\\\anaconda3\\\\lib\\\\site-packages\\\\colorama\\\\initialise.py'>, 'colorama': <module 'colorama' from 'C:\\\\Users\\\\natal\\\\anaconda3\\\\lib\\\\site-packages\\\\colorama\\\\__init__.py'>, 'tornado.log': <module 'tornado.log' from 'C:\\\\Users\\\\natal\\\\anaconda3\\\\lib\\\\site-packages\\\\tornado\\\\log.py'>, 'tornado.concurrent': <module 'tornado.concurrent' from 'C:\\\\Users\\\\natal\\\\anaconda3\\\\lib\\\\site-packages\\\\tornado\\\\concurrent.py'>, 'tornado.ioloop': <module 'tornado.ioloop' from 'C:\\\\Users\\\\natal\\\\anaconda3\\\\lib\\\\site-packages\\\\tornado\\\\ioloop.py'>, 'tornado.platform': <module 'tornado.platform' from 'C:\\\\Users\\\\natal\\\\anaconda3\\\\lib\\\\site-packages\\\\tornado\\\\platform\\\\__init__.py'>, 'tornado.gen': <module 'tornado.gen' from 'C:\\\\Users\\\\natal\\\\anaconda3\\\\lib\\\\site-packages\\\\tornado\\\\gen.py'>, 'tornado.platform.asyncio': <module 'tornado.platform.asyncio' from 'C:\\\\Users\\\\natal\\\\anaconda3\\\\lib\\\\site-packages\\\\tornado\\\\platform\\\\asyncio.py'>, 'zmq.eventloop.ioloop': <module 'zmq.eventloop.ioloop' from 'C:\\\\Users\\\\natal\\\\anaconda3\\\\lib\\\\site-packages\\\\zmq\\\\eventloop\\\\ioloop.py'>, 'zmq.eventloop': <module 'zmq.eventloop' from 'C:\\\\Users\\\\natal\\\\anaconda3\\\\lib\\\\site-packages\\\\zmq\\\\eventloop\\\\__init__.py'>, 'zmq.eventloop.zmqstream': <module 'zmq.eventloop.zmqstream' from 'C:\\\\Users\\\\natal\\\\anaconda3\\\\lib\\\\site-packages\\\\zmq\\\\eventloop\\\\zmqstream.py'>, 'ipython_genutils.importstring': <module 'ipython_genutils.importstring' from 'C:\\\\Users\\\\natal\\\\anaconda3\\\\lib\\\\site-packages\\\\ipython_genutils\\\\importstring.py'>, 'imp': <module 'imp' from 'C:\\\\Users\\\\natal\\\\anaconda3\\\\lib\\\\imp.py'>, 'hmac': <module 'hmac' from 'C:\\\\Users\\\\natal\\\\anaconda3\\\\lib\\\\hmac.py'>, 'dateutil._version': <module 'dateutil._version' from 'C:\\\\Users\\\\natal\\\\anaconda3\\\\lib\\\\site-packages\\\\dateutil\\\\_version.py'>, 'dateutil': <module 'dateutil' from 'C:\\\\Users\\\\natal\\\\anaconda3\\\\lib\\\\site-packages\\\\dateutil\\\\__init__.py'>, 'six': <module 'six' from 'C:\\\\Users\\\\natal\\\\anaconda3\\\\lib\\\\site-packages\\\\six.py'>, '_decimal': <module '_decimal' from 'C:\\\\Users\\\\natal\\\\anaconda3\\\\DLLs\\\\_decimal.pyd'>, 'decimal': <module 'decimal' from 'C:\\\\Users\\\\natal\\\\anaconda3\\\\lib\\\\decimal.py'>, 'dateutil._common': <module 'dateutil._common' from 'C:\\\\Users\\\\natal\\\\anaconda3\\\\lib\\\\site-packages\\\\dateutil\\\\_common.py'>, 'dateutil.relativedelta': <module 'dateutil.relativedelta' from 'C:\\\\Users\\\\natal\\\\anaconda3\\\\lib\\\\site-packages\\\\dateutil\\\\relativedelta.py'>, 'six.moves': <module 'six.moves' (<six._SixMetaPathImporter object at 0x000001FAFD018B20>)>, 'dateutil.tz._common': <module 'dateutil.tz._common' from 'C:\\\\Users\\\\natal\\\\anaconda3\\\\lib\\\\site-packages\\\\dateutil\\\\tz\\\\_common.py'>, 'dateutil.tz._factories': <module 'dateutil.tz._factories' from 'C:\\\\Users\\\\natal\\\\anaconda3\\\\lib\\\\site-packages\\\\dateutil\\\\tz\\\\_factories.py'>, 'dateutil.tz.win': <module 'dateutil.tz.win' from 'C:\\\\Users\\\\natal\\\\anaconda3\\\\lib\\\\site-packages\\\\dateutil\\\\tz\\\\win.py'>, 'dateutil.tz.tz': <module 'dateutil.tz.tz' from 'C:\\\\Users\\\\natal\\\\anaconda3\\\\lib\\\\site-packages\\\\dateutil\\\\tz\\\\tz.py'>, 'dateutil.tz': <module 'dateutil.tz' from 'C:\\\\Users\\\\natal\\\\anaconda3\\\\lib\\\\site-packages\\\\dateutil\\\\tz\\\\__init__.py'>, 'dateutil.parser._parser': <module 'dateutil.parser._parser' from 'C:\\\\Users\\\\natal\\\\anaconda3\\\\lib\\\\site-packages\\\\dateutil\\\\parser\\\\_parser.py'>, 'dateutil.parser.isoparser': <module 'dateutil.parser.isoparser' from 'C:\\\\Users\\\\natal\\\\anaconda3\\\\lib\\\\site-packages\\\\dateutil\\\\parser\\\\isoparser.py'>, 'dateutil.parser': <module 'dateutil.parser' from 'C:\\\\Users\\\\natal\\\\anaconda3\\\\lib\\\\site-packages\\\\dateutil\\\\parser\\\\__init__.py'>, '_strptime': <module '_strptime' from 'C:\\\\Users\\\\natal\\\\anaconda3\\\\lib\\\\_strptime.py'>, 'jupyter_client.jsonutil': <module 'jupyter_client.jsonutil' from 'C:\\\\Users\\\\natal\\\\anaconda3\\\\lib\\\\site-packages\\\\jupyter_client\\\\jsonutil.py'>, 'jupyter_client.adapter': <module 'jupyter_client.adapter' from 'C:\\\\Users\\\\natal\\\\anaconda3\\\\lib\\\\site-packages\\\\jupyter_client\\\\adapter.py'>, 'jupyter_client.session': <module 'jupyter_client.session' from 'C:\\\\Users\\\\natal\\\\anaconda3\\\\lib\\\\site-packages\\\\jupyter_client\\\\session.py'>, 'ipykernel.iostream': <module 'ipykernel.iostream' from 'C:\\\\Users\\\\natal\\\\anaconda3\\\\lib\\\\site-packages\\\\ipykernel\\\\iostream.py'>, 'ipykernel.heartbeat': <module 'ipykernel.heartbeat' from 'C:\\\\Users\\\\natal\\\\anaconda3\\\\lib\\\\site-packages\\\\ipykernel\\\\heartbeat.py'>, 'IPython.utils.tokenutil': <module 'IPython.utils.tokenutil' from 'C:\\\\Users\\\\natal\\\\anaconda3\\\\lib\\\\site-packages\\\\IPython\\\\utils\\\\tokenutil.py'>, 'tornado.locks': <module 'tornado.locks' from 'C:\\\\Users\\\\natal\\\\anaconda3\\\\lib\\\\site-packages\\\\tornado\\\\locks.py'>, 'tornado.queues': <module 'tornado.queues' from 'C:\\\\Users\\\\natal\\\\anaconda3\\\\lib\\\\site-packages\\\\tornado\\\\queues.py'>, 'ipykernel.jsonutil': <module 'ipykernel.jsonutil' from 'C:\\\\Users\\\\natal\\\\anaconda3\\\\lib\\\\site-packages\\\\ipykernel\\\\jsonutil.py'>, 'ipykernel.kernelbase': <module 'ipykernel.kernelbase' from 'C:\\\\Users\\\\natal\\\\anaconda3\\\\lib\\\\site-packages\\\\ipykernel\\\\kernelbase.py'>, 'ipykernel.comm.comm': <module 'ipykernel.comm.comm' from 'C:\\\\Users\\\\natal\\\\anaconda3\\\\lib\\\\site-packages\\\\ipykernel\\\\comm\\\\comm.py'>, 'ipykernel.comm.manager': <module 'ipykernel.comm.manager' from 'C:\\\\Users\\\\natal\\\\anaconda3\\\\lib\\\\site-packages\\\\ipykernel\\\\comm\\\\manager.py'>, 'ipykernel.comm': <module 'ipykernel.comm' from 'C:\\\\Users\\\\natal\\\\anaconda3\\\\lib\\\\site-packages\\\\ipykernel\\\\comm\\\\__init__.py'>, 'IPython.core.payloadpage': <module 'IPython.core.payloadpage' from 'C:\\\\Users\\\\natal\\\\anaconda3\\\\lib\\\\site-packages\\\\IPython\\\\core\\\\payloadpage.py'>, 'ipykernel.displayhook': <module 'ipykernel.displayhook' from 'C:\\\\Users\\\\natal\\\\anaconda3\\\\lib\\\\site-packages\\\\ipykernel\\\\displayhook.py'>, 'ipykernel.zmqshell': <module 'ipykernel.zmqshell' from 'C:\\\\Users\\\\natal\\\\anaconda3\\\\lib\\\\site-packages\\\\ipykernel\\\\zmqshell.py'>, 'distutils': <module 'distutils' from 'C:\\\\Users\\\\natal\\\\anaconda3\\\\lib\\\\distutils\\\\__init__.py'>, 'distutils.version': <module 'distutils.version' from 'C:\\\\Users\\\\natal\\\\anaconda3\\\\lib\\\\distutils\\\\version.py'>, 'ipykernel.eventloops': <module 'ipykernel.eventloops' from 'C:\\\\Users\\\\natal\\\\anaconda3\\\\lib\\\\site-packages\\\\ipykernel\\\\eventloops.py'>, 'ipykernel.ipkernel': <module 'ipykernel.ipkernel' from 'C:\\\\Users\\\\natal\\\\anaconda3\\\\lib\\\\site-packages\\\\ipykernel\\\\ipkernel.py'>, 'ipykernel.parentpoller': <module 'ipykernel.parentpoller' from 'C:\\\\Users\\\\natal\\\\anaconda3\\\\lib\\\\site-packages\\\\ipykernel\\\\parentpoller.py'>, 'ipykernel.kernelapp': <module 'ipykernel.kernelapp' from 'C:\\\\Users\\\\natal\\\\anaconda3\\\\lib\\\\site-packages\\\\ipykernel\\\\kernelapp.py'>, 'win32api': <module 'win32api' from 'C:\\\\Users\\\\natal\\\\anaconda3\\\\lib\\\\site-packages\\\\win32\\\\win32api.pyd'>, 'win32security': <module 'win32security' from 'C:\\\\Users\\\\natal\\\\anaconda3\\\\lib\\\\site-packages\\\\win32\\\\win32security.pyd'>, 'ntsecuritycon': <module 'ntsecuritycon' from 'C:\\\\Users\\\\natal\\\\anaconda3\\\\lib\\\\site-packages\\\\win32\\\\lib\\\\ntsecuritycon.py'>, 'faulthandler': <module 'faulthandler' (built-in)>, 'ipykernel.codeutil': <module 'ipykernel.codeutil' from 'C:\\\\Users\\\\natal\\\\anaconda3\\\\lib\\\\site-packages\\\\ipykernel\\\\codeutil.py'>, 'ipykernel.pickleutil': <module 'ipykernel.pickleutil' from 'C:\\\\Users\\\\natal\\\\anaconda3\\\\lib\\\\site-packages\\\\ipykernel\\\\pickleutil.py'>, 'ipykernel.serialize': <module 'ipykernel.serialize' from 'C:\\\\Users\\\\natal\\\\anaconda3\\\\lib\\\\site-packages\\\\ipykernel\\\\serialize.py'>, 'ipykernel.datapub': <module 'ipykernel.datapub' from 'C:\\\\Users\\\\natal\\\\anaconda3\\\\lib\\\\site-packages\\\\ipykernel\\\\datapub.py'>, 'IPython.core.completerlib': <module 'IPython.core.completerlib' from 'C:\\\\Users\\\\natal\\\\anaconda3\\\\lib\\\\site-packages\\\\IPython\\\\core\\\\completerlib.py'>, 'storemagic': <module 'storemagic' from 'C:\\\\Users\\\\natal\\\\anaconda3\\\\lib\\\\site-packages\\\\IPython\\\\extensions\\\\storemagic.py'>, 'nbformat._version': <module 'nbformat._version' from 'C:\\\\Users\\\\natal\\\\anaconda3\\\\lib\\\\site-packages\\\\nbformat\\\\_version.py'>, 'ipython_genutils.ipstruct': <module 'ipython_genutils.ipstruct' from 'C:\\\\Users\\\\natal\\\\anaconda3\\\\lib\\\\site-packages\\\\ipython_genutils\\\\ipstruct.py'>, 'nbformat.v1.nbbase': <module 'nbformat.v1.nbbase' from 'C:\\\\Users\\\\natal\\\\anaconda3\\\\lib\\\\site-packages\\\\nbformat\\\\v1\\\\nbbase.py'>, 'nbformat.v1.rwbase': <module 'nbformat.v1.rwbase' from 'C:\\\\Users\\\\natal\\\\anaconda3\\\\lib\\\\site-packages\\\\nbformat\\\\v1\\\\rwbase.py'>, 'nbformat.v1.nbjson': <module 'nbformat.v1.nbjson' from 'C:\\\\Users\\\\natal\\\\anaconda3\\\\lib\\\\site-packages\\\\nbformat\\\\v1\\\\nbjson.py'>, 'nbformat.v1.convert': <module 'nbformat.v1.convert' from 'C:\\\\Users\\\\natal\\\\anaconda3\\\\lib\\\\site-packages\\\\nbformat\\\\v1\\\\convert.py'>, 'nbformat.v1': <module 'nbformat.v1' from 'C:\\\\Users\\\\natal\\\\anaconda3\\\\lib\\\\site-packages\\\\nbformat\\\\v1\\\\__init__.py'>, 'nbformat.v2.nbbase': <module 'nbformat.v2.nbbase' from 'C:\\\\Users\\\\natal\\\\anaconda3\\\\lib\\\\site-packages\\\\nbformat\\\\v2\\\\nbbase.py'>, 'nbformat._compat': <module 'nbformat._compat' from 'C:\\\\Users\\\\natal\\\\anaconda3\\\\lib\\\\site-packages\\\\nbformat\\\\_compat.py'>, 'nbformat.v2.rwbase': <module 'nbformat.v2.rwbase' from 'C:\\\\Users\\\\natal\\\\anaconda3\\\\lib\\\\site-packages\\\\nbformat\\\\v2\\\\rwbase.py'>, 'nbformat.v2.nbjson': <module 'nbformat.v2.nbjson' from 'C:\\\\Users\\\\natal\\\\anaconda3\\\\lib\\\\site-packages\\\\nbformat\\\\v2\\\\nbjson.py'>, 'nbformat.v2.nbxml': <module 'nbformat.v2.nbxml' from 'C:\\\\Users\\\\natal\\\\anaconda3\\\\lib\\\\site-packages\\\\nbformat\\\\v2\\\\nbxml.py'>, 'nbformat.v2.nbpy': <module 'nbformat.v2.nbpy' from 'C:\\\\Users\\\\natal\\\\anaconda3\\\\lib\\\\site-packages\\\\nbformat\\\\v2\\\\nbpy.py'>, 'nbformat.v2.convert': <module 'nbformat.v2.convert' from 'C:\\\\Users\\\\natal\\\\anaconda3\\\\lib\\\\site-packages\\\\nbformat\\\\v2\\\\convert.py'>, 'nbformat.v2': <module 'nbformat.v2' from 'C:\\\\Users\\\\natal\\\\anaconda3\\\\lib\\\\site-packages\\\\nbformat\\\\v2\\\\__init__.py'>, 'nbformat.v3.nbbase': <module 'nbformat.v3.nbbase' from 'C:\\\\Users\\\\natal\\\\anaconda3\\\\lib\\\\site-packages\\\\nbformat\\\\v3\\\\nbbase.py'>, 'nbformat.v3.rwbase': <module 'nbformat.v3.rwbase' from 'C:\\\\Users\\\\natal\\\\anaconda3\\\\lib\\\\site-packages\\\\nbformat\\\\v3\\\\rwbase.py'>, 'nbformat.v3.nbjson': <module 'nbformat.v3.nbjson' from 'C:\\\\Users\\\\natal\\\\anaconda3\\\\lib\\\\site-packages\\\\nbformat\\\\v3\\\\nbjson.py'>, 'nbformat.v3.nbpy': <module 'nbformat.v3.nbpy' from 'C:\\\\Users\\\\natal\\\\anaconda3\\\\lib\\\\site-packages\\\\nbformat\\\\v3\\\\nbpy.py'>, 'nbformat.v3.convert': <module 'nbformat.v3.convert' from 'C:\\\\Users\\\\natal\\\\anaconda3\\\\lib\\\\site-packages\\\\nbformat\\\\v3\\\\convert.py'>, 'nbformat.v3': <module 'nbformat.v3' from 'C:\\\\Users\\\\natal\\\\anaconda3\\\\lib\\\\site-packages\\\\nbformat\\\\v3\\\\__init__.py'>, 'nbformat.notebooknode': <module 'nbformat.notebooknode' from 'C:\\\\Users\\\\natal\\\\anaconda3\\\\lib\\\\site-packages\\\\nbformat\\\\notebooknode.py'>, 'nbformat.corpus': <module 'nbformat.corpus' from 'C:\\\\Users\\\\natal\\\\anaconda3\\\\lib\\\\site-packages\\\\nbformat\\\\corpus\\\\__init__.py'>, 'nbformat.corpus.words': <module 'nbformat.corpus.words' from 'C:\\\\Users\\\\natal\\\\anaconda3\\\\lib\\\\site-packages\\\\nbformat\\\\corpus\\\\words.py'>, 'nbformat.v4.nbbase': <module 'nbformat.v4.nbbase' from 'C:\\\\Users\\\\natal\\\\anaconda3\\\\lib\\\\site-packages\\\\nbformat\\\\v4\\\\nbbase.py'>, 'nbformat.v4.rwbase': <module 'nbformat.v4.rwbase' from 'C:\\\\Users\\\\natal\\\\anaconda3\\\\lib\\\\site-packages\\\\nbformat\\\\v4\\\\rwbase.py'>, 'nbformat.v4.nbjson': <module 'nbformat.v4.nbjson' from 'C:\\\\Users\\\\natal\\\\anaconda3\\\\lib\\\\site-packages\\\\nbformat\\\\v4\\\\nbjson.py'>, 'nbformat.v4.convert': <module 'nbformat.v4.convert' from 'C:\\\\Users\\\\natal\\\\anaconda3\\\\lib\\\\site-packages\\\\nbformat\\\\v4\\\\convert.py'>, 'nbformat.v4': <module 'nbformat.v4' from 'C:\\\\Users\\\\natal\\\\anaconda3\\\\lib\\\\site-packages\\\\nbformat\\\\v4\\\\__init__.py'>, 'nbformat.sentinel': <module 'nbformat.sentinel' from 'C:\\\\Users\\\\natal\\\\anaconda3\\\\lib\\\\site-packages\\\\nbformat\\\\sentinel.py'>, 'attr._config': <module 'attr._config' from 'C:\\\\Users\\\\natal\\\\anaconda3\\\\lib\\\\site-packages\\\\attr\\\\_config.py'>, 'attr.exceptions': <module 'attr.exceptions' from 'C:\\\\Users\\\\natal\\\\anaconda3\\\\lib\\\\site-packages\\\\attr\\\\exceptions.py'>, 'attr.setters': <module 'attr.setters' from 'C:\\\\Users\\\\natal\\\\anaconda3\\\\lib\\\\site-packages\\\\attr\\\\setters.py'>, 'attr._compat': <module 'attr._compat' from 'C:\\\\Users\\\\natal\\\\anaconda3\\\\lib\\\\site-packages\\\\attr\\\\_compat.py'>, 'attr._make': <module 'attr._make' from 'C:\\\\Users\\\\natal\\\\anaconda3\\\\lib\\\\site-packages\\\\attr\\\\_make.py'>, 'attr.converters': <module 'attr.converters' from 'C:\\\\Users\\\\natal\\\\anaconda3\\\\lib\\\\site-packages\\\\attr\\\\converters.py'>, 'attr.filters': <module 'attr.filters' from 'C:\\\\Users\\\\natal\\\\anaconda3\\\\lib\\\\site-packages\\\\attr\\\\filters.py'>, 'attr.validators': <module 'attr.validators' from 'C:\\\\Users\\\\natal\\\\anaconda3\\\\lib\\\\site-packages\\\\attr\\\\validators.py'>, 'attr._funcs': <module 'attr._funcs' from 'C:\\\\Users\\\\natal\\\\anaconda3\\\\lib\\\\site-packages\\\\attr\\\\_funcs.py'>, 'attr._version_info': <module 'attr._version_info' from 'C:\\\\Users\\\\natal\\\\anaconda3\\\\lib\\\\site-packages\\\\attr\\\\_version_info.py'>, 'attr._next_gen': <module 'attr._next_gen' from 'C:\\\\Users\\\\natal\\\\anaconda3\\\\lib\\\\site-packages\\\\attr\\\\_next_gen.py'>, 'attr': <module 'attr' from 'C:\\\\Users\\\\natal\\\\anaconda3\\\\lib\\\\site-packages\\\\attr\\\\__init__.py'>, 'jsonschema.compat': <module 'jsonschema.compat' from 'C:\\\\Users\\\\natal\\\\anaconda3\\\\lib\\\\site-packages\\\\jsonschema\\\\compat.py'>, 'jsonschema._utils': <module 'jsonschema._utils' from 'C:\\\\Users\\\\natal\\\\anaconda3\\\\lib\\\\site-packages\\\\jsonschema\\\\_utils.py'>, 'jsonschema.exceptions': <module 'jsonschema.exceptions' from 'C:\\\\Users\\\\natal\\\\anaconda3\\\\lib\\\\site-packages\\\\jsonschema\\\\exceptions.py'>, 'idna.package_data': <module 'idna.package_data' from 'C:\\\\Users\\\\natal\\\\anaconda3\\\\lib\\\\site-packages\\\\idna\\\\package_data.py'>, 'idna.idnadata': <module 'idna.idnadata' from 'C:\\\\Users\\\\natal\\\\anaconda3\\\\lib\\\\site-packages\\\\idna\\\\idnadata.py'>, 'idna.intranges': <module 'idna.intranges' from 'C:\\\\Users\\\\natal\\\\anaconda3\\\\lib\\\\site-packages\\\\idna\\\\intranges.py'>, 'idna.core': <module 'idna.core' from 'C:\\\\Users\\\\natal\\\\anaconda3\\\\lib\\\\site-packages\\\\idna\\\\core.py'>, 'idna': <module 'idna' from 'C:\\\\Users\\\\natal\\\\anaconda3\\\\lib\\\\site-packages\\\\idna\\\\__init__.py'>, 'jsonschema._format': <module 'jsonschema._format' from 'C:\\\\Users\\\\natal\\\\anaconda3\\\\lib\\\\site-packages\\\\jsonschema\\\\_format.py'>, 'pyrsistent._transformations': <module 'pyrsistent._transformations' from 'C:\\\\Users\\\\natal\\\\anaconda3\\\\lib\\\\site-packages\\\\pyrsistent\\\\_transformations.py'>, 'pvectorc': <module 'pvectorc' from 'C:\\\\Users\\\\natal\\\\anaconda3\\\\lib\\\\site-packages\\\\pvectorc.cp38-win_amd64.pyd'>, 'pyrsistent._pvector': <module 'pyrsistent._pvector' from 'C:\\\\Users\\\\natal\\\\anaconda3\\\\lib\\\\site-packages\\\\pyrsistent\\\\_pvector.py'>, 'pyrsistent._pmap': <module 'pyrsistent._pmap' from 'C:\\\\Users\\\\natal\\\\anaconda3\\\\lib\\\\site-packages\\\\pyrsistent\\\\_pmap.py'>, 'pyrsistent._pset': <module 'pyrsistent._pset' from 'C:\\\\Users\\\\natal\\\\anaconda3\\\\lib\\\\site-packages\\\\pyrsistent\\\\_pset.py'>, 'pyrsistent._pbag': <module 'pyrsistent._pbag' from 'C:\\\\Users\\\\natal\\\\anaconda3\\\\lib\\\\site-packages\\\\pyrsistent\\\\_pbag.py'>, 'pyrsistent._plist': <module 'pyrsistent._plist' from 'C:\\\\Users\\\\natal\\\\anaconda3\\\\lib\\\\site-packages\\\\pyrsistent\\\\_plist.py'>, 'pyrsistent._pdeque': <module 'pyrsistent._pdeque' from 'C:\\\\Users\\\\natal\\\\anaconda3\\\\lib\\\\site-packages\\\\pyrsistent\\\\_pdeque.py'>, 'pyrsistent._checked_types': <module 'pyrsistent._checked_types' from 'C:\\\\Users\\\\natal\\\\anaconda3\\\\lib\\\\site-packages\\\\pyrsistent\\\\_checked_types.py'>, 'pyrsistent._field_common': <module 'pyrsistent._field_common' from 'C:\\\\Users\\\\natal\\\\anaconda3\\\\lib\\\\site-packages\\\\pyrsistent\\\\_field_common.py'>, 'pyrsistent._precord': <module 'pyrsistent._precord' from 'C:\\\\Users\\\\natal\\\\anaconda3\\\\lib\\\\site-packages\\\\pyrsistent\\\\_precord.py'>, 'pyrsistent._pclass': <module 'pyrsistent._pclass' from 'C:\\\\Users\\\\natal\\\\anaconda3\\\\lib\\\\site-packages\\\\pyrsistent\\\\_pclass.py'>, 'pyrsistent._immutable': <module 'pyrsistent._immutable' from 'C:\\\\Users\\\\natal\\\\anaconda3\\\\lib\\\\site-packages\\\\pyrsistent\\\\_immutable.py'>, 'pyrsistent._helpers': <module 'pyrsistent._helpers' from 'C:\\\\Users\\\\natal\\\\anaconda3\\\\lib\\\\site-packages\\\\pyrsistent\\\\_helpers.py'>, 'pyrsistent._toolz': <module 'pyrsistent._toolz' from 'C:\\\\Users\\\\natal\\\\anaconda3\\\\lib\\\\site-packages\\\\pyrsistent\\\\_toolz.py'>, 'pyrsistent': <module 'pyrsistent' from 'C:\\\\Users\\\\natal\\\\anaconda3\\\\lib\\\\site-packages\\\\pyrsistent\\\\__init__.py'>, 'jsonschema._types': <module 'jsonschema._types' from 'C:\\\\Users\\\\natal\\\\anaconda3\\\\lib\\\\site-packages\\\\jsonschema\\\\_types.py'>, 'jsonschema._legacy_validators': <module 'jsonschema._legacy_validators' from 'C:\\\\Users\\\\natal\\\\anaconda3\\\\lib\\\\site-packages\\\\jsonschema\\\\_legacy_validators.py'>, 'jsonschema._validators': <module 'jsonschema._validators' from 'C:\\\\Users\\\\natal\\\\anaconda3\\\\lib\\\\site-packages\\\\jsonschema\\\\_validators.py'>, 'jsonschema.validators': <module 'jsonschema.validators' from 'C:\\\\Users\\\\natal\\\\anaconda3\\\\lib\\\\site-packages\\\\jsonschema\\\\validators.py'>, '_csv': <module '_csv' (built-in)>, 'csv': <module 'csv' from 'C:\\\\Users\\\\natal\\\\anaconda3\\\\lib\\\\csv.py'>, 'zipfile': <module 'zipfile' from 'C:\\\\Users\\\\natal\\\\anaconda3\\\\lib\\\\zipfile.py'>, 'configparser': <module 'configparser' from 'C:\\\\Users\\\\natal\\\\anaconda3\\\\lib\\\\configparser.py'>, 'importlib.metadata': <module 'importlib.metadata' from 'C:\\\\Users\\\\natal\\\\anaconda3\\\\lib\\\\importlib\\\\metadata.py'>, 'jsonschema': <module 'jsonschema' from 'C:\\\\Users\\\\natal\\\\anaconda3\\\\lib\\\\site-packages\\\\jsonschema\\\\__init__.py'>, 'nbformat.json_compat': <module 'nbformat.json_compat' from 'C:\\\\Users\\\\natal\\\\anaconda3\\\\lib\\\\site-packages\\\\nbformat\\\\json_compat.py'>, 'nbformat.reader': <module 'nbformat.reader' from 'C:\\\\Users\\\\natal\\\\anaconda3\\\\lib\\\\site-packages\\\\nbformat\\\\reader.py'>, 'nbformat.validator': <module 'nbformat.validator' from 'C:\\\\Users\\\\natal\\\\anaconda3\\\\lib\\\\site-packages\\\\nbformat\\\\validator.py'>, 'nbformat.converter': <module 'nbformat.converter' from 'C:\\\\Users\\\\natal\\\\anaconda3\\\\lib\\\\site-packages\\\\nbformat\\\\converter.py'>, 'nbformat': <module 'nbformat' from 'C:\\\\Users\\\\natal\\\\anaconda3\\\\lib\\\\site-packages\\\\nbformat\\\\__init__.py'>, 'import_ipynb': <module 'import_ipynb' from 'C:\\\\Users\\\\natal\\\\anaconda3\\\\lib\\\\site-packages\\\\import_ipynb.py'>, 'hello': <module 'hello' (<import_ipynb.NotebookLoader object at 0x000001FAFD1F2FD0>)>}\n"
     ]
    }
   ],
   "source": [
    "print(sys.modules)"
   ]
  },
  {
   "cell_type": "code",
   "execution_count": 33,
   "id": "99801ea8",
   "metadata": {},
   "outputs": [
    {
     "name": "stdout",
     "output_type": "stream",
     "text": [
      "C:\\Users\\natal\\Documents\\Курсы\\Курсы\\Python_scripts\\Python_thick\n",
      "C:\\Users\\natal\\anaconda3\\python38.zip\n",
      "C:\\Users\\natal\\anaconda3\\DLLs\n",
      "C:\\Users\\natal\\anaconda3\\lib\n",
      "C:\\Users\\natal\\anaconda3\n",
      "\n",
      "C:\\Users\\natal\\anaconda3\\lib\\site-packages\n",
      "C:\\Users\\natal\\anaconda3\\lib\\site-packages\\locket-0.2.1-py3.8.egg\n",
      "C:\\Users\\natal\\anaconda3\\lib\\site-packages\\win32\n",
      "C:\\Users\\natal\\anaconda3\\lib\\site-packages\\win32\\lib\n",
      "C:\\Users\\natal\\anaconda3\\lib\\site-packages\\Pythonwin\n",
      "C:\\Users\\natal\\anaconda3\\lib\\site-packages\\IPython\\extensions\n",
      "C:\\Users\\natal\\.ipython\n"
     ]
    }
   ],
   "source": [
    "# Посмотреть папки и директории можно так\n",
    "# В директориях lib хранятся пакеты с функциями\n",
    "for i in sys.path:\n",
    "    print(i)"
   ]
  },
  {
   "cell_type": "code",
   "execution_count": null,
   "id": "1338c1e4",
   "metadata": {},
   "outputs": [],
   "source": [
    "\"\"\"\n",
    "Если модуль импортируется несколько раз, то он не импортируется снова, а обращается к тому же объекту\n",
    "\n",
    "\"\"\""
   ]
  },
  {
   "cell_type": "code",
   "execution_count": 35,
   "id": "72ca2e69",
   "metadata": {},
   "outputs": [
    {
     "data": {
      "text/plain": [
       "2177426996736"
      ]
     },
     "execution_count": 35,
     "metadata": {},
     "output_type": "execute_result"
    }
   ],
   "source": [
    "id(sys)"
   ]
  },
  {
   "cell_type": "code",
   "execution_count": 36,
   "id": "d11deb03",
   "metadata": {},
   "outputs": [
    {
     "data": {
      "text/plain": [
       "module"
      ]
     },
     "execution_count": 36,
     "metadata": {},
     "output_type": "execute_result"
    }
   ],
   "source": [
    "type(sys)"
   ]
  },
  {
   "cell_type": "code",
   "execution_count": 37,
   "id": "884e1363",
   "metadata": {},
   "outputs": [],
   "source": [
    "import sys"
   ]
  },
  {
   "cell_type": "code",
   "execution_count": 38,
   "id": "089eaee0",
   "metadata": {},
   "outputs": [
    {
     "data": {
      "text/plain": [
       "2177426996736"
      ]
     },
     "execution_count": 38,
     "metadata": {},
     "output_type": "execute_result"
    }
   ],
   "source": [
    "id(sys)"
   ]
  },
  {
   "cell_type": "code",
   "execution_count": 58,
   "id": "bdc9b1c0",
   "metadata": {},
   "outputs": [
    {
     "name": "stdout",
     "output_type": "stream",
     "text": [
      "1998 10 28\n",
      "100\n",
      "1999 2 5\n"
     ]
    }
   ],
   "source": [
    "# Задача 10\n",
    "\n",
    "# Вычислите и выведите год, месяц и день даты, \n",
    "# которая наступит, когда с момента исходной даты date пройдет число дней, равное days.\n",
    "\n",
    "import datetime\n",
    "\n",
    "year, month, day = [int(i) for i in input().split()]\n",
    "days = int(input())\n",
    "\n",
    "dif = datetime.timedelta(days)\n",
    "\n",
    "date = datetime.date(year, month, day)\n",
    "\n",
    "new_date = date + dif\n",
    "print(new_date.year, new_date.month, new_date.day)"
   ]
  },
  {
   "cell_type": "code",
   "execution_count": 56,
   "id": "daebc403",
   "metadata": {},
   "outputs": [
    {
     "data": {
      "text/plain": [
       "7"
      ]
     },
     "execution_count": 56,
     "metadata": {},
     "output_type": "execute_result"
    }
   ],
   "source": [
    "new_date.day"
   ]
  },
  {
   "cell_type": "code",
   "execution_count": 59,
   "id": "5028f3c6",
   "metadata": {},
   "outputs": [
    {
     "name": "stdout",
     "output_type": "stream",
     "text": [
      "pip 21.0.1 from C:\\Users\\natal\\anaconda3\\lib\\site-packages\\pip (python 3.8)Note: you may need to restart the kernel to use updated packages.\n",
      "\n",
      "\n"
     ]
    }
   ],
   "source": [
    "pip --version"
   ]
  },
  {
   "cell_type": "code",
   "execution_count": null,
   "id": "ca12005f",
   "metadata": {},
   "outputs": [],
   "source": []
  },
  {
   "cell_type": "code",
   "execution_count": null,
   "id": "d0a57692",
   "metadata": {},
   "outputs": [],
   "source": [
    "\"\"\"\n",
    "            ИТЕРАТОРЫ\n",
    "            \n",
    "\"\"\""
   ]
  },
  {
   "cell_type": "code",
   "execution_count": 69,
   "id": "94f75930",
   "metadata": {},
   "outputs": [],
   "source": [
    "lst = [1, 2, 3, 4, 5]\n",
    "txt = 'Привет'"
   ]
  },
  {
   "cell_type": "code",
   "execution_count": 70,
   "id": "c21f7f4f",
   "metadata": {},
   "outputs": [
    {
     "name": "stdout",
     "output_type": "stream",
     "text": [
      "1\n",
      "2\n",
      "3\n",
      "4\n",
      "5\n"
     ]
    }
   ],
   "source": [
    "for i in lst:\n",
    "    print(i)"
   ]
  },
  {
   "cell_type": "code",
   "execution_count": 71,
   "id": "1d7af0db",
   "metadata": {},
   "outputs": [
    {
     "name": "stdout",
     "output_type": "stream",
     "text": [
      "П\n",
      "р\n",
      "и\n",
      "в\n",
      "е\n",
      "т\n"
     ]
    }
   ],
   "source": [
    "for i in txt:\n",
    "    print(i)"
   ]
  },
  {
   "cell_type": "code",
   "execution_count": 80,
   "id": "01fb1052",
   "metadata": {},
   "outputs": [
    {
     "name": "stdout",
     "output_type": "stream",
     "text": [
      "1\n",
      "2\n",
      "3\n",
      "4\n",
      "5\n"
     ]
    }
   ],
   "source": [
    "it = iter(lst)\n",
    "while True:\n",
    "    try:\n",
    "        i = next(it)\n",
    "        print(i)\n",
    "    except StopIteration:\n",
    "        break"
   ]
  },
  {
   "cell_type": "code",
   "execution_count": 81,
   "id": "26b1bad3",
   "metadata": {},
   "outputs": [
    {
     "name": "stdout",
     "output_type": "stream",
     "text": [
      "П\n",
      "р\n",
      "и\n",
      "в\n",
      "е\n",
      "т\n"
     ]
    }
   ],
   "source": [
    "it = iter(txt)\n",
    "\n",
    "while True:\n",
    "    try:\n",
    "        i = next(it)\n",
    "        print(i)\n",
    "    except StopIteration:\n",
    "        break"
   ]
  },
  {
   "cell_type": "code",
   "execution_count": 82,
   "id": "9a43fbe8",
   "metadata": {},
   "outputs": [
    {
     "data": {
      "text/plain": [
       "str_iterator"
      ]
     },
     "execution_count": 82,
     "metadata": {},
     "output_type": "execute_result"
    }
   ],
   "source": [
    "type(iter(txt))"
   ]
  },
  {
   "cell_type": "code",
   "execution_count": null,
   "id": "c46d6569",
   "metadata": {},
   "outputs": [],
   "source": []
  },
  {
   "cell_type": "code",
   "execution_count": null,
   "id": "d41a5e66",
   "metadata": {},
   "outputs": [],
   "source": [
    "\"\"\"\n",
    "Создадим класс итератора случайного числа\n",
    "В конструкторе класса создадим атрибут k (задается при объявлении экземпляра) и счетчик i\n",
    "Чтобы сделать итератор, нужно определить в классе метод next()\n",
    "Метод __iter__() возвращает сам экземпляр \n",
    "\n",
    "\"\"\""
   ]
  },
  {
   "cell_type": "code",
   "execution_count": 83,
   "id": "1f2c94fe",
   "metadata": {},
   "outputs": [],
   "source": [
    "import random"
   ]
  },
  {
   "cell_type": "code",
   "execution_count": 172,
   "id": "c9e9c89c",
   "metadata": {},
   "outputs": [],
   "source": [
    "class RandomIterator:\n",
    "    def __iter__(self):\n",
    "        return self\n",
    "        \n",
    "    \n",
    "    def __init__(self, k):\n",
    "        self.k = k\n",
    "        self.i = 0\n",
    "        \n",
    "    \n",
    "    def __next__(self):\n",
    "        \n",
    "        if self.i < self.k:\n",
    "            self.i += 1\n",
    "            return random.random()\n",
    "        else:\n",
    "            raise StopIteration\n",
    "            \n",
    "        "
   ]
  },
  {
   "cell_type": "code",
   "execution_count": 173,
   "id": "06f40b80",
   "metadata": {},
   "outputs": [],
   "source": [
    "x = RandomIterator(3)"
   ]
  },
  {
   "cell_type": "code",
   "execution_count": 167,
   "id": "2c27cdf8",
   "metadata": {},
   "outputs": [
    {
     "name": "stdout",
     "output_type": "stream",
     "text": [
      "0.5818270195408803\n"
     ]
    }
   ],
   "source": [
    "# Вызовем функцию next (она же метод .__next__())\n",
    "print(next(x))"
   ]
  },
  {
   "cell_type": "code",
   "execution_count": 168,
   "id": "a9649b69",
   "metadata": {},
   "outputs": [
    {
     "data": {
      "text/plain": [
       "0.8125808501297755"
      ]
     },
     "execution_count": 168,
     "metadata": {},
     "output_type": "execute_result"
    }
   ],
   "source": [
    "x.__next__()"
   ]
  },
  {
   "cell_type": "code",
   "execution_count": 174,
   "id": "e35b2b24",
   "metadata": {},
   "outputs": [
    {
     "data": {
      "text/plain": [
       "0.8726910480822809"
      ]
     },
     "execution_count": 174,
     "metadata": {},
     "output_type": "execute_result"
    }
   ],
   "source": [
    "next(iter(x))\n"
   ]
  },
  {
   "cell_type": "code",
   "execution_count": 175,
   "id": "370a7f3c",
   "metadata": {},
   "outputs": [
    {
     "name": "stdout",
     "output_type": "stream",
     "text": [
      "0.5843236878093435\n",
      "0.11601852822964975\n",
      "0.7867841829867256\n",
      "0.7210431059791691\n",
      "0.7264910458769536\n",
      "0.7251585688239061\n",
      "0.8372152109585798\n",
      "0.24429058755515343\n",
      "0.4823017208101057\n",
      "0.1933323581907701\n"
     ]
    }
   ],
   "source": [
    "for i in RandomIterator(10):\n",
    "    print(i)"
   ]
  },
  {
   "cell_type": "code",
   "execution_count": null,
   "id": "2137922c",
   "metadata": {},
   "outputs": [],
   "source": [
    "\"\"\"\n",
    "Создадим класс, который будет генерировать пары в списках\n",
    "\"\"\""
   ]
  },
  {
   "cell_type": "code",
   "execution_count": 185,
   "id": "40b3b262",
   "metadata": {},
   "outputs": [],
   "source": [
    "class DoubleElementListIterator:\n",
    "    def __init__(self, lst):\n",
    "        self.lst = lst\n",
    "        self.i = 0\n",
    "        \n",
    "    def __next__(self):\n",
    "        while self.i < len(self.lst):\n",
    "            self.i += 2\n",
    "            return self.lst[self.i - 2], self.lst[self.i - 1]\n",
    "        else:\n",
    "            raise StopIteration\n",
    "\n",
    "class MyList(list):\n",
    "    def __iter__(self):\n",
    "        return DoubleElementListIterator(self)"
   ]
  },
  {
   "cell_type": "code",
   "execution_count": 186,
   "id": "5b4e7197",
   "metadata": {},
   "outputs": [
    {
     "name": "stdout",
     "output_type": "stream",
     "text": [
      "(1, 2)\n",
      "(3, 4)\n"
     ]
    }
   ],
   "source": [
    "for pair in MyList([1, 2, 3, 4]):\n",
    "    print(pair)"
   ]
  },
  {
   "cell_type": "code",
   "execution_count": null,
   "id": "a4371eb2",
   "metadata": {},
   "outputs": [],
   "source": []
  },
  {
   "cell_type": "code",
   "execution_count": null,
   "id": "1a6aa58b",
   "metadata": {},
   "outputs": [],
   "source": [
    "\"\"\"\n",
    "            ГЕНЕРАТОР\n",
    "Генератор можно создать в функции\n",
    "Мы неявно создаем класс, если вместо return пишем yield\n",
    "\n",
    "Реализуем отложенное исполнение функции с помощью yield\n",
    "1) Cоздаем экземпляр класса gener()\n",
    "2) Применяем к нему функцию next()\n",
    "3) Снова применяем next() - возвращается следующий yield\n",
    "После return завершает исполнение функции, а yield позволяет вернуться к следующему повтору\n",
    "\n",
    "Генератор - удобный синтаксис для написания итераторов (вместо написания классов)\n",
    "\"\"\""
   ]
  },
  {
   "cell_type": "code",
   "execution_count": 225,
   "id": "6305ff51",
   "metadata": {},
   "outputs": [],
   "source": [
    "def gener():\n",
    "    print('Я первый')\n",
    "    yield 1\n",
    "    print('Я второй')\n",
    "    yield 2"
   ]
  },
  {
   "cell_type": "code",
   "execution_count": 226,
   "id": "e2b46766",
   "metadata": {},
   "outputs": [],
   "source": [
    "gen = gener()"
   ]
  },
  {
   "cell_type": "code",
   "execution_count": 222,
   "id": "b5f3e7ad",
   "metadata": {},
   "outputs": [
    {
     "name": "stdout",
     "output_type": "stream",
     "text": [
      "Я первый\n",
      "1\n"
     ]
    }
   ],
   "source": [
    "x = next(gen)\n",
    "print(x)"
   ]
  },
  {
   "cell_type": "code",
   "execution_count": 223,
   "id": "c1e1b1dd",
   "metadata": {},
   "outputs": [
    {
     "name": "stdout",
     "output_type": "stream",
     "text": [
      "Я второй\n",
      "2\n"
     ]
    }
   ],
   "source": [
    "y = next(gen)\n",
    "print(y)"
   ]
  },
  {
   "cell_type": "code",
   "execution_count": 227,
   "id": "ed1fff0e",
   "metadata": {},
   "outputs": [
    {
     "name": "stdout",
     "output_type": "stream",
     "text": [
      "Я первый\n"
     ]
    },
    {
     "data": {
      "text/plain": [
       "1"
      ]
     },
     "execution_count": 227,
     "metadata": {},
     "output_type": "execute_result"
    }
   ],
   "source": [
    "gen.__next__()"
   ]
  },
  {
   "cell_type": "code",
   "execution_count": 247,
   "id": "f9f6cbab",
   "metadata": {},
   "outputs": [],
   "source": [
    "def fun(x):\n",
    "    for i in range(x):\n",
    "        yield i, 1, 'привет'"
   ]
  },
  {
   "cell_type": "code",
   "execution_count": 248,
   "id": "7f144c37",
   "metadata": {},
   "outputs": [],
   "source": [
    "ob = fun(3)"
   ]
  },
  {
   "cell_type": "code",
   "execution_count": 249,
   "id": "826586ed",
   "metadata": {},
   "outputs": [
    {
     "name": "stdout",
     "output_type": "stream",
     "text": [
      "(0, 1, 'привет')\n",
      "(1, 1, 'привет')\n",
      "(2, 1, 'привет')\n"
     ]
    }
   ],
   "source": [
    "for i in ob:\n",
    "    print(i)"
   ]
  },
  {
   "cell_type": "code",
   "execution_count": null,
   "id": "30681f8e",
   "metadata": {},
   "outputs": [],
   "source": []
  },
  {
   "cell_type": "code",
   "execution_count": 250,
   "id": "1a80212d",
   "metadata": {},
   "outputs": [],
   "source": [
    "lst = '1a', '2b', '3c', '4d'"
   ]
  },
  {
   "cell_type": "code",
   "execution_count": 254,
   "id": "5f770ee6",
   "metadata": {},
   "outputs": [
    {
     "data": {
      "text/plain": [
       "['1a']"
      ]
     },
     "execution_count": 254,
     "metadata": {},
     "output_type": "execute_result"
    }
   ],
   "source": [
    "list(filter(lambda x: x == '1a', lst))"
   ]
  },
  {
   "cell_type": "code",
   "execution_count": null,
   "id": "6de22a51",
   "metadata": {},
   "outputs": [],
   "source": []
  },
  {
   "cell_type": "code",
   "execution_count": null,
   "id": "69ba1cfe",
   "metadata": {},
   "outputs": [],
   "source": []
  },
  {
   "cell_type": "code",
   "execution_count": 257,
   "id": "06a4a31a",
   "metadata": {},
   "outputs": [],
   "source": [
    "# Задача 11\n",
    " \n",
    "# Реализуйте функцию-генератор primes, которая будет генерировать простые числа в порядке возрастания, начиная с числа 2\n",
    "\n",
    "\n",
    "def primes():\n",
    "    i = 2\n",
    "    a = []\n",
    "    while True:\n",
    "        for j in range(2, i):\n",
    "            if i % j == 0:\n",
    "                a.append(i)\n",
    "        if a == []:\n",
    "            yield i\n",
    "        a = []\n",
    "        i += 1\n",
    "\n",
    "\n"
   ]
  },
  {
   "cell_type": "code",
   "execution_count": 258,
   "id": "1761be8c",
   "metadata": {},
   "outputs": [],
   "source": [
    "import itertools"
   ]
  },
  {
   "cell_type": "code",
   "execution_count": 259,
   "id": "0521f8f0",
   "metadata": {},
   "outputs": [
    {
     "name": "stdout",
     "output_type": "stream",
     "text": [
      "[2, 3, 5, 7, 11, 13, 17, 19, 23, 29, 31]\n"
     ]
    }
   ],
   "source": [
    "print(list(itertools.takewhile(lambda x : x <= 31, primes())))"
   ]
  },
  {
   "cell_type": "code",
   "execution_count": null,
   "id": "70382039",
   "metadata": {},
   "outputs": [],
   "source": []
  },
  {
   "cell_type": "code",
   "execution_count": null,
   "id": "d0d84507",
   "metadata": {},
   "outputs": [],
   "source": [
    "\"\"\"\n",
    "            LIST COMPREHENSION И ГЕНЕРАТОР СПИСКОВ\n",
    "            \n",
    "\"\"\""
   ]
  },
  {
   "cell_type": "code",
   "execution_count": 260,
   "id": "57e8d9ee",
   "metadata": {},
   "outputs": [],
   "source": [
    "a = [i*i for i in range(6)]"
   ]
  },
  {
   "cell_type": "code",
   "execution_count": 261,
   "id": "1a232d7b",
   "metadata": {},
   "outputs": [
    {
     "name": "stdout",
     "output_type": "stream",
     "text": [
      "[0, 1, 4, 9, 16, 25]\n"
     ]
    }
   ],
   "source": [
    "print(a)"
   ]
  },
  {
   "cell_type": "code",
   "execution_count": 268,
   "id": "c4e724a3",
   "metadata": {},
   "outputs": [],
   "source": [
    "# Для каждого i перебирается элемент списка для j\n",
    "\n",
    "b = [i * j for i in range(3) for j in [1, 5, 9, 10] if i < j]"
   ]
  },
  {
   "cell_type": "code",
   "execution_count": 269,
   "id": "39ff9f0f",
   "metadata": {},
   "outputs": [
    {
     "name": "stdout",
     "output_type": "stream",
     "text": [
      "[0, 0, 0, 0, 5, 9, 10, 10, 18, 20]\n"
     ]
    }
   ],
   "source": [
    "print(b)"
   ]
  },
  {
   "cell_type": "code",
   "execution_count": 271,
   "id": "d4c17bc4",
   "metadata": {},
   "outputs": [],
   "source": [
    "c = [i for i in range(0, 26, 5)]"
   ]
  },
  {
   "cell_type": "code",
   "execution_count": 273,
   "id": "e86e6e86",
   "metadata": {},
   "outputs": [
    {
     "name": "stdout",
     "output_type": "stream",
     "text": [
      "[0, 5, 10, 15, 20, 25]\n"
     ]
    }
   ],
   "source": [
    "print(c)"
   ]
  },
  {
   "cell_type": "code",
   "execution_count": null,
   "id": "0e09fe4f",
   "metadata": {},
   "outputs": [],
   "source": []
  },
  {
   "cell_type": "code",
   "execution_count": 289,
   "id": "50ff0c48",
   "metadata": {},
   "outputs": [],
   "source": [
    "# Создадим генератор\n",
    "d = (i for i in range(0, 26, 5))"
   ]
  },
  {
   "cell_type": "code",
   "execution_count": 290,
   "id": "c23acc18",
   "metadata": {},
   "outputs": [
    {
     "data": {
      "text/plain": [
       "generator"
      ]
     },
     "execution_count": 290,
     "metadata": {},
     "output_type": "execute_result"
    }
   ],
   "source": [
    "type(d)"
   ]
  },
  {
   "cell_type": "code",
   "execution_count": 279,
   "id": "9039818e",
   "metadata": {},
   "outputs": [
    {
     "name": "stdout",
     "output_type": "stream",
     "text": [
      "0\n",
      "5\n",
      "10\n",
      "15\n",
      "20\n",
      "25\n"
     ]
    }
   ],
   "source": [
    "for i in d:\n",
    "    print(i)"
   ]
  },
  {
   "cell_type": "code",
   "execution_count": 292,
   "id": "212f9f6e",
   "metadata": {},
   "outputs": [
    {
     "data": {
      "text/plain": [
       "5"
      ]
     },
     "execution_count": 292,
     "metadata": {},
     "output_type": "execute_result"
    }
   ],
   "source": [
    "# Генератор создается сразу как экземпляр класса, к нему можно применять функцию next()\n",
    "\n",
    "next(d)"
   ]
  },
  {
   "cell_type": "code",
   "execution_count": null,
   "id": "f3de9a62",
   "metadata": {},
   "outputs": [],
   "source": []
  },
  {
   "cell_type": "code",
   "execution_count": 296,
   "id": "0057ca1d",
   "metadata": {},
   "outputs": [
    {
     "name": "stdout",
     "output_type": "stream",
     "text": [
      "0\n",
      "1\n",
      "2\n"
     ]
    }
   ],
   "source": [
    "for i in range(6)[:3]:\n",
    "    print(i)"
   ]
  },
  {
   "cell_type": "code",
   "execution_count": 297,
   "id": "9950fcaf",
   "metadata": {},
   "outputs": [
    {
     "data": {
      "text/plain": [
       "[1, 2, 3, 4]"
      ]
     },
     "execution_count": 297,
     "metadata": {},
     "output_type": "execute_result"
    }
   ],
   "source": [
    "# List Comprehension мщжно применять как аргумент к функции list()\n",
    "\n",
    "list(i + 1 for i in range(4))"
   ]
  },
  {
   "cell_type": "code",
   "execution_count": null,
   "id": "c2b40c01",
   "metadata": {},
   "outputs": [],
   "source": []
  },
  {
   "cell_type": "code",
   "execution_count": null,
   "id": "13d11e19",
   "metadata": {},
   "outputs": [],
   "source": [
    "\"\"\"\n",
    "            РАБОТА С ФАЙЛОВОЙ СИСТЕМОЙ\n",
    "     - r (read) - открыть файл для чтения (по умолчанию)\n",
    "     - w (write) - открыть для записи, содержимое файла стирается\n",
    "     - a (append) - открыть для записи, содержимое файла сохраняется (если файла не было, то он создастся)\n",
    "     - b (binary) - открыть в бинарном режиме\n",
    "     - t (text) - открыть в текстовом режиме (по умолчанию)\n",
    "     - r+ - открыть для чтения и записи\n",
    "     - w+ - открыть для чтения и записи, содержимое файла стирается\n",
    "\"\"\""
   ]
  },
  {
   "cell_type": "code",
   "execution_count": 299,
   "id": "0ed64ca3",
   "metadata": {},
   "outputs": [],
   "source": [
    "with open('file_1.txt', 'w') as inf:\n",
    "    inf.write('\\tФандрайзер Джоэл Хагс собрал более 32 тысяч евро для девочки из Германии, \\n\\\n",
    "    которая расплакалась на матче 1/8 финала Евро-2020, когда ее команда проиграла Великобритании.\\n \\\n",
    "    Ее реакцию сняли на видео, и маленькая болельщица быстро стала популярной. Скриншоты с ее участием разошлись на мемы.\\n\\\n",
    "    Она подарила один из самых трогательных моментов во время футбола, но в то же время ее начали троллить, \\n\\\n",
    "    хейтить и жестоко оскорблять, вспоминая некоторые эпизоды из истории нацистской Германии.')"
   ]
  },
  {
   "cell_type": "code",
   "execution_count": 302,
   "id": "9f2a67b8",
   "metadata": {},
   "outputs": [
    {
     "name": "stdout",
     "output_type": "stream",
     "text": [
      "\tФанд\n"
     ]
    }
   ],
   "source": [
    "# Прочитать первые 5 символов\n",
    "# Если без аргументов, то прочитается весь документ\n",
    "\n",
    "with open('file_1.txt', 'r') as inf:\n",
    "    x = inf.read(5)\n",
    "print(x)"
   ]
  },
  {
   "cell_type": "code",
   "execution_count": 303,
   "id": "ea0758e3",
   "metadata": {},
   "outputs": [
    {
     "name": "stdout",
     "output_type": "stream",
     "text": [
      "\tФандрайзер Джоэл Хагс собрал более 32 тысяч евро для девочки из Германии, \n",
      "\n"
     ]
    }
   ],
   "source": [
    "# Прочитать строку\n",
    "with open('file_1.txt', 'r') as inf:\n",
    "    x = inf.readline()\n",
    "print(x)"
   ]
  },
  {
   "cell_type": "code",
   "execution_count": 306,
   "id": "16221a08",
   "metadata": {},
   "outputs": [
    {
     "name": "stdout",
     "output_type": "stream",
     "text": [
      "Фандрайзер Джоэл Хагс собрал более 32 тысяч евро для девочки из Германии,\n",
      "которая расплакалась на матче 1/8 финала Евро-2020, когда ее команда проиграла Великобритании.\n",
      "Ее реакцию сняли на видео, и маленькая болельщица быстро стала популярной. Скриншоты с ее участием разошлись на мемы.\n",
      "Она подарила один из самых трогательных моментов во время футбола, но в то же время ее начали троллить,\n",
      "хейтить и жестоко оскорблять, вспоминая некоторые эпизоды из истории нацистской Германии.\n"
     ]
    }
   ],
   "source": [
    "# Прочитать все строки\n",
    "with open('file_1.txt', 'r') as inf:\n",
    "    for i in inf:\n",
    "        print(i.strip())"
   ]
  },
  {
   "cell_type": "code",
   "execution_count": 323,
   "id": "bda9c21a",
   "metadata": {},
   "outputs": [],
   "source": [
    "#  Метод splitlines() разбивает текст на элементы списка - строки\n",
    "\n",
    "with open('file_1.txt', 'r') as inf:\n",
    "    x = inf.read().strip()\n",
    "    x = x.splitlines()"
   ]
  },
  {
   "cell_type": "code",
   "execution_count": 324,
   "id": "e6ea73f6",
   "metadata": {},
   "outputs": [
    {
     "name": "stdout",
     "output_type": "stream",
     "text": [
      "['Фандрайзер Джоэл Хагс собрал более 32 тысяч евро для девочки из Германии, ', '    которая расплакалась на матче 1/8 финала Евро-2020, когда ее команда проиграла Великобритании.', '     Ее реакцию сняли на видео, и маленькая болельщица быстро стала популярной. Скриншоты с ее участием разошлись на мемы.', '    Она подарила один из самых трогательных моментов во время футбола, но в то же время ее начали троллить, ', '    хейтить и жестоко оскорблять, вспоминая некоторые эпизоды из истории нацистской Германии.']\n"
     ]
    }
   ],
   "source": [
    "# Функция repr() выравнивает текст\n",
    "\n",
    "print(repr(x))"
   ]
  },
  {
   "cell_type": "code",
   "execution_count": 332,
   "id": "44e99701",
   "metadata": {},
   "outputs": [],
   "source": [
    "# Можно использовать команды вместе\n",
    "\n",
    "with open('file_2.txt', 'w') as inf:\n",
    "    inf.write('Скандальная статья была удалена, а на ее месте теперь находится текст с извинениями перед клиентами.\\n\\\n",
    "    В заявлении говорится, что статья «задела чувства большого числа наших покупателей, сотрудников, \\n\\\n",
    "    партнеров и поставщиков» и что сотрудники компании «не хотели стать источником раздора и ненависти»')"
   ]
  },
  {
   "cell_type": "code",
   "execution_count": 333,
   "id": "85c049e9",
   "metadata": {},
   "outputs": [
    {
     "name": "stdout",
     "output_type": "stream",
     "text": [
      "b'\\xd1\\xea\\xe0\\xed\\xe4\\xe0\\xeb\\xfc\\xed\\xe0\\xff \\xf1\\xf2\\xe0\\xf2\\xfc\\xff \\xe1\\xfb\\xeb\\xe0 \\xf3\\xe4\\xe0\\xeb\\xe5\\xed\\xe0, \\xe0 \\xed\\xe0 \\xe5\\xe5 \\xec\\xe5\\xf1\\xf2\\xe5 \\xf2\\xe5\\xef\\xe5\\xf0\\xfc \\xed\\xe0\\xf5\\xee\\xe4\\xe8\\xf2\\xf1\\xff \\xf2\\xe5\\xea\\xf1\\xf2 \\xf1 \\xe8\\xe7\\xe2\\xe8\\xed\\xe5\\xed\\xe8\\xff\\xec\\xe8 \\xef\\xe5\\xf0\\xe5\\xe4 \\xea\\xeb\\xe8\\xe5\\xed\\xf2\\xe0\\xec\\xe8.\\r\\n'\n",
      "b'    \\xc2 \\xe7\\xe0\\xff\\xe2\\xeb\\xe5\\xed\\xe8\\xe8 \\xe3\\xee\\xe2\\xee\\xf0\\xe8\\xf2\\xf1\\xff, \\xf7\\xf2\\xee \\xf1\\xf2\\xe0\\xf2\\xfc\\xff \\xab\\xe7\\xe0\\xe4\\xe5\\xeb\\xe0 \\xf7\\xf3\\xe2\\xf1\\xf2\\xe2\\xe0 \\xe1\\xee\\xeb\\xfc\\xf8\\xee\\xe3\\xee \\xf7\\xe8\\xf1\\xeb\\xe0 \\xed\\xe0\\xf8\\xe8\\xf5 \\xef\\xee\\xea\\xf3\\xef\\xe0\\xf2\\xe5\\xeb\\xe5\\xe9, \\xf1\\xee\\xf2\\xf0\\xf3\\xe4\\xed\\xe8\\xea\\xee\\xe2, \\r\\n'\n",
      "b'    \\xef\\xe0\\xf0\\xf2\\xed\\xe5\\xf0\\xee\\xe2 \\xe8 \\xef\\xee\\xf1\\xf2\\xe0\\xe2\\xf9\\xe8\\xea\\xee\\xe2\\xbb \\xe8 \\xf7\\xf2\\xee \\xf1\\xee\\xf2\\xf0\\xf3\\xe4\\xed\\xe8\\xea\\xe8 \\xea\\xee\\xec\\xef\\xe0\\xed\\xe8\\xe8 \\xab\\xed\\xe5 \\xf5\\xee\\xf2\\xe5\\xeb\\xe8 \\xf1\\xf2\\xe0\\xf2\\xfc \\xe8\\xf1\\xf2\\xee\\xf7\\xed\\xe8\\xea\\xee\\xec \\xf0\\xe0\\xe7\\xe4\\xee\\xf0\\xe0 \\xe8 \\xed\\xe5\\xed\\xe0\\xe2\\xe8\\xf1\\xf2\\xe8\\xbb'\n"
     ]
    }
   ],
   "source": [
    "# Можно использовать команды вместе - Прочитать в бинарном стиле\n",
    "\n",
    "with open('file_2.txt', 'rb') as inf:\n",
    "    for i in inf:\n",
    "        print(i)\n",
    "        "
   ]
  },
  {
   "cell_type": "code",
   "execution_count": null,
   "id": "1f14710d",
   "metadata": {},
   "outputs": [],
   "source": []
  },
  {
   "cell_type": "code",
   "execution_count": 334,
   "id": "c56cf52f",
   "metadata": {},
   "outputs": [
    {
     "name": "stdout",
     "output_type": "stream",
     "text": [
      "Аня\n",
      "Лиза\n",
      "Маша\n",
      "Юля\n",
      "Настя\n"
     ]
    }
   ],
   "source": [
    "# При записи файла нужно указывать вспомогательные символы\n",
    "# Для склейки списка в строку используется .join()\n",
    "\n",
    "A = ['Аня', 'Лиза', 'Маша', 'Юля', 'Настя']\n",
    "\n",
    "x = '\\n'.join(A)\n",
    "print(x)"
   ]
  },
  {
   "cell_type": "code",
   "execution_count": 335,
   "id": "a5baf7d9",
   "metadata": {},
   "outputs": [],
   "source": [
    "with open('girls.txt', 'w') as inf:\n",
    "    inf.write(x)"
   ]
  },
  {
   "cell_type": "code",
   "execution_count": 336,
   "id": "e811929f",
   "metadata": {},
   "outputs": [],
   "source": [
    "# В конструкции with можно указать сразу 2 файла, например, для записи и для чтения\n",
    "\n",
    "with open('file_1.txt', 'r') as r, open('file_to_write.txt', 'w') as w:\n",
    "    for i in r:\n",
    "        w.write(i)"
   ]
  },
  {
   "cell_type": "code",
   "execution_count": null,
   "id": "91ddee56",
   "metadata": {},
   "outputs": [],
   "source": []
  },
  {
   "cell_type": "code",
   "execution_count": null,
   "id": "7cbf1689",
   "metadata": {},
   "outputs": [],
   "source": [
    "# Задача 12\n",
    "\n",
    "# Вам дается текстовый файл, содержащий некоторое количество непустых строк.\n",
    "# На основе него сгенерируйте новый текстовый файл, содержащий те же строки в обратном порядке.\n"
   ]
  },
  {
   "cell_type": "code",
   "execution_count": 341,
   "id": "97952b0c",
   "metadata": {},
   "outputs": [],
   "source": [
    "with open('dataset_24465_4.txt', 'r') as old, open('new_file.txt', 'w') as new:\n",
    "    x = old.read().splitlines()[::-1]\n",
    "    x = '\\n'.join(x)\n",
    "    new.write(x)\n",
    "    "
   ]
  },
  {
   "cell_type": "code",
   "execution_count": null,
   "id": "78aea21a",
   "metadata": {},
   "outputs": [],
   "source": []
  },
  {
   "cell_type": "code",
   "execution_count": null,
   "id": "28703ff7",
   "metadata": {},
   "outputs": [],
   "source": [
    "\"\"\"\n",
    "            РАБОТА С ФАЙЛОВОЙ СИСТЕМОЙ\n",
    "Для работы с файлами и директориями используется модуль os\n",
    "\"\"\""
   ]
  },
  {
   "cell_type": "code",
   "execution_count": 376,
   "id": "12119aad",
   "metadata": {},
   "outputs": [],
   "source": [
    "import os"
   ]
  },
  {
   "cell_type": "code",
   "execution_count": 377,
   "id": "f85653e8",
   "metadata": {},
   "outputs": [
    {
     "data": {
      "text/plain": [
       "['.ipynb_checkpoints',\n",
       " 'dataset_24465_4.txt',\n",
       " 'file_1.txt',\n",
       " 'file_2.txt',\n",
       " 'file_to_write.txt',\n",
       " 'folder_test',\n",
       " 'girls.txt',\n",
       " 'hello.ipynb',\n",
       " 'new_file.txt',\n",
       " 'Script1.ipynb']"
      ]
     },
     "execution_count": 377,
     "metadata": {},
     "output_type": "execute_result"
    }
   ],
   "source": [
    "# Вывести список из файлов текущей директории\n",
    "\n",
    "os.listdir()"
   ]
  },
  {
   "cell_type": "code",
   "execution_count": 378,
   "id": "92c46d4f",
   "metadata": {},
   "outputs": [
    {
     "data": {
      "text/plain": [
       "'C:\\\\Users\\\\natal\\\\Documents\\\\Курсы\\\\Курсы\\\\Python_scripts\\\\Python_thick'"
      ]
     },
     "execution_count": 378,
     "metadata": {},
     "output_type": "execute_result"
    }
   ],
   "source": [
    "# Вывести путь к текущей директории (папке)\n",
    "\n",
    "os.getcwd()"
   ]
  },
  {
   "cell_type": "code",
   "execution_count": 347,
   "id": "8c676f3f",
   "metadata": {},
   "outputs": [
    {
     "data": {
      "text/plain": [
       "['test.txt']"
      ]
     },
     "execution_count": 347,
     "metadata": {},
     "output_type": "execute_result"
    }
   ],
   "source": [
    "# Вывести список файлов в конкретной папке\n",
    "\n",
    "os.listdir('folder_test')"
   ]
  },
  {
   "cell_type": "code",
   "execution_count": 352,
   "id": "b0b08062",
   "metadata": {},
   "outputs": [
    {
     "name": "stdout",
     "output_type": "stream",
     "text": [
      "True\n",
      "False\n",
      "True\n",
      "False\n"
     ]
    }
   ],
   "source": [
    "# Существует ли файл или директория (модуль path)\n",
    "\n",
    "print(os.path.exists('girls.txt'))\n",
    "print(os.path.exists('boys.txt'))\n",
    "print(os.path.exists('folder_test'))\n",
    "print(os.path.exists('fold_привет'))"
   ]
  },
  {
   "cell_type": "code",
   "execution_count": 356,
   "id": "c392583f",
   "metadata": {},
   "outputs": [
    {
     "name": "stdout",
     "output_type": "stream",
     "text": [
      "True\n",
      "True\n"
     ]
    }
   ],
   "source": [
    "# Это файл или это директория (модуль path)\n",
    "\n",
    "print(os.path.isfile('girls.txt'))\n",
    "print(os.path.isdir('folder_test'))"
   ]
  },
  {
   "cell_type": "code",
   "execution_count": 357,
   "id": "4755e57c",
   "metadata": {},
   "outputs": [
    {
     "data": {
      "text/plain": [
       "'C:\\\\Users\\\\natal\\\\Documents\\\\Курсы\\\\Курсы\\\\Python_scripts\\\\Python_thick\\\\girls.txt'"
      ]
     },
     "execution_count": 357,
     "metadata": {},
     "output_type": "execute_result"
    }
   ],
   "source": [
    "# Указать абсолютный путь к файлу\n",
    "\n",
    "os.path.abspath('girls.txt')"
   ]
  },
  {
   "cell_type": "code",
   "execution_count": 358,
   "id": "e1e4eddb",
   "metadata": {},
   "outputs": [],
   "source": [
    "# Изменить рабочую директорию (папку)\n",
    "\n",
    "os.chdir('folder_test')"
   ]
  },
  {
   "cell_type": "code",
   "execution_count": 359,
   "id": "1404f8f7",
   "metadata": {},
   "outputs": [
    {
     "name": "stdout",
     "output_type": "stream",
     "text": [
      "C:\\Users\\natal\\Documents\\Курсы\\Курсы\\Python_scripts\\Python_thick\\folder_test\n"
     ]
    }
   ],
   "source": [
    "# Убедились, что директория изменилась, можем в ней работать \n",
    "\n",
    "print(os.getcwd())"
   ]
  },
  {
   "cell_type": "code",
   "execution_count": null,
   "id": "57ab7bc1",
   "metadata": {},
   "outputs": [],
   "source": []
  },
  {
   "cell_type": "code",
   "execution_count": 374,
   "id": "1e7040d9",
   "metadata": {},
   "outputs": [],
   "source": [
    "os.chdir('C:\\\\Users\\\\natal\\\\Documents\\\\Курсы\\\\Курсы\\\\Python_scripts\\\\Python_thick')"
   ]
  },
  {
   "cell_type": "code",
   "execution_count": 386,
   "id": "8aea8139",
   "metadata": {},
   "outputs": [
    {
     "name": "stdout",
     "output_type": "stream",
     "text": [
      ". ['.ipynb_checkpoints', 'folder_test'] ['dataset_24465_4.txt', 'file_1.txt', 'file_2.txt', 'file_to_write.txt', 'girls.txt', 'hello.ipynb', 'new_file.txt', 'Script1.ipynb']\n",
      ".\\.ipynb_checkpoints [] ['hello-checkpoint.ipynb', 'Script1-checkpoint.ipynb']\n",
      ".\\folder_test [] ['test.txt']\n"
     ]
    }
   ],
   "source": [
    "# Функция walk позволяет показать все [подпапки], [файлы] в текущей папке, \n",
    "# для каждой подпапки ее подпапки и файлы \n",
    "# если папок нет, то будет пустой список\n",
    "\n",
    "# Функция является генератором, то есть можно применять next()\n",
    "# На каждом шаге генератора выдается кортеж с текущей директорией, подпапкой и файлами\n",
    "\n",
    "# Точка в walk('.') означает, с какого места нужно начать\n",
    "\n",
    "for current_dir, folder, file in os.walk('.'):\n",
    "    print(current_dir, folder, file)\n"
   ]
  },
  {
   "cell_type": "code",
   "execution_count": 385,
   "id": "9753708d",
   "metadata": {},
   "outputs": [
    {
     "data": {
      "text/plain": [
       "('.',\n",
       " ['.ipynb_checkpoints', 'folder_test'],\n",
       " ['dataset_24465_4.txt',\n",
       "  'file_1.txt',\n",
       "  'file_2.txt',\n",
       "  'file_to_write.txt',\n",
       "  'girls.txt',\n",
       "  'hello.ipynb',\n",
       "  'new_file.txt',\n",
       "  'Script1.ipynb'])"
      ]
     },
     "execution_count": 385,
     "metadata": {},
     "output_type": "execute_result"
    }
   ],
   "source": [
    "next(os.walk('.'))"
   ]
  },
  {
   "cell_type": "code",
   "execution_count": null,
   "id": "bffbdf5f",
   "metadata": {},
   "outputs": [],
   "source": []
  },
  {
   "cell_type": "code",
   "execution_count": null,
   "id": "e85ef8da",
   "metadata": {},
   "outputs": [],
   "source": [
    "# Копирование файлов и папок"
   ]
  },
  {
   "cell_type": "code",
   "execution_count": 387,
   "id": "4ed26d80",
   "metadata": {},
   "outputs": [],
   "source": [
    "import shutil"
   ]
  },
  {
   "cell_type": "code",
   "execution_count": 391,
   "id": "e2e92827",
   "metadata": {},
   "outputs": [
    {
     "data": {
      "text/plain": [
       "'folder_test/girls_copy_txt'"
      ]
     },
     "execution_count": 391,
     "metadata": {},
     "output_type": "execute_result"
    }
   ],
   "source": [
    "shutil.copy('girls.txt', 'folder_test/girls_copy_txt')"
   ]
  },
  {
   "cell_type": "code",
   "execution_count": 392,
   "id": "07599a59",
   "metadata": {},
   "outputs": [
    {
     "name": "stdout",
     "output_type": "stream",
     "text": [
      ". ['.ipynb_checkpoints', 'folder_test'] ['dataset_24465_4.txt', 'file_1.txt', 'file_2.txt', 'file_to_write.txt', 'girls.txt', 'hello.ipynb', 'new_file.txt', 'Script1.ipynb']\n",
      ".\\.ipynb_checkpoints [] ['hello-checkpoint.ipynb', 'Script1-checkpoint.ipynb']\n",
      ".\\folder_test [] ['girls_copy_txt', 'test.txt']\n"
     ]
    }
   ],
   "source": [
    "for cur_dir, dct, file in os.walk('.'):\n",
    "    print(cur_dir, dct, file)"
   ]
  },
  {
   "cell_type": "code",
   "execution_count": null,
   "id": "4da83a78",
   "metadata": {},
   "outputs": [],
   "source": []
  },
  {
   "cell_type": "code",
   "execution_count": null,
   "id": "c6de7c28",
   "metadata": {},
   "outputs": [],
   "source": [
    "# Копирование папок"
   ]
  },
  {
   "cell_type": "code",
   "execution_count": 393,
   "id": "a742d70e",
   "metadata": {},
   "outputs": [
    {
     "data": {
      "text/plain": [
       "'folder_test1'"
      ]
     },
     "execution_count": 393,
     "metadata": {},
     "output_type": "execute_result"
    }
   ],
   "source": [
    "#Копируем папку folder_test в новую папку folder_test1\n",
    "\n",
    "shutil.copytree('folder_test', 'folder_test1')"
   ]
  },
  {
   "cell_type": "code",
   "execution_count": 394,
   "id": "66f64720",
   "metadata": {},
   "outputs": [
    {
     "name": "stdout",
     "output_type": "stream",
     "text": [
      ". ['.ipynb_checkpoints', 'folder_test', 'folder_test1'] ['dataset_24465_4.txt', 'file_1.txt', 'file_2.txt', 'file_to_write.txt', 'girls.txt', 'hello.ipynb', 'new_file.txt', 'Script1.ipynb']\n",
      ".\\.ipynb_checkpoints [] ['hello-checkpoint.ipynb', 'Script1-checkpoint.ipynb']\n",
      ".\\folder_test [] ['girls_copy_txt', 'test.txt']\n",
      ".\\folder_test1 [] ['girls_copy_txt', 'test.txt']\n"
     ]
    }
   ],
   "source": [
    "for cur_dir, drt, file in os.walk('.'):\n",
    "    print(cur_dir, drt, file)"
   ]
  },
  {
   "cell_type": "code",
   "execution_count": null,
   "id": "a7112cfa",
   "metadata": {},
   "outputs": [],
   "source": []
  },
  {
   "cell_type": "code",
   "execution_count": 1,
   "id": "eb474ee8",
   "metadata": {},
   "outputs": [],
   "source": [
    "# Задача 13\n",
    "\n",
    "# Найти в данной в файловой структуре все директории, в которых есть хотя бы один файл с расширением \".py\". \n",
    "import os\n"
   ]
  },
  {
   "cell_type": "code",
   "execution_count": 2,
   "id": "e487d53a",
   "metadata": {},
   "outputs": [],
   "source": [
    "# Войдем в папку main\n",
    "os.chdir('main')"
   ]
  },
  {
   "cell_type": "code",
   "execution_count": 3,
   "id": "69806a3c",
   "metadata": {},
   "outputs": [],
   "source": [
    "# В список запишем все файлы и папки\n",
    "a = []\n",
    "for cur_der, drt, file in os.walk('.'):\n",
    "    a.extend([cur_der, drt, file])"
   ]
  },
  {
   "cell_type": "code",
   "execution_count": 4,
   "id": "de6bf23f",
   "metadata": {},
   "outputs": [
    {
     "name": "stdout",
     "output_type": "stream",
     "text": [
      ".\n",
      "['main']\n",
      "[]\n",
      ".\\main\n",
      "['afkgv', 'ddiqo', 'frtrl', 'hgyoc', 'jrczb', 'ksuvk', 'lqbli', 'mwhci', 'olmhl', 'qkseh', 'sitdc', 'taivr', 'tgwey', 'uvvuz', 'wkwll', 'ybebm', 'zduna', 'zyczx']\n",
      "['aelpx.txt', 'dshyt.txt', 'fjcnm.py', 'fpyfb.py', 'iswbd.txt', 'ivcpr.txt', 'ivdfa.txt', 'ivkih.txt', 'iwohr.py', 'jogpz.py', 'kqgeg.txt', 'lmrrz.txt', 'lzccb.py', 'mdwam.txt', 'mwgax.txt', 'myjqk.py', 'nelpv.py', 'nrlqk.py', 'oizxq.txt', 'qbarq.txt', 'qcdrm.py', 'qdbhh.txt', 'qhjmz.txt', 'rlvgd.txt', 'rpuyq.txt', 'sgeru.txt', 'sidxx.txt', 'soldv.txt', 'suvtu.py', 'vaxyw.txt', 'wvere.txt', 'wxhtw.py', 'xmffa.txt', 'yohuh.txt', 'yvgwm.py', 'zgwye.txt']\n",
      ".\\main\\afkgv\n",
      "[]\n",
      "['bxdnn.py']\n",
      ".\\main\\ddiqo\n",
      "[]\n",
      "['qxbwf.txt']\n",
      ".\\main\\frtrl\n",
      "[]\n",
      "['eaemw.py', 'gycxp.txt', 'vfiks.txt']\n",
      ".\\main\\hgyoc\n",
      "['ilwwv', 'kwawh', 'tztsf', 'ycbxr', 'yfdwy']\n",
      "['avzvc.py', 'azghn.txt', 'bnunx.py', 'diyzm.txt', 'gvyia.py', 'jeejo.txt', 'kwfhy.txt', 'mcesa.py', 'ogoff.txt', 'skjvb.txt', 'xdwty.txt', 'xzwbm.txt']\n",
      ".\\main\\hgyoc\\ilwwv\n",
      "[]\n",
      "['psxra.txt']\n",
      ".\\main\\hgyoc\\kwawh\n",
      "['hapry', 'jxtqa', 'rzgzv', 'uunbz']\n",
      "['bxlns.txt', 'lrzxd.py']\n",
      ".\\main\\hgyoc\\kwawh\\hapry\n",
      "[]\n",
      "['mejcl.py', 'pevsg.py']\n",
      ".\\main\\hgyoc\\kwawh\\jxtqa\n",
      "[]\n",
      "[]\n",
      ".\\main\\hgyoc\\kwawh\\rzgzv\n",
      "[]\n",
      "['grbfr.txt', 'yraxd.py']\n",
      ".\\main\\hgyoc\\kwawh\\uunbz\n",
      "[]\n",
      "['biqwd.txt', 'mnnoy.txt', 'nkvij.txt']\n",
      ".\\main\\hgyoc\\tztsf\n",
      "[]\n",
      "['iynbe.txt', 'vegzp.txt']\n",
      ".\\main\\hgyoc\\ycbxr\n",
      "['ivjta', 'jpjxk', 'kokzg', 'xkvcg']\n",
      "['kslju.txt', 'qzqyg.txt', 'tdhup.txt']\n",
      ".\\main\\hgyoc\\ycbxr\\ivjta\n",
      "[]\n",
      "['kfllc.py']\n",
      ".\\main\\hgyoc\\ycbxr\\jpjxk\n",
      "[]\n",
      "[]\n",
      ".\\main\\hgyoc\\ycbxr\\kokzg\n",
      "[]\n",
      "[]\n",
      ".\\main\\hgyoc\\ycbxr\\xkvcg\n",
      "[]\n",
      "['clpnh.txt']\n",
      ".\\main\\hgyoc\\yfdwy\n",
      "[]\n",
      "['ortfz.txt']\n",
      ".\\main\\jrczb\n",
      "[]\n",
      "['ifupb.txt']\n",
      ".\\main\\ksuvk\n",
      "['xjrqt']\n",
      "[]\n",
      ".\\main\\ksuvk\\xjrqt\n",
      "['qdbqt', 'qjoks']\n",
      "['lbvrl.txt', 'ntdip.txt', 'wvtgk.py']\n",
      ".\\main\\ksuvk\\xjrqt\\qdbqt\n",
      "['hotgx', 'prkcp']\n",
      "['fnxzz.txt']\n",
      ".\\main\\ksuvk\\xjrqt\\qdbqt\\hotgx\n",
      "['efjkp', 'izwwv']\n",
      "['cpyns.txt', 'dudeb.py']\n",
      ".\\main\\ksuvk\\xjrqt\\qdbqt\\hotgx\\efjkp\n",
      "[]\n",
      "[]\n",
      ".\\main\\ksuvk\\xjrqt\\qdbqt\\hotgx\\izwwv\n",
      "['xrrlt']\n",
      "['xfqqg.py', 'yhgoq.py', 'zaxis.py']\n",
      ".\\main\\ksuvk\\xjrqt\\qdbqt\\hotgx\\izwwv\\xrrlt\n",
      "[]\n",
      "['dygkw.txt', 'kpkop.txt', 'mbict.txt', 'swmfb.txt']\n",
      ".\\main\\ksuvk\\xjrqt\\qdbqt\\prkcp\n",
      "['dnyyv']\n",
      "['qdugi.txt', 'qkxpf.txt']\n",
      ".\\main\\ksuvk\\xjrqt\\qdbqt\\prkcp\\dnyyv\n",
      "['rbcbt']\n",
      "['dbmss.py', 'gqjfx.txt', 'jlife.py', 'nozbp.py']\n",
      ".\\main\\ksuvk\\xjrqt\\qdbqt\\prkcp\\dnyyv\\rbcbt\n",
      "[]\n",
      "[]\n",
      ".\\main\\ksuvk\\xjrqt\\qjoks\n",
      "['lucwg']\n",
      "['gswni.txt', 'kqizu.txt']\n",
      ".\\main\\ksuvk\\xjrqt\\qjoks\\lucwg\n",
      "[]\n",
      "['rcczp.txt', 'tzpsu.txt']\n",
      ".\\main\\lqbli\n",
      "['otofk']\n",
      "['qybbd.txt']\n",
      ".\\main\\lqbli\\otofk\n",
      "['armko', 'zsojz']\n",
      "['akmok.py', 'hbxjv.txt', 'ofcia.txt', 'pbidc.py', 'ybrdw.py']\n",
      ".\\main\\lqbli\\otofk\\armko\n",
      "['svrbq', 'ufenh']\n",
      "['dofzv.txt', 'kchnx.py', 'nciua.txt', 'npucw.txt', 'ohwpa.txt']\n",
      ".\\main\\lqbli\\otofk\\armko\\svrbq\n",
      "[]\n",
      "[]\n",
      ".\\main\\lqbli\\otofk\\armko\\ufenh\n",
      "[]\n",
      "[]\n",
      ".\\main\\lqbli\\otofk\\zsojz\n",
      "[]\n",
      "['yqlyh.txt']\n",
      ".\\main\\mwhci\n",
      "[]\n",
      "['gymxy.txt', 'ttopz.py']\n",
      ".\\main\\olmhl\n",
      "['mmtsz']\n",
      "['bhmcc.txt', 'gnaag.txt', 'kgiik.txt', 'rnhvd.txt', 'whfbo.txt']\n",
      ".\\main\\olmhl\\mmtsz\n",
      "['nujko', 'phcap']\n",
      "['elpwr.py', 'hamfm.py', 'mvrdu.txt', 'ngutc.py', 'rsolr.py', 'xikrv.txt']\n",
      ".\\main\\olmhl\\mmtsz\\nujko\n",
      "['bjdpa', 'ywjka', 'ywjxy']\n",
      "['vlzlx.txt']\n",
      ".\\main\\olmhl\\mmtsz\\nujko\\bjdpa\n",
      "[]\n",
      "['lfxys.txt']\n",
      ".\\main\\olmhl\\mmtsz\\nujko\\ywjka\n",
      "['pxjip']\n",
      "['ailhc.py', 'kisdi.py', 'llzma.txt', 'uskqk.txt', 'wpeve.txt', 'zwmpm.txt']\n",
      ".\\main\\olmhl\\mmtsz\\nujko\\ywjka\\pxjip\n",
      "['wthmo']\n",
      "['aniue.py', 'fpuyw.txt', 'lmrtv.py', 'mcvwk.py', 'qshso.txt', 'ssfuy.py']\n",
      ".\\main\\olmhl\\mmtsz\\nujko\\ywjka\\pxjip\\wthmo\n",
      "['dgypg', 'rwwuw', 'wtgrc', 'yaqkg']\n",
      "['ewpru.py', 'hjsqc.txt', 'kdfnf.py', 'lcgtq.txt', 'mupic.txt', 'puzpd.py', 'rkrrw.txt', 'wwcga.txt', 'xfalg.txt', 'ytfxp.txt', 'zszcm.txt']\n",
      ".\\main\\olmhl\\mmtsz\\nujko\\ywjka\\pxjip\\wthmo\\dgypg\n",
      "[]\n",
      "[]\n",
      ".\\main\\olmhl\\mmtsz\\nujko\\ywjka\\pxjip\\wthmo\\rwwuw\n",
      "[]\n",
      "['xwmnb.py']\n",
      ".\\main\\olmhl\\mmtsz\\nujko\\ywjka\\pxjip\\wthmo\\wtgrc\n",
      "['grnfu', 'juoxd', 'kztxg', 'mgplg', 'zfukg']\n",
      "['gwqic.py', 'hckvz.txt', 'hiyqi.txt', 'nbenj.txt', 'qyduf.txt', 'rjhap.txt', 'smnsc.py']\n",
      ".\\main\\olmhl\\mmtsz\\nujko\\ywjka\\pxjip\\wthmo\\wtgrc\\grnfu\n",
      "[]\n",
      "['cubok.py']\n",
      ".\\main\\olmhl\\mmtsz\\nujko\\ywjka\\pxjip\\wthmo\\wtgrc\\juoxd\n",
      "['efbru']\n",
      "['cdizf.txt', 'duwbk.txt', 'hjgdf.py', 'vnysh.txt']\n",
      ".\\main\\olmhl\\mmtsz\\nujko\\ywjka\\pxjip\\wthmo\\wtgrc\\juoxd\\efbru\n",
      "[]\n",
      "[]\n",
      ".\\main\\olmhl\\mmtsz\\nujko\\ywjka\\pxjip\\wthmo\\wtgrc\\kztxg\n",
      "['qwlrx']\n",
      "['cnfnj.txt', 'ibude.txt', 'olwiq.txt']\n",
      ".\\main\\olmhl\\mmtsz\\nujko\\ywjka\\pxjip\\wthmo\\wtgrc\\kztxg\\qwlrx\n",
      "['dhnor', 'djozj', 'drovd', 'lirot', 'nfcxf']\n",
      "['blvtq.py', 'edmiy.txt', 'gyvur.txt', 'hstyv.py', 'hzhfn.py', 'igtmf.txt', 'jskvm.txt', 'loqtf.py', 'nwjdv.txt', 'vjhld.txt', 'wajrg.txt']\n",
      ".\\main\\olmhl\\mmtsz\\nujko\\ywjka\\pxjip\\wthmo\\wtgrc\\kztxg\\qwlrx\\dhnor\n",
      "[]\n",
      "[]\n",
      ".\\main\\olmhl\\mmtsz\\nujko\\ywjka\\pxjip\\wthmo\\wtgrc\\kztxg\\qwlrx\\djozj\n",
      "[]\n",
      "['ptdnq.py', 'vcipo.txt', 'xjsai.txt']\n",
      ".\\main\\olmhl\\mmtsz\\nujko\\ywjka\\pxjip\\wthmo\\wtgrc\\kztxg\\qwlrx\\drovd\n",
      "[]\n",
      "[]\n",
      ".\\main\\olmhl\\mmtsz\\nujko\\ywjka\\pxjip\\wthmo\\wtgrc\\kztxg\\qwlrx\\lirot\n",
      "[]\n",
      "['auwzy.py']\n",
      ".\\main\\olmhl\\mmtsz\\nujko\\ywjka\\pxjip\\wthmo\\wtgrc\\kztxg\\qwlrx\\nfcxf\n",
      "[]\n",
      "['jglht.txt', 'uvmef.py']\n",
      ".\\main\\olmhl\\mmtsz\\nujko\\ywjka\\pxjip\\wthmo\\wtgrc\\mgplg\n",
      "['rbyav']\n",
      "['bnlci.txt', 'deetn.txt']\n",
      ".\\main\\olmhl\\mmtsz\\nujko\\ywjka\\pxjip\\wthmo\\wtgrc\\mgplg\\rbyav\n",
      "['ppeir', 'qosgw', 'uaodv', 'yqzsa']\n",
      "['amgvh.txt', 'bqscf.txt', 'bxijj.py', 'dkcir.txt', 'nbjiu.txt', 'tjwtk.txt', 'xipxd.py', 'ywngw.txt', 'yxalw.txt']\n",
      ".\\main\\olmhl\\mmtsz\\nujko\\ywjka\\pxjip\\wthmo\\wtgrc\\mgplg\\rbyav\\ppeir\n",
      "['qyeyy', 'subdi', 'vsdfx']\n",
      "['fnsya.txt', 'hzbta.txt', 'vjodn.txt']\n",
      ".\\main\\olmhl\\mmtsz\\nujko\\ywjka\\pxjip\\wthmo\\wtgrc\\mgplg\\rbyav\\ppeir\\qyeyy\n",
      "[]\n",
      "[]\n",
      ".\\main\\olmhl\\mmtsz\\nujko\\ywjka\\pxjip\\wthmo\\wtgrc\\mgplg\\rbyav\\ppeir\\subdi\n",
      "['afrqp', 'elqwy', 'hsbbt', 'zljoz']\n",
      "['cbdqd.py', 'ccyrz.py', 'cqugd.py', 'eddpe.txt', 'egyde.txt', 'eihrp.py', 'fwxhe.py', 'ivfrj.txt', 'lazia.txt', 'maxmd.txt', 'nvcly.txt', 'ojogb.txt', 'ptykj.py', 'rebkn.txt', 'sfjei.txt', 'uiwot.py', 'wmlla.py', 'ybjka.txt']\n",
      ".\\main\\olmhl\\mmtsz\\nujko\\ywjka\\pxjip\\wthmo\\wtgrc\\mgplg\\rbyav\\ppeir\\subdi\\afrqp\n",
      "['iaujh']\n",
      "[]\n",
      ".\\main\\olmhl\\mmtsz\\nujko\\ywjka\\pxjip\\wthmo\\wtgrc\\mgplg\\rbyav\\ppeir\\subdi\\afrqp\\iaujh\n",
      "['addrx', 'jqjsg', 'jqnsz']\n",
      "['edamr.py', 'hbsuz.txt', 'rzsqn.txt', 'yadbj.txt']\n",
      ".\\main\\olmhl\\mmtsz\\nujko\\ywjka\\pxjip\\wthmo\\wtgrc\\mgplg\\rbyav\\ppeir\\subdi\\afrqp\\iaujh\\addrx\n",
      "[]\n",
      "[]\n",
      ".\\main\\olmhl\\mmtsz\\nujko\\ywjka\\pxjip\\wthmo\\wtgrc\\mgplg\\rbyav\\ppeir\\subdi\\afrqp\\iaujh\\jqjsg\n",
      "['xriod', 'zbzvv']\n",
      "['fpnip.txt', 'goiyc.txt', 'nnrrb.py', 'waxgh.txt', 'wpqqa.py']\n",
      ".\\main\\olmhl\\mmtsz\\nujko\\ywjka\\pxjip\\wthmo\\wtgrc\\mgplg\\rbyav\\ppeir\\subdi\\afrqp\\iaujh\\jqjsg\\xriod\n",
      "['dvban']\n",
      "['ifjxk.py', 'kxcas.txt', 'mbsnb.txt']\n",
      ".\\main\\olmhl\\mmtsz\\nujko\\ywjka\\pxjip\\wthmo\\wtgrc\\mgplg\\rbyav\\ppeir\\subdi\\afrqp\\iaujh\\jqjsg\\xriod\\dvban\n",
      "['gufln', 'jhpib']\n",
      "['rkqzh.txt']\n",
      ".\\main\\olmhl\\mmtsz\\nujko\\ywjka\\pxjip\\wthmo\\wtgrc\\mgplg\\rbyav\\ppeir\\subdi\\afrqp\\iaujh\\jqjsg\\xriod\\dvban\\gufln\n",
      "['yklwn']\n",
      "[]\n",
      ".\\main\\olmhl\\mmtsz\\nujko\\ywjka\\pxjip\\wthmo\\wtgrc\\mgplg\\rbyav\\ppeir\\subdi\\afrqp\\iaujh\\jqjsg\\xriod\\dvban\\gufln\\yklwn\n",
      "['efemx']\n",
      "['xfymd.txt']\n",
      ".\\main\\olmhl\\mmtsz\\nujko\\ywjka\\pxjip\\wthmo\\wtgrc\\mgplg\\rbyav\\ppeir\\subdi\\afrqp\\iaujh\\jqjsg\\xriod\\dvban\\gufln\\yklwn\\efemx\n",
      "[]\n",
      "[]\n",
      ".\\main\\olmhl\\mmtsz\\nujko\\ywjka\\pxjip\\wthmo\\wtgrc\\mgplg\\rbyav\\ppeir\\subdi\\afrqp\\iaujh\\jqjsg\\xriod\\dvban\\jhpib\n",
      "['ufrhp']\n",
      "['eyohd.txt', 'tkpoz.txt']\n",
      ".\\main\\olmhl\\mmtsz\\nujko\\ywjka\\pxjip\\wthmo\\wtgrc\\mgplg\\rbyav\\ppeir\\subdi\\afrqp\\iaujh\\jqjsg\\xriod\\dvban\\jhpib\\ufrhp\n",
      "[]\n",
      "['hglwu.txt', 'nfxlv.txt']\n",
      ".\\main\\olmhl\\mmtsz\\nujko\\ywjka\\pxjip\\wthmo\\wtgrc\\mgplg\\rbyav\\ppeir\\subdi\\afrqp\\iaujh\\jqjsg\\zbzvv\n",
      "[]\n",
      "[]\n",
      ".\\main\\olmhl\\mmtsz\\nujko\\ywjka\\pxjip\\wthmo\\wtgrc\\mgplg\\rbyav\\ppeir\\subdi\\afrqp\\iaujh\\jqnsz\n",
      "[]\n",
      "['cfbxr.py', 'ihdto.py', 'jqeou.py', 'lcgml.txt']\n",
      ".\\main\\olmhl\\mmtsz\\nujko\\ywjka\\pxjip\\wthmo\\wtgrc\\mgplg\\rbyav\\ppeir\\subdi\\elqwy\n",
      "[]\n",
      "['fcibk.txt', 'huzxi.txt', 'svkqp.txt', 'wbfcq.txt']\n",
      ".\\main\\olmhl\\mmtsz\\nujko\\ywjka\\pxjip\\wthmo\\wtgrc\\mgplg\\rbyav\\ppeir\\subdi\\hsbbt\n",
      "[]\n",
      "[]\n",
      ".\\main\\olmhl\\mmtsz\\nujko\\ywjka\\pxjip\\wthmo\\wtgrc\\mgplg\\rbyav\\ppeir\\subdi\\zljoz\n",
      "['hsndh', 'kgdme', 'sgmoj', 'xrvnu']\n",
      "['cjsev.txt', 'hjlgw.txt', 'judks.txt', 'lrshd.txt', 'nhzsu.txt', 'pkcoh.txt', 'swqks.py', 'tkmtk.py', 'xixnf.txt']\n",
      ".\\main\\olmhl\\mmtsz\\nujko\\ywjka\\pxjip\\wthmo\\wtgrc\\mgplg\\rbyav\\ppeir\\subdi\\zljoz\\hsndh\n",
      "[]\n",
      "['baffg.txt']\n",
      ".\\main\\olmhl\\mmtsz\\nujko\\ywjka\\pxjip\\wthmo\\wtgrc\\mgplg\\rbyav\\ppeir\\subdi\\zljoz\\kgdme\n",
      "['evnvn', 'jhhbu']\n",
      "['bdwkq.txt', 'dtlmp.txt', 'efipd.py', 'euduy.py', 'mfbag.txt', 'natoh.txt', 'pfxyh.txt', 'pxcim.txt', 'qnpjo.txt', 'rlccj.txt', 'sgtmk.txt', 'thrcn.py', 'uykvs.txt', 'vwicr.py', 'xdsja.txt']\n",
      ".\\main\\olmhl\\mmtsz\\nujko\\ywjka\\pxjip\\wthmo\\wtgrc\\mgplg\\rbyav\\ppeir\\subdi\\zljoz\\kgdme\\evnvn\n",
      "['axqur']\n",
      "['cgsyt.txt', 'zhvfc.txt']\n",
      ".\\main\\olmhl\\mmtsz\\nujko\\ywjka\\pxjip\\wthmo\\wtgrc\\mgplg\\rbyav\\ppeir\\subdi\\zljoz\\kgdme\\evnvn\\axqur\n",
      "['itkcz']\n",
      "['dsmgr.txt', 'exqbe.txt', 'fykwk.txt', 'karzq.txt', 'lrzdq.txt', 'pxmdu.txt', 'snjsf.py']\n",
      ".\\main\\olmhl\\mmtsz\\nujko\\ywjka\\pxjip\\wthmo\\wtgrc\\mgplg\\rbyav\\ppeir\\subdi\\zljoz\\kgdme\\evnvn\\axqur\\itkcz\n",
      "[]\n",
      "['hoyms.py', 'mggvs.txt', 'nnzmq.py', 'rvjcx.py']\n",
      ".\\main\\olmhl\\mmtsz\\nujko\\ywjka\\pxjip\\wthmo\\wtgrc\\mgplg\\rbyav\\ppeir\\subdi\\zljoz\\kgdme\\jhhbu\n",
      "['dufxr', 'khutz', 'rnqwd']\n",
      "['abkxq.txt', 'ddhit.txt', 'jckmn.txt', 'mvdbn.txt', 'tkkmf.txt']\n",
      ".\\main\\olmhl\\mmtsz\\nujko\\ywjka\\pxjip\\wthmo\\wtgrc\\mgplg\\rbyav\\ppeir\\subdi\\zljoz\\kgdme\\jhhbu\\dufxr\n",
      "['hlgup', 'jbsmx', 'sxojq', 'xksyt', 'xmqfi', 'xroxl']\n",
      "['heuap.txt', 'kesve.txt', 'mvznr.py', 'rselz.txt']\n",
      ".\\main\\olmhl\\mmtsz\\nujko\\ywjka\\pxjip\\wthmo\\wtgrc\\mgplg\\rbyav\\ppeir\\subdi\\zljoz\\kgdme\\jhhbu\\dufxr\\hlgup\n",
      "['auqky', 'kzoko']\n",
      "['cycho.txt', 'mozyb.txt', 'voshk.txt', 'wxxzu.py']\n",
      ".\\main\\olmhl\\mmtsz\\nujko\\ywjka\\pxjip\\wthmo\\wtgrc\\mgplg\\rbyav\\ppeir\\subdi\\zljoz\\kgdme\\jhhbu\\dufxr\\hlgup\\auqky\n",
      "[]\n",
      "['afymg.py']\n",
      ".\\main\\olmhl\\mmtsz\\nujko\\ywjka\\pxjip\\wthmo\\wtgrc\\mgplg\\rbyav\\ppeir\\subdi\\zljoz\\kgdme\\jhhbu\\dufxr\\hlgup\\kzoko\n",
      "[]\n",
      "[]\n",
      ".\\main\\olmhl\\mmtsz\\nujko\\ywjka\\pxjip\\wthmo\\wtgrc\\mgplg\\rbyav\\ppeir\\subdi\\zljoz\\kgdme\\jhhbu\\dufxr\\jbsmx\n",
      "[]\n",
      "[]\n",
      ".\\main\\olmhl\\mmtsz\\nujko\\ywjka\\pxjip\\wthmo\\wtgrc\\mgplg\\rbyav\\ppeir\\subdi\\zljoz\\kgdme\\jhhbu\\dufxr\\sxojq\n",
      "['rjekz']\n",
      "['frdru.py', 'grfwe.txt', 'ltedx.py', 'nugyo.txt']\n",
      ".\\main\\olmhl\\mmtsz\\nujko\\ywjka\\pxjip\\wthmo\\wtgrc\\mgplg\\rbyav\\ppeir\\subdi\\zljoz\\kgdme\\jhhbu\\dufxr\\sxojq\\rjekz\n",
      "[]\n",
      "[]\n",
      ".\\main\\olmhl\\mmtsz\\nujko\\ywjka\\pxjip\\wthmo\\wtgrc\\mgplg\\rbyav\\ppeir\\subdi\\zljoz\\kgdme\\jhhbu\\dufxr\\xksyt\n",
      "[]\n",
      "[]\n",
      ".\\main\\olmhl\\mmtsz\\nujko\\ywjka\\pxjip\\wthmo\\wtgrc\\mgplg\\rbyav\\ppeir\\subdi\\zljoz\\kgdme\\jhhbu\\dufxr\\xmqfi\n",
      "[]\n",
      "['ssflw.txt', 'uczpf.txt']\n",
      ".\\main\\olmhl\\mmtsz\\nujko\\ywjka\\pxjip\\wthmo\\wtgrc\\mgplg\\rbyav\\ppeir\\subdi\\zljoz\\kgdme\\jhhbu\\dufxr\\xroxl\n",
      "['abslw', 'rgunj']\n",
      "['lagpy.py', 'viutj.txt', 'wrxre.txt', 'xwnhn.txt', 'ybxzk.txt']\n",
      ".\\main\\olmhl\\mmtsz\\nujko\\ywjka\\pxjip\\wthmo\\wtgrc\\mgplg\\rbyav\\ppeir\\subdi\\zljoz\\kgdme\\jhhbu\\dufxr\\xroxl\\abslw\n",
      "[]\n",
      "['urqac.py']\n",
      ".\\main\\olmhl\\mmtsz\\nujko\\ywjka\\pxjip\\wthmo\\wtgrc\\mgplg\\rbyav\\ppeir\\subdi\\zljoz\\kgdme\\jhhbu\\dufxr\\xroxl\\rgunj\n",
      "['bdcjg']\n",
      "['hjzzj.txt', 'tjkav.txt', 'znkxz.txt']\n",
      ".\\main\\olmhl\\mmtsz\\nujko\\ywjka\\pxjip\\wthmo\\wtgrc\\mgplg\\rbyav\\ppeir\\subdi\\zljoz\\kgdme\\jhhbu\\dufxr\\xroxl\\rgunj\\bdcjg\n",
      "['ktkfx', 'nsyus', 'rydrk', 'vkntp', 'xpmcm']\n",
      "['lgunz.py', 'onkcs.txt']\n",
      ".\\main\\olmhl\\mmtsz\\nujko\\ywjka\\pxjip\\wthmo\\wtgrc\\mgplg\\rbyav\\ppeir\\subdi\\zljoz\\kgdme\\jhhbu\\dufxr\\xroxl\\rgunj\\bdcjg\\ktkfx\n",
      "[]\n",
      "['mkydd.py', 'vfylr.txt']\n",
      ".\\main\\olmhl\\mmtsz\\nujko\\ywjka\\pxjip\\wthmo\\wtgrc\\mgplg\\rbyav\\ppeir\\subdi\\zljoz\\kgdme\\jhhbu\\dufxr\\xroxl\\rgunj\\bdcjg\\nsyus\n",
      "[]\n",
      "[]\n",
      ".\\main\\olmhl\\mmtsz\\nujko\\ywjka\\pxjip\\wthmo\\wtgrc\\mgplg\\rbyav\\ppeir\\subdi\\zljoz\\kgdme\\jhhbu\\dufxr\\xroxl\\rgunj\\bdcjg\\rydrk\n",
      "[]\n",
      "[]\n",
      ".\\main\\olmhl\\mmtsz\\nujko\\ywjka\\pxjip\\wthmo\\wtgrc\\mgplg\\rbyav\\ppeir\\subdi\\zljoz\\kgdme\\jhhbu\\dufxr\\xroxl\\rgunj\\bdcjg\\vkntp\n",
      "['rjqjr']\n",
      "['enqxz.txt', 'nujsg.py', 'wutxm.txt']\n",
      ".\\main\\olmhl\\mmtsz\\nujko\\ywjka\\pxjip\\wthmo\\wtgrc\\mgplg\\rbyav\\ppeir\\subdi\\zljoz\\kgdme\\jhhbu\\dufxr\\xroxl\\rgunj\\bdcjg\\vkntp\\rjqjr\n",
      "[]\n",
      "['megyo.py', 'ugvgv.txt']\n",
      ".\\main\\olmhl\\mmtsz\\nujko\\ywjka\\pxjip\\wthmo\\wtgrc\\mgplg\\rbyav\\ppeir\\subdi\\zljoz\\kgdme\\jhhbu\\dufxr\\xroxl\\rgunj\\bdcjg\\xpmcm\n",
      "[]\n",
      "['eslhq.py']\n",
      ".\\main\\olmhl\\mmtsz\\nujko\\ywjka\\pxjip\\wthmo\\wtgrc\\mgplg\\rbyav\\ppeir\\subdi\\zljoz\\kgdme\\jhhbu\\khutz\n",
      "[]\n",
      "[]\n",
      ".\\main\\olmhl\\mmtsz\\nujko\\ywjka\\pxjip\\wthmo\\wtgrc\\mgplg\\rbyav\\ppeir\\subdi\\zljoz\\kgdme\\jhhbu\\rnqwd\n",
      "['cykbq', 'purto']\n",
      "['bjtsl.txt', 'obcpa.py', 'sbjht.py']\n",
      ".\\main\\olmhl\\mmtsz\\nujko\\ywjka\\pxjip\\wthmo\\wtgrc\\mgplg\\rbyav\\ppeir\\subdi\\zljoz\\kgdme\\jhhbu\\rnqwd\\cykbq\n",
      "[]\n",
      "['pdxto.txt']\n",
      ".\\main\\olmhl\\mmtsz\\nujko\\ywjka\\pxjip\\wthmo\\wtgrc\\mgplg\\rbyav\\ppeir\\subdi\\zljoz\\kgdme\\jhhbu\\rnqwd\\purto\n",
      "['bkfog', 'bsgqc', 'hmnro', 'mwhkt']\n",
      "['cyktn.txt', 'ihpqq.txt', 'kycri.txt', 'ppher.txt', 'qqyty.txt', 'ratqg.txt', 'sjhjd.py', 'ssjjr.py', 'trope.py', 'uvulr.py', 'uzvga.txt', 'zbqui.py', 'zclmh.py']\n",
      ".\\main\\olmhl\\mmtsz\\nujko\\ywjka\\pxjip\\wthmo\\wtgrc\\mgplg\\rbyav\\ppeir\\subdi\\zljoz\\kgdme\\jhhbu\\rnqwd\\purto\\bkfog\n",
      "['rvsfo']\n",
      "['dndhe.py', 'drkat.py', 'hkakk.txt', 'rjrcl.txt']\n",
      ".\\main\\olmhl\\mmtsz\\nujko\\ywjka\\pxjip\\wthmo\\wtgrc\\mgplg\\rbyav\\ppeir\\subdi\\zljoz\\kgdme\\jhhbu\\rnqwd\\purto\\bkfog\\rvsfo\n",
      "['gvbnv', 'rpnzm']\n",
      "['girkd.py']\n",
      ".\\main\\olmhl\\mmtsz\\nujko\\ywjka\\pxjip\\wthmo\\wtgrc\\mgplg\\rbyav\\ppeir\\subdi\\zljoz\\kgdme\\jhhbu\\rnqwd\\purto\\bkfog\\rvsfo\\gvbnv\n",
      "[]\n",
      "['qjicg.py']\n",
      ".\\main\\olmhl\\mmtsz\\nujko\\ywjka\\pxjip\\wthmo\\wtgrc\\mgplg\\rbyav\\ppeir\\subdi\\zljoz\\kgdme\\jhhbu\\rnqwd\\purto\\bkfog\\rvsfo\\rpnzm\n",
      "['ilogc', 'kafov', 'sydlz']\n",
      "['cdlnj.py', 'kholn.py', 'kxafz.py', 'wqsqb.py', 'xolho.txt']\n",
      ".\\main\\olmhl\\mmtsz\\nujko\\ywjka\\pxjip\\wthmo\\wtgrc\\mgplg\\rbyav\\ppeir\\subdi\\zljoz\\kgdme\\jhhbu\\rnqwd\\purto\\bkfog\\rvsfo\\rpnzm\\ilogc\n",
      "['reshp']\n",
      "['qtadz.py']\n",
      ".\\main\\olmhl\\mmtsz\\nujko\\ywjka\\pxjip\\wthmo\\wtgrc\\mgplg\\rbyav\\ppeir\\subdi\\zljoz\\kgdme\\jhhbu\\rnqwd\\purto\\bkfog\\rvsfo\\rpnzm\\ilogc\\reshp\n",
      "[]\n",
      "['czkpi.py', 'raznl.py', 'vbxad.txt', 'wevmv.py', 'zqwbg.txt']\n",
      ".\\main\\olmhl\\mmtsz\\nujko\\ywjka\\pxjip\\wthmo\\wtgrc\\mgplg\\rbyav\\ppeir\\subdi\\zljoz\\kgdme\\jhhbu\\rnqwd\\purto\\bkfog\\rvsfo\\rpnzm\\kafov\n",
      "['gndkk', 'iites']\n",
      "['gkqve.txt', 'uifjw.py']\n",
      ".\\main\\olmhl\\mmtsz\\nujko\\ywjka\\pxjip\\wthmo\\wtgrc\\mgplg\\rbyav\\ppeir\\subdi\\zljoz\\kgdme\\jhhbu\\rnqwd\\purto\\bkfog\\rvsfo\\rpnzm\\kafov\\gndkk\n",
      "['rdwhc']\n",
      "[]\n",
      ".\\main\\olmhl\\mmtsz\\nujko\\ywjka\\pxjip\\wthmo\\wtgrc\\mgplg\\rbyav\\ppeir\\subdi\\zljoz\\kgdme\\jhhbu\\rnqwd\\purto\\bkfog\\rvsfo\\rpnzm\\kafov\\gndkk\\rdwhc\n",
      "[]\n",
      "[]\n",
      ".\\main\\olmhl\\mmtsz\\nujko\\ywjka\\pxjip\\wthmo\\wtgrc\\mgplg\\rbyav\\ppeir\\subdi\\zljoz\\kgdme\\jhhbu\\rnqwd\\purto\\bkfog\\rvsfo\\rpnzm\\kafov\\iites\n",
      "['ygtox', 'yywbw']\n",
      "['ebguw.txt']\n",
      ".\\main\\olmhl\\mmtsz\\nujko\\ywjka\\pxjip\\wthmo\\wtgrc\\mgplg\\rbyav\\ppeir\\subdi\\zljoz\\kgdme\\jhhbu\\rnqwd\\purto\\bkfog\\rvsfo\\rpnzm\\kafov\\iites\\ygtox\n",
      "['bpmhg', 'rhvqn']\n",
      "['gqvel.txt']\n",
      ".\\main\\olmhl\\mmtsz\\nujko\\ywjka\\pxjip\\wthmo\\wtgrc\\mgplg\\rbyav\\ppeir\\subdi\\zljoz\\kgdme\\jhhbu\\rnqwd\\purto\\bkfog\\rvsfo\\rpnzm\\kafov\\iites\\ygtox\\bpmhg\n",
      "[]\n",
      "['ssizd.py', 'xoaoa.py']\n",
      ".\\main\\olmhl\\mmtsz\\nujko\\ywjka\\pxjip\\wthmo\\wtgrc\\mgplg\\rbyav\\ppeir\\subdi\\zljoz\\kgdme\\jhhbu\\rnqwd\\purto\\bkfog\\rvsfo\\rpnzm\\kafov\\iites\\ygtox\\rhvqn\n",
      "['ggfcr']\n",
      "['hafgb.txt', 'lxlbl.py', 'tftye.txt']\n",
      ".\\main\\olmhl\\mmtsz\\nujko\\ywjka\\pxjip\\wthmo\\wtgrc\\mgplg\\rbyav\\ppeir\\subdi\\zljoz\\kgdme\\jhhbu\\rnqwd\\purto\\bkfog\\rvsfo\\rpnzm\\kafov\\iites\\ygtox\\rhvqn\\ggfcr\n",
      "['bmihb', 'kxyxy']\n",
      "['cgzfk.py', 'qqqpe.py', 'taevp.py', 'xclus.txt']\n",
      ".\\main\\olmhl\\mmtsz\\nujko\\ywjka\\pxjip\\wthmo\\wtgrc\\mgplg\\rbyav\\ppeir\\subdi\\zljoz\\kgdme\\jhhbu\\rnqwd\\purto\\bkfog\\rvsfo\\rpnzm\\kafov\\iites\\ygtox\\rhvqn\\ggfcr\\bmihb\n",
      "[]\n",
      "['qnune.txt', 'qritj.txt']\n",
      ".\\main\\olmhl\\mmtsz\\nujko\\ywjka\\pxjip\\wthmo\\wtgrc\\mgplg\\rbyav\\ppeir\\subdi\\zljoz\\kgdme\\jhhbu\\rnqwd\\purto\\bkfog\\rvsfo\\rpnzm\\kafov\\iites\\ygtox\\rhvqn\\ggfcr\\kxyxy\n",
      "['inhuj', 'qrxwt']\n",
      "['dedkl.txt', 'rbykh.txt', 'tkjfg.txt', 'xxgjq.txt', 'ziymt.txt']\n",
      ".\\main\\olmhl\\mmtsz\\nujko\\ywjka\\pxjip\\wthmo\\wtgrc\\mgplg\\rbyav\\ppeir\\subdi\\zljoz\\kgdme\\jhhbu\\rnqwd\\purto\\bkfog\\rvsfo\\rpnzm\\kafov\\iites\\ygtox\\rhvqn\\ggfcr\\kxyxy\\inhuj\n",
      "[]\n",
      "[]\n",
      ".\\main\\olmhl\\mmtsz\\nujko\\ywjka\\pxjip\\wthmo\\wtgrc\\mgplg\\rbyav\\ppeir\\subdi\\zljoz\\kgdme\\jhhbu\\rnqwd\\purto\\bkfog\\rvsfo\\rpnzm\\kafov\\iites\\ygtox\\rhvqn\\ggfcr\\kxyxy\\qrxwt\n",
      "[]\n",
      "['djwiq.py']\n",
      ".\\main\\olmhl\\mmtsz\\nujko\\ywjka\\pxjip\\wthmo\\wtgrc\\mgplg\\rbyav\\ppeir\\subdi\\zljoz\\kgdme\\jhhbu\\rnqwd\\purto\\bkfog\\rvsfo\\rpnzm\\kafov\\iites\\yywbw\n",
      "[]\n",
      "[]\n",
      ".\\main\\olmhl\\mmtsz\\nujko\\ywjka\\pxjip\\wthmo\\wtgrc\\mgplg\\rbyav\\ppeir\\subdi\\zljoz\\kgdme\\jhhbu\\rnqwd\\purto\\bkfog\\rvsfo\\rpnzm\\sydlz\n",
      "[]\n",
      "[]\n",
      ".\\main\\olmhl\\mmtsz\\nujko\\ywjka\\pxjip\\wthmo\\wtgrc\\mgplg\\rbyav\\ppeir\\subdi\\zljoz\\kgdme\\jhhbu\\rnqwd\\purto\\bsgqc\n",
      "['ujtgh']\n",
      "['xljbc.txt', 'zjedz.txt']\n",
      ".\\main\\olmhl\\mmtsz\\nujko\\ywjka\\pxjip\\wthmo\\wtgrc\\mgplg\\rbyav\\ppeir\\subdi\\zljoz\\kgdme\\jhhbu\\rnqwd\\purto\\bsgqc\\ujtgh\n",
      "['tyapv']\n",
      "['aqqzt.py', 'jyckp.txt', 'uhuvh.py', 'zltuv.txt']\n",
      ".\\main\\olmhl\\mmtsz\\nujko\\ywjka\\pxjip\\wthmo\\wtgrc\\mgplg\\rbyav\\ppeir\\subdi\\zljoz\\kgdme\\jhhbu\\rnqwd\\purto\\bsgqc\\ujtgh\\tyapv\n",
      "['rbmqk', 'splzy']\n",
      "['dwwlp.py', 'edfgq.txt', 'mrkmf.py', 'nglat.txt', 'nqcnq.txt', 'sxsij.txt', 'tpycd.txt', 'vzkic.py', 'xaeym.txt', 'zatko.txt']\n",
      ".\\main\\olmhl\\mmtsz\\nujko\\ywjka\\pxjip\\wthmo\\wtgrc\\mgplg\\rbyav\\ppeir\\subdi\\zljoz\\kgdme\\jhhbu\\rnqwd\\purto\\bsgqc\\ujtgh\\tyapv\\rbmqk\n",
      "[]\n",
      "['omslv.txt']\n",
      ".\\main\\olmhl\\mmtsz\\nujko\\ywjka\\pxjip\\wthmo\\wtgrc\\mgplg\\rbyav\\ppeir\\subdi\\zljoz\\kgdme\\jhhbu\\rnqwd\\purto\\bsgqc\\ujtgh\\tyapv\\splzy\n",
      "[]\n",
      "['smzhc.txt']\n",
      ".\\main\\olmhl\\mmtsz\\nujko\\ywjka\\pxjip\\wthmo\\wtgrc\\mgplg\\rbyav\\ppeir\\subdi\\zljoz\\kgdme\\jhhbu\\rnqwd\\purto\\hmnro\n",
      "['jtmnb']\n",
      "[]\n",
      ".\\main\\olmhl\\mmtsz\\nujko\\ywjka\\pxjip\\wthmo\\wtgrc\\mgplg\\rbyav\\ppeir\\subdi\\zljoz\\kgdme\\jhhbu\\rnqwd\\purto\\hmnro\\jtmnb\n",
      "[]\n",
      "['ontkl.txt', 'rvzlj.py']\n",
      ".\\main\\olmhl\\mmtsz\\nujko\\ywjka\\pxjip\\wthmo\\wtgrc\\mgplg\\rbyav\\ppeir\\subdi\\zljoz\\kgdme\\jhhbu\\rnqwd\\purto\\mwhkt\n",
      "[]\n",
      "[]\n",
      ".\\main\\olmhl\\mmtsz\\nujko\\ywjka\\pxjip\\wthmo\\wtgrc\\mgplg\\rbyav\\ppeir\\subdi\\zljoz\\sgmoj\n",
      "[]\n",
      "['oteke.py', 'zxoah.py']\n",
      ".\\main\\olmhl\\mmtsz\\nujko\\ywjka\\pxjip\\wthmo\\wtgrc\\mgplg\\rbyav\\ppeir\\subdi\\zljoz\\xrvnu\n",
      "[]\n",
      "['dxvcb.py', 'gbevo.txt', 'rovjs.py']\n",
      ".\\main\\olmhl\\mmtsz\\nujko\\ywjka\\pxjip\\wthmo\\wtgrc\\mgplg\\rbyav\\ppeir\\vsdfx\n",
      "[]\n",
      "['pmnyj.txt']\n",
      ".\\main\\olmhl\\mmtsz\\nujko\\ywjka\\pxjip\\wthmo\\wtgrc\\mgplg\\rbyav\\qosgw\n",
      "['hxnor']\n",
      "['hcibv.txt', 'qpajn.py']\n",
      ".\\main\\olmhl\\mmtsz\\nujko\\ywjka\\pxjip\\wthmo\\wtgrc\\mgplg\\rbyav\\qosgw\\hxnor\n",
      "[]\n",
      "[]\n",
      ".\\main\\olmhl\\mmtsz\\nujko\\ywjka\\pxjip\\wthmo\\wtgrc\\mgplg\\rbyav\\uaodv\n",
      "[]\n",
      "['dikzy.py', 'lcoui.txt']\n",
      ".\\main\\olmhl\\mmtsz\\nujko\\ywjka\\pxjip\\wthmo\\wtgrc\\mgplg\\rbyav\\yqzsa\n",
      "[]\n",
      "['ufxbx.txt', 'yrxcm.txt']\n",
      ".\\main\\olmhl\\mmtsz\\nujko\\ywjka\\pxjip\\wthmo\\wtgrc\\zfukg\n",
      "['axlsq', 'cazio', 'jvmme', 'rvuph', 'ttmjw', 'vydse']\n",
      "['badbu.txt', 'eqozh.txt', 'exewx.py', 'flder.txt', 'lkale.txt', 'ncajz.py', 'ooyge.txt', 'vtsov.py', 'wggct.py', 'xcarh.py', 'yqthe.py', 'yxzsn.txt', 'yzjqu.txt', 'zqbnu.txt']\n",
      ".\\main\\olmhl\\mmtsz\\nujko\\ywjka\\pxjip\\wthmo\\wtgrc\\zfukg\\axlsq\n",
      "[]\n",
      "['ojzky.txt']\n",
      ".\\main\\olmhl\\mmtsz\\nujko\\ywjka\\pxjip\\wthmo\\wtgrc\\zfukg\\cazio\n",
      "['sosdj']\n",
      "['zkakj.py', 'zxxeu.py']\n",
      ".\\main\\olmhl\\mmtsz\\nujko\\ywjka\\pxjip\\wthmo\\wtgrc\\zfukg\\cazio\\sosdj\n",
      "['rcsvd', 'uuyrs', 'yujjk']\n",
      "['cbmii.txt', 'dzkem.txt', 'kjava.py']\n",
      ".\\main\\olmhl\\mmtsz\\nujko\\ywjka\\pxjip\\wthmo\\wtgrc\\zfukg\\cazio\\sosdj\\rcsvd\n",
      "[]\n",
      "['lmyue.py']\n",
      ".\\main\\olmhl\\mmtsz\\nujko\\ywjka\\pxjip\\wthmo\\wtgrc\\zfukg\\cazio\\sosdj\\uuyrs\n",
      "[]\n",
      "['lzvgo.py']\n",
      ".\\main\\olmhl\\mmtsz\\nujko\\ywjka\\pxjip\\wthmo\\wtgrc\\zfukg\\cazio\\sosdj\\yujjk\n",
      "[]\n",
      "['jrpje.txt', 'tglpv.txt', 'tmonk.py', 'tqbxn.txt']\n",
      ".\\main\\olmhl\\mmtsz\\nujko\\ywjka\\pxjip\\wthmo\\wtgrc\\zfukg\\jvmme\n",
      "['eayzq', 'ipboa', 'kehsm', 'vynzv', 'wvwva']\n",
      "['ndmba.txt', 'peoqq.txt', 'ycnmt.py']\n",
      ".\\main\\olmhl\\mmtsz\\nujko\\ywjka\\pxjip\\wthmo\\wtgrc\\zfukg\\jvmme\\eayzq\n",
      "['isyki', 'nuiwj', 'tixoq', 'wfnda']\n",
      "[]\n",
      ".\\main\\olmhl\\mmtsz\\nujko\\ywjka\\pxjip\\wthmo\\wtgrc\\zfukg\\jvmme\\eayzq\\isyki\n",
      "[]\n",
      "['ooakq.txt', 'pqzao.py', 'sxnyt.py', 'tzfue.txt']\n",
      ".\\main\\olmhl\\mmtsz\\nujko\\ywjka\\pxjip\\wthmo\\wtgrc\\zfukg\\jvmme\\eayzq\\nuiwj\n",
      "[]\n",
      "['qtfig.py']\n",
      ".\\main\\olmhl\\mmtsz\\nujko\\ywjka\\pxjip\\wthmo\\wtgrc\\zfukg\\jvmme\\eayzq\\tixoq\n",
      "['lldpv']\n",
      "['jzzng.txt', 'upvvt.txt']\n",
      ".\\main\\olmhl\\mmtsz\\nujko\\ywjka\\pxjip\\wthmo\\wtgrc\\zfukg\\jvmme\\eayzq\\tixoq\\lldpv\n",
      "['hbsiz']\n",
      "['hzgem.py', 'nzmgi.py', 'qxkag.py']\n",
      ".\\main\\olmhl\\mmtsz\\nujko\\ywjka\\pxjip\\wthmo\\wtgrc\\zfukg\\jvmme\\eayzq\\tixoq\\lldpv\\hbsiz\n",
      "[]\n",
      "[]\n",
      ".\\main\\olmhl\\mmtsz\\nujko\\ywjka\\pxjip\\wthmo\\wtgrc\\zfukg\\jvmme\\eayzq\\wfnda\n",
      "[]\n",
      "['bkfpc.txt', 'lzcsc.txt', 'myqbc.txt', 'wenln.py']\n",
      ".\\main\\olmhl\\mmtsz\\nujko\\ywjka\\pxjip\\wthmo\\wtgrc\\zfukg\\jvmme\\ipboa\n",
      "[]\n",
      "[]\n",
      ".\\main\\olmhl\\mmtsz\\nujko\\ywjka\\pxjip\\wthmo\\wtgrc\\zfukg\\jvmme\\kehsm\n",
      "[]\n",
      "['racex.py']\n",
      ".\\main\\olmhl\\mmtsz\\nujko\\ywjka\\pxjip\\wthmo\\wtgrc\\zfukg\\jvmme\\vynzv\n",
      "[]\n",
      "['cnlvc.txt', 'qtxsm.py']\n",
      ".\\main\\olmhl\\mmtsz\\nujko\\ywjka\\pxjip\\wthmo\\wtgrc\\zfukg\\jvmme\\wvwva\n",
      "['bufuy', 'jebnq', 'nosvo']\n",
      "['cyasy.txt', 'ehaxe.py', 'fkxut.txt', 'fwutv.py', 'ghtwx.py', 'hxbrt.txt', 'oqgva.txt']\n",
      ".\\main\\olmhl\\mmtsz\\nujko\\ywjka\\pxjip\\wthmo\\wtgrc\\zfukg\\jvmme\\wvwva\\bufuy\n",
      "[]\n",
      "['rhfsy.txt']\n",
      ".\\main\\olmhl\\mmtsz\\nujko\\ywjka\\pxjip\\wthmo\\wtgrc\\zfukg\\jvmme\\wvwva\\jebnq\n",
      "['kjmeo', 'phcud']\n",
      "['hkmde.txt']\n",
      ".\\main\\olmhl\\mmtsz\\nujko\\ywjka\\pxjip\\wthmo\\wtgrc\\zfukg\\jvmme\\wvwva\\jebnq\\kjmeo\n",
      "[]\n",
      "['jfckr.py', 'obnym.txt', 'ovpoz.txt']\n",
      ".\\main\\olmhl\\mmtsz\\nujko\\ywjka\\pxjip\\wthmo\\wtgrc\\zfukg\\jvmme\\wvwva\\jebnq\\phcud\n",
      "['vllzq']\n",
      "['oehnz.py', 'yonbu.txt']\n",
      ".\\main\\olmhl\\mmtsz\\nujko\\ywjka\\pxjip\\wthmo\\wtgrc\\zfukg\\jvmme\\wvwva\\jebnq\\phcud\\vllzq\n",
      "[]\n",
      "[]\n",
      ".\\main\\olmhl\\mmtsz\\nujko\\ywjka\\pxjip\\wthmo\\wtgrc\\zfukg\\jvmme\\wvwva\\nosvo\n",
      "[]\n",
      "[]\n",
      ".\\main\\olmhl\\mmtsz\\nujko\\ywjka\\pxjip\\wthmo\\wtgrc\\zfukg\\rvuph\n",
      "[]\n",
      "['fvrwq.txt']\n",
      ".\\main\\olmhl\\mmtsz\\nujko\\ywjka\\pxjip\\wthmo\\wtgrc\\zfukg\\ttmjw\n",
      "[]\n",
      "[]\n",
      ".\\main\\olmhl\\mmtsz\\nujko\\ywjka\\pxjip\\wthmo\\wtgrc\\zfukg\\vydse\n",
      "['uuzho']\n",
      "['yzhtw.py']\n",
      ".\\main\\olmhl\\mmtsz\\nujko\\ywjka\\pxjip\\wthmo\\wtgrc\\zfukg\\vydse\\uuzho\n",
      "['popcu']\n",
      "['duvqv.txt']\n",
      ".\\main\\olmhl\\mmtsz\\nujko\\ywjka\\pxjip\\wthmo\\wtgrc\\zfukg\\vydse\\uuzho\\popcu\n",
      "[]\n",
      "[]\n",
      ".\\main\\olmhl\\mmtsz\\nujko\\ywjka\\pxjip\\wthmo\\yaqkg\n",
      "[]\n",
      "[]\n",
      ".\\main\\olmhl\\mmtsz\\nujko\\ywjxy\n",
      "[]\n",
      "['danel.txt', 'isljh.py', 'smpkt.txt', 'tdktd.txt', 'ywjow.txt', 'zvlcy.txt']\n",
      ".\\main\\olmhl\\mmtsz\\phcap\n",
      "[]\n",
      "['etheg.txt', 'udied.py']\n",
      ".\\main\\qkseh\n",
      "['uxhxb']\n",
      "['fdfju.py', 'levqj.txt', 'mmvbh.py', 'sxtth.txt', 'wecoy.txt']\n",
      ".\\main\\qkseh\\uxhxb\n",
      "['mwaqm']\n",
      "['dkpkp.txt']\n",
      ".\\main\\qkseh\\uxhxb\\mwaqm\n",
      "[]\n",
      "['fcncy.txt']\n",
      ".\\main\\sitdc\n",
      "[]\n",
      "['kvayn.py', 'vucrc.txt']\n",
      ".\\main\\taivr\n",
      "['bcsow', 'yptwa']\n",
      "['nvbgf.py', 'qcwfi.txt']\n",
      ".\\main\\taivr\\bcsow\n",
      "[]\n",
      "['ajvsh.txt', 'ceqnw.py', 'nhhlc.txt', 'otmzp.txt', 'pmcca.txt', 'rqxod.txt', 'tfcnd.txt']\n",
      ".\\main\\taivr\\yptwa\n",
      "['xsbzr']\n",
      "[]\n",
      ".\\main\\taivr\\yptwa\\xsbzr\n",
      "['armfl', 'hcasz']\n",
      "['dcwkh.txt', 'podph.txt', 'tpzyb.py', 'xtrwo.txt']\n",
      ".\\main\\taivr\\yptwa\\xsbzr\\armfl\n",
      "[]\n",
      "['bfkjp.txt', 'nhwim.txt', 'zfdgl.txt', 'zldzs.txt']\n",
      ".\\main\\taivr\\yptwa\\xsbzr\\hcasz\n",
      "['ilitr']\n",
      "[]\n",
      ".\\main\\taivr\\yptwa\\xsbzr\\hcasz\\ilitr\n",
      "['joejy', 'urguw']\n",
      "['jvkxo.txt']\n",
      ".\\main\\taivr\\yptwa\\xsbzr\\hcasz\\ilitr\\joejy\n",
      "['bjusr']\n",
      "['cewmk.py']\n",
      ".\\main\\taivr\\yptwa\\xsbzr\\hcasz\\ilitr\\joejy\\bjusr\n",
      "[]\n",
      "[]\n",
      ".\\main\\taivr\\yptwa\\xsbzr\\hcasz\\ilitr\\urguw\n",
      "['sjmeg']\n",
      "['twpgm.txt', 'zxfpt.txt']\n",
      ".\\main\\taivr\\yptwa\\xsbzr\\hcasz\\ilitr\\urguw\\sjmeg\n",
      "['ddnaa']\n",
      "['sqlda.txt', 'xsukp.txt']\n",
      ".\\main\\taivr\\yptwa\\xsbzr\\hcasz\\ilitr\\urguw\\sjmeg\\ddnaa\n",
      "['ckaab', 'jxhbl', 'lszec']\n",
      "['bffrb.py', 'eihky.txt', 'ghojr.txt', 'hcyqp.txt', 'hyuxj.txt', 'lshgy.py', 'rvzwp.py', 'xpjax.txt']\n",
      ".\\main\\taivr\\yptwa\\xsbzr\\hcasz\\ilitr\\urguw\\sjmeg\\ddnaa\\ckaab\n",
      "[]\n",
      "['dlokm.txt', 'krlys.py', 'zppuj.py']\n",
      ".\\main\\taivr\\yptwa\\xsbzr\\hcasz\\ilitr\\urguw\\sjmeg\\ddnaa\\jxhbl\n",
      "['lradw', 'tpdvr']\n",
      "[]\n",
      ".\\main\\taivr\\yptwa\\xsbzr\\hcasz\\ilitr\\urguw\\sjmeg\\ddnaa\\jxhbl\\lradw\n",
      "['iglcm']\n",
      "['dnjsf.py', 'gxkwi.txt', 'izvpu.txt', 'zidfs.txt', 'zlyuw.txt']\n",
      ".\\main\\taivr\\yptwa\\xsbzr\\hcasz\\ilitr\\urguw\\sjmeg\\ddnaa\\jxhbl\\lradw\\iglcm\n",
      "[]\n",
      "['cnems.py', 'equko.py', 'esyhw.txt', 'fenje.txt', 'lfesp.py', 'wnzzk.py', 'xpfmw.py', 'xpulv.txt']\n",
      ".\\main\\taivr\\yptwa\\xsbzr\\hcasz\\ilitr\\urguw\\sjmeg\\ddnaa\\jxhbl\\tpdvr\n",
      "['mchbv', 'wrgbg']\n",
      "['pfoyt.py', 'qmrnz.txt', 'xsedu.txt']\n",
      ".\\main\\taivr\\yptwa\\xsbzr\\hcasz\\ilitr\\urguw\\sjmeg\\ddnaa\\jxhbl\\tpdvr\\mchbv\n",
      "[]\n",
      "[]\n",
      ".\\main\\taivr\\yptwa\\xsbzr\\hcasz\\ilitr\\urguw\\sjmeg\\ddnaa\\jxhbl\\tpdvr\\wrgbg\n",
      "[]\n",
      "[]\n",
      ".\\main\\taivr\\yptwa\\xsbzr\\hcasz\\ilitr\\urguw\\sjmeg\\ddnaa\\lszec\n",
      "['ncdyy', 'ofdms', 'wdftb']\n",
      "['dhkcg.txt', 'gaslh.txt', 'jleiq.py', 'pmxrs.py', 'pudrf.txt', 'sknss.py']\n",
      ".\\main\\taivr\\yptwa\\xsbzr\\hcasz\\ilitr\\urguw\\sjmeg\\ddnaa\\lszec\\ncdyy\n",
      "[]\n",
      "['jqivk.txt', 'rhozk.txt']\n",
      ".\\main\\taivr\\yptwa\\xsbzr\\hcasz\\ilitr\\urguw\\sjmeg\\ddnaa\\lszec\\ofdms\n",
      "[]\n",
      "['jppbd.txt', 'jxjlk.txt', 'knzps.txt']\n",
      ".\\main\\taivr\\yptwa\\xsbzr\\hcasz\\ilitr\\urguw\\sjmeg\\ddnaa\\lszec\\wdftb\n",
      "['fajay', 'mhqps']\n",
      "['brmmp.txt', 'chdnu.txt', 'crwkr.txt', 'jcxov.txt', 'opzlf.txt', 'ziwlw.txt']\n",
      ".\\main\\taivr\\yptwa\\xsbzr\\hcasz\\ilitr\\urguw\\sjmeg\\ddnaa\\lszec\\wdftb\\fajay\n",
      "[]\n",
      "['mkydb.txt', 'wcdub.txt']\n",
      ".\\main\\taivr\\yptwa\\xsbzr\\hcasz\\ilitr\\urguw\\sjmeg\\ddnaa\\lszec\\wdftb\\mhqps\n",
      "[]\n",
      "['alktd.txt', 'uqqxx.py', 'vkvkp.py']\n",
      ".\\main\\tgwey\n",
      "[]\n",
      "[]\n",
      ".\\main\\uvvuz\n",
      "['bdtyv', 'ksnof']\n",
      "['bmuav.py', 'dcfnq.txt', 'ksfjq.py', 'xxuhp.txt']\n",
      ".\\main\\uvvuz\\bdtyv\n",
      "[]\n",
      "['gldex.txt', 'gpwna.txt', 'sjhfg.txt', 'sztlk.txt', 'yhbfx.txt']\n",
      ".\\main\\uvvuz\\ksnof\n",
      "[]\n",
      "['vjvey.py', 'ylmqp.txt']\n",
      ".\\main\\wkwll\n",
      "[]\n",
      "['tfncr.txt']\n",
      ".\\main\\ybebm\n",
      "[]\n",
      "['rklqu.txt']\n",
      ".\\main\\zduna\n",
      "['enfpw', 'ywucw']\n",
      "['sqeuh.txt']\n",
      ".\\main\\zduna\\enfpw\n",
      "[]\n",
      "[]\n",
      ".\\main\\zduna\\ywucw\n",
      "['rcacj', 'tagpz']\n",
      "['buxwc.txt', 'ixrqq.py', 'kmiuh.txt', 'nrkfg.txt', 'oxauw.txt', 'rjjzv.py', 'rwejw.py', 'zzraa.txt']\n",
      ".\\main\\zduna\\ywucw\\rcacj\n",
      "[]\n",
      "['syitm.txt']\n",
      ".\\main\\zduna\\ywucw\\tagpz\n",
      "[]\n",
      "[]\n",
      ".\\main\\zyczx\n",
      "[]\n",
      "['dqiag.txt', 'edqml.txt', 'njkyn.py', 'wftkz.txt']\n"
     ]
    }
   ],
   "source": [
    "for i in a:\n",
    "    print(i)"
   ]
  },
  {
   "cell_type": "code",
   "execution_count": 5,
   "id": "17365c19",
   "metadata": {},
   "outputs": [],
   "source": [
    "# Создадим словарь\n",
    "dic = dict()"
   ]
  },
  {
   "cell_type": "code",
   "execution_count": 6,
   "id": "f15e9249",
   "metadata": {},
   "outputs": [],
   "source": [
    "# Запишем в словарь папку как ключ, файлы как списки значений\n",
    "i = 3\n",
    "while i < len(a):\n",
    "    dic[a[i]] = a[i + 1]\n",
    "    dic[a[i]].extend(a[i + 2])\n",
    "    i += 3\n",
    "    "
   ]
  },
  {
   "cell_type": "code",
   "execution_count": 16,
   "id": "66b3aeb7",
   "metadata": {},
   "outputs": [],
   "source": [
    "# Склеим строку из списков\n",
    "for key, value in dic.items():\n",
    "    if type(value) == list:\n",
    "        value = ' '.join(value)\n",
    "    dic[key] = value\n"
   ]
  },
  {
   "cell_type": "code",
   "execution_count": 17,
   "id": "a20dc933",
   "metadata": {},
   "outputs": [
    {
     "data": {
      "text/plain": [
       "{'.\\\\main': 'afkgv ddiqo frtrl hgyoc jrczb ksuvk lqbli mwhci olmhl qkseh sitdc taivr tgwey uvvuz wkwll ybebm zduna zyczx aelpx.txt dshyt.txt fjcnm.py fpyfb.py iswbd.txt ivcpr.txt ivdfa.txt ivkih.txt iwohr.py jogpz.py kqgeg.txt lmrrz.txt lzccb.py mdwam.txt mwgax.txt myjqk.py nelpv.py nrlqk.py oizxq.txt qbarq.txt qcdrm.py qdbhh.txt qhjmz.txt rlvgd.txt rpuyq.txt sgeru.txt sidxx.txt soldv.txt suvtu.py vaxyw.txt wvere.txt wxhtw.py xmffa.txt yohuh.txt yvgwm.py zgwye.txt',\n",
       " '.\\\\main\\\\afkgv': 'bxdnn.py',\n",
       " '.\\\\main\\\\ddiqo': 'qxbwf.txt',\n",
       " '.\\\\main\\\\frtrl': 'eaemw.py gycxp.txt vfiks.txt',\n",
       " '.\\\\main\\\\hgyoc': 'ilwwv kwawh tztsf ycbxr yfdwy avzvc.py azghn.txt bnunx.py diyzm.txt gvyia.py jeejo.txt kwfhy.txt mcesa.py ogoff.txt skjvb.txt xdwty.txt xzwbm.txt',\n",
       " '.\\\\main\\\\hgyoc\\\\ilwwv': 'psxra.txt',\n",
       " '.\\\\main\\\\hgyoc\\\\kwawh': 'hapry jxtqa rzgzv uunbz bxlns.txt lrzxd.py',\n",
       " '.\\\\main\\\\hgyoc\\\\kwawh\\\\hapry': 'mejcl.py pevsg.py',\n",
       " '.\\\\main\\\\hgyoc\\\\kwawh\\\\jxtqa': '',\n",
       " '.\\\\main\\\\hgyoc\\\\kwawh\\\\rzgzv': 'grbfr.txt yraxd.py',\n",
       " '.\\\\main\\\\hgyoc\\\\kwawh\\\\uunbz': 'biqwd.txt mnnoy.txt nkvij.txt',\n",
       " '.\\\\main\\\\hgyoc\\\\tztsf': 'iynbe.txt vegzp.txt',\n",
       " '.\\\\main\\\\hgyoc\\\\ycbxr': 'ivjta jpjxk kokzg xkvcg kslju.txt qzqyg.txt tdhup.txt',\n",
       " '.\\\\main\\\\hgyoc\\\\ycbxr\\\\ivjta': 'kfllc.py',\n",
       " '.\\\\main\\\\hgyoc\\\\ycbxr\\\\jpjxk': '',\n",
       " '.\\\\main\\\\hgyoc\\\\ycbxr\\\\kokzg': '',\n",
       " '.\\\\main\\\\hgyoc\\\\ycbxr\\\\xkvcg': 'clpnh.txt',\n",
       " '.\\\\main\\\\hgyoc\\\\yfdwy': 'ortfz.txt',\n",
       " '.\\\\main\\\\jrczb': 'ifupb.txt',\n",
       " '.\\\\main\\\\ksuvk': 'xjrqt',\n",
       " '.\\\\main\\\\ksuvk\\\\xjrqt': 'qdbqt qjoks lbvrl.txt ntdip.txt wvtgk.py',\n",
       " '.\\\\main\\\\ksuvk\\\\xjrqt\\\\qdbqt': 'hotgx prkcp fnxzz.txt',\n",
       " '.\\\\main\\\\ksuvk\\\\xjrqt\\\\qdbqt\\\\hotgx': 'efjkp izwwv cpyns.txt dudeb.py',\n",
       " '.\\\\main\\\\ksuvk\\\\xjrqt\\\\qdbqt\\\\hotgx\\\\efjkp': '',\n",
       " '.\\\\main\\\\ksuvk\\\\xjrqt\\\\qdbqt\\\\hotgx\\\\izwwv': 'xrrlt xfqqg.py yhgoq.py zaxis.py',\n",
       " '.\\\\main\\\\ksuvk\\\\xjrqt\\\\qdbqt\\\\hotgx\\\\izwwv\\\\xrrlt': 'dygkw.txt kpkop.txt mbict.txt swmfb.txt',\n",
       " '.\\\\main\\\\ksuvk\\\\xjrqt\\\\qdbqt\\\\prkcp': 'dnyyv qdugi.txt qkxpf.txt',\n",
       " '.\\\\main\\\\ksuvk\\\\xjrqt\\\\qdbqt\\\\prkcp\\\\dnyyv': 'rbcbt dbmss.py gqjfx.txt jlife.py nozbp.py',\n",
       " '.\\\\main\\\\ksuvk\\\\xjrqt\\\\qdbqt\\\\prkcp\\\\dnyyv\\\\rbcbt': '',\n",
       " '.\\\\main\\\\ksuvk\\\\xjrqt\\\\qjoks': 'lucwg gswni.txt kqizu.txt',\n",
       " '.\\\\main\\\\ksuvk\\\\xjrqt\\\\qjoks\\\\lucwg': 'rcczp.txt tzpsu.txt',\n",
       " '.\\\\main\\\\lqbli': 'otofk qybbd.txt',\n",
       " '.\\\\main\\\\lqbli\\\\otofk': 'armko zsojz akmok.py hbxjv.txt ofcia.txt pbidc.py ybrdw.py',\n",
       " '.\\\\main\\\\lqbli\\\\otofk\\\\armko': 'svrbq ufenh dofzv.txt kchnx.py nciua.txt npucw.txt ohwpa.txt',\n",
       " '.\\\\main\\\\lqbli\\\\otofk\\\\armko\\\\svrbq': '',\n",
       " '.\\\\main\\\\lqbli\\\\otofk\\\\armko\\\\ufenh': '',\n",
       " '.\\\\main\\\\lqbli\\\\otofk\\\\zsojz': 'yqlyh.txt',\n",
       " '.\\\\main\\\\mwhci': 'gymxy.txt ttopz.py',\n",
       " '.\\\\main\\\\olmhl': 'mmtsz bhmcc.txt gnaag.txt kgiik.txt rnhvd.txt whfbo.txt',\n",
       " '.\\\\main\\\\olmhl\\\\mmtsz': 'nujko phcap elpwr.py hamfm.py mvrdu.txt ngutc.py rsolr.py xikrv.txt',\n",
       " '.\\\\main\\\\olmhl\\\\mmtsz\\\\nujko': 'bjdpa ywjka ywjxy vlzlx.txt',\n",
       " '.\\\\main\\\\olmhl\\\\mmtsz\\\\nujko\\\\bjdpa': 'lfxys.txt',\n",
       " '.\\\\main\\\\olmhl\\\\mmtsz\\\\nujko\\\\ywjka': 'pxjip ailhc.py kisdi.py llzma.txt uskqk.txt wpeve.txt zwmpm.txt',\n",
       " '.\\\\main\\\\olmhl\\\\mmtsz\\\\nujko\\\\ywjka\\\\pxjip': 'wthmo aniue.py fpuyw.txt lmrtv.py mcvwk.py qshso.txt ssfuy.py',\n",
       " '.\\\\main\\\\olmhl\\\\mmtsz\\\\nujko\\\\ywjka\\\\pxjip\\\\wthmo': 'dgypg rwwuw wtgrc yaqkg ewpru.py hjsqc.txt kdfnf.py lcgtq.txt mupic.txt puzpd.py rkrrw.txt wwcga.txt xfalg.txt ytfxp.txt zszcm.txt',\n",
       " '.\\\\main\\\\olmhl\\\\mmtsz\\\\nujko\\\\ywjka\\\\pxjip\\\\wthmo\\\\dgypg': '',\n",
       " '.\\\\main\\\\olmhl\\\\mmtsz\\\\nujko\\\\ywjka\\\\pxjip\\\\wthmo\\\\rwwuw': 'xwmnb.py',\n",
       " '.\\\\main\\\\olmhl\\\\mmtsz\\\\nujko\\\\ywjka\\\\pxjip\\\\wthmo\\\\wtgrc': 'grnfu juoxd kztxg mgplg zfukg gwqic.py hckvz.txt hiyqi.txt nbenj.txt qyduf.txt rjhap.txt smnsc.py',\n",
       " '.\\\\main\\\\olmhl\\\\mmtsz\\\\nujko\\\\ywjka\\\\pxjip\\\\wthmo\\\\wtgrc\\\\grnfu': 'cubok.py',\n",
       " '.\\\\main\\\\olmhl\\\\mmtsz\\\\nujko\\\\ywjka\\\\pxjip\\\\wthmo\\\\wtgrc\\\\juoxd': 'efbru cdizf.txt duwbk.txt hjgdf.py vnysh.txt',\n",
       " '.\\\\main\\\\olmhl\\\\mmtsz\\\\nujko\\\\ywjka\\\\pxjip\\\\wthmo\\\\wtgrc\\\\juoxd\\\\efbru': '',\n",
       " '.\\\\main\\\\olmhl\\\\mmtsz\\\\nujko\\\\ywjka\\\\pxjip\\\\wthmo\\\\wtgrc\\\\kztxg': 'qwlrx cnfnj.txt ibude.txt olwiq.txt',\n",
       " '.\\\\main\\\\olmhl\\\\mmtsz\\\\nujko\\\\ywjka\\\\pxjip\\\\wthmo\\\\wtgrc\\\\kztxg\\\\qwlrx': 'dhnor djozj drovd lirot nfcxf blvtq.py edmiy.txt gyvur.txt hstyv.py hzhfn.py igtmf.txt jskvm.txt loqtf.py nwjdv.txt vjhld.txt wajrg.txt',\n",
       " '.\\\\main\\\\olmhl\\\\mmtsz\\\\nujko\\\\ywjka\\\\pxjip\\\\wthmo\\\\wtgrc\\\\kztxg\\\\qwlrx\\\\dhnor': '',\n",
       " '.\\\\main\\\\olmhl\\\\mmtsz\\\\nujko\\\\ywjka\\\\pxjip\\\\wthmo\\\\wtgrc\\\\kztxg\\\\qwlrx\\\\djozj': 'ptdnq.py vcipo.txt xjsai.txt',\n",
       " '.\\\\main\\\\olmhl\\\\mmtsz\\\\nujko\\\\ywjka\\\\pxjip\\\\wthmo\\\\wtgrc\\\\kztxg\\\\qwlrx\\\\drovd': '',\n",
       " '.\\\\main\\\\olmhl\\\\mmtsz\\\\nujko\\\\ywjka\\\\pxjip\\\\wthmo\\\\wtgrc\\\\kztxg\\\\qwlrx\\\\lirot': 'auwzy.py',\n",
       " '.\\\\main\\\\olmhl\\\\mmtsz\\\\nujko\\\\ywjka\\\\pxjip\\\\wthmo\\\\wtgrc\\\\kztxg\\\\qwlrx\\\\nfcxf': 'jglht.txt uvmef.py',\n",
       " '.\\\\main\\\\olmhl\\\\mmtsz\\\\nujko\\\\ywjka\\\\pxjip\\\\wthmo\\\\wtgrc\\\\mgplg': 'rbyav bnlci.txt deetn.txt',\n",
       " '.\\\\main\\\\olmhl\\\\mmtsz\\\\nujko\\\\ywjka\\\\pxjip\\\\wthmo\\\\wtgrc\\\\mgplg\\\\rbyav': 'ppeir qosgw uaodv yqzsa amgvh.txt bqscf.txt bxijj.py dkcir.txt nbjiu.txt tjwtk.txt xipxd.py ywngw.txt yxalw.txt',\n",
       " '.\\\\main\\\\olmhl\\\\mmtsz\\\\nujko\\\\ywjka\\\\pxjip\\\\wthmo\\\\wtgrc\\\\mgplg\\\\rbyav\\\\ppeir': 'qyeyy subdi vsdfx fnsya.txt hzbta.txt vjodn.txt',\n",
       " '.\\\\main\\\\olmhl\\\\mmtsz\\\\nujko\\\\ywjka\\\\pxjip\\\\wthmo\\\\wtgrc\\\\mgplg\\\\rbyav\\\\ppeir\\\\qyeyy': '',\n",
       " '.\\\\main\\\\olmhl\\\\mmtsz\\\\nujko\\\\ywjka\\\\pxjip\\\\wthmo\\\\wtgrc\\\\mgplg\\\\rbyav\\\\ppeir\\\\subdi': 'afrqp elqwy hsbbt zljoz cbdqd.py ccyrz.py cqugd.py eddpe.txt egyde.txt eihrp.py fwxhe.py ivfrj.txt lazia.txt maxmd.txt nvcly.txt ojogb.txt ptykj.py rebkn.txt sfjei.txt uiwot.py wmlla.py ybjka.txt',\n",
       " '.\\\\main\\\\olmhl\\\\mmtsz\\\\nujko\\\\ywjka\\\\pxjip\\\\wthmo\\\\wtgrc\\\\mgplg\\\\rbyav\\\\ppeir\\\\subdi\\\\afrqp': 'iaujh',\n",
       " '.\\\\main\\\\olmhl\\\\mmtsz\\\\nujko\\\\ywjka\\\\pxjip\\\\wthmo\\\\wtgrc\\\\mgplg\\\\rbyav\\\\ppeir\\\\subdi\\\\afrqp\\\\iaujh': 'addrx jqjsg jqnsz edamr.py hbsuz.txt rzsqn.txt yadbj.txt',\n",
       " '.\\\\main\\\\olmhl\\\\mmtsz\\\\nujko\\\\ywjka\\\\pxjip\\\\wthmo\\\\wtgrc\\\\mgplg\\\\rbyav\\\\ppeir\\\\subdi\\\\afrqp\\\\iaujh\\\\addrx': '',\n",
       " '.\\\\main\\\\olmhl\\\\mmtsz\\\\nujko\\\\ywjka\\\\pxjip\\\\wthmo\\\\wtgrc\\\\mgplg\\\\rbyav\\\\ppeir\\\\subdi\\\\afrqp\\\\iaujh\\\\jqjsg': 'xriod zbzvv fpnip.txt goiyc.txt nnrrb.py waxgh.txt wpqqa.py',\n",
       " '.\\\\main\\\\olmhl\\\\mmtsz\\\\nujko\\\\ywjka\\\\pxjip\\\\wthmo\\\\wtgrc\\\\mgplg\\\\rbyav\\\\ppeir\\\\subdi\\\\afrqp\\\\iaujh\\\\jqjsg\\\\xriod': 'dvban ifjxk.py kxcas.txt mbsnb.txt',\n",
       " '.\\\\main\\\\olmhl\\\\mmtsz\\\\nujko\\\\ywjka\\\\pxjip\\\\wthmo\\\\wtgrc\\\\mgplg\\\\rbyav\\\\ppeir\\\\subdi\\\\afrqp\\\\iaujh\\\\jqjsg\\\\xriod\\\\dvban': 'gufln jhpib rkqzh.txt',\n",
       " '.\\\\main\\\\olmhl\\\\mmtsz\\\\nujko\\\\ywjka\\\\pxjip\\\\wthmo\\\\wtgrc\\\\mgplg\\\\rbyav\\\\ppeir\\\\subdi\\\\afrqp\\\\iaujh\\\\jqjsg\\\\xriod\\\\dvban\\\\gufln': 'yklwn',\n",
       " '.\\\\main\\\\olmhl\\\\mmtsz\\\\nujko\\\\ywjka\\\\pxjip\\\\wthmo\\\\wtgrc\\\\mgplg\\\\rbyav\\\\ppeir\\\\subdi\\\\afrqp\\\\iaujh\\\\jqjsg\\\\xriod\\\\dvban\\\\gufln\\\\yklwn': 'efemx xfymd.txt',\n",
       " '.\\\\main\\\\olmhl\\\\mmtsz\\\\nujko\\\\ywjka\\\\pxjip\\\\wthmo\\\\wtgrc\\\\mgplg\\\\rbyav\\\\ppeir\\\\subdi\\\\afrqp\\\\iaujh\\\\jqjsg\\\\xriod\\\\dvban\\\\gufln\\\\yklwn\\\\efemx': '',\n",
       " '.\\\\main\\\\olmhl\\\\mmtsz\\\\nujko\\\\ywjka\\\\pxjip\\\\wthmo\\\\wtgrc\\\\mgplg\\\\rbyav\\\\ppeir\\\\subdi\\\\afrqp\\\\iaujh\\\\jqjsg\\\\xriod\\\\dvban\\\\jhpib': 'ufrhp eyohd.txt tkpoz.txt',\n",
       " '.\\\\main\\\\olmhl\\\\mmtsz\\\\nujko\\\\ywjka\\\\pxjip\\\\wthmo\\\\wtgrc\\\\mgplg\\\\rbyav\\\\ppeir\\\\subdi\\\\afrqp\\\\iaujh\\\\jqjsg\\\\xriod\\\\dvban\\\\jhpib\\\\ufrhp': 'hglwu.txt nfxlv.txt',\n",
       " '.\\\\main\\\\olmhl\\\\mmtsz\\\\nujko\\\\ywjka\\\\pxjip\\\\wthmo\\\\wtgrc\\\\mgplg\\\\rbyav\\\\ppeir\\\\subdi\\\\afrqp\\\\iaujh\\\\jqjsg\\\\zbzvv': '',\n",
       " '.\\\\main\\\\olmhl\\\\mmtsz\\\\nujko\\\\ywjka\\\\pxjip\\\\wthmo\\\\wtgrc\\\\mgplg\\\\rbyav\\\\ppeir\\\\subdi\\\\afrqp\\\\iaujh\\\\jqnsz': 'cfbxr.py ihdto.py jqeou.py lcgml.txt',\n",
       " '.\\\\main\\\\olmhl\\\\mmtsz\\\\nujko\\\\ywjka\\\\pxjip\\\\wthmo\\\\wtgrc\\\\mgplg\\\\rbyav\\\\ppeir\\\\subdi\\\\elqwy': 'fcibk.txt huzxi.txt svkqp.txt wbfcq.txt',\n",
       " '.\\\\main\\\\olmhl\\\\mmtsz\\\\nujko\\\\ywjka\\\\pxjip\\\\wthmo\\\\wtgrc\\\\mgplg\\\\rbyav\\\\ppeir\\\\subdi\\\\hsbbt': '',\n",
       " '.\\\\main\\\\olmhl\\\\mmtsz\\\\nujko\\\\ywjka\\\\pxjip\\\\wthmo\\\\wtgrc\\\\mgplg\\\\rbyav\\\\ppeir\\\\subdi\\\\zljoz': 'hsndh kgdme sgmoj xrvnu cjsev.txt hjlgw.txt judks.txt lrshd.txt nhzsu.txt pkcoh.txt swqks.py tkmtk.py xixnf.txt',\n",
       " '.\\\\main\\\\olmhl\\\\mmtsz\\\\nujko\\\\ywjka\\\\pxjip\\\\wthmo\\\\wtgrc\\\\mgplg\\\\rbyav\\\\ppeir\\\\subdi\\\\zljoz\\\\hsndh': 'baffg.txt',\n",
       " '.\\\\main\\\\olmhl\\\\mmtsz\\\\nujko\\\\ywjka\\\\pxjip\\\\wthmo\\\\wtgrc\\\\mgplg\\\\rbyav\\\\ppeir\\\\subdi\\\\zljoz\\\\kgdme': 'evnvn jhhbu bdwkq.txt dtlmp.txt efipd.py euduy.py mfbag.txt natoh.txt pfxyh.txt pxcim.txt qnpjo.txt rlccj.txt sgtmk.txt thrcn.py uykvs.txt vwicr.py xdsja.txt',\n",
       " '.\\\\main\\\\olmhl\\\\mmtsz\\\\nujko\\\\ywjka\\\\pxjip\\\\wthmo\\\\wtgrc\\\\mgplg\\\\rbyav\\\\ppeir\\\\subdi\\\\zljoz\\\\kgdme\\\\evnvn': 'axqur cgsyt.txt zhvfc.txt',\n",
       " '.\\\\main\\\\olmhl\\\\mmtsz\\\\nujko\\\\ywjka\\\\pxjip\\\\wthmo\\\\wtgrc\\\\mgplg\\\\rbyav\\\\ppeir\\\\subdi\\\\zljoz\\\\kgdme\\\\evnvn\\\\axqur': 'itkcz dsmgr.txt exqbe.txt fykwk.txt karzq.txt lrzdq.txt pxmdu.txt snjsf.py',\n",
       " '.\\\\main\\\\olmhl\\\\mmtsz\\\\nujko\\\\ywjka\\\\pxjip\\\\wthmo\\\\wtgrc\\\\mgplg\\\\rbyav\\\\ppeir\\\\subdi\\\\zljoz\\\\kgdme\\\\evnvn\\\\axqur\\\\itkcz': 'hoyms.py mggvs.txt nnzmq.py rvjcx.py',\n",
       " '.\\\\main\\\\olmhl\\\\mmtsz\\\\nujko\\\\ywjka\\\\pxjip\\\\wthmo\\\\wtgrc\\\\mgplg\\\\rbyav\\\\ppeir\\\\subdi\\\\zljoz\\\\kgdme\\\\jhhbu': 'dufxr khutz rnqwd abkxq.txt ddhit.txt jckmn.txt mvdbn.txt tkkmf.txt',\n",
       " '.\\\\main\\\\olmhl\\\\mmtsz\\\\nujko\\\\ywjka\\\\pxjip\\\\wthmo\\\\wtgrc\\\\mgplg\\\\rbyav\\\\ppeir\\\\subdi\\\\zljoz\\\\kgdme\\\\jhhbu\\\\dufxr': 'hlgup jbsmx sxojq xksyt xmqfi xroxl heuap.txt kesve.txt mvznr.py rselz.txt',\n",
       " '.\\\\main\\\\olmhl\\\\mmtsz\\\\nujko\\\\ywjka\\\\pxjip\\\\wthmo\\\\wtgrc\\\\mgplg\\\\rbyav\\\\ppeir\\\\subdi\\\\zljoz\\\\kgdme\\\\jhhbu\\\\dufxr\\\\hlgup': 'auqky kzoko cycho.txt mozyb.txt voshk.txt wxxzu.py',\n",
       " '.\\\\main\\\\olmhl\\\\mmtsz\\\\nujko\\\\ywjka\\\\pxjip\\\\wthmo\\\\wtgrc\\\\mgplg\\\\rbyav\\\\ppeir\\\\subdi\\\\zljoz\\\\kgdme\\\\jhhbu\\\\dufxr\\\\hlgup\\\\auqky': 'afymg.py',\n",
       " '.\\\\main\\\\olmhl\\\\mmtsz\\\\nujko\\\\ywjka\\\\pxjip\\\\wthmo\\\\wtgrc\\\\mgplg\\\\rbyav\\\\ppeir\\\\subdi\\\\zljoz\\\\kgdme\\\\jhhbu\\\\dufxr\\\\hlgup\\\\kzoko': '',\n",
       " '.\\\\main\\\\olmhl\\\\mmtsz\\\\nujko\\\\ywjka\\\\pxjip\\\\wthmo\\\\wtgrc\\\\mgplg\\\\rbyav\\\\ppeir\\\\subdi\\\\zljoz\\\\kgdme\\\\jhhbu\\\\dufxr\\\\jbsmx': '',\n",
       " '.\\\\main\\\\olmhl\\\\mmtsz\\\\nujko\\\\ywjka\\\\pxjip\\\\wthmo\\\\wtgrc\\\\mgplg\\\\rbyav\\\\ppeir\\\\subdi\\\\zljoz\\\\kgdme\\\\jhhbu\\\\dufxr\\\\sxojq': 'rjekz frdru.py grfwe.txt ltedx.py nugyo.txt',\n",
       " '.\\\\main\\\\olmhl\\\\mmtsz\\\\nujko\\\\ywjka\\\\pxjip\\\\wthmo\\\\wtgrc\\\\mgplg\\\\rbyav\\\\ppeir\\\\subdi\\\\zljoz\\\\kgdme\\\\jhhbu\\\\dufxr\\\\sxojq\\\\rjekz': '',\n",
       " '.\\\\main\\\\olmhl\\\\mmtsz\\\\nujko\\\\ywjka\\\\pxjip\\\\wthmo\\\\wtgrc\\\\mgplg\\\\rbyav\\\\ppeir\\\\subdi\\\\zljoz\\\\kgdme\\\\jhhbu\\\\dufxr\\\\xksyt': '',\n",
       " '.\\\\main\\\\olmhl\\\\mmtsz\\\\nujko\\\\ywjka\\\\pxjip\\\\wthmo\\\\wtgrc\\\\mgplg\\\\rbyav\\\\ppeir\\\\subdi\\\\zljoz\\\\kgdme\\\\jhhbu\\\\dufxr\\\\xmqfi': 'ssflw.txt uczpf.txt',\n",
       " '.\\\\main\\\\olmhl\\\\mmtsz\\\\nujko\\\\ywjka\\\\pxjip\\\\wthmo\\\\wtgrc\\\\mgplg\\\\rbyav\\\\ppeir\\\\subdi\\\\zljoz\\\\kgdme\\\\jhhbu\\\\dufxr\\\\xroxl': 'abslw rgunj lagpy.py viutj.txt wrxre.txt xwnhn.txt ybxzk.txt',\n",
       " '.\\\\main\\\\olmhl\\\\mmtsz\\\\nujko\\\\ywjka\\\\pxjip\\\\wthmo\\\\wtgrc\\\\mgplg\\\\rbyav\\\\ppeir\\\\subdi\\\\zljoz\\\\kgdme\\\\jhhbu\\\\dufxr\\\\xroxl\\\\abslw': 'urqac.py',\n",
       " '.\\\\main\\\\olmhl\\\\mmtsz\\\\nujko\\\\ywjka\\\\pxjip\\\\wthmo\\\\wtgrc\\\\mgplg\\\\rbyav\\\\ppeir\\\\subdi\\\\zljoz\\\\kgdme\\\\jhhbu\\\\dufxr\\\\xroxl\\\\rgunj': 'bdcjg hjzzj.txt tjkav.txt znkxz.txt',\n",
       " '.\\\\main\\\\olmhl\\\\mmtsz\\\\nujko\\\\ywjka\\\\pxjip\\\\wthmo\\\\wtgrc\\\\mgplg\\\\rbyav\\\\ppeir\\\\subdi\\\\zljoz\\\\kgdme\\\\jhhbu\\\\dufxr\\\\xroxl\\\\rgunj\\\\bdcjg': 'ktkfx nsyus rydrk vkntp xpmcm lgunz.py onkcs.txt',\n",
       " '.\\\\main\\\\olmhl\\\\mmtsz\\\\nujko\\\\ywjka\\\\pxjip\\\\wthmo\\\\wtgrc\\\\mgplg\\\\rbyav\\\\ppeir\\\\subdi\\\\zljoz\\\\kgdme\\\\jhhbu\\\\dufxr\\\\xroxl\\\\rgunj\\\\bdcjg\\\\ktkfx': 'mkydd.py vfylr.txt',\n",
       " '.\\\\main\\\\olmhl\\\\mmtsz\\\\nujko\\\\ywjka\\\\pxjip\\\\wthmo\\\\wtgrc\\\\mgplg\\\\rbyav\\\\ppeir\\\\subdi\\\\zljoz\\\\kgdme\\\\jhhbu\\\\dufxr\\\\xroxl\\\\rgunj\\\\bdcjg\\\\nsyus': '',\n",
       " '.\\\\main\\\\olmhl\\\\mmtsz\\\\nujko\\\\ywjka\\\\pxjip\\\\wthmo\\\\wtgrc\\\\mgplg\\\\rbyav\\\\ppeir\\\\subdi\\\\zljoz\\\\kgdme\\\\jhhbu\\\\dufxr\\\\xroxl\\\\rgunj\\\\bdcjg\\\\rydrk': '',\n",
       " '.\\\\main\\\\olmhl\\\\mmtsz\\\\nujko\\\\ywjka\\\\pxjip\\\\wthmo\\\\wtgrc\\\\mgplg\\\\rbyav\\\\ppeir\\\\subdi\\\\zljoz\\\\kgdme\\\\jhhbu\\\\dufxr\\\\xroxl\\\\rgunj\\\\bdcjg\\\\vkntp': 'rjqjr enqxz.txt nujsg.py wutxm.txt',\n",
       " '.\\\\main\\\\olmhl\\\\mmtsz\\\\nujko\\\\ywjka\\\\pxjip\\\\wthmo\\\\wtgrc\\\\mgplg\\\\rbyav\\\\ppeir\\\\subdi\\\\zljoz\\\\kgdme\\\\jhhbu\\\\dufxr\\\\xroxl\\\\rgunj\\\\bdcjg\\\\vkntp\\\\rjqjr': 'megyo.py ugvgv.txt',\n",
       " '.\\\\main\\\\olmhl\\\\mmtsz\\\\nujko\\\\ywjka\\\\pxjip\\\\wthmo\\\\wtgrc\\\\mgplg\\\\rbyav\\\\ppeir\\\\subdi\\\\zljoz\\\\kgdme\\\\jhhbu\\\\dufxr\\\\xroxl\\\\rgunj\\\\bdcjg\\\\xpmcm': 'eslhq.py',\n",
       " '.\\\\main\\\\olmhl\\\\mmtsz\\\\nujko\\\\ywjka\\\\pxjip\\\\wthmo\\\\wtgrc\\\\mgplg\\\\rbyav\\\\ppeir\\\\subdi\\\\zljoz\\\\kgdme\\\\jhhbu\\\\khutz': '',\n",
       " '.\\\\main\\\\olmhl\\\\mmtsz\\\\nujko\\\\ywjka\\\\pxjip\\\\wthmo\\\\wtgrc\\\\mgplg\\\\rbyav\\\\ppeir\\\\subdi\\\\zljoz\\\\kgdme\\\\jhhbu\\\\rnqwd': 'cykbq purto bjtsl.txt obcpa.py sbjht.py',\n",
       " '.\\\\main\\\\olmhl\\\\mmtsz\\\\nujko\\\\ywjka\\\\pxjip\\\\wthmo\\\\wtgrc\\\\mgplg\\\\rbyav\\\\ppeir\\\\subdi\\\\zljoz\\\\kgdme\\\\jhhbu\\\\rnqwd\\\\cykbq': 'pdxto.txt',\n",
       " '.\\\\main\\\\olmhl\\\\mmtsz\\\\nujko\\\\ywjka\\\\pxjip\\\\wthmo\\\\wtgrc\\\\mgplg\\\\rbyav\\\\ppeir\\\\subdi\\\\zljoz\\\\kgdme\\\\jhhbu\\\\rnqwd\\\\purto': 'bkfog bsgqc hmnro mwhkt cyktn.txt ihpqq.txt kycri.txt ppher.txt qqyty.txt ratqg.txt sjhjd.py ssjjr.py trope.py uvulr.py uzvga.txt zbqui.py zclmh.py',\n",
       " '.\\\\main\\\\olmhl\\\\mmtsz\\\\nujko\\\\ywjka\\\\pxjip\\\\wthmo\\\\wtgrc\\\\mgplg\\\\rbyav\\\\ppeir\\\\subdi\\\\zljoz\\\\kgdme\\\\jhhbu\\\\rnqwd\\\\purto\\\\bkfog': 'rvsfo dndhe.py drkat.py hkakk.txt rjrcl.txt',\n",
       " '.\\\\main\\\\olmhl\\\\mmtsz\\\\nujko\\\\ywjka\\\\pxjip\\\\wthmo\\\\wtgrc\\\\mgplg\\\\rbyav\\\\ppeir\\\\subdi\\\\zljoz\\\\kgdme\\\\jhhbu\\\\rnqwd\\\\purto\\\\bkfog\\\\rvsfo': 'gvbnv rpnzm girkd.py',\n",
       " '.\\\\main\\\\olmhl\\\\mmtsz\\\\nujko\\\\ywjka\\\\pxjip\\\\wthmo\\\\wtgrc\\\\mgplg\\\\rbyav\\\\ppeir\\\\subdi\\\\zljoz\\\\kgdme\\\\jhhbu\\\\rnqwd\\\\purto\\\\bkfog\\\\rvsfo\\\\gvbnv': 'qjicg.py',\n",
       " '.\\\\main\\\\olmhl\\\\mmtsz\\\\nujko\\\\ywjka\\\\pxjip\\\\wthmo\\\\wtgrc\\\\mgplg\\\\rbyav\\\\ppeir\\\\subdi\\\\zljoz\\\\kgdme\\\\jhhbu\\\\rnqwd\\\\purto\\\\bkfog\\\\rvsfo\\\\rpnzm': 'ilogc kafov sydlz cdlnj.py kholn.py kxafz.py wqsqb.py xolho.txt',\n",
       " '.\\\\main\\\\olmhl\\\\mmtsz\\\\nujko\\\\ywjka\\\\pxjip\\\\wthmo\\\\wtgrc\\\\mgplg\\\\rbyav\\\\ppeir\\\\subdi\\\\zljoz\\\\kgdme\\\\jhhbu\\\\rnqwd\\\\purto\\\\bkfog\\\\rvsfo\\\\rpnzm\\\\ilogc': 'reshp qtadz.py',\n",
       " '.\\\\main\\\\olmhl\\\\mmtsz\\\\nujko\\\\ywjka\\\\pxjip\\\\wthmo\\\\wtgrc\\\\mgplg\\\\rbyav\\\\ppeir\\\\subdi\\\\zljoz\\\\kgdme\\\\jhhbu\\\\rnqwd\\\\purto\\\\bkfog\\\\rvsfo\\\\rpnzm\\\\ilogc\\\\reshp': 'czkpi.py raznl.py vbxad.txt wevmv.py zqwbg.txt',\n",
       " '.\\\\main\\\\olmhl\\\\mmtsz\\\\nujko\\\\ywjka\\\\pxjip\\\\wthmo\\\\wtgrc\\\\mgplg\\\\rbyav\\\\ppeir\\\\subdi\\\\zljoz\\\\kgdme\\\\jhhbu\\\\rnqwd\\\\purto\\\\bkfog\\\\rvsfo\\\\rpnzm\\\\kafov': 'gndkk iites gkqve.txt uifjw.py',\n",
       " '.\\\\main\\\\olmhl\\\\mmtsz\\\\nujko\\\\ywjka\\\\pxjip\\\\wthmo\\\\wtgrc\\\\mgplg\\\\rbyav\\\\ppeir\\\\subdi\\\\zljoz\\\\kgdme\\\\jhhbu\\\\rnqwd\\\\purto\\\\bkfog\\\\rvsfo\\\\rpnzm\\\\kafov\\\\gndkk': 'rdwhc',\n",
       " '.\\\\main\\\\olmhl\\\\mmtsz\\\\nujko\\\\ywjka\\\\pxjip\\\\wthmo\\\\wtgrc\\\\mgplg\\\\rbyav\\\\ppeir\\\\subdi\\\\zljoz\\\\kgdme\\\\jhhbu\\\\rnqwd\\\\purto\\\\bkfog\\\\rvsfo\\\\rpnzm\\\\kafov\\\\gndkk\\\\rdwhc': '',\n",
       " '.\\\\main\\\\olmhl\\\\mmtsz\\\\nujko\\\\ywjka\\\\pxjip\\\\wthmo\\\\wtgrc\\\\mgplg\\\\rbyav\\\\ppeir\\\\subdi\\\\zljoz\\\\kgdme\\\\jhhbu\\\\rnqwd\\\\purto\\\\bkfog\\\\rvsfo\\\\rpnzm\\\\kafov\\\\iites': 'ygtox yywbw ebguw.txt',\n",
       " '.\\\\main\\\\olmhl\\\\mmtsz\\\\nujko\\\\ywjka\\\\pxjip\\\\wthmo\\\\wtgrc\\\\mgplg\\\\rbyav\\\\ppeir\\\\subdi\\\\zljoz\\\\kgdme\\\\jhhbu\\\\rnqwd\\\\purto\\\\bkfog\\\\rvsfo\\\\rpnzm\\\\kafov\\\\iites\\\\ygtox': 'bpmhg rhvqn gqvel.txt',\n",
       " '.\\\\main\\\\olmhl\\\\mmtsz\\\\nujko\\\\ywjka\\\\pxjip\\\\wthmo\\\\wtgrc\\\\mgplg\\\\rbyav\\\\ppeir\\\\subdi\\\\zljoz\\\\kgdme\\\\jhhbu\\\\rnqwd\\\\purto\\\\bkfog\\\\rvsfo\\\\rpnzm\\\\kafov\\\\iites\\\\ygtox\\\\bpmhg': 'ssizd.py xoaoa.py',\n",
       " '.\\\\main\\\\olmhl\\\\mmtsz\\\\nujko\\\\ywjka\\\\pxjip\\\\wthmo\\\\wtgrc\\\\mgplg\\\\rbyav\\\\ppeir\\\\subdi\\\\zljoz\\\\kgdme\\\\jhhbu\\\\rnqwd\\\\purto\\\\bkfog\\\\rvsfo\\\\rpnzm\\\\kafov\\\\iites\\\\ygtox\\\\rhvqn': 'ggfcr hafgb.txt lxlbl.py tftye.txt',\n",
       " '.\\\\main\\\\olmhl\\\\mmtsz\\\\nujko\\\\ywjka\\\\pxjip\\\\wthmo\\\\wtgrc\\\\mgplg\\\\rbyav\\\\ppeir\\\\subdi\\\\zljoz\\\\kgdme\\\\jhhbu\\\\rnqwd\\\\purto\\\\bkfog\\\\rvsfo\\\\rpnzm\\\\kafov\\\\iites\\\\ygtox\\\\rhvqn\\\\ggfcr': 'bmihb kxyxy cgzfk.py qqqpe.py taevp.py xclus.txt',\n",
       " '.\\\\main\\\\olmhl\\\\mmtsz\\\\nujko\\\\ywjka\\\\pxjip\\\\wthmo\\\\wtgrc\\\\mgplg\\\\rbyav\\\\ppeir\\\\subdi\\\\zljoz\\\\kgdme\\\\jhhbu\\\\rnqwd\\\\purto\\\\bkfog\\\\rvsfo\\\\rpnzm\\\\kafov\\\\iites\\\\ygtox\\\\rhvqn\\\\ggfcr\\\\bmihb': 'qnune.txt qritj.txt',\n",
       " '.\\\\main\\\\olmhl\\\\mmtsz\\\\nujko\\\\ywjka\\\\pxjip\\\\wthmo\\\\wtgrc\\\\mgplg\\\\rbyav\\\\ppeir\\\\subdi\\\\zljoz\\\\kgdme\\\\jhhbu\\\\rnqwd\\\\purto\\\\bkfog\\\\rvsfo\\\\rpnzm\\\\kafov\\\\iites\\\\ygtox\\\\rhvqn\\\\ggfcr\\\\kxyxy': 'inhuj qrxwt dedkl.txt rbykh.txt tkjfg.txt xxgjq.txt ziymt.txt',\n",
       " '.\\\\main\\\\olmhl\\\\mmtsz\\\\nujko\\\\ywjka\\\\pxjip\\\\wthmo\\\\wtgrc\\\\mgplg\\\\rbyav\\\\ppeir\\\\subdi\\\\zljoz\\\\kgdme\\\\jhhbu\\\\rnqwd\\\\purto\\\\bkfog\\\\rvsfo\\\\rpnzm\\\\kafov\\\\iites\\\\ygtox\\\\rhvqn\\\\ggfcr\\\\kxyxy\\\\inhuj': '',\n",
       " '.\\\\main\\\\olmhl\\\\mmtsz\\\\nujko\\\\ywjka\\\\pxjip\\\\wthmo\\\\wtgrc\\\\mgplg\\\\rbyav\\\\ppeir\\\\subdi\\\\zljoz\\\\kgdme\\\\jhhbu\\\\rnqwd\\\\purto\\\\bkfog\\\\rvsfo\\\\rpnzm\\\\kafov\\\\iites\\\\ygtox\\\\rhvqn\\\\ggfcr\\\\kxyxy\\\\qrxwt': 'djwiq.py',\n",
       " '.\\\\main\\\\olmhl\\\\mmtsz\\\\nujko\\\\ywjka\\\\pxjip\\\\wthmo\\\\wtgrc\\\\mgplg\\\\rbyav\\\\ppeir\\\\subdi\\\\zljoz\\\\kgdme\\\\jhhbu\\\\rnqwd\\\\purto\\\\bkfog\\\\rvsfo\\\\rpnzm\\\\kafov\\\\iites\\\\yywbw': '',\n",
       " '.\\\\main\\\\olmhl\\\\mmtsz\\\\nujko\\\\ywjka\\\\pxjip\\\\wthmo\\\\wtgrc\\\\mgplg\\\\rbyav\\\\ppeir\\\\subdi\\\\zljoz\\\\kgdme\\\\jhhbu\\\\rnqwd\\\\purto\\\\bkfog\\\\rvsfo\\\\rpnzm\\\\sydlz': '',\n",
       " '.\\\\main\\\\olmhl\\\\mmtsz\\\\nujko\\\\ywjka\\\\pxjip\\\\wthmo\\\\wtgrc\\\\mgplg\\\\rbyav\\\\ppeir\\\\subdi\\\\zljoz\\\\kgdme\\\\jhhbu\\\\rnqwd\\\\purto\\\\bsgqc': 'ujtgh xljbc.txt zjedz.txt',\n",
       " '.\\\\main\\\\olmhl\\\\mmtsz\\\\nujko\\\\ywjka\\\\pxjip\\\\wthmo\\\\wtgrc\\\\mgplg\\\\rbyav\\\\ppeir\\\\subdi\\\\zljoz\\\\kgdme\\\\jhhbu\\\\rnqwd\\\\purto\\\\bsgqc\\\\ujtgh': 'tyapv aqqzt.py jyckp.txt uhuvh.py zltuv.txt',\n",
       " '.\\\\main\\\\olmhl\\\\mmtsz\\\\nujko\\\\ywjka\\\\pxjip\\\\wthmo\\\\wtgrc\\\\mgplg\\\\rbyav\\\\ppeir\\\\subdi\\\\zljoz\\\\kgdme\\\\jhhbu\\\\rnqwd\\\\purto\\\\bsgqc\\\\ujtgh\\\\tyapv': 'rbmqk splzy dwwlp.py edfgq.txt mrkmf.py nglat.txt nqcnq.txt sxsij.txt tpycd.txt vzkic.py xaeym.txt zatko.txt',\n",
       " '.\\\\main\\\\olmhl\\\\mmtsz\\\\nujko\\\\ywjka\\\\pxjip\\\\wthmo\\\\wtgrc\\\\mgplg\\\\rbyav\\\\ppeir\\\\subdi\\\\zljoz\\\\kgdme\\\\jhhbu\\\\rnqwd\\\\purto\\\\bsgqc\\\\ujtgh\\\\tyapv\\\\rbmqk': 'omslv.txt',\n",
       " '.\\\\main\\\\olmhl\\\\mmtsz\\\\nujko\\\\ywjka\\\\pxjip\\\\wthmo\\\\wtgrc\\\\mgplg\\\\rbyav\\\\ppeir\\\\subdi\\\\zljoz\\\\kgdme\\\\jhhbu\\\\rnqwd\\\\purto\\\\bsgqc\\\\ujtgh\\\\tyapv\\\\splzy': 'smzhc.txt',\n",
       " '.\\\\main\\\\olmhl\\\\mmtsz\\\\nujko\\\\ywjka\\\\pxjip\\\\wthmo\\\\wtgrc\\\\mgplg\\\\rbyav\\\\ppeir\\\\subdi\\\\zljoz\\\\kgdme\\\\jhhbu\\\\rnqwd\\\\purto\\\\hmnro': 'jtmnb',\n",
       " '.\\\\main\\\\olmhl\\\\mmtsz\\\\nujko\\\\ywjka\\\\pxjip\\\\wthmo\\\\wtgrc\\\\mgplg\\\\rbyav\\\\ppeir\\\\subdi\\\\zljoz\\\\kgdme\\\\jhhbu\\\\rnqwd\\\\purto\\\\hmnro\\\\jtmnb': 'ontkl.txt rvzlj.py',\n",
       " '.\\\\main\\\\olmhl\\\\mmtsz\\\\nujko\\\\ywjka\\\\pxjip\\\\wthmo\\\\wtgrc\\\\mgplg\\\\rbyav\\\\ppeir\\\\subdi\\\\zljoz\\\\kgdme\\\\jhhbu\\\\rnqwd\\\\purto\\\\mwhkt': '',\n",
       " '.\\\\main\\\\olmhl\\\\mmtsz\\\\nujko\\\\ywjka\\\\pxjip\\\\wthmo\\\\wtgrc\\\\mgplg\\\\rbyav\\\\ppeir\\\\subdi\\\\zljoz\\\\sgmoj': 'oteke.py zxoah.py',\n",
       " '.\\\\main\\\\olmhl\\\\mmtsz\\\\nujko\\\\ywjka\\\\pxjip\\\\wthmo\\\\wtgrc\\\\mgplg\\\\rbyav\\\\ppeir\\\\subdi\\\\zljoz\\\\xrvnu': 'dxvcb.py gbevo.txt rovjs.py',\n",
       " '.\\\\main\\\\olmhl\\\\mmtsz\\\\nujko\\\\ywjka\\\\pxjip\\\\wthmo\\\\wtgrc\\\\mgplg\\\\rbyav\\\\ppeir\\\\vsdfx': 'pmnyj.txt',\n",
       " '.\\\\main\\\\olmhl\\\\mmtsz\\\\nujko\\\\ywjka\\\\pxjip\\\\wthmo\\\\wtgrc\\\\mgplg\\\\rbyav\\\\qosgw': 'hxnor hcibv.txt qpajn.py',\n",
       " '.\\\\main\\\\olmhl\\\\mmtsz\\\\nujko\\\\ywjka\\\\pxjip\\\\wthmo\\\\wtgrc\\\\mgplg\\\\rbyav\\\\qosgw\\\\hxnor': '',\n",
       " '.\\\\main\\\\olmhl\\\\mmtsz\\\\nujko\\\\ywjka\\\\pxjip\\\\wthmo\\\\wtgrc\\\\mgplg\\\\rbyav\\\\uaodv': 'dikzy.py lcoui.txt',\n",
       " '.\\\\main\\\\olmhl\\\\mmtsz\\\\nujko\\\\ywjka\\\\pxjip\\\\wthmo\\\\wtgrc\\\\mgplg\\\\rbyav\\\\yqzsa': 'ufxbx.txt yrxcm.txt',\n",
       " '.\\\\main\\\\olmhl\\\\mmtsz\\\\nujko\\\\ywjka\\\\pxjip\\\\wthmo\\\\wtgrc\\\\zfukg': 'axlsq cazio jvmme rvuph ttmjw vydse badbu.txt eqozh.txt exewx.py flder.txt lkale.txt ncajz.py ooyge.txt vtsov.py wggct.py xcarh.py yqthe.py yxzsn.txt yzjqu.txt zqbnu.txt',\n",
       " '.\\\\main\\\\olmhl\\\\mmtsz\\\\nujko\\\\ywjka\\\\pxjip\\\\wthmo\\\\wtgrc\\\\zfukg\\\\axlsq': 'ojzky.txt',\n",
       " '.\\\\main\\\\olmhl\\\\mmtsz\\\\nujko\\\\ywjka\\\\pxjip\\\\wthmo\\\\wtgrc\\\\zfukg\\\\cazio': 'sosdj zkakj.py zxxeu.py',\n",
       " '.\\\\main\\\\olmhl\\\\mmtsz\\\\nujko\\\\ywjka\\\\pxjip\\\\wthmo\\\\wtgrc\\\\zfukg\\\\cazio\\\\sosdj': 'rcsvd uuyrs yujjk cbmii.txt dzkem.txt kjava.py',\n",
       " '.\\\\main\\\\olmhl\\\\mmtsz\\\\nujko\\\\ywjka\\\\pxjip\\\\wthmo\\\\wtgrc\\\\zfukg\\\\cazio\\\\sosdj\\\\rcsvd': 'lmyue.py',\n",
       " '.\\\\main\\\\olmhl\\\\mmtsz\\\\nujko\\\\ywjka\\\\pxjip\\\\wthmo\\\\wtgrc\\\\zfukg\\\\cazio\\\\sosdj\\\\uuyrs': 'lzvgo.py',\n",
       " '.\\\\main\\\\olmhl\\\\mmtsz\\\\nujko\\\\ywjka\\\\pxjip\\\\wthmo\\\\wtgrc\\\\zfukg\\\\cazio\\\\sosdj\\\\yujjk': 'jrpje.txt tglpv.txt tmonk.py tqbxn.txt',\n",
       " '.\\\\main\\\\olmhl\\\\mmtsz\\\\nujko\\\\ywjka\\\\pxjip\\\\wthmo\\\\wtgrc\\\\zfukg\\\\jvmme': 'eayzq ipboa kehsm vynzv wvwva ndmba.txt peoqq.txt ycnmt.py',\n",
       " '.\\\\main\\\\olmhl\\\\mmtsz\\\\nujko\\\\ywjka\\\\pxjip\\\\wthmo\\\\wtgrc\\\\zfukg\\\\jvmme\\\\eayzq': 'isyki nuiwj tixoq wfnda',\n",
       " '.\\\\main\\\\olmhl\\\\mmtsz\\\\nujko\\\\ywjka\\\\pxjip\\\\wthmo\\\\wtgrc\\\\zfukg\\\\jvmme\\\\eayzq\\\\isyki': 'ooakq.txt pqzao.py sxnyt.py tzfue.txt',\n",
       " '.\\\\main\\\\olmhl\\\\mmtsz\\\\nujko\\\\ywjka\\\\pxjip\\\\wthmo\\\\wtgrc\\\\zfukg\\\\jvmme\\\\eayzq\\\\nuiwj': 'qtfig.py',\n",
       " '.\\\\main\\\\olmhl\\\\mmtsz\\\\nujko\\\\ywjka\\\\pxjip\\\\wthmo\\\\wtgrc\\\\zfukg\\\\jvmme\\\\eayzq\\\\tixoq': 'lldpv jzzng.txt upvvt.txt',\n",
       " '.\\\\main\\\\olmhl\\\\mmtsz\\\\nujko\\\\ywjka\\\\pxjip\\\\wthmo\\\\wtgrc\\\\zfukg\\\\jvmme\\\\eayzq\\\\tixoq\\\\lldpv': 'hbsiz hzgem.py nzmgi.py qxkag.py',\n",
       " '.\\\\main\\\\olmhl\\\\mmtsz\\\\nujko\\\\ywjka\\\\pxjip\\\\wthmo\\\\wtgrc\\\\zfukg\\\\jvmme\\\\eayzq\\\\tixoq\\\\lldpv\\\\hbsiz': '',\n",
       " '.\\\\main\\\\olmhl\\\\mmtsz\\\\nujko\\\\ywjka\\\\pxjip\\\\wthmo\\\\wtgrc\\\\zfukg\\\\jvmme\\\\eayzq\\\\wfnda': 'bkfpc.txt lzcsc.txt myqbc.txt wenln.py',\n",
       " '.\\\\main\\\\olmhl\\\\mmtsz\\\\nujko\\\\ywjka\\\\pxjip\\\\wthmo\\\\wtgrc\\\\zfukg\\\\jvmme\\\\ipboa': '',\n",
       " '.\\\\main\\\\olmhl\\\\mmtsz\\\\nujko\\\\ywjka\\\\pxjip\\\\wthmo\\\\wtgrc\\\\zfukg\\\\jvmme\\\\kehsm': 'racex.py',\n",
       " '.\\\\main\\\\olmhl\\\\mmtsz\\\\nujko\\\\ywjka\\\\pxjip\\\\wthmo\\\\wtgrc\\\\zfukg\\\\jvmme\\\\vynzv': 'cnlvc.txt qtxsm.py',\n",
       " '.\\\\main\\\\olmhl\\\\mmtsz\\\\nujko\\\\ywjka\\\\pxjip\\\\wthmo\\\\wtgrc\\\\zfukg\\\\jvmme\\\\wvwva': 'bufuy jebnq nosvo cyasy.txt ehaxe.py fkxut.txt fwutv.py ghtwx.py hxbrt.txt oqgva.txt',\n",
       " '.\\\\main\\\\olmhl\\\\mmtsz\\\\nujko\\\\ywjka\\\\pxjip\\\\wthmo\\\\wtgrc\\\\zfukg\\\\jvmme\\\\wvwva\\\\bufuy': 'rhfsy.txt',\n",
       " '.\\\\main\\\\olmhl\\\\mmtsz\\\\nujko\\\\ywjka\\\\pxjip\\\\wthmo\\\\wtgrc\\\\zfukg\\\\jvmme\\\\wvwva\\\\jebnq': 'kjmeo phcud hkmde.txt',\n",
       " '.\\\\main\\\\olmhl\\\\mmtsz\\\\nujko\\\\ywjka\\\\pxjip\\\\wthmo\\\\wtgrc\\\\zfukg\\\\jvmme\\\\wvwva\\\\jebnq\\\\kjmeo': 'jfckr.py obnym.txt ovpoz.txt',\n",
       " '.\\\\main\\\\olmhl\\\\mmtsz\\\\nujko\\\\ywjka\\\\pxjip\\\\wthmo\\\\wtgrc\\\\zfukg\\\\jvmme\\\\wvwva\\\\jebnq\\\\phcud': 'vllzq oehnz.py yonbu.txt',\n",
       " '.\\\\main\\\\olmhl\\\\mmtsz\\\\nujko\\\\ywjka\\\\pxjip\\\\wthmo\\\\wtgrc\\\\zfukg\\\\jvmme\\\\wvwva\\\\jebnq\\\\phcud\\\\vllzq': '',\n",
       " '.\\\\main\\\\olmhl\\\\mmtsz\\\\nujko\\\\ywjka\\\\pxjip\\\\wthmo\\\\wtgrc\\\\zfukg\\\\jvmme\\\\wvwva\\\\nosvo': '',\n",
       " '.\\\\main\\\\olmhl\\\\mmtsz\\\\nujko\\\\ywjka\\\\pxjip\\\\wthmo\\\\wtgrc\\\\zfukg\\\\rvuph': 'fvrwq.txt',\n",
       " '.\\\\main\\\\olmhl\\\\mmtsz\\\\nujko\\\\ywjka\\\\pxjip\\\\wthmo\\\\wtgrc\\\\zfukg\\\\ttmjw': '',\n",
       " '.\\\\main\\\\olmhl\\\\mmtsz\\\\nujko\\\\ywjka\\\\pxjip\\\\wthmo\\\\wtgrc\\\\zfukg\\\\vydse': 'uuzho yzhtw.py',\n",
       " '.\\\\main\\\\olmhl\\\\mmtsz\\\\nujko\\\\ywjka\\\\pxjip\\\\wthmo\\\\wtgrc\\\\zfukg\\\\vydse\\\\uuzho': 'popcu duvqv.txt',\n",
       " '.\\\\main\\\\olmhl\\\\mmtsz\\\\nujko\\\\ywjka\\\\pxjip\\\\wthmo\\\\wtgrc\\\\zfukg\\\\vydse\\\\uuzho\\\\popcu': '',\n",
       " '.\\\\main\\\\olmhl\\\\mmtsz\\\\nujko\\\\ywjka\\\\pxjip\\\\wthmo\\\\yaqkg': '',\n",
       " '.\\\\main\\\\olmhl\\\\mmtsz\\\\nujko\\\\ywjxy': 'danel.txt isljh.py smpkt.txt tdktd.txt ywjow.txt zvlcy.txt',\n",
       " '.\\\\main\\\\olmhl\\\\mmtsz\\\\phcap': 'etheg.txt udied.py',\n",
       " '.\\\\main\\\\qkseh': 'uxhxb fdfju.py levqj.txt mmvbh.py sxtth.txt wecoy.txt',\n",
       " '.\\\\main\\\\qkseh\\\\uxhxb': 'mwaqm dkpkp.txt',\n",
       " '.\\\\main\\\\qkseh\\\\uxhxb\\\\mwaqm': 'fcncy.txt',\n",
       " '.\\\\main\\\\sitdc': 'kvayn.py vucrc.txt',\n",
       " '.\\\\main\\\\taivr': 'bcsow yptwa nvbgf.py qcwfi.txt',\n",
       " '.\\\\main\\\\taivr\\\\bcsow': 'ajvsh.txt ceqnw.py nhhlc.txt otmzp.txt pmcca.txt rqxod.txt tfcnd.txt',\n",
       " '.\\\\main\\\\taivr\\\\yptwa': 'xsbzr',\n",
       " '.\\\\main\\\\taivr\\\\yptwa\\\\xsbzr': 'armfl hcasz dcwkh.txt podph.txt tpzyb.py xtrwo.txt',\n",
       " '.\\\\main\\\\taivr\\\\yptwa\\\\xsbzr\\\\armfl': 'bfkjp.txt nhwim.txt zfdgl.txt zldzs.txt',\n",
       " '.\\\\main\\\\taivr\\\\yptwa\\\\xsbzr\\\\hcasz': 'ilitr',\n",
       " '.\\\\main\\\\taivr\\\\yptwa\\\\xsbzr\\\\hcasz\\\\ilitr': 'joejy urguw jvkxo.txt',\n",
       " '.\\\\main\\\\taivr\\\\yptwa\\\\xsbzr\\\\hcasz\\\\ilitr\\\\joejy': 'bjusr cewmk.py',\n",
       " '.\\\\main\\\\taivr\\\\yptwa\\\\xsbzr\\\\hcasz\\\\ilitr\\\\joejy\\\\bjusr': '',\n",
       " '.\\\\main\\\\taivr\\\\yptwa\\\\xsbzr\\\\hcasz\\\\ilitr\\\\urguw': 'sjmeg twpgm.txt zxfpt.txt',\n",
       " '.\\\\main\\\\taivr\\\\yptwa\\\\xsbzr\\\\hcasz\\\\ilitr\\\\urguw\\\\sjmeg': 'ddnaa sqlda.txt xsukp.txt',\n",
       " '.\\\\main\\\\taivr\\\\yptwa\\\\xsbzr\\\\hcasz\\\\ilitr\\\\urguw\\\\sjmeg\\\\ddnaa': 'ckaab jxhbl lszec bffrb.py eihky.txt ghojr.txt hcyqp.txt hyuxj.txt lshgy.py rvzwp.py xpjax.txt',\n",
       " '.\\\\main\\\\taivr\\\\yptwa\\\\xsbzr\\\\hcasz\\\\ilitr\\\\urguw\\\\sjmeg\\\\ddnaa\\\\ckaab': 'dlokm.txt krlys.py zppuj.py',\n",
       " '.\\\\main\\\\taivr\\\\yptwa\\\\xsbzr\\\\hcasz\\\\ilitr\\\\urguw\\\\sjmeg\\\\ddnaa\\\\jxhbl': 'lradw tpdvr',\n",
       " '.\\\\main\\\\taivr\\\\yptwa\\\\xsbzr\\\\hcasz\\\\ilitr\\\\urguw\\\\sjmeg\\\\ddnaa\\\\jxhbl\\\\lradw': 'iglcm dnjsf.py gxkwi.txt izvpu.txt zidfs.txt zlyuw.txt',\n",
       " '.\\\\main\\\\taivr\\\\yptwa\\\\xsbzr\\\\hcasz\\\\ilitr\\\\urguw\\\\sjmeg\\\\ddnaa\\\\jxhbl\\\\lradw\\\\iglcm': 'cnems.py equko.py esyhw.txt fenje.txt lfesp.py wnzzk.py xpfmw.py xpulv.txt',\n",
       " '.\\\\main\\\\taivr\\\\yptwa\\\\xsbzr\\\\hcasz\\\\ilitr\\\\urguw\\\\sjmeg\\\\ddnaa\\\\jxhbl\\\\tpdvr': 'mchbv wrgbg pfoyt.py qmrnz.txt xsedu.txt',\n",
       " '.\\\\main\\\\taivr\\\\yptwa\\\\xsbzr\\\\hcasz\\\\ilitr\\\\urguw\\\\sjmeg\\\\ddnaa\\\\jxhbl\\\\tpdvr\\\\mchbv': '',\n",
       " '.\\\\main\\\\taivr\\\\yptwa\\\\xsbzr\\\\hcasz\\\\ilitr\\\\urguw\\\\sjmeg\\\\ddnaa\\\\jxhbl\\\\tpdvr\\\\wrgbg': '',\n",
       " '.\\\\main\\\\taivr\\\\yptwa\\\\xsbzr\\\\hcasz\\\\ilitr\\\\urguw\\\\sjmeg\\\\ddnaa\\\\lszec': 'ncdyy ofdms wdftb dhkcg.txt gaslh.txt jleiq.py pmxrs.py pudrf.txt sknss.py',\n",
       " '.\\\\main\\\\taivr\\\\yptwa\\\\xsbzr\\\\hcasz\\\\ilitr\\\\urguw\\\\sjmeg\\\\ddnaa\\\\lszec\\\\ncdyy': 'jqivk.txt rhozk.txt',\n",
       " '.\\\\main\\\\taivr\\\\yptwa\\\\xsbzr\\\\hcasz\\\\ilitr\\\\urguw\\\\sjmeg\\\\ddnaa\\\\lszec\\\\ofdms': 'jppbd.txt jxjlk.txt knzps.txt',\n",
       " '.\\\\main\\\\taivr\\\\yptwa\\\\xsbzr\\\\hcasz\\\\ilitr\\\\urguw\\\\sjmeg\\\\ddnaa\\\\lszec\\\\wdftb': 'fajay mhqps brmmp.txt chdnu.txt crwkr.txt jcxov.txt opzlf.txt ziwlw.txt',\n",
       " '.\\\\main\\\\taivr\\\\yptwa\\\\xsbzr\\\\hcasz\\\\ilitr\\\\urguw\\\\sjmeg\\\\ddnaa\\\\lszec\\\\wdftb\\\\fajay': 'mkydb.txt wcdub.txt',\n",
       " '.\\\\main\\\\taivr\\\\yptwa\\\\xsbzr\\\\hcasz\\\\ilitr\\\\urguw\\\\sjmeg\\\\ddnaa\\\\lszec\\\\wdftb\\\\mhqps': 'alktd.txt uqqxx.py vkvkp.py',\n",
       " '.\\\\main\\\\tgwey': '',\n",
       " '.\\\\main\\\\uvvuz': 'bdtyv ksnof bmuav.py dcfnq.txt ksfjq.py xxuhp.txt',\n",
       " '.\\\\main\\\\uvvuz\\\\bdtyv': 'gldex.txt gpwna.txt sjhfg.txt sztlk.txt yhbfx.txt',\n",
       " '.\\\\main\\\\uvvuz\\\\ksnof': 'vjvey.py ylmqp.txt',\n",
       " '.\\\\main\\\\wkwll': 'tfncr.txt',\n",
       " '.\\\\main\\\\ybebm': 'rklqu.txt',\n",
       " '.\\\\main\\\\zduna': 'enfpw ywucw sqeuh.txt',\n",
       " '.\\\\main\\\\zduna\\\\enfpw': '',\n",
       " '.\\\\main\\\\zduna\\\\ywucw': 'rcacj tagpz buxwc.txt ixrqq.py kmiuh.txt nrkfg.txt oxauw.txt rjjzv.py rwejw.py zzraa.txt',\n",
       " '.\\\\main\\\\zduna\\\\ywucw\\\\rcacj': 'syitm.txt',\n",
       " '.\\\\main\\\\zduna\\\\ywucw\\\\tagpz': '',\n",
       " '.\\\\main\\\\zyczx': 'dqiag.txt edqml.txt njkyn.py wftkz.txt'}"
      ]
     },
     "execution_count": 17,
     "metadata": {},
     "output_type": "execute_result"
    }
   ],
   "source": [
    "dic"
   ]
  },
  {
   "cell_type": "code",
   "execution_count": 36,
   "id": "b09e7f6d",
   "metadata": {},
   "outputs": [
    {
     "name": "stdout",
     "output_type": "stream",
     "text": [
      "['.\\\\main', '.\\\\main\\\\afkgv', '.\\\\main\\\\frtrl', '.\\\\main\\\\hgyoc', '.\\\\main\\\\hgyoc\\\\kwawh', '.\\\\main\\\\hgyoc\\\\kwawh\\\\hapry', '.\\\\main\\\\hgyoc\\\\kwawh\\\\rzgzv', '.\\\\main\\\\hgyoc\\\\ycbxr\\\\ivjta', '.\\\\main\\\\ksuvk\\\\xjrqt', '.\\\\main\\\\ksuvk\\\\xjrqt\\\\qdbqt\\\\hotgx', '.\\\\main\\\\ksuvk\\\\xjrqt\\\\qdbqt\\\\hotgx\\\\izwwv', '.\\\\main\\\\ksuvk\\\\xjrqt\\\\qdbqt\\\\prkcp\\\\dnyyv', '.\\\\main\\\\lqbli\\\\otofk', '.\\\\main\\\\lqbli\\\\otofk\\\\armko', '.\\\\main\\\\mwhci', '.\\\\main\\\\olmhl\\\\mmtsz', '.\\\\main\\\\olmhl\\\\mmtsz\\\\nujko\\\\ywjka', '.\\\\main\\\\olmhl\\\\mmtsz\\\\nujko\\\\ywjka\\\\pxjip', '.\\\\main\\\\olmhl\\\\mmtsz\\\\nujko\\\\ywjka\\\\pxjip\\\\wthmo', '.\\\\main\\\\olmhl\\\\mmtsz\\\\nujko\\\\ywjka\\\\pxjip\\\\wthmo\\\\rwwuw', '.\\\\main\\\\olmhl\\\\mmtsz\\\\nujko\\\\ywjka\\\\pxjip\\\\wthmo\\\\wtgrc', '.\\\\main\\\\olmhl\\\\mmtsz\\\\nujko\\\\ywjka\\\\pxjip\\\\wthmo\\\\wtgrc\\\\grnfu', '.\\\\main\\\\olmhl\\\\mmtsz\\\\nujko\\\\ywjka\\\\pxjip\\\\wthmo\\\\wtgrc\\\\juoxd', '.\\\\main\\\\olmhl\\\\mmtsz\\\\nujko\\\\ywjka\\\\pxjip\\\\wthmo\\\\wtgrc\\\\kztxg\\\\qwlrx', '.\\\\main\\\\olmhl\\\\mmtsz\\\\nujko\\\\ywjka\\\\pxjip\\\\wthmo\\\\wtgrc\\\\kztxg\\\\qwlrx\\\\djozj', '.\\\\main\\\\olmhl\\\\mmtsz\\\\nujko\\\\ywjka\\\\pxjip\\\\wthmo\\\\wtgrc\\\\kztxg\\\\qwlrx\\\\lirot', '.\\\\main\\\\olmhl\\\\mmtsz\\\\nujko\\\\ywjka\\\\pxjip\\\\wthmo\\\\wtgrc\\\\kztxg\\\\qwlrx\\\\nfcxf', '.\\\\main\\\\olmhl\\\\mmtsz\\\\nujko\\\\ywjka\\\\pxjip\\\\wthmo\\\\wtgrc\\\\mgplg\\\\rbyav', '.\\\\main\\\\olmhl\\\\mmtsz\\\\nujko\\\\ywjka\\\\pxjip\\\\wthmo\\\\wtgrc\\\\mgplg\\\\rbyav\\\\ppeir\\\\subdi', '.\\\\main\\\\olmhl\\\\mmtsz\\\\nujko\\\\ywjka\\\\pxjip\\\\wthmo\\\\wtgrc\\\\mgplg\\\\rbyav\\\\ppeir\\\\subdi\\\\afrqp\\\\iaujh', '.\\\\main\\\\olmhl\\\\mmtsz\\\\nujko\\\\ywjka\\\\pxjip\\\\wthmo\\\\wtgrc\\\\mgplg\\\\rbyav\\\\ppeir\\\\subdi\\\\afrqp\\\\iaujh\\\\jqjsg', '.\\\\main\\\\olmhl\\\\mmtsz\\\\nujko\\\\ywjka\\\\pxjip\\\\wthmo\\\\wtgrc\\\\mgplg\\\\rbyav\\\\ppeir\\\\subdi\\\\afrqp\\\\iaujh\\\\jqjsg\\\\xriod', '.\\\\main\\\\olmhl\\\\mmtsz\\\\nujko\\\\ywjka\\\\pxjip\\\\wthmo\\\\wtgrc\\\\mgplg\\\\rbyav\\\\ppeir\\\\subdi\\\\afrqp\\\\iaujh\\\\jqnsz', '.\\\\main\\\\olmhl\\\\mmtsz\\\\nujko\\\\ywjka\\\\pxjip\\\\wthmo\\\\wtgrc\\\\mgplg\\\\rbyav\\\\ppeir\\\\subdi\\\\zljoz', '.\\\\main\\\\olmhl\\\\mmtsz\\\\nujko\\\\ywjka\\\\pxjip\\\\wthmo\\\\wtgrc\\\\mgplg\\\\rbyav\\\\ppeir\\\\subdi\\\\zljoz\\\\kgdme', '.\\\\main\\\\olmhl\\\\mmtsz\\\\nujko\\\\ywjka\\\\pxjip\\\\wthmo\\\\wtgrc\\\\mgplg\\\\rbyav\\\\ppeir\\\\subdi\\\\zljoz\\\\kgdme\\\\evnvn\\\\axqur', '.\\\\main\\\\olmhl\\\\mmtsz\\\\nujko\\\\ywjka\\\\pxjip\\\\wthmo\\\\wtgrc\\\\mgplg\\\\rbyav\\\\ppeir\\\\subdi\\\\zljoz\\\\kgdme\\\\evnvn\\\\axqur\\\\itkcz', '.\\\\main\\\\olmhl\\\\mmtsz\\\\nujko\\\\ywjka\\\\pxjip\\\\wthmo\\\\wtgrc\\\\mgplg\\\\rbyav\\\\ppeir\\\\subdi\\\\zljoz\\\\kgdme\\\\jhhbu\\\\dufxr', '.\\\\main\\\\olmhl\\\\mmtsz\\\\nujko\\\\ywjka\\\\pxjip\\\\wthmo\\\\wtgrc\\\\mgplg\\\\rbyav\\\\ppeir\\\\subdi\\\\zljoz\\\\kgdme\\\\jhhbu\\\\dufxr\\\\hlgup', '.\\\\main\\\\olmhl\\\\mmtsz\\\\nujko\\\\ywjka\\\\pxjip\\\\wthmo\\\\wtgrc\\\\mgplg\\\\rbyav\\\\ppeir\\\\subdi\\\\zljoz\\\\kgdme\\\\jhhbu\\\\dufxr\\\\hlgup\\\\auqky', '.\\\\main\\\\olmhl\\\\mmtsz\\\\nujko\\\\ywjka\\\\pxjip\\\\wthmo\\\\wtgrc\\\\mgplg\\\\rbyav\\\\ppeir\\\\subdi\\\\zljoz\\\\kgdme\\\\jhhbu\\\\dufxr\\\\sxojq', '.\\\\main\\\\olmhl\\\\mmtsz\\\\nujko\\\\ywjka\\\\pxjip\\\\wthmo\\\\wtgrc\\\\mgplg\\\\rbyav\\\\ppeir\\\\subdi\\\\zljoz\\\\kgdme\\\\jhhbu\\\\dufxr\\\\xroxl', '.\\\\main\\\\olmhl\\\\mmtsz\\\\nujko\\\\ywjka\\\\pxjip\\\\wthmo\\\\wtgrc\\\\mgplg\\\\rbyav\\\\ppeir\\\\subdi\\\\zljoz\\\\kgdme\\\\jhhbu\\\\dufxr\\\\xroxl\\\\abslw', '.\\\\main\\\\olmhl\\\\mmtsz\\\\nujko\\\\ywjka\\\\pxjip\\\\wthmo\\\\wtgrc\\\\mgplg\\\\rbyav\\\\ppeir\\\\subdi\\\\zljoz\\\\kgdme\\\\jhhbu\\\\dufxr\\\\xroxl\\\\rgunj\\\\bdcjg', '.\\\\main\\\\olmhl\\\\mmtsz\\\\nujko\\\\ywjka\\\\pxjip\\\\wthmo\\\\wtgrc\\\\mgplg\\\\rbyav\\\\ppeir\\\\subdi\\\\zljoz\\\\kgdme\\\\jhhbu\\\\dufxr\\\\xroxl\\\\rgunj\\\\bdcjg\\\\ktkfx', '.\\\\main\\\\olmhl\\\\mmtsz\\\\nujko\\\\ywjka\\\\pxjip\\\\wthmo\\\\wtgrc\\\\mgplg\\\\rbyav\\\\ppeir\\\\subdi\\\\zljoz\\\\kgdme\\\\jhhbu\\\\dufxr\\\\xroxl\\\\rgunj\\\\bdcjg\\\\vkntp', '.\\\\main\\\\olmhl\\\\mmtsz\\\\nujko\\\\ywjka\\\\pxjip\\\\wthmo\\\\wtgrc\\\\mgplg\\\\rbyav\\\\ppeir\\\\subdi\\\\zljoz\\\\kgdme\\\\jhhbu\\\\dufxr\\\\xroxl\\\\rgunj\\\\bdcjg\\\\vkntp\\\\rjqjr', '.\\\\main\\\\olmhl\\\\mmtsz\\\\nujko\\\\ywjka\\\\pxjip\\\\wthmo\\\\wtgrc\\\\mgplg\\\\rbyav\\\\ppeir\\\\subdi\\\\zljoz\\\\kgdme\\\\jhhbu\\\\dufxr\\\\xroxl\\\\rgunj\\\\bdcjg\\\\xpmcm', '.\\\\main\\\\olmhl\\\\mmtsz\\\\nujko\\\\ywjka\\\\pxjip\\\\wthmo\\\\wtgrc\\\\mgplg\\\\rbyav\\\\ppeir\\\\subdi\\\\zljoz\\\\kgdme\\\\jhhbu\\\\rnqwd', '.\\\\main\\\\olmhl\\\\mmtsz\\\\nujko\\\\ywjka\\\\pxjip\\\\wthmo\\\\wtgrc\\\\mgplg\\\\rbyav\\\\ppeir\\\\subdi\\\\zljoz\\\\kgdme\\\\jhhbu\\\\rnqwd\\\\purto', '.\\\\main\\\\olmhl\\\\mmtsz\\\\nujko\\\\ywjka\\\\pxjip\\\\wthmo\\\\wtgrc\\\\mgplg\\\\rbyav\\\\ppeir\\\\subdi\\\\zljoz\\\\kgdme\\\\jhhbu\\\\rnqwd\\\\purto\\\\bkfog', '.\\\\main\\\\olmhl\\\\mmtsz\\\\nujko\\\\ywjka\\\\pxjip\\\\wthmo\\\\wtgrc\\\\mgplg\\\\rbyav\\\\ppeir\\\\subdi\\\\zljoz\\\\kgdme\\\\jhhbu\\\\rnqwd\\\\purto\\\\bkfog\\\\rvsfo', '.\\\\main\\\\olmhl\\\\mmtsz\\\\nujko\\\\ywjka\\\\pxjip\\\\wthmo\\\\wtgrc\\\\mgplg\\\\rbyav\\\\ppeir\\\\subdi\\\\zljoz\\\\kgdme\\\\jhhbu\\\\rnqwd\\\\purto\\\\bkfog\\\\rvsfo\\\\gvbnv', '.\\\\main\\\\olmhl\\\\mmtsz\\\\nujko\\\\ywjka\\\\pxjip\\\\wthmo\\\\wtgrc\\\\mgplg\\\\rbyav\\\\ppeir\\\\subdi\\\\zljoz\\\\kgdme\\\\jhhbu\\\\rnqwd\\\\purto\\\\bkfog\\\\rvsfo\\\\rpnzm', '.\\\\main\\\\olmhl\\\\mmtsz\\\\nujko\\\\ywjka\\\\pxjip\\\\wthmo\\\\wtgrc\\\\mgplg\\\\rbyav\\\\ppeir\\\\subdi\\\\zljoz\\\\kgdme\\\\jhhbu\\\\rnqwd\\\\purto\\\\bkfog\\\\rvsfo\\\\rpnzm\\\\ilogc', '.\\\\main\\\\olmhl\\\\mmtsz\\\\nujko\\\\ywjka\\\\pxjip\\\\wthmo\\\\wtgrc\\\\mgplg\\\\rbyav\\\\ppeir\\\\subdi\\\\zljoz\\\\kgdme\\\\jhhbu\\\\rnqwd\\\\purto\\\\bkfog\\\\rvsfo\\\\rpnzm\\\\ilogc\\\\reshp', '.\\\\main\\\\olmhl\\\\mmtsz\\\\nujko\\\\ywjka\\\\pxjip\\\\wthmo\\\\wtgrc\\\\mgplg\\\\rbyav\\\\ppeir\\\\subdi\\\\zljoz\\\\kgdme\\\\jhhbu\\\\rnqwd\\\\purto\\\\bkfog\\\\rvsfo\\\\rpnzm\\\\kafov', '.\\\\main\\\\olmhl\\\\mmtsz\\\\nujko\\\\ywjka\\\\pxjip\\\\wthmo\\\\wtgrc\\\\mgplg\\\\rbyav\\\\ppeir\\\\subdi\\\\zljoz\\\\kgdme\\\\jhhbu\\\\rnqwd\\\\purto\\\\bkfog\\\\rvsfo\\\\rpnzm\\\\kafov\\\\iites\\\\ygtox\\\\bpmhg', '.\\\\main\\\\olmhl\\\\mmtsz\\\\nujko\\\\ywjka\\\\pxjip\\\\wthmo\\\\wtgrc\\\\mgplg\\\\rbyav\\\\ppeir\\\\subdi\\\\zljoz\\\\kgdme\\\\jhhbu\\\\rnqwd\\\\purto\\\\bkfog\\\\rvsfo\\\\rpnzm\\\\kafov\\\\iites\\\\ygtox\\\\rhvqn', '.\\\\main\\\\olmhl\\\\mmtsz\\\\nujko\\\\ywjka\\\\pxjip\\\\wthmo\\\\wtgrc\\\\mgplg\\\\rbyav\\\\ppeir\\\\subdi\\\\zljoz\\\\kgdme\\\\jhhbu\\\\rnqwd\\\\purto\\\\bkfog\\\\rvsfo\\\\rpnzm\\\\kafov\\\\iites\\\\ygtox\\\\rhvqn\\\\ggfcr', '.\\\\main\\\\olmhl\\\\mmtsz\\\\nujko\\\\ywjka\\\\pxjip\\\\wthmo\\\\wtgrc\\\\mgplg\\\\rbyav\\\\ppeir\\\\subdi\\\\zljoz\\\\kgdme\\\\jhhbu\\\\rnqwd\\\\purto\\\\bkfog\\\\rvsfo\\\\rpnzm\\\\kafov\\\\iites\\\\ygtox\\\\rhvqn\\\\ggfcr\\\\kxyxy\\\\qrxwt', '.\\\\main\\\\olmhl\\\\mmtsz\\\\nujko\\\\ywjka\\\\pxjip\\\\wthmo\\\\wtgrc\\\\mgplg\\\\rbyav\\\\ppeir\\\\subdi\\\\zljoz\\\\kgdme\\\\jhhbu\\\\rnqwd\\\\purto\\\\bsgqc\\\\ujtgh', '.\\\\main\\\\olmhl\\\\mmtsz\\\\nujko\\\\ywjka\\\\pxjip\\\\wthmo\\\\wtgrc\\\\mgplg\\\\rbyav\\\\ppeir\\\\subdi\\\\zljoz\\\\kgdme\\\\jhhbu\\\\rnqwd\\\\purto\\\\bsgqc\\\\ujtgh\\\\tyapv', '.\\\\main\\\\olmhl\\\\mmtsz\\\\nujko\\\\ywjka\\\\pxjip\\\\wthmo\\\\wtgrc\\\\mgplg\\\\rbyav\\\\ppeir\\\\subdi\\\\zljoz\\\\kgdme\\\\jhhbu\\\\rnqwd\\\\purto\\\\hmnro\\\\jtmnb', '.\\\\main\\\\olmhl\\\\mmtsz\\\\nujko\\\\ywjka\\\\pxjip\\\\wthmo\\\\wtgrc\\\\mgplg\\\\rbyav\\\\ppeir\\\\subdi\\\\zljoz\\\\sgmoj', '.\\\\main\\\\olmhl\\\\mmtsz\\\\nujko\\\\ywjka\\\\pxjip\\\\wthmo\\\\wtgrc\\\\mgplg\\\\rbyav\\\\ppeir\\\\subdi\\\\zljoz\\\\xrvnu', '.\\\\main\\\\olmhl\\\\mmtsz\\\\nujko\\\\ywjka\\\\pxjip\\\\wthmo\\\\wtgrc\\\\mgplg\\\\rbyav\\\\qosgw', '.\\\\main\\\\olmhl\\\\mmtsz\\\\nujko\\\\ywjka\\\\pxjip\\\\wthmo\\\\wtgrc\\\\mgplg\\\\rbyav\\\\uaodv', '.\\\\main\\\\olmhl\\\\mmtsz\\\\nujko\\\\ywjka\\\\pxjip\\\\wthmo\\\\wtgrc\\\\zfukg', '.\\\\main\\\\olmhl\\\\mmtsz\\\\nujko\\\\ywjka\\\\pxjip\\\\wthmo\\\\wtgrc\\\\zfukg\\\\cazio', '.\\\\main\\\\olmhl\\\\mmtsz\\\\nujko\\\\ywjka\\\\pxjip\\\\wthmo\\\\wtgrc\\\\zfukg\\\\cazio\\\\sosdj', '.\\\\main\\\\olmhl\\\\mmtsz\\\\nujko\\\\ywjka\\\\pxjip\\\\wthmo\\\\wtgrc\\\\zfukg\\\\cazio\\\\sosdj\\\\rcsvd', '.\\\\main\\\\olmhl\\\\mmtsz\\\\nujko\\\\ywjka\\\\pxjip\\\\wthmo\\\\wtgrc\\\\zfukg\\\\cazio\\\\sosdj\\\\uuyrs', '.\\\\main\\\\olmhl\\\\mmtsz\\\\nujko\\\\ywjka\\\\pxjip\\\\wthmo\\\\wtgrc\\\\zfukg\\\\cazio\\\\sosdj\\\\yujjk', '.\\\\main\\\\olmhl\\\\mmtsz\\\\nujko\\\\ywjka\\\\pxjip\\\\wthmo\\\\wtgrc\\\\zfukg\\\\jvmme', '.\\\\main\\\\olmhl\\\\mmtsz\\\\nujko\\\\ywjka\\\\pxjip\\\\wthmo\\\\wtgrc\\\\zfukg\\\\jvmme\\\\eayzq\\\\isyki', '.\\\\main\\\\olmhl\\\\mmtsz\\\\nujko\\\\ywjka\\\\pxjip\\\\wthmo\\\\wtgrc\\\\zfukg\\\\jvmme\\\\eayzq\\\\nuiwj', '.\\\\main\\\\olmhl\\\\mmtsz\\\\nujko\\\\ywjka\\\\pxjip\\\\wthmo\\\\wtgrc\\\\zfukg\\\\jvmme\\\\eayzq\\\\tixoq\\\\lldpv', '.\\\\main\\\\olmhl\\\\mmtsz\\\\nujko\\\\ywjka\\\\pxjip\\\\wthmo\\\\wtgrc\\\\zfukg\\\\jvmme\\\\eayzq\\\\wfnda', '.\\\\main\\\\olmhl\\\\mmtsz\\\\nujko\\\\ywjka\\\\pxjip\\\\wthmo\\\\wtgrc\\\\zfukg\\\\jvmme\\\\kehsm', '.\\\\main\\\\olmhl\\\\mmtsz\\\\nujko\\\\ywjka\\\\pxjip\\\\wthmo\\\\wtgrc\\\\zfukg\\\\jvmme\\\\vynzv', '.\\\\main\\\\olmhl\\\\mmtsz\\\\nujko\\\\ywjka\\\\pxjip\\\\wthmo\\\\wtgrc\\\\zfukg\\\\jvmme\\\\wvwva', '.\\\\main\\\\olmhl\\\\mmtsz\\\\nujko\\\\ywjka\\\\pxjip\\\\wthmo\\\\wtgrc\\\\zfukg\\\\jvmme\\\\wvwva\\\\jebnq\\\\kjmeo', '.\\\\main\\\\olmhl\\\\mmtsz\\\\nujko\\\\ywjka\\\\pxjip\\\\wthmo\\\\wtgrc\\\\zfukg\\\\jvmme\\\\wvwva\\\\jebnq\\\\phcud', '.\\\\main\\\\olmhl\\\\mmtsz\\\\nujko\\\\ywjka\\\\pxjip\\\\wthmo\\\\wtgrc\\\\zfukg\\\\vydse', '.\\\\main\\\\olmhl\\\\mmtsz\\\\nujko\\\\ywjxy', '.\\\\main\\\\olmhl\\\\mmtsz\\\\phcap', '.\\\\main\\\\qkseh', '.\\\\main\\\\sitdc', '.\\\\main\\\\taivr', '.\\\\main\\\\taivr\\\\bcsow', '.\\\\main\\\\taivr\\\\yptwa\\\\xsbzr', '.\\\\main\\\\taivr\\\\yptwa\\\\xsbzr\\\\hcasz\\\\ilitr\\\\joejy', '.\\\\main\\\\taivr\\\\yptwa\\\\xsbzr\\\\hcasz\\\\ilitr\\\\urguw\\\\sjmeg\\\\ddnaa', '.\\\\main\\\\taivr\\\\yptwa\\\\xsbzr\\\\hcasz\\\\ilitr\\\\urguw\\\\sjmeg\\\\ddnaa\\\\ckaab', '.\\\\main\\\\taivr\\\\yptwa\\\\xsbzr\\\\hcasz\\\\ilitr\\\\urguw\\\\sjmeg\\\\ddnaa\\\\jxhbl\\\\lradw', '.\\\\main\\\\taivr\\\\yptwa\\\\xsbzr\\\\hcasz\\\\ilitr\\\\urguw\\\\sjmeg\\\\ddnaa\\\\jxhbl\\\\lradw\\\\iglcm', '.\\\\main\\\\taivr\\\\yptwa\\\\xsbzr\\\\hcasz\\\\ilitr\\\\urguw\\\\sjmeg\\\\ddnaa\\\\jxhbl\\\\tpdvr', '.\\\\main\\\\taivr\\\\yptwa\\\\xsbzr\\\\hcasz\\\\ilitr\\\\urguw\\\\sjmeg\\\\ddnaa\\\\lszec', '.\\\\main\\\\taivr\\\\yptwa\\\\xsbzr\\\\hcasz\\\\ilitr\\\\urguw\\\\sjmeg\\\\ddnaa\\\\lszec\\\\wdftb\\\\mhqps', '.\\\\main\\\\uvvuz', '.\\\\main\\\\uvvuz\\\\ksnof', '.\\\\main\\\\zduna\\\\ywucw', '.\\\\main\\\\zyczx']\n"
     ]
    }
   ],
   "source": [
    "# Найдем, в каких папках есть файлы с .py\n",
    "\n",
    "result = list()\n",
    "for i in dic:\n",
    "    if '.py' in dic[i]:\n",
    "        result.extend([i])\n",
    "        \n",
    "print(result)"
   ]
  },
  {
   "cell_type": "code",
   "execution_count": 46,
   "id": "bd223fb0",
   "metadata": {},
   "outputs": [],
   "source": [
    "# Уберем лишние символы перед main\n",
    "res = []\n",
    "for i in result:\n",
    "    res.append(i[2:])"
   ]
  },
  {
   "cell_type": "code",
   "execution_count": 48,
   "id": "d0c46d36",
   "metadata": {},
   "outputs": [
    {
     "data": {
      "text/plain": [
       "['main',\n",
       " 'main\\\\afkgv',\n",
       " 'main\\\\frtrl',\n",
       " 'main\\\\hgyoc',\n",
       " 'main\\\\hgyoc\\\\kwawh',\n",
       " 'main\\\\hgyoc\\\\kwawh\\\\hapry',\n",
       " 'main\\\\hgyoc\\\\kwawh\\\\rzgzv',\n",
       " 'main\\\\hgyoc\\\\ycbxr\\\\ivjta',\n",
       " 'main\\\\ksuvk\\\\xjrqt',\n",
       " 'main\\\\ksuvk\\\\xjrqt\\\\qdbqt\\\\hotgx',\n",
       " 'main\\\\ksuvk\\\\xjrqt\\\\qdbqt\\\\hotgx\\\\izwwv',\n",
       " 'main\\\\ksuvk\\\\xjrqt\\\\qdbqt\\\\prkcp\\\\dnyyv',\n",
       " 'main\\\\lqbli\\\\otofk',\n",
       " 'main\\\\lqbli\\\\otofk\\\\armko',\n",
       " 'main\\\\mwhci',\n",
       " 'main\\\\olmhl\\\\mmtsz',\n",
       " 'main\\\\olmhl\\\\mmtsz\\\\nujko\\\\ywjka',\n",
       " 'main\\\\olmhl\\\\mmtsz\\\\nujko\\\\ywjka\\\\pxjip',\n",
       " 'main\\\\olmhl\\\\mmtsz\\\\nujko\\\\ywjka\\\\pxjip\\\\wthmo',\n",
       " 'main\\\\olmhl\\\\mmtsz\\\\nujko\\\\ywjka\\\\pxjip\\\\wthmo\\\\rwwuw',\n",
       " 'main\\\\olmhl\\\\mmtsz\\\\nujko\\\\ywjka\\\\pxjip\\\\wthmo\\\\wtgrc',\n",
       " 'main\\\\olmhl\\\\mmtsz\\\\nujko\\\\ywjka\\\\pxjip\\\\wthmo\\\\wtgrc\\\\grnfu',\n",
       " 'main\\\\olmhl\\\\mmtsz\\\\nujko\\\\ywjka\\\\pxjip\\\\wthmo\\\\wtgrc\\\\juoxd',\n",
       " 'main\\\\olmhl\\\\mmtsz\\\\nujko\\\\ywjka\\\\pxjip\\\\wthmo\\\\wtgrc\\\\kztxg\\\\qwlrx',\n",
       " 'main\\\\olmhl\\\\mmtsz\\\\nujko\\\\ywjka\\\\pxjip\\\\wthmo\\\\wtgrc\\\\kztxg\\\\qwlrx\\\\djozj',\n",
       " 'main\\\\olmhl\\\\mmtsz\\\\nujko\\\\ywjka\\\\pxjip\\\\wthmo\\\\wtgrc\\\\kztxg\\\\qwlrx\\\\lirot',\n",
       " 'main\\\\olmhl\\\\mmtsz\\\\nujko\\\\ywjka\\\\pxjip\\\\wthmo\\\\wtgrc\\\\kztxg\\\\qwlrx\\\\nfcxf',\n",
       " 'main\\\\olmhl\\\\mmtsz\\\\nujko\\\\ywjka\\\\pxjip\\\\wthmo\\\\wtgrc\\\\mgplg\\\\rbyav',\n",
       " 'main\\\\olmhl\\\\mmtsz\\\\nujko\\\\ywjka\\\\pxjip\\\\wthmo\\\\wtgrc\\\\mgplg\\\\rbyav\\\\ppeir\\\\subdi',\n",
       " 'main\\\\olmhl\\\\mmtsz\\\\nujko\\\\ywjka\\\\pxjip\\\\wthmo\\\\wtgrc\\\\mgplg\\\\rbyav\\\\ppeir\\\\subdi\\\\afrqp\\\\iaujh',\n",
       " 'main\\\\olmhl\\\\mmtsz\\\\nujko\\\\ywjka\\\\pxjip\\\\wthmo\\\\wtgrc\\\\mgplg\\\\rbyav\\\\ppeir\\\\subdi\\\\afrqp\\\\iaujh\\\\jqjsg',\n",
       " 'main\\\\olmhl\\\\mmtsz\\\\nujko\\\\ywjka\\\\pxjip\\\\wthmo\\\\wtgrc\\\\mgplg\\\\rbyav\\\\ppeir\\\\subdi\\\\afrqp\\\\iaujh\\\\jqjsg\\\\xriod',\n",
       " 'main\\\\olmhl\\\\mmtsz\\\\nujko\\\\ywjka\\\\pxjip\\\\wthmo\\\\wtgrc\\\\mgplg\\\\rbyav\\\\ppeir\\\\subdi\\\\afrqp\\\\iaujh\\\\jqnsz',\n",
       " 'main\\\\olmhl\\\\mmtsz\\\\nujko\\\\ywjka\\\\pxjip\\\\wthmo\\\\wtgrc\\\\mgplg\\\\rbyav\\\\ppeir\\\\subdi\\\\zljoz',\n",
       " 'main\\\\olmhl\\\\mmtsz\\\\nujko\\\\ywjka\\\\pxjip\\\\wthmo\\\\wtgrc\\\\mgplg\\\\rbyav\\\\ppeir\\\\subdi\\\\zljoz\\\\kgdme',\n",
       " 'main\\\\olmhl\\\\mmtsz\\\\nujko\\\\ywjka\\\\pxjip\\\\wthmo\\\\wtgrc\\\\mgplg\\\\rbyav\\\\ppeir\\\\subdi\\\\zljoz\\\\kgdme\\\\evnvn\\\\axqur',\n",
       " 'main\\\\olmhl\\\\mmtsz\\\\nujko\\\\ywjka\\\\pxjip\\\\wthmo\\\\wtgrc\\\\mgplg\\\\rbyav\\\\ppeir\\\\subdi\\\\zljoz\\\\kgdme\\\\evnvn\\\\axqur\\\\itkcz',\n",
       " 'main\\\\olmhl\\\\mmtsz\\\\nujko\\\\ywjka\\\\pxjip\\\\wthmo\\\\wtgrc\\\\mgplg\\\\rbyav\\\\ppeir\\\\subdi\\\\zljoz\\\\kgdme\\\\jhhbu\\\\dufxr',\n",
       " 'main\\\\olmhl\\\\mmtsz\\\\nujko\\\\ywjka\\\\pxjip\\\\wthmo\\\\wtgrc\\\\mgplg\\\\rbyav\\\\ppeir\\\\subdi\\\\zljoz\\\\kgdme\\\\jhhbu\\\\dufxr\\\\hlgup',\n",
       " 'main\\\\olmhl\\\\mmtsz\\\\nujko\\\\ywjka\\\\pxjip\\\\wthmo\\\\wtgrc\\\\mgplg\\\\rbyav\\\\ppeir\\\\subdi\\\\zljoz\\\\kgdme\\\\jhhbu\\\\dufxr\\\\hlgup\\\\auqky',\n",
       " 'main\\\\olmhl\\\\mmtsz\\\\nujko\\\\ywjka\\\\pxjip\\\\wthmo\\\\wtgrc\\\\mgplg\\\\rbyav\\\\ppeir\\\\subdi\\\\zljoz\\\\kgdme\\\\jhhbu\\\\dufxr\\\\sxojq',\n",
       " 'main\\\\olmhl\\\\mmtsz\\\\nujko\\\\ywjka\\\\pxjip\\\\wthmo\\\\wtgrc\\\\mgplg\\\\rbyav\\\\ppeir\\\\subdi\\\\zljoz\\\\kgdme\\\\jhhbu\\\\dufxr\\\\xroxl',\n",
       " 'main\\\\olmhl\\\\mmtsz\\\\nujko\\\\ywjka\\\\pxjip\\\\wthmo\\\\wtgrc\\\\mgplg\\\\rbyav\\\\ppeir\\\\subdi\\\\zljoz\\\\kgdme\\\\jhhbu\\\\dufxr\\\\xroxl\\\\abslw',\n",
       " 'main\\\\olmhl\\\\mmtsz\\\\nujko\\\\ywjka\\\\pxjip\\\\wthmo\\\\wtgrc\\\\mgplg\\\\rbyav\\\\ppeir\\\\subdi\\\\zljoz\\\\kgdme\\\\jhhbu\\\\dufxr\\\\xroxl\\\\rgunj\\\\bdcjg',\n",
       " 'main\\\\olmhl\\\\mmtsz\\\\nujko\\\\ywjka\\\\pxjip\\\\wthmo\\\\wtgrc\\\\mgplg\\\\rbyav\\\\ppeir\\\\subdi\\\\zljoz\\\\kgdme\\\\jhhbu\\\\dufxr\\\\xroxl\\\\rgunj\\\\bdcjg\\\\ktkfx',\n",
       " 'main\\\\olmhl\\\\mmtsz\\\\nujko\\\\ywjka\\\\pxjip\\\\wthmo\\\\wtgrc\\\\mgplg\\\\rbyav\\\\ppeir\\\\subdi\\\\zljoz\\\\kgdme\\\\jhhbu\\\\dufxr\\\\xroxl\\\\rgunj\\\\bdcjg\\\\vkntp',\n",
       " 'main\\\\olmhl\\\\mmtsz\\\\nujko\\\\ywjka\\\\pxjip\\\\wthmo\\\\wtgrc\\\\mgplg\\\\rbyav\\\\ppeir\\\\subdi\\\\zljoz\\\\kgdme\\\\jhhbu\\\\dufxr\\\\xroxl\\\\rgunj\\\\bdcjg\\\\vkntp\\\\rjqjr',\n",
       " 'main\\\\olmhl\\\\mmtsz\\\\nujko\\\\ywjka\\\\pxjip\\\\wthmo\\\\wtgrc\\\\mgplg\\\\rbyav\\\\ppeir\\\\subdi\\\\zljoz\\\\kgdme\\\\jhhbu\\\\dufxr\\\\xroxl\\\\rgunj\\\\bdcjg\\\\xpmcm',\n",
       " 'main\\\\olmhl\\\\mmtsz\\\\nujko\\\\ywjka\\\\pxjip\\\\wthmo\\\\wtgrc\\\\mgplg\\\\rbyav\\\\ppeir\\\\subdi\\\\zljoz\\\\kgdme\\\\jhhbu\\\\rnqwd',\n",
       " 'main\\\\olmhl\\\\mmtsz\\\\nujko\\\\ywjka\\\\pxjip\\\\wthmo\\\\wtgrc\\\\mgplg\\\\rbyav\\\\ppeir\\\\subdi\\\\zljoz\\\\kgdme\\\\jhhbu\\\\rnqwd\\\\purto',\n",
       " 'main\\\\olmhl\\\\mmtsz\\\\nujko\\\\ywjka\\\\pxjip\\\\wthmo\\\\wtgrc\\\\mgplg\\\\rbyav\\\\ppeir\\\\subdi\\\\zljoz\\\\kgdme\\\\jhhbu\\\\rnqwd\\\\purto\\\\bkfog',\n",
       " 'main\\\\olmhl\\\\mmtsz\\\\nujko\\\\ywjka\\\\pxjip\\\\wthmo\\\\wtgrc\\\\mgplg\\\\rbyav\\\\ppeir\\\\subdi\\\\zljoz\\\\kgdme\\\\jhhbu\\\\rnqwd\\\\purto\\\\bkfog\\\\rvsfo',\n",
       " 'main\\\\olmhl\\\\mmtsz\\\\nujko\\\\ywjka\\\\pxjip\\\\wthmo\\\\wtgrc\\\\mgplg\\\\rbyav\\\\ppeir\\\\subdi\\\\zljoz\\\\kgdme\\\\jhhbu\\\\rnqwd\\\\purto\\\\bkfog\\\\rvsfo\\\\gvbnv',\n",
       " 'main\\\\olmhl\\\\mmtsz\\\\nujko\\\\ywjka\\\\pxjip\\\\wthmo\\\\wtgrc\\\\mgplg\\\\rbyav\\\\ppeir\\\\subdi\\\\zljoz\\\\kgdme\\\\jhhbu\\\\rnqwd\\\\purto\\\\bkfog\\\\rvsfo\\\\rpnzm',\n",
       " 'main\\\\olmhl\\\\mmtsz\\\\nujko\\\\ywjka\\\\pxjip\\\\wthmo\\\\wtgrc\\\\mgplg\\\\rbyav\\\\ppeir\\\\subdi\\\\zljoz\\\\kgdme\\\\jhhbu\\\\rnqwd\\\\purto\\\\bkfog\\\\rvsfo\\\\rpnzm\\\\ilogc',\n",
       " 'main\\\\olmhl\\\\mmtsz\\\\nujko\\\\ywjka\\\\pxjip\\\\wthmo\\\\wtgrc\\\\mgplg\\\\rbyav\\\\ppeir\\\\subdi\\\\zljoz\\\\kgdme\\\\jhhbu\\\\rnqwd\\\\purto\\\\bkfog\\\\rvsfo\\\\rpnzm\\\\ilogc\\\\reshp',\n",
       " 'main\\\\olmhl\\\\mmtsz\\\\nujko\\\\ywjka\\\\pxjip\\\\wthmo\\\\wtgrc\\\\mgplg\\\\rbyav\\\\ppeir\\\\subdi\\\\zljoz\\\\kgdme\\\\jhhbu\\\\rnqwd\\\\purto\\\\bkfog\\\\rvsfo\\\\rpnzm\\\\kafov',\n",
       " 'main\\\\olmhl\\\\mmtsz\\\\nujko\\\\ywjka\\\\pxjip\\\\wthmo\\\\wtgrc\\\\mgplg\\\\rbyav\\\\ppeir\\\\subdi\\\\zljoz\\\\kgdme\\\\jhhbu\\\\rnqwd\\\\purto\\\\bkfog\\\\rvsfo\\\\rpnzm\\\\kafov\\\\iites\\\\ygtox\\\\bpmhg',\n",
       " 'main\\\\olmhl\\\\mmtsz\\\\nujko\\\\ywjka\\\\pxjip\\\\wthmo\\\\wtgrc\\\\mgplg\\\\rbyav\\\\ppeir\\\\subdi\\\\zljoz\\\\kgdme\\\\jhhbu\\\\rnqwd\\\\purto\\\\bkfog\\\\rvsfo\\\\rpnzm\\\\kafov\\\\iites\\\\ygtox\\\\rhvqn',\n",
       " 'main\\\\olmhl\\\\mmtsz\\\\nujko\\\\ywjka\\\\pxjip\\\\wthmo\\\\wtgrc\\\\mgplg\\\\rbyav\\\\ppeir\\\\subdi\\\\zljoz\\\\kgdme\\\\jhhbu\\\\rnqwd\\\\purto\\\\bkfog\\\\rvsfo\\\\rpnzm\\\\kafov\\\\iites\\\\ygtox\\\\rhvqn\\\\ggfcr',\n",
       " 'main\\\\olmhl\\\\mmtsz\\\\nujko\\\\ywjka\\\\pxjip\\\\wthmo\\\\wtgrc\\\\mgplg\\\\rbyav\\\\ppeir\\\\subdi\\\\zljoz\\\\kgdme\\\\jhhbu\\\\rnqwd\\\\purto\\\\bkfog\\\\rvsfo\\\\rpnzm\\\\kafov\\\\iites\\\\ygtox\\\\rhvqn\\\\ggfcr\\\\kxyxy\\\\qrxwt',\n",
       " 'main\\\\olmhl\\\\mmtsz\\\\nujko\\\\ywjka\\\\pxjip\\\\wthmo\\\\wtgrc\\\\mgplg\\\\rbyav\\\\ppeir\\\\subdi\\\\zljoz\\\\kgdme\\\\jhhbu\\\\rnqwd\\\\purto\\\\bsgqc\\\\ujtgh',\n",
       " 'main\\\\olmhl\\\\mmtsz\\\\nujko\\\\ywjka\\\\pxjip\\\\wthmo\\\\wtgrc\\\\mgplg\\\\rbyav\\\\ppeir\\\\subdi\\\\zljoz\\\\kgdme\\\\jhhbu\\\\rnqwd\\\\purto\\\\bsgqc\\\\ujtgh\\\\tyapv',\n",
       " 'main\\\\olmhl\\\\mmtsz\\\\nujko\\\\ywjka\\\\pxjip\\\\wthmo\\\\wtgrc\\\\mgplg\\\\rbyav\\\\ppeir\\\\subdi\\\\zljoz\\\\kgdme\\\\jhhbu\\\\rnqwd\\\\purto\\\\hmnro\\\\jtmnb',\n",
       " 'main\\\\olmhl\\\\mmtsz\\\\nujko\\\\ywjka\\\\pxjip\\\\wthmo\\\\wtgrc\\\\mgplg\\\\rbyav\\\\ppeir\\\\subdi\\\\zljoz\\\\sgmoj',\n",
       " 'main\\\\olmhl\\\\mmtsz\\\\nujko\\\\ywjka\\\\pxjip\\\\wthmo\\\\wtgrc\\\\mgplg\\\\rbyav\\\\ppeir\\\\subdi\\\\zljoz\\\\xrvnu',\n",
       " 'main\\\\olmhl\\\\mmtsz\\\\nujko\\\\ywjka\\\\pxjip\\\\wthmo\\\\wtgrc\\\\mgplg\\\\rbyav\\\\qosgw',\n",
       " 'main\\\\olmhl\\\\mmtsz\\\\nujko\\\\ywjka\\\\pxjip\\\\wthmo\\\\wtgrc\\\\mgplg\\\\rbyav\\\\uaodv',\n",
       " 'main\\\\olmhl\\\\mmtsz\\\\nujko\\\\ywjka\\\\pxjip\\\\wthmo\\\\wtgrc\\\\zfukg',\n",
       " 'main\\\\olmhl\\\\mmtsz\\\\nujko\\\\ywjka\\\\pxjip\\\\wthmo\\\\wtgrc\\\\zfukg\\\\cazio',\n",
       " 'main\\\\olmhl\\\\mmtsz\\\\nujko\\\\ywjka\\\\pxjip\\\\wthmo\\\\wtgrc\\\\zfukg\\\\cazio\\\\sosdj',\n",
       " 'main\\\\olmhl\\\\mmtsz\\\\nujko\\\\ywjka\\\\pxjip\\\\wthmo\\\\wtgrc\\\\zfukg\\\\cazio\\\\sosdj\\\\rcsvd',\n",
       " 'main\\\\olmhl\\\\mmtsz\\\\nujko\\\\ywjka\\\\pxjip\\\\wthmo\\\\wtgrc\\\\zfukg\\\\cazio\\\\sosdj\\\\uuyrs',\n",
       " 'main\\\\olmhl\\\\mmtsz\\\\nujko\\\\ywjka\\\\pxjip\\\\wthmo\\\\wtgrc\\\\zfukg\\\\cazio\\\\sosdj\\\\yujjk',\n",
       " 'main\\\\olmhl\\\\mmtsz\\\\nujko\\\\ywjka\\\\pxjip\\\\wthmo\\\\wtgrc\\\\zfukg\\\\jvmme',\n",
       " 'main\\\\olmhl\\\\mmtsz\\\\nujko\\\\ywjka\\\\pxjip\\\\wthmo\\\\wtgrc\\\\zfukg\\\\jvmme\\\\eayzq\\\\isyki',\n",
       " 'main\\\\olmhl\\\\mmtsz\\\\nujko\\\\ywjka\\\\pxjip\\\\wthmo\\\\wtgrc\\\\zfukg\\\\jvmme\\\\eayzq\\\\nuiwj',\n",
       " 'main\\\\olmhl\\\\mmtsz\\\\nujko\\\\ywjka\\\\pxjip\\\\wthmo\\\\wtgrc\\\\zfukg\\\\jvmme\\\\eayzq\\\\tixoq\\\\lldpv',\n",
       " 'main\\\\olmhl\\\\mmtsz\\\\nujko\\\\ywjka\\\\pxjip\\\\wthmo\\\\wtgrc\\\\zfukg\\\\jvmme\\\\eayzq\\\\wfnda',\n",
       " 'main\\\\olmhl\\\\mmtsz\\\\nujko\\\\ywjka\\\\pxjip\\\\wthmo\\\\wtgrc\\\\zfukg\\\\jvmme\\\\kehsm',\n",
       " 'main\\\\olmhl\\\\mmtsz\\\\nujko\\\\ywjka\\\\pxjip\\\\wthmo\\\\wtgrc\\\\zfukg\\\\jvmme\\\\vynzv',\n",
       " 'main\\\\olmhl\\\\mmtsz\\\\nujko\\\\ywjka\\\\pxjip\\\\wthmo\\\\wtgrc\\\\zfukg\\\\jvmme\\\\wvwva',\n",
       " 'main\\\\olmhl\\\\mmtsz\\\\nujko\\\\ywjka\\\\pxjip\\\\wthmo\\\\wtgrc\\\\zfukg\\\\jvmme\\\\wvwva\\\\jebnq\\\\kjmeo',\n",
       " 'main\\\\olmhl\\\\mmtsz\\\\nujko\\\\ywjka\\\\pxjip\\\\wthmo\\\\wtgrc\\\\zfukg\\\\jvmme\\\\wvwva\\\\jebnq\\\\phcud',\n",
       " 'main\\\\olmhl\\\\mmtsz\\\\nujko\\\\ywjka\\\\pxjip\\\\wthmo\\\\wtgrc\\\\zfukg\\\\vydse',\n",
       " 'main\\\\olmhl\\\\mmtsz\\\\nujko\\\\ywjxy',\n",
       " 'main\\\\olmhl\\\\mmtsz\\\\phcap',\n",
       " 'main\\\\qkseh',\n",
       " 'main\\\\sitdc',\n",
       " 'main\\\\taivr',\n",
       " 'main\\\\taivr\\\\bcsow',\n",
       " 'main\\\\taivr\\\\yptwa\\\\xsbzr',\n",
       " 'main\\\\taivr\\\\yptwa\\\\xsbzr\\\\hcasz\\\\ilitr\\\\joejy',\n",
       " 'main\\\\taivr\\\\yptwa\\\\xsbzr\\\\hcasz\\\\ilitr\\\\urguw\\\\sjmeg\\\\ddnaa',\n",
       " 'main\\\\taivr\\\\yptwa\\\\xsbzr\\\\hcasz\\\\ilitr\\\\urguw\\\\sjmeg\\\\ddnaa\\\\ckaab',\n",
       " 'main\\\\taivr\\\\yptwa\\\\xsbzr\\\\hcasz\\\\ilitr\\\\urguw\\\\sjmeg\\\\ddnaa\\\\jxhbl\\\\lradw',\n",
       " 'main\\\\taivr\\\\yptwa\\\\xsbzr\\\\hcasz\\\\ilitr\\\\urguw\\\\sjmeg\\\\ddnaa\\\\jxhbl\\\\lradw\\\\iglcm',\n",
       " 'main\\\\taivr\\\\yptwa\\\\xsbzr\\\\hcasz\\\\ilitr\\\\urguw\\\\sjmeg\\\\ddnaa\\\\jxhbl\\\\tpdvr',\n",
       " 'main\\\\taivr\\\\yptwa\\\\xsbzr\\\\hcasz\\\\ilitr\\\\urguw\\\\sjmeg\\\\ddnaa\\\\lszec',\n",
       " 'main\\\\taivr\\\\yptwa\\\\xsbzr\\\\hcasz\\\\ilitr\\\\urguw\\\\sjmeg\\\\ddnaa\\\\lszec\\\\wdftb\\\\mhqps',\n",
       " 'main\\\\uvvuz',\n",
       " 'main\\\\uvvuz\\\\ksnof',\n",
       " 'main\\\\zduna\\\\ywucw',\n",
       " 'main\\\\zyczx']"
      ]
     },
     "execution_count": 48,
     "metadata": {},
     "output_type": "execute_result"
    }
   ],
   "source": [
    "res"
   ]
  },
  {
   "cell_type": "code",
   "execution_count": 62,
   "id": "59f57430",
   "metadata": {},
   "outputs": [],
   "source": [
    "# Вставим перенос строки между элементами списка\n",
    "file = '\\n'.join(res)"
   ]
  },
  {
   "cell_type": "code",
   "execution_count": 65,
   "id": "23581a93",
   "metadata": {},
   "outputs": [],
   "source": [
    "# Поменяем директорию\n",
    "import os\n",
    "os.chdir('C:\\\\Users\\\\natal\\\\Documents\\\\Курсы\\\\Курсы\\\\Python_scripts\\\\Python_thick')"
   ]
  },
  {
   "cell_type": "code",
   "execution_count": 66,
   "id": "75aa26fb",
   "metadata": {},
   "outputs": [],
   "source": [
    "# Запишем в файл\n",
    "with open('find_py.txt', 'w') as inf:\n",
    "    inf.write(file)"
   ]
  },
  {
   "cell_type": "code",
   "execution_count": null,
   "id": "f07ab8a6",
   "metadata": {},
   "outputs": [],
   "source": []
  },
  {
   "cell_type": "code",
   "execution_count": null,
   "id": "9ed4495b",
   "metadata": {},
   "outputs": [],
   "source": [
    "\"\"\"\n",
    "            РАБОТА С ФУНКЦИЯМИ functools, lambda\n",
    "\"\"\""
   ]
  },
  {
   "cell_type": "code",
   "execution_count": 88,
   "id": "86b22865",
   "metadata": {},
   "outputs": [
    {
     "name": "stdout",
     "output_type": "stream",
     "text": [
      "1 2 3 4 5\n"
     ]
    }
   ],
   "source": [
    "x = input().split()"
   ]
  },
  {
   "cell_type": "code",
   "execution_count": 89,
   "id": "f5593a8b",
   "metadata": {},
   "outputs": [
    {
     "name": "stdout",
     "output_type": "stream",
     "text": [
      "['1', '2', '3', '4', '5']\n"
     ]
    }
   ],
   "source": [
    "print(x)"
   ]
  },
  {
   "cell_type": "code",
   "execution_count": 90,
   "id": "36d4ae22",
   "metadata": {},
   "outputs": [],
   "source": [
    "# Функция map() - итератор\n",
    "l = map(int, x)"
   ]
  },
  {
   "cell_type": "code",
   "execution_count": 91,
   "id": "dc136d9c",
   "metadata": {},
   "outputs": [
    {
     "data": {
      "text/plain": [
       "1"
      ]
     },
     "execution_count": 91,
     "metadata": {},
     "output_type": "execute_result"
    }
   ],
   "source": [
    "next(l)"
   ]
  },
  {
   "cell_type": "code",
   "execution_count": 92,
   "id": "bfc6f199",
   "metadata": {},
   "outputs": [
    {
     "data": {
      "text/plain": [
       "[1, 2, 3, 4, 5]"
      ]
     },
     "execution_count": 92,
     "metadata": {},
     "output_type": "execute_result"
    }
   ],
   "source": [
    "list(map(int, x))"
   ]
  },
  {
   "cell_type": "code",
   "execution_count": null,
   "id": "b8c4a701",
   "metadata": {},
   "outputs": [],
   "source": []
  },
  {
   "cell_type": "code",
   "execution_count": 96,
   "id": "ffde2e68",
   "metadata": {},
   "outputs": [
    {
     "name": "stdout",
     "output_type": "stream",
     "text": [
      "1 2 3 4 5 6 7 8 9 10\n"
     ]
    }
   ],
   "source": [
    "# Вернем только четные элементы списка\n",
    "\n",
    "lst = [int(i) for i in input().split()]"
   ]
  },
  {
   "cell_type": "code",
   "execution_count": 97,
   "id": "b59e7742",
   "metadata": {},
   "outputs": [
    {
     "name": "stdout",
     "output_type": "stream",
     "text": [
      "[2, 4, 6, 8, 10]\n"
     ]
    }
   ],
   "source": [
    "print(list(filter(lambda x: x % 2 == 0, lst)))"
   ]
  },
  {
   "cell_type": "code",
   "execution_count": null,
   "id": "f8a89d69",
   "metadata": {},
   "outputs": [],
   "source": []
  },
  {
   "cell_type": "code",
   "execution_count": null,
   "id": "8bf7d258",
   "metadata": {},
   "outputs": [],
   "source": [
    "# lambda функции можно передавать в качестве ключа сортировки списка\n",
    "# Отсортируем по длине строки (кортеж нужно преобразовать)"
   ]
  },
  {
   "cell_type": "code",
   "execution_count": 125,
   "id": "93e15680",
   "metadata": {},
   "outputs": [],
   "source": [
    "names =[('Анна', 'Александрова'), ('Иванна', 'Петросян'), ('Игорис', 'Русовскис'), ('Ира', 'Машина')]"
   ]
  },
  {
   "cell_type": "code",
   "execution_count": 126,
   "id": "e98fd0b8",
   "metadata": {},
   "outputs": [
    {
     "name": "stdout",
     "output_type": "stream",
     "text": [
      "('Анна', 'Александрова')\n",
      "('Иванна', 'Петросян')\n",
      "('Игорис', 'Русовскис')\n",
      "('Ира', 'Машина')\n"
     ]
    }
   ],
   "source": [
    "for i in names:\n",
    "    print(i)"
   ]
  },
  {
   "cell_type": "code",
   "execution_count": 127,
   "id": "58ba7154",
   "metadata": {},
   "outputs": [
    {
     "data": {
      "text/plain": [
       "('Анна', 'Александрова')"
      ]
     },
     "execution_count": 127,
     "metadata": {},
     "output_type": "execute_result"
    }
   ],
   "source": [
    "names[0]"
   ]
  },
  {
   "cell_type": "code",
   "execution_count": 128,
   "id": "aa86241b",
   "metadata": {},
   "outputs": [],
   "source": [
    "names.sort(key = lambda x: len(' '.join(x)))"
   ]
  },
  {
   "cell_type": "code",
   "execution_count": 129,
   "id": "727ac312",
   "metadata": {},
   "outputs": [
    {
     "data": {
      "text/plain": [
       "[('Ира', 'Машина'),\n",
       " ('Иванна', 'Петросян'),\n",
       " ('Игорис', 'Русовскис'),\n",
       " ('Анна', 'Александрова')]"
      ]
     },
     "execution_count": 129,
     "metadata": {},
     "output_type": "execute_result"
    }
   ],
   "source": [
    "names"
   ]
  },
  {
   "cell_type": "code",
   "execution_count": null,
   "id": "85e6a540",
   "metadata": {},
   "outputs": [],
   "source": []
  },
  {
   "cell_type": "code",
   "execution_count": 130,
   "id": "2e14ae40",
   "metadata": {},
   "outputs": [],
   "source": [
    "# Модуль operator"
   ]
  },
  {
   "cell_type": "code",
   "execution_count": 132,
   "id": "a0d62d89",
   "metadata": {},
   "outputs": [],
   "source": [
    "import operator as op"
   ]
  },
  {
   "cell_type": "code",
   "execution_count": 133,
   "id": "904e3e8b",
   "metadata": {},
   "outputs": [
    {
     "data": {
      "text/plain": [
       "5"
      ]
     },
     "execution_count": 133,
     "metadata": {},
     "output_type": "execute_result"
    }
   ],
   "source": [
    "op.add(2, 3)"
   ]
  },
  {
   "cell_type": "code",
   "execution_count": 134,
   "id": "9337b86b",
   "metadata": {},
   "outputs": [
    {
     "data": {
      "text/plain": [
       "30"
      ]
     },
     "execution_count": 134,
     "metadata": {},
     "output_type": "execute_result"
    }
   ],
   "source": [
    "op.mul(5, 6)"
   ]
  },
  {
   "cell_type": "code",
   "execution_count": 135,
   "id": "18063bb6",
   "metadata": {},
   "outputs": [
    {
     "data": {
      "text/plain": [
       "True"
      ]
     },
     "execution_count": 135,
     "metadata": {},
     "output_type": "execute_result"
    }
   ],
   "source": [
    "# Содержится ли число 4 в списке\n",
    "op.contains([1, 2, 3, 4], 4)"
   ]
  },
  {
   "cell_type": "code",
   "execution_count": 153,
   "id": "e7b13dc8",
   "metadata": {},
   "outputs": [],
   "source": [
    "x = [1, 5, 8, 20]"
   ]
  },
  {
   "cell_type": "code",
   "execution_count": null,
   "id": "c0204aaa",
   "metadata": {},
   "outputs": [],
   "source": []
  },
  {
   "cell_type": "code",
   "execution_count": 164,
   "id": "43c7f59d",
   "metadata": {},
   "outputs": [],
   "source": [
    "# Функция itemgetter возвращает элемент, у которого определенный индекс, здесь 0\n",
    "f = op.itemgetter(0)"
   ]
  },
  {
   "cell_type": "code",
   "execution_count": 165,
   "id": "9199fb4e",
   "metadata": {},
   "outputs": [
    {
     "data": {
      "text/plain": [
       "1"
      ]
     },
     "execution_count": 165,
     "metadata": {},
     "output_type": "execute_result"
    }
   ],
   "source": [
    "f(x)"
   ]
  },
  {
   "cell_type": "code",
   "execution_count": null,
   "id": "b1eac235",
   "metadata": {},
   "outputs": [],
   "source": []
  },
  {
   "cell_type": "code",
   "execution_count": 166,
   "id": "8767abba",
   "metadata": {},
   "outputs": [],
   "source": [
    "# Для словаря тоже можно использовать itemgetter - передать ключ и получить значение\n",
    "\n",
    "d = {'a':123, 'b':456, 'c':987}"
   ]
  },
  {
   "cell_type": "code",
   "execution_count": 167,
   "id": "c5b98d49",
   "metadata": {},
   "outputs": [],
   "source": [
    "f = op.itemgetter('a')"
   ]
  },
  {
   "cell_type": "code",
   "execution_count": 168,
   "id": "c073bc59",
   "metadata": {},
   "outputs": [
    {
     "data": {
      "text/plain": [
       "123"
      ]
     },
     "execution_count": 168,
     "metadata": {},
     "output_type": "execute_result"
    }
   ],
   "source": [
    "f(d)"
   ]
  },
  {
   "cell_type": "code",
   "execution_count": null,
   "id": "b69acbb9",
   "metadata": {},
   "outputs": [],
   "source": []
  },
  {
   "cell_type": "code",
   "execution_count": null,
   "id": "cd7feaa4",
   "metadata": {},
   "outputs": [],
   "source": [
    "# Функция attrgetter() "
   ]
  },
  {
   "cell_type": "code",
   "execution_count": 181,
   "id": "144761e0",
   "metadata": {},
   "outputs": [],
   "source": [
    " f = op.attrgetter('sort')"
   ]
  },
  {
   "cell_type": "code",
   "execution_count": 182,
   "id": "f2ee0a2e",
   "metadata": {},
   "outputs": [
    {
     "data": {
      "text/plain": [
       "<function list.sort(*, key=None, reverse=False)>"
      ]
     },
     "execution_count": 182,
     "metadata": {},
     "output_type": "execute_result"
    }
   ],
   "source": [
    "f(x)"
   ]
  },
  {
   "cell_type": "code",
   "execution_count": 183,
   "id": "2aab047a",
   "metadata": {},
   "outputs": [],
   "source": [
    "# Можно отсортировать по алфавиту, по последнему элементу в кортеже\n",
    "names =[('Анна', 'Александрова'), ('Иванна', 'Петросян'), ('Игорис', 'Русовскис'), ('Ира', 'Машина')]"
   ]
  },
  {
   "cell_type": "code",
   "execution_count": 189,
   "id": "e309c905",
   "metadata": {},
   "outputs": [],
   "source": [
    "names.sort(key = op.itemgetter(-1))"
   ]
  },
  {
   "cell_type": "code",
   "execution_count": 190,
   "id": "98a92e60",
   "metadata": {},
   "outputs": [
    {
     "data": {
      "text/plain": [
       "[('Анна', 'Александрова'),\n",
       " ('Ира', 'Машина'),\n",
       " ('Иванна', 'Петросян'),\n",
       " ('Игорис', 'Русовскис')]"
      ]
     },
     "execution_count": 190,
     "metadata": {},
     "output_type": "execute_result"
    }
   ],
   "source": [
    "names"
   ]
  },
  {
   "cell_type": "code",
   "execution_count": null,
   "id": "f6317630",
   "metadata": {},
   "outputs": [],
   "source": []
  },
  {
   "cell_type": "code",
   "execution_count": 191,
   "id": "426cef09",
   "metadata": {},
   "outputs": [],
   "source": [
    "# Альтернативно через lambda\n",
    "names =[('Анна', 'Александрова'), ('Иванна', 'Петросян'), ('Игорис', 'Русовскис'), ('Ира', 'Машина')]"
   ]
  },
  {
   "cell_type": "code",
   "execution_count": 192,
   "id": "d76c4241",
   "metadata": {},
   "outputs": [],
   "source": [
    "names.sort(key = lambda x: x[-1])"
   ]
  },
  {
   "cell_type": "code",
   "execution_count": 193,
   "id": "289933b9",
   "metadata": {},
   "outputs": [
    {
     "data": {
      "text/plain": [
       "[('Анна', 'Александрова'),\n",
       " ('Ира', 'Машина'),\n",
       " ('Иванна', 'Петросян'),\n",
       " ('Игорис', 'Русовскис')]"
      ]
     },
     "execution_count": 193,
     "metadata": {},
     "output_type": "execute_result"
    }
   ],
   "source": [
    "names"
   ]
  },
  {
   "cell_type": "code",
   "execution_count": null,
   "id": "f8efad82",
   "metadata": {},
   "outputs": [],
   "source": []
  },
  {
   "cell_type": "code",
   "execution_count": 194,
   "id": "d39d6902",
   "metadata": {},
   "outputs": [],
   "source": [
    "# Модуль functools\n",
    "\n",
    "import functools "
   ]
  },
  {
   "cell_type": "code",
   "execution_count": 195,
   "id": "3f2ba79f",
   "metadata": {},
   "outputs": [
    {
     "data": {
      "text/plain": [
       "45"
      ]
     },
     "execution_count": 195,
     "metadata": {},
     "output_type": "execute_result"
    }
   ],
   "source": [
    "# Функция reduce кумулятивно применяет функцию\n",
    "# Т.е. 1 + 2 + 3 + 4 + ... + 10\n",
    "\n",
    "functools.reduce(lambda x,y: x+y, range(1,10))"
   ]
  },
  {
   "cell_type": "code",
   "execution_count": 199,
   "id": "68c5d224",
   "metadata": {},
   "outputs": [
    {
     "data": {
      "text/plain": [
       "120"
      ]
     },
     "execution_count": 199,
     "metadata": {},
     "output_type": "execute_result"
    }
   ],
   "source": [
    "functools.reduce(lambda x, y: x*y, [1, 2, 3, 4 ,5])"
   ]
  },
  {
   "cell_type": "code",
   "execution_count": 201,
   "id": "f15b0c3c",
   "metadata": {},
   "outputs": [
    {
     "data": {
      "text/plain": [
       "0.041666666666666664"
      ]
     },
     "execution_count": 201,
     "metadata": {},
     "output_type": "execute_result"
    }
   ],
   "source": [
    "functools.reduce(lambda x, y: x / y, range(1, 5))"
   ]
  },
  {
   "cell_type": "code",
   "execution_count": 206,
   "id": "009b0f72",
   "metadata": {},
   "outputs": [
    {
     "data": {
      "text/plain": [
       "0.041666666666666664"
      ]
     },
     "execution_count": 206,
     "metadata": {},
     "output_type": "execute_result"
    }
   ],
   "source": [
    "1/2/3/4"
   ]
  },
  {
   "cell_type": "code",
   "execution_count": null,
   "id": "978b42d7",
   "metadata": {},
   "outputs": [],
   "source": []
  },
  {
   "cell_type": "code",
   "execution_count": null,
   "id": "fac175d2",
   "metadata": {},
   "outputs": [],
   "source": [
    "# Функция partial"
   ]
  },
  {
   "cell_type": "code",
   "execution_count": null,
   "id": "85c40f42",
   "metadata": {},
   "outputs": [],
   "source": [
    "# Функция позволяет заранее задать некоторые аргументы в функцию, чтобы потом не писать одно и то же"
   ]
  },
  {
   "cell_type": "code",
   "execution_count": 215,
   "id": "0e023997",
   "metadata": {},
   "outputs": [
    {
     "data": {
      "text/plain": [
       "25"
      ]
     },
     "execution_count": 215,
     "metadata": {},
     "output_type": "execute_result"
    }
   ],
   "source": [
    "# Преобразуем строку с двоичной записью в число десятиричной записи\n",
    "int('11001', base = 2)"
   ]
  },
  {
   "cell_type": "code",
   "execution_count": 217,
   "id": "3d90ce27",
   "metadata": {},
   "outputs": [],
   "source": [
    "# Можно создать функцию с помощью partial, где будут уже указаны аргументы\n",
    "new_int = functools.partial(int, base = 2)"
   ]
  },
  {
   "cell_type": "code",
   "execution_count": 218,
   "id": "4979731f",
   "metadata": {},
   "outputs": [
    {
     "data": {
      "text/plain": [
       "197"
      ]
     },
     "execution_count": 218,
     "metadata": {},
     "output_type": "execute_result"
    }
   ],
   "source": [
    "new_int('11000101')"
   ]
  },
  {
   "cell_type": "code",
   "execution_count": null,
   "id": "b61da4e7",
   "metadata": {},
   "outputs": [],
   "source": []
  },
  {
   "cell_type": "code",
   "execution_count": null,
   "id": "92282257",
   "metadata": {},
   "outputs": [],
   "source": [
    "\"\"\"\n",
    "            ДОКУМЕНТАЦИЯ К КЛАССАМ, ФУНКЦИЯМ, МОДУЛЯМ\n",
    "            \n",
    "\"\"\""
   ]
  },
  {
   "cell_type": "code",
   "execution_count": 227,
   "id": "2c152c0f",
   "metadata": {},
   "outputs": [],
   "source": [
    "# Можно написать документацию к своему собственному классу\n",
    "\n",
    "class MyClass:\n",
    "    '''\n",
    "    Это мой класс.\n",
    "    \n",
    "    \n",
    "    Здесь вы можете посмотреть документацию к моему классу.\n",
    "    '''\n",
    "    \n",
    "    def __init__(self, k):\n",
    "        self.k = k\n",
    "        \n",
    "    def add(self, y):\n",
    "        self.k += y\n",
    "        "
   ]
  },
  {
   "cell_type": "code",
   "execution_count": 228,
   "id": "4878a4b0",
   "metadata": {},
   "outputs": [],
   "source": [
    "x = MyClass(50)"
   ]
  },
  {
   "cell_type": "code",
   "execution_count": 229,
   "id": "a47000a3",
   "metadata": {},
   "outputs": [],
   "source": [
    "x.add(100)"
   ]
  },
  {
   "cell_type": "code",
   "execution_count": 230,
   "id": "c00a70ca",
   "metadata": {},
   "outputs": [
    {
     "data": {
      "text/plain": [
       "150"
      ]
     },
     "execution_count": 230,
     "metadata": {},
     "output_type": "execute_result"
    }
   ],
   "source": [
    "x.k"
   ]
  },
  {
   "cell_type": "code",
   "execution_count": 232,
   "id": "faf61e69",
   "metadata": {},
   "outputs": [
    {
     "name": "stdout",
     "output_type": "stream",
     "text": [
      "\n",
      "    Это мой класс.\n",
      "    \n",
      "    \n",
      "    Здесь вы можете посмотреть документацию к моему классу.\n",
      "    \n"
     ]
    }
   ],
   "source": [
    "print(MyClass.__doc__)"
   ]
  },
  {
   "cell_type": "code",
   "execution_count": null,
   "id": "b047b7fb",
   "metadata": {},
   "outputs": [],
   "source": []
  },
  {
   "cell_type": "code",
   "execution_count": 233,
   "id": "3371a9ce",
   "metadata": {},
   "outputs": [],
   "source": [
    "import functools"
   ]
  },
  {
   "cell_type": "code",
   "execution_count": 234,
   "id": "aa8b5072",
   "metadata": {},
   "outputs": [
    {
     "name": "stdout",
     "output_type": "stream",
     "text": [
      "reduce(function, sequence[, initial]) -> value\n",
      "\n",
      "Apply a function of two arguments cumulatively to the items of a sequence,\n",
      "from left to right, so as to reduce the sequence to a single value.\n",
      "For example, reduce(lambda x, y: x+y, [1, 2, 3, 4, 5]) calculates\n",
      "((((1+2)+3)+4)+5).  If initial is present, it is placed before the items\n",
      "of the sequence in the calculation, and serves as a default when the\n",
      "sequence is empty.\n"
     ]
    }
   ],
   "source": [
    "print(functools.reduce.__doc__)"
   ]
  },
  {
   "cell_type": "code",
   "execution_count": null,
   "id": "d74fe58e",
   "metadata": {},
   "outputs": [],
   "source": []
  },
  {
   "cell_type": "code",
   "execution_count": 257,
   "id": "318b0dc2",
   "metadata": {},
   "outputs": [],
   "source": [
    "# Задача 14\n",
    "\n",
    "# Реализуйте функцию mod_checker(x, mod=0), которая будет генерировать лямбда функцию от одного аргумента y, \n",
    "# которая будет возвращать True, если остаток от деления y на x равен mod, и False иначе.\n",
    "\n",
    "def mod_checker(x, mod=0):\n",
    "    return lambda y: y % x == mod"
   ]
  },
  {
   "cell_type": "code",
   "execution_count": 260,
   "id": "d7d56da9",
   "metadata": {},
   "outputs": [],
   "source": [
    "mod_3 = mod_checker(3)"
   ]
  },
  {
   "cell_type": "code",
   "execution_count": 261,
   "id": "a6467f81",
   "metadata": {},
   "outputs": [
    {
     "name": "stdout",
     "output_type": "stream",
     "text": [
      "True\n"
     ]
    }
   ],
   "source": [
    "print(mod_3(3))"
   ]
  },
  {
   "cell_type": "code",
   "execution_count": 262,
   "id": "a1021bec",
   "metadata": {},
   "outputs": [
    {
     "name": "stdout",
     "output_type": "stream",
     "text": [
      "False\n"
     ]
    }
   ],
   "source": [
    "print(mod_3(4))"
   ]
  },
  {
   "cell_type": "code",
   "execution_count": 263,
   "id": "7578f94c",
   "metadata": {},
   "outputs": [],
   "source": [
    "mod_3_1 = mod_checker(3, 1)"
   ]
  },
  {
   "cell_type": "code",
   "execution_count": 264,
   "id": "da427f79",
   "metadata": {},
   "outputs": [
    {
     "name": "stdout",
     "output_type": "stream",
     "text": [
      "True\n"
     ]
    }
   ],
   "source": [
    "print(mod_3_1(4))"
   ]
  },
  {
   "cell_type": "code",
   "execution_count": null,
   "id": "f38a6c13",
   "metadata": {},
   "outputs": [],
   "source": []
  },
  {
   "cell_type": "code",
   "execution_count": 286,
   "id": "32a4cf09",
   "metadata": {},
   "outputs": [
    {
     "name": "stdout",
     "output_type": "stream",
     "text": [
      "ababac\n",
      "c\n",
      "c\n",
      "Impossible\n"
     ]
    }
   ],
   "source": [
    "# Задача 15\n",
    "\n",
    "# Необходимо узнать, после какого минимального количества операций \n",
    "# в строке s не останется вхождений строки a. Если операций потребуется более 1000, выведите Impossible.\n",
    "\n",
    "s = input()\n",
    "a = input()\n",
    "b = input()\n",
    "\n",
    "k = 0\n",
    "\n",
    "while True:\n",
    "    if a in s:     \n",
    "        s = s.replace(a, b)\n",
    "        k += 1\n",
    "        if k > 1000:\n",
    "            print('Impossible')\n",
    "            break\n",
    "            \n",
    "    elif a not in s:\n",
    "        if k != 0:\n",
    "            print(k)\n",
    "            \n",
    "        else:\n",
    "            print(0)\n",
    "        break\n",
    "\n",
    "\n"
   ]
  },
  {
   "cell_type": "code",
   "execution_count": null,
   "id": "cf8841af",
   "metadata": {},
   "outputs": [],
   "source": []
  },
  {
   "cell_type": "code",
   "execution_count": 315,
   "id": "46c5ec20",
   "metadata": {},
   "outputs": [
    {
     "name": "stdout",
     "output_type": "stream",
     "text": [
      "aaaaa\n",
      "a\n",
      "5\n"
     ]
    }
   ],
   "source": [
    "# Задача 16\n",
    "\n",
    "# Выведите одно число – количество вхождений строки t в строку s.\n",
    "s = input()\n",
    "t = input()\n",
    "k = 0\n",
    "x = 0\n",
    "\n",
    "for i in range(len(s)):\n",
    "    if s[x : x+len(t)] == t:\n",
    "        k += 1\n",
    "    x += 1\n",
    "    \n",
    "if k != 0:\n",
    "    print(k)\n",
    "else:\n",
    "    print(0)\n"
   ]
  },
  {
   "cell_type": "code",
   "execution_count": null,
   "id": "0225b6f8",
   "metadata": {},
   "outputs": [],
   "source": []
  },
  {
   "cell_type": "code",
   "execution_count": null,
   "id": "3ffde1c0",
   "metadata": {},
   "outputs": [],
   "source": [
    "# Форматирование строки. Метод format"
   ]
  },
  {
   "cell_type": "code",
   "execution_count": null,
   "id": "f90b6e43",
   "metadata": {},
   "outputs": [],
   "source": [
    "# Если не ставить в фигурных скобочках ничего, то аргументы .format() будут восприниматься как позиционные"
   ]
  },
  {
   "cell_type": "code",
   "execution_count": 316,
   "id": "649b4b07",
   "metadata": {},
   "outputs": [],
   "source": [
    "pattern = \"Привет {}, я бы хотела попросить у тебя {}. Твоя {}\""
   ]
  },
  {
   "cell_type": "code",
   "execution_count": 317,
   "id": "9a5b6336",
   "metadata": {},
   "outputs": [
    {
     "data": {
      "text/plain": [
       "'Привет Николай, я бы хотела попросить у тебя любви. Твоя кошечка'"
      ]
     },
     "execution_count": 317,
     "metadata": {},
     "output_type": "execute_result"
    }
   ],
   "source": [
    "pattern.format(\"Николай\", \"любви\", \"кошечка\")"
   ]
  },
  {
   "cell_type": "code",
   "execution_count": null,
   "id": "63641c0c",
   "metadata": {},
   "outputs": [],
   "source": []
  },
  {
   "cell_type": "code",
   "execution_count": null,
   "id": "4f22b751",
   "metadata": {},
   "outputs": [],
   "source": [
    "# Если ставить цифры в фигурных скобках, то они будут обозначать индексы аргументов, передаваемых в .format()"
   ]
  },
  {
   "cell_type": "code",
   "execution_count": 322,
   "id": "afbd3b87",
   "metadata": {},
   "outputs": [],
   "source": [
    "p = '{1}, встань, когда с тобой говорят. {0} - важный предмет'"
   ]
  },
  {
   "cell_type": "code",
   "execution_count": 323,
   "id": "abf599e8",
   "metadata": {},
   "outputs": [
    {
     "data": {
      "text/plain": [
       "'Иван, встань, когда с тобой говорят. Математика - важный предмет'"
      ]
     },
     "execution_count": 323,
     "metadata": {},
     "output_type": "execute_result"
    }
   ],
   "source": [
    "p.format(\"Математика\", 'Иван')"
   ]
  },
  {
   "cell_type": "code",
   "execution_count": null,
   "id": "9b23231c",
   "metadata": {},
   "outputs": [],
   "source": []
  },
  {
   "cell_type": "code",
   "execution_count": null,
   "id": "67d1defd",
   "metadata": {},
   "outputs": [],
   "source": [
    "# Если писать названия переменных прямо в фигурных скобках, то это будут именованные аргументы метода"
   ]
  },
  {
   "cell_type": "code",
   "execution_count": 325,
   "id": "17ea6eb4",
   "metadata": {},
   "outputs": [],
   "source": [
    "pat = '{boy}, я бы никогда не посмела тебя {verb}. Прости. Твоя {girl}'"
   ]
  },
  {
   "cell_type": "code",
   "execution_count": 326,
   "id": "a5e91b58",
   "metadata": {},
   "outputs": [
    {
     "data": {
      "text/plain": [
       "'Буратино, я бы никогда не посмела тебя унизить. Прости. Твоя Мальвина'"
      ]
     },
     "execution_count": 326,
     "metadata": {},
     "output_type": "execute_result"
    }
   ],
   "source": [
    "pat.format(girl = 'Мальвина', boy = 'Буратино', verb = 'унизить')"
   ]
  },
  {
   "cell_type": "code",
   "execution_count": null,
   "id": "5ece7be0",
   "metadata": {},
   "outputs": [],
   "source": []
  },
  {
   "cell_type": "code",
   "execution_count": null,
   "id": "85d51582",
   "metadata": {},
   "outputs": [],
   "source": [
    "\"\"\"\n",
    "Регулярные выражения. Библиотека re (regular expression)\n",
    "\n",
    "Оператор           Описание\n",
    ".     Один любой символ, кроме новой строки \\n.\n",
    "?     0 или 1 вхождение шаблона слева\n",
    "+     1 и более вхождений шаблона слева\n",
    "*     0 и более вхождений шаблона слева\n",
    "\\w    Любая цифра или буква \n",
    "\\W    Все, кроме буквы или цифры\n",
    "\\d    Любая цифра [0-9] \n",
    "\\D    Все, кроме цифры\n",
    "\\s    Любой пробельный символ \n",
    "\\S    Любой непробельный символ\n",
    "\\b    Граница слова\n",
    "[..]  Один из символов в скобках \n",
    "[^..] — любой символ, кроме тех, что в скобках\n",
    "\\     Экранирование специальных символов \n",
    "\\. означает точку или \\+ — знак «плюс»\n",
    "^ и $ Начало и конец строки соответственно\n",
    "{n,m} От n до m вхождений ({,m} — от 0 до m)\n",
    "a|b   Соответствует a или b\n",
    "()    Группирует выражение и возвращает найденный текст\n",
    "\\t, \\n, \\r  Символ табуляции, новой строки и возврата каретки соответственно\n",
    "\\b    Любой символ кроме буквы или цифры в начале или конце слова \n",
    "\n",
    "Если используем метасимволы, то нужно ставить r перед строкой, чтобы отключить экранирование\n",
    "\"\"\"\n"
   ]
  },
  {
   "cell_type": "code",
   "execution_count": null,
   "id": "ff049d16",
   "metadata": {},
   "outputs": [],
   "source": [
    "\"\"\"\n",
    "flags\n",
    "\n",
    "Это аргументы к функциям re.search, re.sub\n",
    "\n",
    "re.IGNORECASE - не обращать внимание на регистр шаблона\n",
    "\n",
    "\"\"\""
   ]
  },
  {
   "cell_type": "code",
   "execution_count": 327,
   "id": "d5f43e8c",
   "metadata": {},
   "outputs": [],
   "source": [
    "import re"
   ]
  },
  {
   "cell_type": "code",
   "execution_count": 336,
   "id": "276a900b",
   "metadata": {},
   "outputs": [
    {
     "name": "stdout",
     "output_type": "stream",
     "text": [
      "<re.Match object; span=(0, 3), match='abc'>\n",
      "abc\n"
     ]
    }
   ],
   "source": [
    "p = 'abc'\n",
    "a = 'abcde'\n",
    "\n",
    "# Метод match ищет по заданному шаблону p в начале строки a\n",
    "# Если подходит, то возвращается span=(0, 3), т.е. от нулевого до второго включительно найдено вхождение\n",
    "result = re.match(p, a)\n",
    "\n",
    "print(result)\n",
    "\n",
    "# Метод .group() покажет само найденное вхождение\n",
    "print(result.group(0))"
   ]
  },
  {
   "cell_type": "code",
   "execution_count": 335,
   "id": "dd216821",
   "metadata": {},
   "outputs": [
    {
     "name": "stdout",
     "output_type": "stream",
     "text": [
      "<re.Match object; span=(4, 7), match='abc'>\n"
     ]
    }
   ],
   "source": [
    "p = 'abc'\n",
    "a = 'aaaaabcde'\n",
    "\n",
    "# Есть ли в строке a подстрока p?\n",
    "# Если да, то возвращается span=(0, 3), т.е. от нулевого до второго включительно найдено вхождение\n",
    "# Но будет найдено только первое (!) вхождение. Дальше поиск не идет\n",
    "print(re.search(p, a))"
   ]
  },
  {
   "cell_type": "code",
   "execution_count": 338,
   "id": "9633d151",
   "metadata": {},
   "outputs": [
    {
     "name": "stdout",
     "output_type": "stream",
     "text": [
      "['abc', 'abc']\n"
     ]
    }
   ],
   "source": [
    "p = 'abc'\n",
    "a = 'aaaaabcdeabc'\n",
    "\n",
    "# Есть ли в строке a подстроки p?\n",
    "# Возвращает словарь из найденных вхождений\n",
    "\n",
    "res = re.findall(p, a)\n",
    "print(res)"
   ]
  },
  {
   "cell_type": "code",
   "execution_count": 384,
   "id": "921fdd36",
   "metadata": {},
   "outputs": [
    {
     "data": {
      "text/plain": [
       "'aaaaМАМАdeМАМА'"
      ]
     },
     "execution_count": 384,
     "metadata": {},
     "output_type": "execute_result"
    }
   ],
   "source": [
    "string = 'aaaaabcdeabc'\n",
    "as_is = 'abc'\n",
    "to_be = 'МАМА'\n",
    "\n",
    "\n",
    "\n",
    "# Ищет шаблон p в строке a и заменяет его на подстроку b\n",
    "print(re.sub(as_is, to_be, string))\n",
    "\n"
   ]
  },
  {
   "cell_type": "code",
   "execution_count": null,
   "id": "762a6fd9",
   "metadata": {},
   "outputs": [],
   "source": []
  },
  {
   "cell_type": "code",
   "execution_count": 346,
   "id": "ecbf3e60",
   "metadata": {},
   "outputs": [],
   "source": [
    "# Задача 17\n",
    "\n",
    "# Вам дана последовательность строк.\n",
    "# Выведите строки, содержащие \"cat\" в качестве подстроки хотя бы два раза.\n",
    "\n",
    "import sys\n",
    "import re\n",
    "\n",
    "for line in sys.stdin:\n",
    "    line = line.rstrip()\n",
    "    \n",
    "    if len(re.findall('cat', line)) >= 2:\n",
    "        print(line)\n",
    "    \n",
    "    \n",
    "\n",
    "\n"
   ]
  },
  {
   "cell_type": "code",
   "execution_count": 373,
   "id": "2f8d1681",
   "metadata": {},
   "outputs": [],
   "source": [
    "# Задача 17\n",
    "\n",
    "# Вам дана последовательность строк.\n",
    "# Выведите строки, содержащие \"cat\" в качестве слова.\n",
    "\n",
    "for line in sys.stdin:\n",
    "    line = line.rstrip()\n",
    "    \n",
    "    if re.search(r'\\bcat\\b', line) is not None:\n",
    "        print(line)\n",
    "    "
   ]
  },
  {
   "cell_type": "code",
   "execution_count": null,
   "id": "c7fe9021",
   "metadata": {},
   "outputs": [],
   "source": []
  },
  {
   "cell_type": "code",
   "execution_count": 382,
   "id": "d1689fba",
   "metadata": {},
   "outputs": [],
   "source": [
    "# Задача 18\n",
    "\n",
    "# Вам дана последовательность строк.\n",
    "# Выведите строки, содержащие две буквы \"z\", между которыми ровно три символа.\n",
    "import re\n",
    "import sys\n",
    "\n",
    "for line in sys.stdin:\n",
    "    line = line.rstrip()\n",
    "    \n",
    "    if re.search(r'z.{3}z', line) is not None:\n",
    "        print(line)\n",
    "\n"
   ]
  },
  {
   "cell_type": "code",
   "execution_count": 383,
   "id": "69f62f66",
   "metadata": {},
   "outputs": [],
   "source": [
    "# Задача 19\n",
    "\n",
    "# Вам дана последовательность строк.\n",
    "# Выведите строки, содержащие обратный слеш \"\\\".\n",
    "\n",
    "import re\n",
    "import sys\n",
    "\n",
    "for line in sys.stdin:\n",
    "    line = line.rstrip()\n",
    "    \n",
    "    if re.search(r'\\\\', line) is not None:\n",
    "        print(line)"
   ]
  },
  {
   "cell_type": "code",
   "execution_count": null,
   "id": "eb5807ad",
   "metadata": {},
   "outputs": [],
   "source": [
    "# Задача 20\n",
    "\n",
    "# Вам дана последовательность строк.\n",
    "# Выведите строки, содержащие слово, состоящее из двух одинаковых частей (тандемный повтор).\n",
    "\n",
    "import re\n",
    "import sys\n",
    "\n",
    "for line in sys.stdin:\n",
    "    line = line.rstrip()\n",
    "    \n",
    "    if re.search(r'\\b(\\w+)\\1\\b', line) is not None:\n",
    "        print(line)\n",
    "\n",
    "# \\w+ - говорит о буквенном\\цифровом символе, который повторяется 1 или более раз\n",
    "# (\\w+)\\1 - говорит о том, что первая группа должна повториться, \n",
    "#           первая группа - это группа, где открылась первая открывающаяся скобочка \n",
    "# \\1 - как бы ссылка на группу, которая начинается после открывающейся скобочки\n",
    "\n",
    "        "
   ]
  },
  {
   "cell_type": "code",
   "execution_count": null,
   "id": "b251aa07",
   "metadata": {},
   "outputs": [],
   "source": [
    "# Задача 21\n",
    "\n",
    "# Вам дана последовательность строк.\n",
    "# В каждой строке замените все вхождения подстроки \"human\" на подстроку \"computer\" и выведите полученные строки.\n",
    "\n",
    "import re\n",
    "import sys\n",
    "\n",
    "for line in sys.stdin:\n",
    "    line = line.rstrip()\n",
    "    \n",
    "    print(re.sub('human', 'computer', line))\n",
    "\n",
    "\n"
   ]
  },
  {
   "cell_type": "code",
   "execution_count": 386,
   "id": "763440cb",
   "metadata": {},
   "outputs": [],
   "source": [
    "# Задача 22\n",
    "\n",
    "# Вам дана последовательность строк.\n",
    "# В каждой строке замените первое вхождение слова, состоящего только из латинских букв \"a\" (регистр не важен), на слово \"argh\".\n",
    "\n",
    "import re\n",
    "import sys\n",
    "\n",
    "for line in sys.stdin:\n",
    "    line = line.rstrip()\n",
    "    \n",
    "    print(re.sub(r'\\b[aA]*\\b', 'argh', line, count=1, flags=re.IGNORECASE))\n",
    "\n",
    "# Аргумент count у re.sub - максимальное число вхождений\n"
   ]
  },
  {
   "cell_type": "code",
   "execution_count": 388,
   "id": "35c261d8",
   "metadata": {},
   "outputs": [],
   "source": [
    "# Задача 23\n",
    "\n",
    "# Вам дана последовательность строк.\n",
    "# В каждой строке поменяйте местами две первых буквы в каждом слове, состоящем хотя бы из двух букв.\n",
    "# Буквой считается символ из группы \\w.\n",
    "\n",
    "import re\n",
    "import sys\n",
    "\n",
    "for line in sys.stdin:\n",
    "    line = line.rstrip()\n",
    "    \n",
    "    print(re.sub(r'\\b(\\w)(\\w)', r'\\2\\1', line))\n",
    "\n",
    "# \\b - начало слова\n",
    "# (\\w) - первый символ\n",
    "# (\\w) - второй символ\n",
    "# r'\\2\\1' - замена: сначала идет вторая группа, потом первая \n",
    "# первая и вторая группы - первый и второй символ соответственно\n"
   ]
  },
  {
   "cell_type": "code",
   "execution_count": 393,
   "id": "3145abf1",
   "metadata": {},
   "outputs": [],
   "source": [
    "# Задача 23\n",
    "\n",
    "# Вам дана последовательность строк.\n",
    "# В каждой строке замените все вхождения нескольких одинаковых букв на одну букву.\n",
    "# Буквой считается символ из группы \\w.\n",
    "\n",
    "import re\n",
    "import sys\n",
    "\n",
    "for line in sys.stdin:\n",
    "    line = line.rstrip()\n",
    "    \n",
    "    print(re.sub(r'(\\w)\\1{1,}', '\\1', line))\n"
   ]
  },
  {
   "cell_type": "code",
   "execution_count": 404,
   "id": "af4c701c",
   "metadata": {},
   "outputs": [],
   "source": [
    "# Задача 23\n",
    "\n",
    "# Вам дана последовательность строк.\n",
    "# Выведите строки, содержащие двоичную запись числа, кратного 3.\n",
    "\n",
    "import re\n",
    "import sys\n",
    "\n",
    "for line in sys.stdin:\n",
    "    line = line.rstrip()\n",
    "    \n",
    "    if ' ' in line:\n",
    "        pass\n",
    "    \n",
    "    elif int(line, base=2) % 3 == 0:\n",
    "        print(line)\n"
   ]
  },
  {
   "cell_type": "code",
   "execution_count": 403,
   "id": "1ffdf970",
   "metadata": {},
   "outputs": [
    {
     "data": {
      "text/plain": [
       "True"
      ]
     },
     "execution_count": 403,
     "metadata": {},
     "output_type": "execute_result"
    }
   ],
   "source": [
    "' ' in 'No n umber'"
   ]
  },
  {
   "cell_type": "code",
   "execution_count": null,
   "id": "f64f184e",
   "metadata": {},
   "outputs": [],
   "source": []
  },
  {
   "cell_type": "code",
   "execution_count": null,
   "id": "c3a6afb9",
   "metadata": {},
   "outputs": [],
   "source": [
    "# ИНТЕРНЕТ: http-запросы, html-страницы, requests\n",
    "\n",
    "# Гипертекст - текст, содержащий гиперссылки\n",
    "\n",
    "\"\"\"\n",
    "\n",
    "        http-запросы\n",
    "\n",
    "\n",
    "Клиент - все пользователи\n",
    "Сервер - то, у чего запрашиваем ресурс\n",
    "Ресурс - веб-страницы, файлы\n",
    "\n",
    "url  - uniform resourse locator (как и где можем достать данный ресурс)\n",
    "\n",
    "        Составляющие ссылки url:\n",
    "https://stepic.org/512\n",
    "https - протокол (протокол обмена текстом отличается от протокола обмена файлами ftp)\n",
    "stepic.org - домен или хост (распознание компьютера сервера - wiki или stepic) \n",
    "512 - путь до ресурса внутри данного домена (выбор информации на сервере)\n",
    "\n",
    "        Структура запроса (request)\n",
    "GET/wiki/PYTHON HTTP/1.1\n",
    "GET - метод - получить данный ресурс (не изменяя, просто читать)\n",
    "wiki - домен\n",
    "Python - ресурс внутри сервера\n",
    "HTTP/1.1 - версия протокола\n",
    "Host: ru.wikipedia.org - домен\n",
    "\n",
    "POST - метод изменить ресурс, например, изменить пароль, совершить транзакцию\n",
    "\n",
    "        Структура ответа (responce)\n",
    "    \n",
    "    HEADER\n",
    "HTTP 1.1 200 OK\n",
    "*200 OK - статус-код, т.е. все прошло хорошо, ресурс найден\n",
    "*404 - ресурс не найден на сервере\n",
    "*500 - серверная ошибка\n",
    "\n",
    "DATE: Wed, 07 Jul 2021\n",
    "Content Type: text/html: charset=UTF-8\n",
    "*дата и формат ресурса\n",
    "...\n",
    "*пустая строка\n",
    "    BODY\n",
    "*сам ресурс - текст, картинка, видео\n",
    "\n",
    "\"\"\"\n",
    "\n"
   ]
  },
  {
   "cell_type": "code",
   "execution_count": null,
   "id": "16d67cd4",
   "metadata": {},
   "outputs": [],
   "source": [
    "\"\"\"\n",
    "            html - разметка\n",
    "            \n",
    "html - язык разметки гипертекста (hypertext markup language)\n",
    "Используется для редактирования веб-страниц\n",
    "Размечается с помощью тегов\n",
    "\n",
    "<h1> Мой загловок <h1>\n",
    "* тег <h1> нужен для обозначения заголовков\n",
    "\n",
    "<a href='https://stepic.org/512' </a>\n",
    "* обозначение ссылки\n",
    "\"\"\""
   ]
  },
  {
   "cell_type": "code",
   "execution_count": null,
   "id": "a00d9fcb",
   "metadata": {},
   "outputs": [],
   "source": []
  },
  {
   "cell_type": "code",
   "execution_count": null,
   "id": "9a44b149",
   "metadata": {},
   "outputs": [],
   "source": [
    "# Библиотека requests существует для формирования запросов на сервер"
   ]
  },
  {
   "cell_type": "code",
   "execution_count": 405,
   "id": "562f30a9",
   "metadata": {},
   "outputs": [],
   "source": [
    "import requests"
   ]
  },
  {
   "cell_type": "code",
   "execution_count": 406,
   "id": "7ed7ea91",
   "metadata": {},
   "outputs": [],
   "source": [
    "# Сделать запрос\n",
    "r = requests.get('https://api.github.com/events') "
   ]
  },
  {
   "cell_type": "code",
   "execution_count": 407,
   "id": "b9de9bc4",
   "metadata": {},
   "outputs": [],
   "source": [
    "# Можно передавать параменты как словарь\n",
    "payload = {'key1': 'value1', 'key2': 'value2'}\n",
    "r = requests.get('https://httpbin.org/get', params=payload)"
   ]
  },
  {
   "cell_type": "code",
   "execution_count": 436,
   "id": "e0fe1092",
   "metadata": {},
   "outputs": [
    {
     "data": {
      "text/plain": [
       "200"
      ]
     },
     "execution_count": 436,
     "metadata": {},
     "output_type": "execute_result"
    }
   ],
   "source": [
    "r.status_code  # успешный запрос"
   ]
  },
  {
   "cell_type": "code",
   "execution_count": 411,
   "id": "22c33878",
   "metadata": {},
   "outputs": [
    {
     "data": {
      "text/plain": [
       "b'{\\n  \"args\": {\\n    \"key1\": \"value1\", \\n    \"key2\": \"value2\"\\n  }, \\n  \"headers\": {\\n    \"Accept\": \"*/*\", \\n    \"Accept-Encoding\": \"gzip, deflate\", \\n    \"Host\": \"httpbin.org\", \\n    \"User-Agent\": \"python-requests/2.25.1\", \\n    \"X-Amzn-Trace-Id\": \"Root=1-60e58297-718303167ccc13f93cc3797c\"\\n  }, \\n  \"origin\": \"46.242.15.91\", \\n  \"url\": \"https://httpbin.org/get?key1=value1&key2=value2\"\\n}\\n'"
      ]
     },
     "execution_count": 411,
     "metadata": {},
     "output_type": "execute_result"
    }
   ],
   "source": [
    "r.content #содержание запроса"
   ]
  },
  {
   "cell_type": "code",
   "execution_count": 412,
   "id": "e21d6b34",
   "metadata": {},
   "outputs": [
    {
     "data": {
      "text/plain": [
       "{'Date': 'Wed, 07 Jul 2021 10:31:51 GMT', 'Content-Type': 'application/json', 'Content-Length': '377', 'Connection': 'keep-alive', 'Server': 'gunicorn/19.9.0', 'Access-Control-Allow-Origin': '*', 'Access-Control-Allow-Credentials': 'true'}"
      ]
     },
     "execution_count": 412,
     "metadata": {},
     "output_type": "execute_result"
    }
   ],
   "source": [
    "r.headers"
   ]
  },
  {
   "cell_type": "code",
   "execution_count": 413,
   "id": "44bf6ec3",
   "metadata": {},
   "outputs": [
    {
     "data": {
      "text/plain": [
       "'{\\n  \"args\": {\\n    \"key1\": \"value1\", \\n    \"key2\": \"value2\"\\n  }, \\n  \"headers\": {\\n    \"Accept\": \"*/*\", \\n    \"Accept-Encoding\": \"gzip, deflate\", \\n    \"Host\": \"httpbin.org\", \\n    \"User-Agent\": \"python-requests/2.25.1\", \\n    \"X-Amzn-Trace-Id\": \"Root=1-60e58297-718303167ccc13f93cc3797c\"\\n  }, \\n  \"origin\": \"46.242.15.91\", \\n  \"url\": \"https://httpbin.org/get?key1=value1&key2=value2\"\\n}\\n'"
      ]
     },
     "execution_count": 413,
     "metadata": {},
     "output_type": "execute_result"
    }
   ],
   "source": [
    "r.text"
   ]
  },
  {
   "cell_type": "code",
   "execution_count": null,
   "id": "008fb5af",
   "metadata": {},
   "outputs": [],
   "source": []
  },
  {
   "cell_type": "code",
   "execution_count": 440,
   "id": "8b601a64",
   "metadata": {},
   "outputs": [
    {
     "name": "stdout",
     "output_type": "stream",
     "text": [
      "https://stepic.org/media/attachments/lesson/24472/sample1.html\n",
      "https://stepic.org/media/attachments/lesson/24472/sample2.html\n",
      "Yes\n"
     ]
    }
   ],
   "source": [
    "# Задача 23\n",
    "\n",
    "# Вашей программе на вход подаются две строки, содержащие url двух документов A и B.\n",
    "# Выведите Yes, если из A в B можно перейти за два перехода, иначе выведите No.\n",
    "\n",
    "import requests\n",
    "import re\n",
    "\n",
    "A = input()\n",
    "B = input()\n",
    "k = 0\n",
    "\n",
    "A = requests.get(A)\n",
    "\n",
    "hrefs = re.findall(r'http\\S*.html', A.text)\n",
    "\n",
    "for i in hrefs:\n",
    "    href = requests.get(i)\n",
    "    \n",
    "    if href.status_code == 200:\n",
    "        if B in href.text:\n",
    "            k += 1\n",
    "\n",
    "if k != 0:\n",
    "    print('Yes')\n",
    "else:\n",
    "    print('No')\n",
    "            \n",
    "\n",
    "\n"
   ]
  },
  {
   "cell_type": "code",
   "execution_count": 458,
   "id": "a1c2fa32",
   "metadata": {},
   "outputs": [
    {
     "name": "stdout",
     "output_type": "stream",
     "text": [
      "http://pastebin.com/raw/7543p0ns\n"
     ]
    },
    {
     "name": "stderr",
     "output_type": "stream",
     "text": [
      "IOPub data rate exceeded.\n",
      "The notebook server will temporarily stop sending output\n",
      "to the client in order to avoid crashing it.\n",
      "To change this limit, set the config variable\n",
      "`--NotebookApp.iopub_data_rate_limit`.\n",
      "\n",
      "Current values:\n",
      "NotebookApp.iopub_data_rate_limit=1000000.0 (bytes/sec)\n",
      "NotebookApp.rate_limit_window=3.0 (secs)\n",
      "\n"
     ]
    }
   ],
   "source": [
    "# Задача 24\n",
    "\n",
    "# Вашей программе на вход подается ссылка на HTML файл.\n",
    "# Вам необходимо скачать этот файл, затем найти в нем все ссылки вида <a ... href=\"...\" ... > \n",
    "# и вывести список сайтов, на которые есть ссылка.\n",
    "\n",
    "# Сайтом в данной задаче будем называть имя домена вместе с именами поддоменов.\n",
    "\n",
    "import re\n",
    "import requests\n",
    "\n",
    "A = input().strip()\n",
    "res = []\n",
    "\n",
    "r = requests.get(A)\n",
    "\n",
    "for line in r.text:\n",
    "    href = re.findall(r'(href)(?:.)*(:\\/\\/)(\\w)*(\\.|\\-|\\w)*(\\/)', line)\n",
    "    \n",
    "\n",
    "    print(res)\n",
    "\n",
    "\n",
    "\n"
   ]
  },
  {
   "cell_type": "code",
   "execution_count": null,
   "id": "ee03ada3",
   "metadata": {},
   "outputs": [],
   "source": []
  },
  {
   "cell_type": "code",
   "execution_count": 496,
   "id": "09c4fc0a",
   "metadata": {},
   "outputs": [
    {
     "data": {
      "text/html": [
       "<div>\n",
       "<style scoped>\n",
       "    .dataframe tbody tr th:only-of-type {\n",
       "        vertical-align: middle;\n",
       "    }\n",
       "\n",
       "    .dataframe tbody tr th {\n",
       "        vertical-align: top;\n",
       "    }\n",
       "\n",
       "    .dataframe thead th {\n",
       "        text-align: right;\n",
       "    }\n",
       "</style>\n",
       "<table border=\"1\" class=\"dataframe\">\n",
       "  <thead>\n",
       "    <tr style=\"text-align: right;\">\n",
       "      <th></th>\n",
       "      <th>ID</th>\n",
       "      <th>Case Number</th>\n",
       "      <th>Date</th>\n",
       "      <th>Block</th>\n",
       "      <th>IUCR</th>\n",
       "      <th>Description</th>\n",
       "      <th>Location Description</th>\n",
       "      <th>Arrest</th>\n",
       "      <th>Domestic</th>\n",
       "      <th>Beat</th>\n",
       "      <th>District</th>\n",
       "      <th>Ward</th>\n",
       "      <th>Community Area</th>\n",
       "      <th>FBI Code</th>\n",
       "    </tr>\n",
       "    <tr>\n",
       "      <th>Primary Type</th>\n",
       "      <th></th>\n",
       "      <th></th>\n",
       "      <th></th>\n",
       "      <th></th>\n",
       "      <th></th>\n",
       "      <th></th>\n",
       "      <th></th>\n",
       "      <th></th>\n",
       "      <th></th>\n",
       "      <th></th>\n",
       "      <th></th>\n",
       "      <th></th>\n",
       "      <th></th>\n",
       "      <th></th>\n",
       "    </tr>\n",
       "  </thead>\n",
       "  <tbody>\n",
       "    <tr>\n",
       "      <th>THEFT</th>\n",
       "      <td>12446</td>\n",
       "      <td>12446</td>\n",
       "      <td>12446</td>\n",
       "      <td>12446</td>\n",
       "      <td>12446</td>\n",
       "      <td>12446</td>\n",
       "      <td>12442</td>\n",
       "      <td>12446</td>\n",
       "      <td>12446</td>\n",
       "      <td>12446</td>\n",
       "      <td>12446</td>\n",
       "      <td>11287</td>\n",
       "      <td>11282</td>\n",
       "      <td>12446</td>\n",
       "    </tr>\n",
       "    <tr>\n",
       "      <th>BATTERY</th>\n",
       "      <td>10892</td>\n",
       "      <td>10892</td>\n",
       "      <td>10892</td>\n",
       "      <td>10892</td>\n",
       "      <td>10892</td>\n",
       "      <td>10892</td>\n",
       "      <td>10892</td>\n",
       "      <td>10892</td>\n",
       "      <td>10892</td>\n",
       "      <td>10892</td>\n",
       "      <td>10892</td>\n",
       "      <td>9701</td>\n",
       "      <td>9700</td>\n",
       "      <td>10892</td>\n",
       "    </tr>\n",
       "    <tr>\n",
       "      <th>CRIMINAL DAMAGE</th>\n",
       "      <td>6989</td>\n",
       "      <td>6989</td>\n",
       "      <td>6989</td>\n",
       "      <td>6989</td>\n",
       "      <td>6989</td>\n",
       "      <td>6989</td>\n",
       "      <td>6989</td>\n",
       "      <td>6989</td>\n",
       "      <td>6989</td>\n",
       "      <td>6989</td>\n",
       "      <td>6989</td>\n",
       "      <td>6273</td>\n",
       "      <td>6269</td>\n",
       "      <td>6989</td>\n",
       "    </tr>\n",
       "    <tr>\n",
       "      <th>NARCOTICS</th>\n",
       "      <td>6727</td>\n",
       "      <td>6727</td>\n",
       "      <td>6727</td>\n",
       "      <td>6727</td>\n",
       "      <td>6727</td>\n",
       "      <td>6727</td>\n",
       "      <td>6727</td>\n",
       "      <td>6727</td>\n",
       "      <td>6727</td>\n",
       "      <td>6727</td>\n",
       "      <td>6727</td>\n",
       "      <td>6050</td>\n",
       "      <td>6049</td>\n",
       "      <td>6727</td>\n",
       "    </tr>\n",
       "    <tr>\n",
       "      <th>OTHER OFFENSE</th>\n",
       "      <td>3703</td>\n",
       "      <td>3703</td>\n",
       "      <td>3703</td>\n",
       "      <td>3703</td>\n",
       "      <td>3703</td>\n",
       "      <td>3703</td>\n",
       "      <td>3703</td>\n",
       "      <td>3703</td>\n",
       "      <td>3703</td>\n",
       "      <td>3703</td>\n",
       "      <td>3703</td>\n",
       "      <td>3329</td>\n",
       "      <td>3328</td>\n",
       "      <td>3703</td>\n",
       "    </tr>\n",
       "    <tr>\n",
       "      <th>ASSAULT</th>\n",
       "      <td>3686</td>\n",
       "      <td>3686</td>\n",
       "      <td>3686</td>\n",
       "      <td>3686</td>\n",
       "      <td>3686</td>\n",
       "      <td>3686</td>\n",
       "      <td>3686</td>\n",
       "      <td>3686</td>\n",
       "      <td>3686</td>\n",
       "      <td>3686</td>\n",
       "      <td>3685</td>\n",
       "      <td>3267</td>\n",
       "      <td>3266</td>\n",
       "      <td>3686</td>\n",
       "    </tr>\n",
       "    <tr>\n",
       "      <th>BURGLARY</th>\n",
       "      <td>3566</td>\n",
       "      <td>3566</td>\n",
       "      <td>3566</td>\n",
       "      <td>3566</td>\n",
       "      <td>3566</td>\n",
       "      <td>3566</td>\n",
       "      <td>3566</td>\n",
       "      <td>3566</td>\n",
       "      <td>3566</td>\n",
       "      <td>3566</td>\n",
       "      <td>3566</td>\n",
       "      <td>3230</td>\n",
       "      <td>3230</td>\n",
       "      <td>3566</td>\n",
       "    </tr>\n",
       "    <tr>\n",
       "      <th>MOTOR VEHICLE THEFT</th>\n",
       "      <td>2914</td>\n",
       "      <td>2914</td>\n",
       "      <td>2914</td>\n",
       "      <td>2914</td>\n",
       "      <td>2914</td>\n",
       "      <td>2914</td>\n",
       "      <td>2914</td>\n",
       "      <td>2914</td>\n",
       "      <td>2914</td>\n",
       "      <td>2914</td>\n",
       "      <td>2914</td>\n",
       "      <td>2595</td>\n",
       "      <td>2595</td>\n",
       "      <td>2914</td>\n",
       "    </tr>\n",
       "    <tr>\n",
       "      <th>ROBBERY</th>\n",
       "      <td>2266</td>\n",
       "      <td>2266</td>\n",
       "      <td>2266</td>\n",
       "      <td>2266</td>\n",
       "      <td>2266</td>\n",
       "      <td>2266</td>\n",
       "      <td>2266</td>\n",
       "      <td>2266</td>\n",
       "      <td>2266</td>\n",
       "      <td>2266</td>\n",
       "      <td>2266</td>\n",
       "      <td>2054</td>\n",
       "      <td>2053</td>\n",
       "      <td>2266</td>\n",
       "    </tr>\n",
       "    <tr>\n",
       "      <th>DECEPTIVE PRACTICE</th>\n",
       "      <td>2053</td>\n",
       "      <td>2053</td>\n",
       "      <td>2053</td>\n",
       "      <td>2053</td>\n",
       "      <td>2053</td>\n",
       "      <td>2053</td>\n",
       "      <td>2049</td>\n",
       "      <td>2053</td>\n",
       "      <td>2053</td>\n",
       "      <td>2053</td>\n",
       "      <td>2053</td>\n",
       "      <td>1913</td>\n",
       "      <td>1913</td>\n",
       "      <td>2053</td>\n",
       "    </tr>\n",
       "    <tr>\n",
       "      <th>CRIMINAL TRESPASS</th>\n",
       "      <td>1754</td>\n",
       "      <td>1754</td>\n",
       "      <td>1754</td>\n",
       "      <td>1754</td>\n",
       "      <td>1754</td>\n",
       "      <td>1754</td>\n",
       "      <td>1754</td>\n",
       "      <td>1754</td>\n",
       "      <td>1754</td>\n",
       "      <td>1754</td>\n",
       "      <td>1754</td>\n",
       "      <td>1598</td>\n",
       "      <td>1598</td>\n",
       "      <td>1754</td>\n",
       "    </tr>\n",
       "    <tr>\n",
       "      <th>PROSTITUTION</th>\n",
       "      <td>684</td>\n",
       "      <td>684</td>\n",
       "      <td>684</td>\n",
       "      <td>684</td>\n",
       "      <td>684</td>\n",
       "      <td>684</td>\n",
       "      <td>684</td>\n",
       "      <td>684</td>\n",
       "      <td>684</td>\n",
       "      <td>684</td>\n",
       "      <td>684</td>\n",
       "      <td>611</td>\n",
       "      <td>611</td>\n",
       "      <td>684</td>\n",
       "    </tr>\n",
       "    <tr>\n",
       "      <th>WEAPONS VIOLATION</th>\n",
       "      <td>585</td>\n",
       "      <td>585</td>\n",
       "      <td>585</td>\n",
       "      <td>585</td>\n",
       "      <td>585</td>\n",
       "      <td>585</td>\n",
       "      <td>585</td>\n",
       "      <td>585</td>\n",
       "      <td>585</td>\n",
       "      <td>585</td>\n",
       "      <td>585</td>\n",
       "      <td>540</td>\n",
       "      <td>540</td>\n",
       "      <td>585</td>\n",
       "    </tr>\n",
       "    <tr>\n",
       "      <th>PUBLIC PEACE VIOLATION</th>\n",
       "      <td>447</td>\n",
       "      <td>447</td>\n",
       "      <td>447</td>\n",
       "      <td>447</td>\n",
       "      <td>447</td>\n",
       "      <td>447</td>\n",
       "      <td>447</td>\n",
       "      <td>447</td>\n",
       "      <td>447</td>\n",
       "      <td>447</td>\n",
       "      <td>447</td>\n",
       "      <td>419</td>\n",
       "      <td>419</td>\n",
       "      <td>447</td>\n",
       "    </tr>\n",
       "    <tr>\n",
       "      <th>OFFENSE INVOLVING CHILDREN</th>\n",
       "      <td>388</td>\n",
       "      <td>388</td>\n",
       "      <td>388</td>\n",
       "      <td>388</td>\n",
       "      <td>388</td>\n",
       "      <td>388</td>\n",
       "      <td>388</td>\n",
       "      <td>388</td>\n",
       "      <td>388</td>\n",
       "      <td>388</td>\n",
       "      <td>388</td>\n",
       "      <td>361</td>\n",
       "      <td>361</td>\n",
       "      <td>388</td>\n",
       "    </tr>\n",
       "    <tr>\n",
       "      <th>CRIM SEXUAL ASSAULT</th>\n",
       "      <td>229</td>\n",
       "      <td>229</td>\n",
       "      <td>229</td>\n",
       "      <td>229</td>\n",
       "      <td>229</td>\n",
       "      <td>229</td>\n",
       "      <td>229</td>\n",
       "      <td>229</td>\n",
       "      <td>229</td>\n",
       "      <td>229</td>\n",
       "      <td>229</td>\n",
       "      <td>203</td>\n",
       "      <td>202</td>\n",
       "      <td>229</td>\n",
       "    </tr>\n",
       "    <tr>\n",
       "      <th>SEX OFFENSE</th>\n",
       "      <td>220</td>\n",
       "      <td>220</td>\n",
       "      <td>220</td>\n",
       "      <td>220</td>\n",
       "      <td>220</td>\n",
       "      <td>220</td>\n",
       "      <td>220</td>\n",
       "      <td>220</td>\n",
       "      <td>220</td>\n",
       "      <td>220</td>\n",
       "      <td>220</td>\n",
       "      <td>189</td>\n",
       "      <td>189</td>\n",
       "      <td>220</td>\n",
       "    </tr>\n",
       "    <tr>\n",
       "      <th>LIQUOR LAW VIOLATION</th>\n",
       "      <td>153</td>\n",
       "      <td>153</td>\n",
       "      <td>153</td>\n",
       "      <td>153</td>\n",
       "      <td>153</td>\n",
       "      <td>153</td>\n",
       "      <td>153</td>\n",
       "      <td>153</td>\n",
       "      <td>153</td>\n",
       "      <td>153</td>\n",
       "      <td>153</td>\n",
       "      <td>132</td>\n",
       "      <td>132</td>\n",
       "      <td>153</td>\n",
       "    </tr>\n",
       "    <tr>\n",
       "      <th>INTERFERENCE WITH PUBLIC OFFICER</th>\n",
       "      <td>120</td>\n",
       "      <td>120</td>\n",
       "      <td>120</td>\n",
       "      <td>120</td>\n",
       "      <td>120</td>\n",
       "      <td>120</td>\n",
       "      <td>120</td>\n",
       "      <td>120</td>\n",
       "      <td>120</td>\n",
       "      <td>120</td>\n",
       "      <td>120</td>\n",
       "      <td>114</td>\n",
       "      <td>114</td>\n",
       "      <td>120</td>\n",
       "    </tr>\n",
       "    <tr>\n",
       "      <th>GAMBLING</th>\n",
       "      <td>110</td>\n",
       "      <td>110</td>\n",
       "      <td>110</td>\n",
       "      <td>110</td>\n",
       "      <td>110</td>\n",
       "      <td>110</td>\n",
       "      <td>110</td>\n",
       "      <td>110</td>\n",
       "      <td>110</td>\n",
       "      <td>110</td>\n",
       "      <td>110</td>\n",
       "      <td>107</td>\n",
       "      <td>107</td>\n",
       "      <td>110</td>\n",
       "    </tr>\n",
       "    <tr>\n",
       "      <th>ARSON</th>\n",
       "      <td>99</td>\n",
       "      <td>99</td>\n",
       "      <td>99</td>\n",
       "      <td>99</td>\n",
       "      <td>99</td>\n",
       "      <td>99</td>\n",
       "      <td>99</td>\n",
       "      <td>99</td>\n",
       "      <td>99</td>\n",
       "      <td>99</td>\n",
       "      <td>99</td>\n",
       "      <td>86</td>\n",
       "      <td>86</td>\n",
       "      <td>99</td>\n",
       "    </tr>\n",
       "    <tr>\n",
       "      <th>HOMICIDE</th>\n",
       "      <td>68</td>\n",
       "      <td>68</td>\n",
       "      <td>68</td>\n",
       "      <td>68</td>\n",
       "      <td>68</td>\n",
       "      <td>68</td>\n",
       "      <td>68</td>\n",
       "      <td>68</td>\n",
       "      <td>68</td>\n",
       "      <td>68</td>\n",
       "      <td>68</td>\n",
       "      <td>64</td>\n",
       "      <td>64</td>\n",
       "      <td>68</td>\n",
       "    </tr>\n",
       "    <tr>\n",
       "      <th>KIDNAPPING</th>\n",
       "      <td>57</td>\n",
       "      <td>57</td>\n",
       "      <td>57</td>\n",
       "      <td>57</td>\n",
       "      <td>57</td>\n",
       "      <td>57</td>\n",
       "      <td>57</td>\n",
       "      <td>57</td>\n",
       "      <td>57</td>\n",
       "      <td>57</td>\n",
       "      <td>57</td>\n",
       "      <td>49</td>\n",
       "      <td>49</td>\n",
       "      <td>57</td>\n",
       "    </tr>\n",
       "    <tr>\n",
       "      <th>STALKING</th>\n",
       "      <td>48</td>\n",
       "      <td>48</td>\n",
       "      <td>48</td>\n",
       "      <td>48</td>\n",
       "      <td>48</td>\n",
       "      <td>48</td>\n",
       "      <td>48</td>\n",
       "      <td>48</td>\n",
       "      <td>48</td>\n",
       "      <td>48</td>\n",
       "      <td>48</td>\n",
       "      <td>44</td>\n",
       "      <td>44</td>\n",
       "      <td>48</td>\n",
       "    </tr>\n",
       "    <tr>\n",
       "      <th>INTIMIDATION</th>\n",
       "      <td>43</td>\n",
       "      <td>43</td>\n",
       "      <td>43</td>\n",
       "      <td>43</td>\n",
       "      <td>43</td>\n",
       "      <td>43</td>\n",
       "      <td>43</td>\n",
       "      <td>43</td>\n",
       "      <td>43</td>\n",
       "      <td>43</td>\n",
       "      <td>43</td>\n",
       "      <td>42</td>\n",
       "      <td>42</td>\n",
       "      <td>43</td>\n",
       "    </tr>\n",
       "    <tr>\n",
       "      <th>OBSCENITY</th>\n",
       "      <td>1</td>\n",
       "      <td>1</td>\n",
       "      <td>1</td>\n",
       "      <td>1</td>\n",
       "      <td>1</td>\n",
       "      <td>1</td>\n",
       "      <td>1</td>\n",
       "      <td>1</td>\n",
       "      <td>1</td>\n",
       "      <td>1</td>\n",
       "      <td>1</td>\n",
       "      <td>1</td>\n",
       "      <td>1</td>\n",
       "      <td>1</td>\n",
       "    </tr>\n",
       "    <tr>\n",
       "      <th>HUMAN TRAFFICKING</th>\n",
       "      <td>1</td>\n",
       "      <td>1</td>\n",
       "      <td>1</td>\n",
       "      <td>1</td>\n",
       "      <td>1</td>\n",
       "      <td>1</td>\n",
       "      <td>1</td>\n",
       "      <td>1</td>\n",
       "      <td>1</td>\n",
       "      <td>1</td>\n",
       "      <td>1</td>\n",
       "      <td>1</td>\n",
       "      <td>1</td>\n",
       "      <td>1</td>\n",
       "    </tr>\n",
       "  </tbody>\n",
       "</table>\n",
       "</div>"
      ],
      "text/plain": [
       "                                     ID  Case Number   Date  Block   IUCR  \\\n",
       "Primary Type                                                                \n",
       "THEFT                             12446        12446  12446  12446  12446   \n",
       "BATTERY                           10892        10892  10892  10892  10892   \n",
       "CRIMINAL DAMAGE                    6989         6989   6989   6989   6989   \n",
       "NARCOTICS                          6727         6727   6727   6727   6727   \n",
       "OTHER OFFENSE                      3703         3703   3703   3703   3703   \n",
       "ASSAULT                            3686         3686   3686   3686   3686   \n",
       "BURGLARY                           3566         3566   3566   3566   3566   \n",
       "MOTOR VEHICLE THEFT                2914         2914   2914   2914   2914   \n",
       "ROBBERY                            2266         2266   2266   2266   2266   \n",
       "DECEPTIVE PRACTICE                 2053         2053   2053   2053   2053   \n",
       "CRIMINAL TRESPASS                  1754         1754   1754   1754   1754   \n",
       "PROSTITUTION                        684          684    684    684    684   \n",
       "WEAPONS VIOLATION                   585          585    585    585    585   \n",
       "PUBLIC PEACE VIOLATION              447          447    447    447    447   \n",
       "OFFENSE INVOLVING CHILDREN          388          388    388    388    388   \n",
       "CRIM SEXUAL ASSAULT                 229          229    229    229    229   \n",
       "SEX OFFENSE                         220          220    220    220    220   \n",
       "LIQUOR LAW VIOLATION                153          153    153    153    153   \n",
       "INTERFERENCE WITH PUBLIC OFFICER    120          120    120    120    120   \n",
       "GAMBLING                            110          110    110    110    110   \n",
       "ARSON                                99           99     99     99     99   \n",
       "HOMICIDE                             68           68     68     68     68   \n",
       "KIDNAPPING                           57           57     57     57     57   \n",
       "STALKING                             48           48     48     48     48   \n",
       "INTIMIDATION                         43           43     43     43     43   \n",
       "OBSCENITY                             1            1      1      1      1   \n",
       "HUMAN TRAFFICKING                     1            1      1      1      1   \n",
       "\n",
       "                                  Description  Location Description  Arrest  \\\n",
       "Primary Type                                                                  \n",
       "THEFT                                   12446                 12442   12446   \n",
       "BATTERY                                 10892                 10892   10892   \n",
       "CRIMINAL DAMAGE                          6989                  6989    6989   \n",
       "NARCOTICS                                6727                  6727    6727   \n",
       "OTHER OFFENSE                            3703                  3703    3703   \n",
       "ASSAULT                                  3686                  3686    3686   \n",
       "BURGLARY                                 3566                  3566    3566   \n",
       "MOTOR VEHICLE THEFT                      2914                  2914    2914   \n",
       "ROBBERY                                  2266                  2266    2266   \n",
       "DECEPTIVE PRACTICE                       2053                  2049    2053   \n",
       "CRIMINAL TRESPASS                        1754                  1754    1754   \n",
       "PROSTITUTION                              684                   684     684   \n",
       "WEAPONS VIOLATION                         585                   585     585   \n",
       "PUBLIC PEACE VIOLATION                    447                   447     447   \n",
       "OFFENSE INVOLVING CHILDREN                388                   388     388   \n",
       "CRIM SEXUAL ASSAULT                       229                   229     229   \n",
       "SEX OFFENSE                               220                   220     220   \n",
       "LIQUOR LAW VIOLATION                      153                   153     153   \n",
       "INTERFERENCE WITH PUBLIC OFFICER          120                   120     120   \n",
       "GAMBLING                                  110                   110     110   \n",
       "ARSON                                      99                    99      99   \n",
       "HOMICIDE                                   68                    68      68   \n",
       "KIDNAPPING                                 57                    57      57   \n",
       "STALKING                                   48                    48      48   \n",
       "INTIMIDATION                               43                    43      43   \n",
       "OBSCENITY                                   1                     1       1   \n",
       "HUMAN TRAFFICKING                           1                     1       1   \n",
       "\n",
       "                                  Domestic   Beat  District   Ward  \\\n",
       "Primary Type                                                         \n",
       "THEFT                                12446  12446     12446  11287   \n",
       "BATTERY                              10892  10892     10892   9701   \n",
       "CRIMINAL DAMAGE                       6989   6989      6989   6273   \n",
       "NARCOTICS                             6727   6727      6727   6050   \n",
       "OTHER OFFENSE                         3703   3703      3703   3329   \n",
       "ASSAULT                               3686   3686      3685   3267   \n",
       "BURGLARY                              3566   3566      3566   3230   \n",
       "MOTOR VEHICLE THEFT                   2914   2914      2914   2595   \n",
       "ROBBERY                               2266   2266      2266   2054   \n",
       "DECEPTIVE PRACTICE                    2053   2053      2053   1913   \n",
       "CRIMINAL TRESPASS                     1754   1754      1754   1598   \n",
       "PROSTITUTION                           684    684       684    611   \n",
       "WEAPONS VIOLATION                      585    585       585    540   \n",
       "PUBLIC PEACE VIOLATION                 447    447       447    419   \n",
       "OFFENSE INVOLVING CHILDREN             388    388       388    361   \n",
       "CRIM SEXUAL ASSAULT                    229    229       229    203   \n",
       "SEX OFFENSE                            220    220       220    189   \n",
       "LIQUOR LAW VIOLATION                   153    153       153    132   \n",
       "INTERFERENCE WITH PUBLIC OFFICER       120    120       120    114   \n",
       "GAMBLING                               110    110       110    107   \n",
       "ARSON                                   99     99        99     86   \n",
       "HOMICIDE                                68     68        68     64   \n",
       "KIDNAPPING                              57     57        57     49   \n",
       "STALKING                                48     48        48     44   \n",
       "INTIMIDATION                            43     43        43     42   \n",
       "OBSCENITY                                1      1         1      1   \n",
       "HUMAN TRAFFICKING                        1      1         1      1   \n",
       "\n",
       "                                  Community Area  FBI Code  \n",
       "Primary Type                                                \n",
       "THEFT                                      11282     12446  \n",
       "BATTERY                                     9700     10892  \n",
       "CRIMINAL DAMAGE                             6269      6989  \n",
       "NARCOTICS                                   6049      6727  \n",
       "OTHER OFFENSE                               3328      3703  \n",
       "ASSAULT                                     3266      3686  \n",
       "BURGLARY                                    3230      3566  \n",
       "MOTOR VEHICLE THEFT                         2595      2914  \n",
       "ROBBERY                                     2053      2266  \n",
       "DECEPTIVE PRACTICE                          1913      2053  \n",
       "CRIMINAL TRESPASS                           1598      1754  \n",
       "PROSTITUTION                                 611       684  \n",
       "WEAPONS VIOLATION                            540       585  \n",
       "PUBLIC PEACE VIOLATION                       419       447  \n",
       "OFFENSE INVOLVING CHILDREN                   361       388  \n",
       "CRIM SEXUAL ASSAULT                          202       229  \n",
       "SEX OFFENSE                                  189       220  \n",
       "LIQUOR LAW VIOLATION                         132       153  \n",
       "INTERFERENCE WITH PUBLIC OFFICER             114       120  \n",
       "GAMBLING                                     107       110  \n",
       "ARSON                                         86        99  \n",
       "HOMICIDE                                      64        68  \n",
       "KIDNAPPING                                    49        57  \n",
       "STALKING                                      44        48  \n",
       "INTIMIDATION                                  42        43  \n",
       "OBSCENITY                                      1         1  \n",
       "HUMAN TRAFFICKING                              1         1  "
      ]
     },
     "execution_count": 496,
     "metadata": {},
     "output_type": "execute_result"
    }
   ],
   "source": [
    "# Задача 25\n",
    "\n",
    "# Вам дана частичная выборка из датасета зафиксированных преступлений, совершенных в городе Чикаго \n",
    "# с 2001 года по настоящее время.\n",
    "\n",
    "# Одним из атрибутов преступления является его тип – Primary Type.\n",
    "\n",
    "# Вам необходимо узнать тип преступления, которое было зафиксировано максимальное число раз в 2015 году.\n",
    "\n",
    " \n",
    "import csv \n",
    "\n",
    "\n",
    "with open('Crimes.csv') as inf:\n",
    "    reader = csv.reader(inf)\n",
    "    \n",
    "\n",
    "    \n",
    "import pandas as pd\n",
    "\n",
    "file = pd.read_csv('Crimes.csv')\n",
    "file.groupby(['Primary Type']).count().sort_values('ID', ascending=False)"
   ]
  },
  {
   "cell_type": "code",
   "execution_count": 577,
   "id": "d1a9d7db",
   "metadata": {},
   "outputs": [
    {
     "name": "stdout",
     "output_type": "stream",
     "text": [
      "Boring\n",
      "Interesting\n",
      "Interesting\n",
      "Interesting\n",
      "Interesting\n",
      "Interesting\n",
      "Interesting\n",
      "Boring\n",
      "Interesting\n",
      "Interesting\n",
      "Boring\n",
      "Interesting\n",
      "Interesting\n",
      "Interesting\n",
      "Interesting\n"
     ]
    }
   ],
   "source": [
    "# Задача 26\n",
    "\n",
    "# В этой задаче вам необходимо воспользоваться API сайта numbersapi.com\n",
    "\n",
    "# Вам дается набор чисел. Для каждого из чисел необходимо узнать, существует ли интересный математический факт об этом числе.\n",
    "\n",
    "# Для каждого числа выведите Interesting, если для числа существует интересный факт, и Boring иначе.\n",
    "# Выводите информацию об интересности чисел в таком же порядке, в каком следуют числа во входном файле.\n",
    "\n",
    "\n",
    "import requests\n",
    "import re\n",
    "\n",
    "# Открываем файл\n",
    "with open('dataset_24476_3.txt') as inf:\n",
    "    for line in inf:\n",
    "        line = line.strip()\n",
    "\n",
    "# Создаем ссылку и вставляем туда номер из файла\n",
    "        link = 'http://numbersapi.com/{}/math?json=true'\n",
    "        link = link.format(line)\n",
    "\n",
    "# Делаем запрос текста по ссылке\n",
    "        r = requests.get(link).text\n",
    "        \n",
    "        \n",
    "# Ищем в строке found и проверяем группу 2\n",
    "        if re.search('(found\": )(\\w+)(,)', r).group(2)  == 'false':\n",
    "            print('Boring')\n",
    "        else:\n",
    "            print('Interesting')\n",
    "\n",
    "\n"
   ]
  },
  {
   "cell_type": "code",
   "execution_count": 6,
   "id": "8d1fcde4",
   "metadata": {},
   "outputs": [
    {
     "name": "stdout",
     "output_type": "stream",
     "text": [
      "b'sc\\x00\\x02\\x96\\x93^\\xd7&1\\x9f\\xd0\\x14\\x02\\x14\\xd1\\x92`\\xeb\\x1b\\xdbulr\\x0e\\xeb\\x0f\\xf0D\\xcf\\x87\\xf5\\xd5\\xf2oKA\\x89b/\\xaa\\xa6y;\\x8b)\\x89\\xbdl\\x0f\\x96\\x144\\x8e\\xe2P\\xa8\\xcf\\xc7T\\xf6>.`m\\xfbC/\\xc1V\\xd2>\\xd0\\xaf\\xbb0%V\\x14\\xac\\xf7\\n\\xcd'\n",
      "['9XB8nsIqRfYeswC', '4sEhUGLEZti9BiN', 'bDjmT0NcIW8nzhb', 'ZN6QQoMOO1ZQLUY', 'RVrF2qdMpoq6Lib', 'tnnX7HH3vJ9Hiji', 'C24TJYYkqekv40l', 'B2ropluPaMAitzE', 'DRezNUVnr2zC0CP', 'XCNmpTvvZb1n3mX']\n"
     ]
    }
   ],
   "source": [
    "'''\n",
    "Задача 27\n",
    "\n",
    "Алиса владеет интересной информацией, которую хочет заполучить Боб.\n",
    "Алиса умна, поэтому она хранит свою информацию в зашифрованном файле.\n",
    "У Алисы плохая память, поэтому она хранит все свои пароли в открытом виде в текстовом файле.\n",
    "\n",
    "Бобу удалось завладеть зашифрованным файлом с интересной информацией и файлом с паролями, \n",
    "но он не смог понять какой из паролей ему нужен. Помогите ему решить эту проблему.\n",
    "\n",
    "Алиса зашифровала свою информацию с помощью библиотеки simple-crypt.\n",
    "Она представила информацию в виде строки, и затем записала в бинарный файл результат работы \n",
    "метода simplecrypt.encrypt.\n",
    "\n",
    "Вам необходимо установить библиотеку simple-crypt, и с помощью метода simplecrypt.decrypt узнать, \n",
    "какой из паролей служит ключом для расшифровки файла с интересной информацией.\n",
    "\n",
    "'''\n",
    "import simplecrypt \n",
    "\n",
    "with open('encrypted.bin', 'rb') as file, open('passwords.txt', 'r') as pw:\n",
    "    \n",
    "    text = file.read().strip()\n",
    "    pasw = []\n",
    "    \n",
    "    for i in pw:\n",
    "        pasw.append(i.strip())\n",
    "        \n",
    "print(text)\n",
    "print(pasw)\n",
    "\n",
    "\n",
    "\n",
    "\n"
   ]
  },
  {
   "cell_type": "code",
   "execution_count": 8,
   "id": "7d5886b2",
   "metadata": {},
   "outputs": [
    {
     "name": "stdout",
     "output_type": "stream",
     "text": [
      "b'Alice loves Bob'\n"
     ]
    }
   ],
   "source": [
    "for i in pasw:\n",
    "    try:\n",
    "        info = simplecrypt.decrypt(i, text)\n",
    "    except :\n",
    "        pass\n",
    "    \n",
    "print(info)"
   ]
  },
  {
   "cell_type": "code",
   "execution_count": 9,
   "id": "200d6ab1",
   "metadata": {},
   "outputs": [
    {
     "data": {
      "text/plain": [
       "b'Alice loves Bob'"
      ]
     },
     "execution_count": 9,
     "metadata": {},
     "output_type": "execute_result"
    }
   ],
   "source": [
    "info"
   ]
  },
  {
   "cell_type": "code",
   "execution_count": null,
   "id": "f439fb7d",
   "metadata": {},
   "outputs": [],
   "source": []
  },
  {
   "cell_type": "code",
   "execution_count": null,
   "id": "040348c0",
   "metadata": {},
   "outputs": [],
   "source": []
  },
  {
   "cell_type": "code",
   "execution_count": null,
   "id": "6db314a4",
   "metadata": {},
   "outputs": [],
   "source": []
  },
  {
   "cell_type": "code",
   "execution_count": null,
   "id": "e17ab9f5",
   "metadata": {},
   "outputs": [],
   "source": []
  },
  {
   "cell_type": "code",
   "execution_count": null,
   "id": "725eed42",
   "metadata": {},
   "outputs": [],
   "source": []
  },
  {
   "cell_type": "code",
   "execution_count": null,
   "id": "b98e2e80",
   "metadata": {},
   "outputs": [],
   "source": []
  },
  {
   "cell_type": "code",
   "execution_count": null,
   "id": "8a5ecf9b",
   "metadata": {},
   "outputs": [],
   "source": []
  },
  {
   "cell_type": "code",
   "execution_count": null,
   "id": "8e3ac18c",
   "metadata": {},
   "outputs": [],
   "source": []
  },
  {
   "cell_type": "code",
   "execution_count": null,
   "id": "d75123b8",
   "metadata": {},
   "outputs": [],
   "source": []
  },
  {
   "cell_type": "code",
   "execution_count": null,
   "id": "cee280c1",
   "metadata": {},
   "outputs": [],
   "source": []
  }
 ],
 "metadata": {
  "kernelspec": {
   "display_name": "Python 3",
   "language": "python",
   "name": "python3"
  },
  "language_info": {
   "codemirror_mode": {
    "name": "ipython",
    "version": 3
   },
   "file_extension": ".py",
   "mimetype": "text/x-python",
   "name": "python",
   "nbconvert_exporter": "python",
   "pygments_lexer": "ipython3",
   "version": "3.8.8"
  }
 },
 "nbformat": 4,
 "nbformat_minor": 5
}
